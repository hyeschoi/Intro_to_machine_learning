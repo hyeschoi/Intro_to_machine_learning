{
 "cells": [
  {
   "cell_type": "markdown",
   "metadata": {},
   "source": [
    "# Homework 1: Support Vector Machines\n",
    "\n",
    "We classified digits and spam messages using the Soft-Margin Support\n",
    "Vector Machine (SVM) algorithm. \n",
    "\n",
    "\n",
    "### Data \n",
    "\n",
    "Three data named test.mat, train.met, spam_data.mat are given. We imported these as dictionaries."
   ]
  },
  {
   "cell_type": "code",
   "execution_count": 138,
   "metadata": {
    "collapsed": false
   },
   "outputs": [],
   "source": [
    "import scipy.io as sio\n",
    "import numpy as np\n",
    "test = sio.loadmat('./Desktop/Spring2016/CS189/hw1/data/digit-dataset/test.mat')\n",
    "train = sio.loadmat('./Desktop/Spring2016/CS189/hw1/data/digit-dataset/train.mat')\n",
    "spam_data = sio.loadmat('./Desktop/Spring2016/CS189/hw1/data/spam-dataset/spam_data.mat')"
   ]
  },
  {
   "cell_type": "markdown",
   "metadata": {},
   "source": [
    "Observing the keys(content) in dictionaries, we extracted feature array and label array from both train data and test data. "
   ]
  },
  {
   "cell_type": "code",
   "execution_count": 2,
   "metadata": {
    "collapsed": true
   },
   "outputs": [
    {
     "data": {
      "text/plain": [
       "{'__globals__': [],\n",
       " '__header__': b'MATLAB 5.0 MAT-file Platform: posix, Created on: Mon Jan 25 10:30:25 2016',\n",
       " '__version__': '1.0',\n",
       " 'test_images': array([[[0, 0, 0, ..., 0, 0, 0],\n",
       "         [0, 0, 0, ..., 0, 0, 0],\n",
       "         [0, 0, 0, ..., 0, 0, 0],\n",
       "         ..., \n",
       "         [0, 0, 0, ..., 0, 0, 0],\n",
       "         [0, 0, 0, ..., 0, 0, 0],\n",
       "         [0, 0, 0, ..., 0, 0, 0]],\n",
       " \n",
       "        [[0, 0, 0, ..., 0, 0, 0],\n",
       "         [0, 0, 0, ..., 0, 0, 0],\n",
       "         [0, 0, 0, ..., 0, 0, 0],\n",
       "         ..., \n",
       "         [0, 0, 0, ..., 0, 0, 0],\n",
       "         [0, 0, 0, ..., 0, 0, 0],\n",
       "         [0, 0, 0, ..., 0, 0, 0]],\n",
       " \n",
       "        [[0, 0, 0, ..., 0, 0, 0],\n",
       "         [0, 0, 0, ..., 0, 0, 0],\n",
       "         [0, 0, 0, ..., 0, 0, 0],\n",
       "         ..., \n",
       "         [0, 0, 0, ..., 0, 0, 0],\n",
       "         [0, 0, 0, ..., 0, 0, 0],\n",
       "         [0, 0, 0, ..., 0, 0, 0]],\n",
       " \n",
       "        ..., \n",
       "        [[0, 0, 0, ..., 0, 0, 0],\n",
       "         [0, 0, 0, ..., 0, 0, 0],\n",
       "         [0, 0, 0, ..., 0, 0, 0],\n",
       "         ..., \n",
       "         [0, 0, 0, ..., 0, 0, 0],\n",
       "         [0, 0, 0, ..., 0, 0, 0],\n",
       "         [0, 0, 0, ..., 0, 0, 0]],\n",
       " \n",
       "        [[0, 0, 0, ..., 0, 0, 0],\n",
       "         [0, 0, 0, ..., 0, 0, 0],\n",
       "         [0, 0, 0, ..., 0, 0, 0],\n",
       "         ..., \n",
       "         [0, 0, 0, ..., 0, 0, 0],\n",
       "         [0, 0, 0, ..., 0, 0, 0],\n",
       "         [0, 0, 0, ..., 0, 0, 0]],\n",
       " \n",
       "        [[0, 0, 0, ..., 0, 0, 0],\n",
       "         [0, 0, 0, ..., 0, 0, 0],\n",
       "         [0, 0, 0, ..., 0, 0, 0],\n",
       "         ..., \n",
       "         [0, 0, 0, ..., 0, 0, 0],\n",
       "         [0, 0, 0, ..., 0, 0, 0],\n",
       "         [0, 0, 0, ..., 0, 0, 0]]], dtype=uint8)}"
      ]
     },
     "execution_count": 2,
     "metadata": {},
     "output_type": "execute_result"
    }
   ],
   "source": [
    "test"
   ]
  },
  {
   "cell_type": "code",
   "execution_count": 139,
   "metadata": {
    "collapsed": false
   },
   "outputs": [
    {
     "data": {
      "text/plain": [
       "(28, 28, 10000)"
      ]
     },
     "execution_count": 139,
     "metadata": {},
     "output_type": "execute_result"
    }
   ],
   "source": [
    "test_images = test['test_images']\n",
    "test_img = np.transpose(test_images)\n",
    "test_images.shape\n",
    "test_img.shape"
   ]
  },
  {
   "cell_type": "code",
   "execution_count": 4,
   "metadata": {
    "collapsed": true
   },
   "outputs": [
    {
     "data": {
      "text/plain": [
       "{'__globals__': [],\n",
       " '__header__': b'MATLAB 5.0 MAT-file, Platform: MACI64, Created on: Wed Jan 21 01:23:55 2015',\n",
       " '__version__': '1.0',\n",
       " 'train_images': array([[[0, 0, 0, ..., 0, 0, 0],\n",
       "         [0, 0, 0, ..., 0, 0, 0],\n",
       "         [0, 0, 0, ..., 0, 0, 0],\n",
       "         ..., \n",
       "         [0, 0, 0, ..., 0, 0, 0],\n",
       "         [0, 0, 0, ..., 0, 0, 0],\n",
       "         [0, 0, 0, ..., 0, 0, 0]],\n",
       " \n",
       "        [[0, 0, 0, ..., 0, 0, 0],\n",
       "         [0, 0, 0, ..., 0, 0, 0],\n",
       "         [0, 0, 0, ..., 0, 0, 0],\n",
       "         ..., \n",
       "         [0, 0, 0, ..., 0, 0, 0],\n",
       "         [0, 0, 0, ..., 0, 0, 0],\n",
       "         [0, 0, 0, ..., 0, 0, 0]],\n",
       " \n",
       "        [[0, 0, 0, ..., 0, 0, 0],\n",
       "         [0, 0, 0, ..., 0, 0, 0],\n",
       "         [0, 0, 0, ..., 0, 0, 0],\n",
       "         ..., \n",
       "         [0, 0, 0, ..., 0, 0, 0],\n",
       "         [0, 0, 0, ..., 0, 0, 0],\n",
       "         [0, 0, 0, ..., 0, 0, 0]],\n",
       " \n",
       "        ..., \n",
       "        [[0, 0, 0, ..., 0, 0, 0],\n",
       "         [0, 0, 0, ..., 0, 0, 0],\n",
       "         [0, 0, 0, ..., 0, 0, 0],\n",
       "         ..., \n",
       "         [0, 0, 0, ..., 0, 0, 0],\n",
       "         [0, 0, 0, ..., 0, 0, 0],\n",
       "         [0, 0, 0, ..., 0, 0, 0]],\n",
       " \n",
       "        [[0, 0, 0, ..., 0, 0, 0],\n",
       "         [0, 0, 0, ..., 0, 0, 0],\n",
       "         [0, 0, 0, ..., 0, 0, 0],\n",
       "         ..., \n",
       "         [0, 0, 0, ..., 0, 0, 0],\n",
       "         [0, 0, 0, ..., 0, 0, 0],\n",
       "         [0, 0, 0, ..., 0, 0, 0]],\n",
       " \n",
       "        [[0, 0, 0, ..., 0, 0, 0],\n",
       "         [0, 0, 0, ..., 0, 0, 0],\n",
       "         [0, 0, 0, ..., 0, 0, 0],\n",
       "         ..., \n",
       "         [0, 0, 0, ..., 0, 0, 0],\n",
       "         [0, 0, 0, ..., 0, 0, 0],\n",
       "         [0, 0, 0, ..., 0, 0, 0]]], dtype=uint8),\n",
       " 'train_labels': array([[0],\n",
       "        [0],\n",
       "        [0],\n",
       "        ..., \n",
       "        [9],\n",
       "        [9],\n",
       "        [9]], dtype=uint8)}"
      ]
     },
     "execution_count": 4,
     "metadata": {},
     "output_type": "execute_result"
    }
   ],
   "source": [
    "train"
   ]
  },
  {
   "cell_type": "code",
   "execution_count": 140,
   "metadata": {
    "collapsed": false
   },
   "outputs": [
    {
     "data": {
      "text/plain": [
       "(28, 28, 60000)"
      ]
     },
     "execution_count": 140,
     "metadata": {},
     "output_type": "execute_result"
    }
   ],
   "source": [
    "train_images = train['train_images']\n",
    "train_images.shape"
   ]
  },
  {
   "cell_type": "code",
   "execution_count": 141,
   "metadata": {
    "collapsed": false
   },
   "outputs": [
    {
     "data": {
      "text/plain": [
       "(60000, 1)"
      ]
     },
     "execution_count": 141,
     "metadata": {},
     "output_type": "execute_result"
    }
   ],
   "source": [
    "train_labels = train['train_labels']\n",
    "train['train_labels'].shape"
   ]
  },
  {
   "cell_type": "markdown",
   "metadata": {},
   "source": [
    "## Problem1\n",
    "\n",
    "\n",
    "\n",
    "### Random sampling\n",
    "\n",
    "To set aside 10,000 training images as a validation set, we imported numpy.random module to pick 10000 training images at random. 100, 200, 500, 1,000, 2,000, 5,000,\n",
    "and 10,000 training examples were chosen by the same module. To guarantee the reproducibility, we fixed the seed where the random numbers are generated from."
   ]
  },
  {
   "cell_type": "code",
   "execution_count": 142,
   "metadata": {
    "collapsed": false
   },
   "outputs": [],
   "source": [
    "import numpy.random as nr\n",
    "nr.seed(0)"
   ]
  },
  {
   "cell_type": "code",
   "execution_count": 143,
   "metadata": {
    "collapsed": false
   },
   "outputs": [],
   "source": [
    "validation_index = nr.choice(60000, 10000, replace = False)\n",
    "train_index = [w for w in range(60000) if w not in validation_index]"
   ]
  },
  {
   "cell_type": "code",
   "execution_count": 144,
   "metadata": {
    "collapsed": false
   },
   "outputs": [],
   "source": [
    "sub100 = nr.choice(train_index, size = 100, replace = False)\n",
    "sub200 = nr.choice(train_index, size = 200, replace = False)\n",
    "sub500 = nr.choice(train_index, size = 500, replace = False)\n",
    "sub1000 = nr.choice(train_index, size = 1000, replace = False)\n",
    "sub2000 = nr.choice(train_index, size = 2000, replace = False)\n",
    "sub5000 = nr.choice(train_index, size = 5000, replace = False)\n",
    "sub10000 = nr.choice(train_index, size = 10000, replace = False)"
   ]
  },
  {
   "cell_type": "code",
   "execution_count": 145,
   "metadata": {
    "collapsed": false
   },
   "outputs": [],
   "source": [
    "validation_img = train_images[...,validation_index]\n",
    "train_img100 = train_images[...,sub100]\n",
    "train_img200 = train_images[...,sub200]\n",
    "train_img500 = train_images[..., sub500]\n",
    "train_img1000 = train_images[..., sub1000]\n",
    "train_img2000 = train_images[..., sub2000]\n",
    "train_img5000 = train_images[..., sub5000]\n",
    "train_img10000 = train_images[..., sub10000]"
   ]
  },
  {
   "cell_type": "code",
   "execution_count": 146,
   "metadata": {
    "collapsed": true
   },
   "outputs": [],
   "source": [
    "validation_lb = train_labels[validation_index,0]\n",
    "train_lb100 = train_labels[sub100,0]\n",
    "train_lb200 = train_labels[sub200,0]\n",
    "train_lb500 = train_labels[sub500,0]\n",
    "train_lb1000 = train_labels[sub1000,0]\n",
    "train_lb2000 = train_labels[sub2000,0]\n",
    "train_lb5000 = train_labels[sub5000,0]\n",
    "train_lb10000 = train_labels[sub10000,0]"
   ]
  },
  {
   "cell_type": "code",
   "execution_count": 147,
   "metadata": {
    "collapsed": false
   },
   "outputs": [
    {
     "data": {
      "text/plain": [
       "(28, 28, 100)"
      ]
     },
     "execution_count": 147,
     "metadata": {},
     "output_type": "execute_result"
    }
   ],
   "source": [
    "train_img100.shape"
   ]
  },
  {
   "cell_type": "code",
   "execution_count": 148,
   "metadata": {
    "collapsed": false
   },
   "outputs": [
    {
     "data": {
      "text/plain": [
       "(100,)"
      ]
     },
     "execution_count": 148,
     "metadata": {},
     "output_type": "execute_result"
    }
   ],
   "source": [
    "train_lb100.shape"
   ]
  },
  {
   "cell_type": "markdown",
   "metadata": {},
   "source": [
    "All the arrays with name starting with 'train_img...' defined above are three-dimensional $28*28*100$ array, which means that each data point is being represented as a $28*28$ two-dimensional array. But our classification method SVM is designed to be trained by 1-dimensional feature vectors, not 2-dimensional arrays. Thus we implemented a function named 'convert_to_feature' that transforms the two-dimensional array into a feature vector without losing any informative numbers. "
   ]
  },
  {
   "cell_type": "code",
   "execution_count": 149,
   "metadata": {
    "collapsed": true
   },
   "outputs": [],
   "source": [
    "def convert_to_feature(thd_array, n):\n",
    "    x = [thd_array[..., i] for i in np.arange(n)]\n",
    "    y = [np.ndarray.flatten(v) for v in x]\n",
    "    return np.asarray(y)\n"
   ]
  },
  {
   "cell_type": "code",
   "execution_count": 150,
   "metadata": {
    "collapsed": false
   },
   "outputs": [],
   "source": [
    "validation_feature = convert_to_feature(validation_img, 10000)\n",
    "train_feature100 = convert_to_feature(train_img100, 100)\n",
    "train_feature200 = convert_to_feature(train_img200, 200)\n",
    "train_feature500 = convert_to_feature(train_img500, 500)\n",
    "train_feature1000 = convert_to_feature(train_img1000, 1000)\n",
    "train_feature2000 = convert_to_feature(train_img2000, 2000)\n",
    "train_feature5000 = convert_to_feature(train_img5000, 5000)\n",
    "train_feature10000 = convert_to_feature(train_img10000, 10000)"
   ]
  },
  {
   "cell_type": "markdown",
   "metadata": {},
   "source": [
    "### SVM(Support Vector Machine)\n",
    "\n",
    "We trained the linear SVM using different number of training data that were chosen above. Using each trained classifier, we made predictions of digit of validation data based on their feature vectors and compared resulting predicted labels with their true digits, to evaluate the classification accuracy. Here, we focused on classification accuracy as a measure of the error rate. Note that the error rate is the proportion of misclassified data, a number in-between 0 and 1."
   ]
  },
  {
   "cell_type": "code",
   "execution_count": 151,
   "metadata": {
    "collapsed": false
   },
   "outputs": [],
   "source": [
    "from sklearn import svm"
   ]
  },
  {
   "cell_type": "code",
   "execution_count": 152,
   "metadata": {
    "collapsed": false
   },
   "outputs": [],
   "source": [
    "def count_misclassification (pred, real):\n",
    "    n = len(pred)\n",
    "    x = [i for i in range(n) if pred[i] != real[i]]\n",
    "    return len(x)/n"
   ]
  },
  {
   "cell_type": "code",
   "execution_count": 153,
   "metadata": {
    "collapsed": false
   },
   "outputs": [],
   "source": [
    "linear_svc100 = svm.SVC(kernel='linear')\n",
    "linear_svc100.fit(train_feature100, train_lb100) \n",
    "pred_100 = linear_svc100.predict(validation_feature)\n",
    "msclssfc100 = count_misclassification(pred_100, validation_lb)"
   ]
  },
  {
   "cell_type": "code",
   "execution_count": 154,
   "metadata": {
    "collapsed": false
   },
   "outputs": [],
   "source": [
    "linear_svc200 = svm.SVC(kernel = 'linear')\n",
    "linear_svc200.fit(train_feature200, train_lb200)\n",
    "pred_200 = linear_svc200.predict(validation_feature)\n",
    "msclssfc200 = count_misclassification(pred_200, validation_lb)"
   ]
  },
  {
   "cell_type": "code",
   "execution_count": 155,
   "metadata": {
    "collapsed": false
   },
   "outputs": [],
   "source": [
    "linear_svc500 = svm.SVC(kernel = 'linear')\n",
    "linear_svc500.fit(train_feature500, train_lb500)\n",
    "pred_500 = linear_svc500.predict(validation_feature)\n",
    "msclssfc500 = count_misclassification(pred_500, validation_lb)"
   ]
  },
  {
   "cell_type": "code",
   "execution_count": 156,
   "metadata": {
    "collapsed": false
   },
   "outputs": [],
   "source": [
    "linear_svc1000 = svm.SVC(kernel = 'linear')\n",
    "linear_svc1000.fit(train_feature1000, train_lb1000)\n",
    "pred_1000 = linear_svc1000.predict(validation_feature)\n",
    "msclssfc1000 = count_misclassification(pred_1000, validation_lb)"
   ]
  },
  {
   "cell_type": "code",
   "execution_count": 157,
   "metadata": {
    "collapsed": false
   },
   "outputs": [],
   "source": [
    "linear_svc2000 = svm.SVC(kernel = 'linear')\n",
    "linear_svc2000.fit(train_feature2000, train_lb2000)\n",
    "pred_2000 = linear_svc2000.predict(validation_feature)\n",
    "msclssfc2000 = count_misclassification(pred_2000, validation_lb)"
   ]
  },
  {
   "cell_type": "code",
   "execution_count": 158,
   "metadata": {
    "collapsed": false
   },
   "outputs": [],
   "source": [
    "linear_svc5000 = svm.SVC(kernel = 'linear')\n",
    "linear_svc5000.fit(train_feature5000, train_lb5000)\n",
    "pred_5000 = linear_svc5000.predict(validation_feature)\n",
    "msclssfc5000 = count_misclassification(pred_5000, validation_lb)"
   ]
  },
  {
   "cell_type": "code",
   "execution_count": 159,
   "metadata": {
    "collapsed": false
   },
   "outputs": [],
   "source": [
    "linear_svc10000 = svm.SVC(kernel = 'linear')\n",
    "linear_svc10000.fit(train_feature10000, train_lb10000)\n",
    "pred_10000 = linear_svc10000.predict(validation_feature)\n",
    "msclssfc10000 = count_misclassification(pred_10000, validation_lb)"
   ]
  },
  {
   "cell_type": "code",
   "execution_count": 161,
   "metadata": {
    "collapsed": false
   },
   "outputs": [
    {
     "data": {
      "text/plain": [
       "[0.3315, 0.2422, 0.1891, 0.1696, 0.1428, 0.1303, 0.1341]"
      ]
     },
     "execution_count": 161,
     "metadata": {},
     "output_type": "execute_result"
    }
   ],
   "source": [
    "misclassification_rate = [msclssfc100, msclssfc200, msclssfc500,\n",
    "                          msclssfc1000,msclssfc2000,msclssfc5000,msclssfc10000]\n",
    "misclassification_rate"
   ]
  },
  {
   "cell_type": "code",
   "execution_count": 163,
   "metadata": {
    "collapsed": false
   },
   "outputs": [],
   "source": [
    "%matplotlib inline\n",
    "import matplotlib\n",
    "import numpy as np\n",
    "import matplotlib.pyplot as plt"
   ]
  },
  {
   "cell_type": "markdown",
   "metadata": {},
   "source": [
    "Following table and bar chart show\n",
    "the error rate on the validation set versus the number of training examples\n",
    "that we used to train classifier. This displays a strong trend that the error rate decreases as the number of training examples increases at large. But this tendency may not be always followed as we can see from the two error rates of classifiers that were trained with 5000, 10000 training examples. Although former classifier was trained with less number of training examples, it results in the lower error rate. We guessed that the number of training examples reaches at a certain number, which depends on data, the error rate stays about the same.\n",
    "\n",
    "|Number of Training data| The Error Rate|\n",
    "|-----------------------|---------------|\n",
    "|100                    |0.3315         |\n",
    "|200                    |0.2422         |\n",
    "|500                    |0.1891         |\n",
    "|1000                   |0.1696         |\n",
    "|2000                   |0.1428         |\n",
    "|5000                   |0.1303         |\n",
    "|10000                  |0.1341         |"
   ]
  },
  {
   "cell_type": "code",
   "execution_count": 164,
   "metadata": {
    "collapsed": false,
    "scrolled": true
   },
   "outputs": [
    {
     "data": {
      "image/png": "[encoded data removed]",
      "text/plain": [
       "<matplotlib.figure.Figure at 0x11fab8f60>"
      ]
     },
     "metadata": {},
     "output_type": "display_data"
    }
   ],
   "source": [
    "\n",
    "\n",
    "fig = plt.figure()\n",
    "axes = fig.add_subplot(111)\n",
    "xpos = np.arange(len(misclassification_rate))\n",
    "xticklb = ['100','200','500','1000','2000','5000','10000'] \n",
    "\n",
    "\n",
    "axes.bar(xpos, misclassification_rate)\n",
    "axes.set_title('Misclassification Rate VS Training Size')\n",
    "axes.set_xlabel('Traning Size')\n",
    "axes.set_ylabel('Misclassification Rate')\n",
    "plt.xticks([w + 0.4 for w in xpos], xticklb)\n",
    "\n",
    "plt.show()"
   ]
  },
  {
   "cell_type": "markdown",
   "metadata": {},
   "source": [
    "## Problem 2\n",
    "\n",
    "### Confusion matrix\n",
    "In a multi-class classification setting, a confusion matrix is often used to report the performance of\n",
    "algorithm. Briefly, a confusion matrix is a matrix where rows correspond to the actual class and columns indicate\n",
    "the predicted class. Numeric confusion matrice is presented for each experiment in Problem 1. We also plotted bluescale confusion matrices to visualize better."
   ]
  },
  {
   "cell_type": "code",
   "execution_count": 165,
   "metadata": {
    "collapsed": true
   },
   "outputs": [],
   "source": [
    "from sklearn.metrics import confusion_matrix\n"
   ]
  },
  {
   "cell_type": "code",
   "execution_count": 166,
   "metadata": {
    "collapsed": true
   },
   "outputs": [],
   "source": [
    "def plot_confusion_matrix( cm, title='Confusion matrix', cmap=plt.cm.Blues):\n",
    "    plt.imshow(cm, interpolation='nearest', cmap=cmap)\n",
    "    plt.title(title)\n",
    "    plt.colorbar()\n",
    "    pos = [0,1,2,3,4,5,6,7,8,9]\n",
    "    ticklb = ['0','1','2','3','4','5','6','7','8','9']\n",
    "    \n",
    "    plt.xticks(pos, ticklb)\n",
    "    plt.yticks(pos, ticklb)\n",
    "    plt.tight_layout()\n",
    "    plt.ylabel('True label')\n",
    "    plt.xlabel('Predicted label')\n",
    "    \n",
    "    \n",
    "# Compute confusion matrix\n",
    "cm100 = confusion_matrix(validation_lb, pred_100)\n",
    "cm200 = confusion_matrix(validation_lb, pred_200)\n",
    "cm500 = confusion_matrix(validation_lb, pred_500)\n",
    "cm1000 = confusion_matrix(validation_lb, pred_1000)\n",
    "cm2000 = confusion_matrix(validation_lb, pred_2000)\n",
    "cm5000 = confusion_matrix(validation_lb, pred_5000)\n",
    "cm10000 = confusion_matrix(validation_lb, pred_10000)\n",
    "np.set_printoptions(precision=2)"
   ]
  },
  {
   "cell_type": "code",
   "execution_count": 171,
   "metadata": {
    "collapsed": false
   },
   "outputs": [
    {
     "name": "stdout",
     "output_type": "stream",
     "text": [
      "Confusion matrix, with 100 training examples\n",
      "[[ 769    0    2    8    0  144   14    5   10    9]\n",
      " [   0 1084    6    2    2    9    2    4   13    6]\n",
      " [  69   69  642   31   13   68   64   25   24   14]\n",
      " [   7   45   29  589   13  264    5   14   51    8]\n",
      " [  20   26    3    1  632   73    7    5    0  184]\n",
      " [   5   26    4   54   32  718   11   13   29   44]\n",
      " [  27   61   18   11   68  164  616    0   26   29]\n",
      " [   6   97   14   17   34   80    0  715   12   53]\n",
      " [  17   90   13  119   19  132   14    4  443   53]\n",
      " [  19   49    6   31  232   99    0  103   12  477]]\n",
      "\n",
      "\n",
      "\n",
      "Confusion matrix, with 200 training examples\n",
      "[[ 848    0   26   22    3   21   17    7    8    9]\n",
      " [   1 1026   13   17    5    6    5   42   13    0]\n",
      " [  24   17  807   23   17    1   35   40   47    8]\n",
      " [  13   18   49  653    4   83    4   44  124   33]\n",
      " [   4   25   22    2  676    6   71    7   11  127]\n",
      " [  19   47   24  170   17  593   29    8   15   14]\n",
      " [  22    9   33   15    3   17  904    1   15    1]\n",
      " [   5   44   27    1   26    3    5  874   10   33]\n",
      " [   7   47   20   86   10   53   27   27  576   51]\n",
      " [   8   43    5   22  137   41    3  135   13  621]]\n",
      "\n",
      "\n",
      "\n",
      "Confusion matrix, with 500 training examples\n",
      "[[ 900    1    2    6    6   17   15    3    6    5]\n",
      " [   0 1084    8    6    3    3    4    2   13    5]\n",
      " [  42   88  744   32   28    6   35   12   24    8]\n",
      " [  13   32   44  773    2   92    2   14   30   23]\n",
      " [   8   17   19    0  781    5    9    8    5   99]\n",
      " [  37   26   15   56   23  681   14   10   36   38]\n",
      " [  32   23   34    0   19   21  888    0    3    0]\n",
      " [   3   37   33    8   19    7    2  848   16   55]\n",
      " [  28   48   30   34   15   43   19    2  659   26]\n",
      " [  16   17   15   16  111   14    0   56   32  751]]\n",
      "\n",
      "\n",
      "\n",
      "Confusion matrix, with 1000 training examples\n",
      "[[ 885    0    4    9    7   39    4    2    6    5]\n",
      " [   1 1096    2    5    5    5    0    7    6    1]\n",
      " [  30   46  762   40   24   10   36   26   36    9]\n",
      " [   8   25   35  812    3   59    5   21   39   18]\n",
      " [   3   10   28    0  830    6   13    0    2   59]\n",
      " [  18   13   13   72   15  716   18    6   40   25]\n",
      " [  23   28   29    3   24   33  873    0    6    1]\n",
      " [   5    8   18   17   45   13    2  850   11   59]\n",
      " [  14   62   42   61   12   44    9   11  630   19]\n",
      " [   9   15    6   12   73    6    0   41   16  850]]\n",
      "\n",
      "\n",
      "\n",
      "Confusion matrix, with 2000 training examples\n",
      "[[ 907    0    1    4   10   15   14    6    4    0]\n",
      " [   0 1085    6    6    0    6    2    7   14    2]\n",
      " [  12   17  857   19   22    9   29   19   28    7]\n",
      " [   6   16   46  828    0   63    5   12   41    8]\n",
      " [   3    9    6    6  843    2   12    8    5   57]\n",
      " [  16   11   12   80   22  709   16   10   38   22]\n",
      " [  23   11   13    3   17   26  920    0    7    0]\n",
      " [   2    8   17   16   30    6    2  905    8   34]\n",
      " [  14   35   13   47   10   28   17    8  718   14]\n",
      " [  12   13    5   28   69    9    0   83    9  800]]\n",
      "\n",
      "\n",
      "\n",
      "Confusion matrix, with 5000 training examples\n",
      "[[ 910    1    7    7    8   12    9    1    4    2]\n",
      " [   2 1087    6    6    2    5    2    4   13    1]\n",
      " [   9   32  887   25   17    7   18    8   10    6]\n",
      " [   4   21   56  829    1   58    1   15   36    4]\n",
      " [   2    3   16    1  868    0    9    2    0   50]\n",
      " [  26   10   23   51   14  761    6    2   31   12]\n",
      " [  14    7   37    1   14   17  924    0    6    0]\n",
      " [   5    5   24   14   32    6    2  898    3   39]\n",
      " [  21   32   32   35   12   26   10    4  711   21]\n",
      " [   7   10   10   13   78   15    0   65    8  822]]\n",
      "\n",
      "\n",
      "\n",
      "Confusion matrix, with 10000 training examples\n",
      "[[ 885    0    4    9    7   39    4    2    6    5]\n",
      " [   1 1096    2    5    5    5    0    7    6    1]\n",
      " [  30   46  762   40   24   10   36   26   36    9]\n",
      " [   8   25   35  812    3   59    5   21   39   18]\n",
      " [   3   10   28    0  830    6   13    0    2   59]\n",
      " [  18   13   13   72   15  716   18    6   40   25]\n",
      " [  23   28   29    3   24   33  873    0    6    1]\n",
      " [   5    8   18   17   45   13    2  850   11   59]\n",
      " [  14   62   42   61   12   44    9   11  630   19]\n",
      " [   9   15    6   12   73    6    0   41   16  850]]\n"
     ]
    },
    {
     "data": {
      "image/png": "[encoded data removed]",
      "text/plain": [
       "<matplotlib.figure.Figure at 0x10e043fd0>"
      ]
     },
     "metadata": {},
     "output_type": "display_data"
    }
   ],
   "source": [
    "print('Confusion matrix, with 100 training examples')\n",
    "print(cm100)\n",
    "print('\\n\\n')\n",
    "print('Confusion matrix, with 200 training examples')\n",
    "print(cm200)\n",
    "print('\\n\\n')\n",
    "print('Confusion matrix, with 500 training examples')\n",
    "print(cm500)\n",
    "print('\\n\\n')\n",
    "print('Confusion matrix, with 1000 training examples')\n",
    "print(cm1000)\n",
    "print('\\n\\n')\n",
    "print('Confusion matrix, with 2000 training examples')\n",
    "print(cm2000)\n",
    "print('\\n\\n')\n",
    "print('Confusion matrix, with 5000 training examples')\n",
    "print(cm5000)\n",
    "print('\\n\\n')\n",
    "print('Confusion matrix, with 10000 training examples')\n",
    "print(cm1000)\n",
    "\n",
    "\n",
    "\n",
    "fig = plt.figure(figsize =(14,7))\n",
    "fig.add_subplot(2,4,1)\n",
    "plot_confusion_matrix(cm100, title = '100 training data')\n",
    "fig.add_subplot(2,4,2)\n",
    "plot_confusion_matrix(cm200, title = '200 training data')\n",
    "fig.add_subplot(2,4,3)\n",
    "plot_confusion_matrix(cm500, title = '500 training data')\n",
    "fig.add_subplot(2,4,4)\n",
    "plot_confusion_matrix(cm1000, title = '1000 training data')\n",
    "fig.add_subplot(2,4,5)\n",
    "plot_confusion_matrix(cm2000, title = '2000 training data')\n",
    "fig.add_subplot(2,4,6)\n",
    "plot_confusion_matrix(cm5000, title = '5000 training data')\n",
    "fig.add_subplot(2,4,7)\n",
    "plot_confusion_matrix(cm10000, title = '10000 training data')\n",
    "\n",
    "plt.show()\n",
    "\n"
   ]
  },
  {
   "cell_type": "markdown",
   "metadata": {},
   "source": [
    "## Problem 3\n",
    "\n",
    "### 10-fold Cross-Validation\n",
    "A common practice while performing machine learning experiments is to perform cross-validation to select model parameters. We used k-fold cross-validation3 to determine a good value for the regularization parameter C in the soft-margin SVM algorithm. While trying to choose a model parameter, cross-validation is repeated for several different parameter values. The parameter value with the highest cross-validation accuracy is used when training the final model on the entire training set.\n",
    "\n",
    "We implemented the function named 'cross_validation' which takes feature vectors, labels, k, a parameter value c and returns the average misclassification rates of performing k-fold cross-validation on soft-margin SVM classifiers with the regularization parameter c."
   ]
  },
  {
   "cell_type": "code",
   "execution_count": 172,
   "metadata": {
    "collapsed": false
   },
   "outputs": [],
   "source": [
    "def cross_validation(feature, label, k, c):\n",
    "    n = len(label)\n",
    "    j = n // k\n",
    "    sum_misc = 0\n",
    "    for i in range(k):\n",
    "    \n",
    "        a = feature[0: i * j,]\n",
    "        b = feature[(i+1)* j:n,]\n",
    "        train_feature = np.concatenate((a,b))\n",
    "        \n",
    "        d = label[0: i * j]\n",
    "        e = label[(i+1)* j:n]\n",
    "        train_label = np.concatenate((d,e))\n",
    "        \n",
    "        test_feature = feature[i * j:(i+1) * j, ]\n",
    "        test_label = label[i * j:(i+1) * j]\n",
    "\n",
    "        linearsvc = svm.SVC(kernel = 'linear', C = c)\n",
    "        linearsvc.fit(train_feature, train_label)\n",
    "        pred = linearsvc.predict(test_feature)\n",
    "        mis_rate = count_misclassification(pred, test_label)\n",
    "        sum_misc = sum_misc + mis_rate\n",
    "    return sum_misc/k\n",
    "        "
   ]
  },
  {
   "cell_type": "markdown",
   "metadata": {},
   "source": [
    "In order to find the best regularization parameter C, cross-validation was repeated for several different parameter values: 1.0, 0.1, 0.01, 0.000001, 0.001,0.00000001,0.0000000001, 0.000002, 0.0000009,0.0000008, 0.0000011, 0.00000085, 0.00000086, 0.00000084, 0.000000855, 0.000000845.\n",
    "\n",
    "We performed cross-validation first on several non-negative exponents of 10 for the parameter value to get the feel of the possible location for the optimal parameter value and observed that 0.000001 gives the highest cross-validation accuracy among them. Then we tried several numbers close to 0.000001 for the parameter value: 0.0000009,0.0000008, 0.0000011, 0.00000085, 0.00000086, 0.00000084, 0.000000855, 0.000000845. We speculated that 0.00000085 is the optimal value for the regularization parameter that has the highest cross-validation accuracy during our experiment.  \n",
    "\n",
    "Here we presented both table and dot plot of the average misclassification rate versus the value for the regularization parameter. Note that the logarithmic scale was applied to the parameter value in the bar plot.\n",
    "\n",
    "|Cross-Validation Accuracy| Parameter Value   |\n",
    "|-------------------------|-------------------|\n",
    "| 0.00000001              |  0.152            |\n",
    "| 0.0000000001            |  0.8779           |\n",
    "| 0.0000008               |0.0986             |\n",
    "| 0.00000084              |0.09799999999999999|\n",
    "| 0.000000845             |0.09799999999999999|\n",
    "| 0.00000085              |0.09789999999999999|\n",
    "| 0.000000855             |0.09799999999999999| \n",
    "| 0.00000086              |0.09799999999999999|\n",
    "| 0.0000009               |0.09849999999999999|\n",
    "| 0.000001                |0.09929999999999999|\n",
    "| 0.0000011               |0.10049999999999999|\n",
    "| 0.000002                |0.10179999999999997|\n",
    "| 0.001                   |  0.1339           |\n",
    "| 0.01                    |  0.1339           |\n",
    "| 0.1                     |  0.1339           |\n",
    "| 1.0                     |  0.1339           |"
   ]
  },
  {
   "cell_type": "code",
   "execution_count": 173,
   "metadata": {
    "collapsed": false
   },
   "outputs": [
    {
     "data": {
      "text/plain": [
       "0.1339"
      ]
     },
     "execution_count": 173,
     "metadata": {},
     "output_type": "execute_result"
    }
   ],
   "source": [
    "cross_validation(train_feature10000, train_lb10000, 10, 1.0)"
   ]
  },
  {
   "cell_type": "code",
   "execution_count": 174,
   "metadata": {
    "collapsed": false
   },
   "outputs": [
    {
     "data": {
      "text/plain": [
       "0.1339"
      ]
     },
     "execution_count": 174,
     "metadata": {},
     "output_type": "execute_result"
    }
   ],
   "source": [
    "cross_validation(train_feature10000, train_lb10000, 10, 0.1)"
   ]
  },
  {
   "cell_type": "code",
   "execution_count": 175,
   "metadata": {
    "collapsed": false
   },
   "outputs": [
    {
     "data": {
      "text/plain": [
       "0.1339"
      ]
     },
     "execution_count": 175,
     "metadata": {},
     "output_type": "execute_result"
    }
   ],
   "source": [
    "cross_validation(train_feature10000, train_lb10000, 10, 0.01)"
   ]
  },
  {
   "cell_type": "code",
   "execution_count": 176,
   "metadata": {
    "collapsed": false
   },
   "outputs": [
    {
     "data": {
      "text/plain": [
       "0.09929999999999999"
      ]
     },
     "execution_count": 176,
     "metadata": {},
     "output_type": "execute_result"
    }
   ],
   "source": [
    "cross_validation(train_feature10000, train_lb10000, 10, 0.000001)"
   ]
  },
  {
   "cell_type": "code",
   "execution_count": 124,
   "metadata": {
    "collapsed": false
   },
   "outputs": [
    {
     "data": {
      "text/plain": [
       "0.1339"
      ]
     },
     "execution_count": 124,
     "metadata": {},
     "output_type": "execute_result"
    }
   ],
   "source": [
    "cross_validation(train_feature10000, train_lb10000, 10, 0.001)"
   ]
  },
  {
   "cell_type": "code",
   "execution_count": 125,
   "metadata": {
    "collapsed": false
   },
   "outputs": [
    {
     "data": {
      "text/plain": [
       "0.152"
      ]
     },
     "execution_count": 125,
     "metadata": {},
     "output_type": "execute_result"
    }
   ],
   "source": [
    "cross_validation(train_feature10000, train_lb10000, 10, 0.00000001)"
   ]
  },
  {
   "cell_type": "code",
   "execution_count": 127,
   "metadata": {
    "collapsed": false
   },
   "outputs": [
    {
     "data": {
      "text/plain": [
       "0.8779"
      ]
     },
     "execution_count": 127,
     "metadata": {},
     "output_type": "execute_result"
    }
   ],
   "source": [
    "cross_validation(train_feature10000, train_lb10000, 10, 0.0000000001)"
   ]
  },
  {
   "cell_type": "code",
   "execution_count": 128,
   "metadata": {
    "collapsed": false
   },
   "outputs": [
    {
     "data": {
      "text/plain": [
       "0.10179999999999997"
      ]
     },
     "execution_count": 128,
     "metadata": {},
     "output_type": "execute_result"
    }
   ],
   "source": [
    "cross_validation(train_feature10000, train_lb10000, 10, 0.000002)"
   ]
  },
  {
   "cell_type": "code",
   "execution_count": 129,
   "metadata": {
    "collapsed": false
   },
   "outputs": [
    {
     "data": {
      "text/plain": [
       "0.09849999999999999"
      ]
     },
     "execution_count": 129,
     "metadata": {},
     "output_type": "execute_result"
    }
   ],
   "source": [
    "cross_validation(train_feature10000, train_lb10000, 10, 0.0000009)"
   ]
  },
  {
   "cell_type": "code",
   "execution_count": 130,
   "metadata": {
    "collapsed": false
   },
   "outputs": [
    {
     "data": {
      "text/plain": [
       "0.0986"
      ]
     },
     "execution_count": 130,
     "metadata": {},
     "output_type": "execute_result"
    }
   ],
   "source": [
    "cross_validation(train_feature10000, train_lb10000, 10, 0.0000008)"
   ]
  },
  {
   "cell_type": "code",
   "execution_count": 131,
   "metadata": {
    "collapsed": false
   },
   "outputs": [
    {
     "data": {
      "text/plain": [
       "0.10049999999999999"
      ]
     },
     "execution_count": 131,
     "metadata": {},
     "output_type": "execute_result"
    }
   ],
   "source": [
    "cross_validation(train_feature10000, train_lb10000, 10, 0.0000011)"
   ]
  },
  {
   "cell_type": "code",
   "execution_count": 132,
   "metadata": {
    "collapsed": false
   },
   "outputs": [
    {
     "data": {
      "text/plain": [
       "0.09789999999999999"
      ]
     },
     "execution_count": 132,
     "metadata": {},
     "output_type": "execute_result"
    }
   ],
   "source": [
    "cross_validation(train_feature10000, train_lb10000, 10, 0.00000085)"
   ]
  },
  {
   "cell_type": "code",
   "execution_count": 133,
   "metadata": {
    "collapsed": false
   },
   "outputs": [
    {
     "data": {
      "text/plain": [
       "0.09799999999999999"
      ]
     },
     "execution_count": 133,
     "metadata": {},
     "output_type": "execute_result"
    }
   ],
   "source": [
    "cross_validation(train_feature10000, train_lb10000, 10, 0.00000086)"
   ]
  },
  {
   "cell_type": "code",
   "execution_count": 134,
   "metadata": {
    "collapsed": false
   },
   "outputs": [
    {
     "data": {
      "text/plain": [
       "0.09799999999999999"
      ]
     },
     "execution_count": 134,
     "metadata": {},
     "output_type": "execute_result"
    }
   ],
   "source": [
    "cross_validation(train_feature10000, train_lb10000, 10, 0.00000084)"
   ]
  },
  {
   "cell_type": "code",
   "execution_count": 135,
   "metadata": {
    "collapsed": false
   },
   "outputs": [
    {
     "data": {
      "text/plain": [
       "0.09799999999999999"
      ]
     },
     "execution_count": 135,
     "metadata": {},
     "output_type": "execute_result"
    }
   ],
   "source": [
    "cross_validation(train_feature10000, train_lb10000, 10, 0.000000855)"
   ]
  },
  {
   "cell_type": "code",
   "execution_count": 136,
   "metadata": {
    "collapsed": false
   },
   "outputs": [
    {
     "data": {
      "text/plain": [
       "0.09799999999999999"
      ]
     },
     "execution_count": 136,
     "metadata": {},
     "output_type": "execute_result"
    }
   ],
   "source": [
    "cross_validation(train_feature10000, train_lb10000, 10, 0.000000845)"
   ]
  },
  {
   "cell_type": "code",
   "execution_count": 183,
   "metadata": {
    "collapsed": false
   },
   "outputs": [
    {
     "data": {
      "image/png": "[encoded data removed]",
      "text/plain": [
       "<matplotlib.figure.Figure at 0x10e0597b8>"
      ]
     },
     "metadata": {},
     "output_type": "display_data"
    }
   ],
   "source": [
    "import math\n",
    "\n",
    "fig = plt.figure()\n",
    "axes = fig.add_subplot(111)\n",
    "cvals = [1.0, 0.1, 0.01, 0.000001, 0.001,0.00000001,0.0000000001,0.000002,0.0000009,0.0000008,0.0000011\n",
    "        ,0.00000085, 0.00000086,  0.00000084, 0.000000855, 0.000000845]\n",
    "xpos = [math.log(w)/math.log(10) for w in cvals]\n",
    "avg_misclssfc = [0.1339, 0.1339, 0.1339, 0.09929999999999999, 0.1339, 0.152, 0.8779, 0.10179999999999997\n",
    "                 ,0.09849999999999999, 0.0986, 0.10049999999999999, 0.09789999999999999, 0.09799999999999999,\n",
    "                0.09799999999999999, 0.09799999999999999, 0.09799999999999999]\n",
    "axes.plot(xpos, avg_misclssfc, 'ro')\n",
    "axes.set_title('Average Misclassification Rate VS Log of C value')\n",
    "axes.set_xlabel('Log of C value')\n",
    "axes.set_ylabel('Average Misclassification Rate')\n",
    "\n",
    "\n",
    "plt.show()"
   ]
  },
  {
   "cell_type": "markdown",
   "metadata": {},
   "source": [
    "We drew a separate plot of average misclassification rate versus different C values in [0.0000008 and 0.0000009] to magnify the minute difference between misclassification rates  in close proximity to each other. 0.00000085 was the optimal value for regularization parameter that reached the highest classification accuracy."
   ]
  },
  {
   "cell_type": "code",
   "execution_count": 184,
   "metadata": {
    "collapsed": false
   },
   "outputs": [
    {
     "data": {
      "image/png": "[encoded data removed]",
      "text/plain": [
       "<matplotlib.figure.Figure at 0x10bda5be0>"
      ]
     },
     "metadata": {},
     "output_type": "display_data"
    }
   ],
   "source": [
    "fig1 = plt.figure()\n",
    "axes1 = fig1.add_subplot(111)\n",
    "cvals1 = [0.0000009,0.0000008,0.00000085, 0.00000086,  0.00000084, 0.000000855, 0.000000845]\n",
    "\n",
    "avg_misclssfc1 = [0.09849999999999999, 0.0986, 0.09789999999999999, 0.09799999999999999,\n",
    "                0.09799999999999999, 0.09799999999999999, 0.09799999999999999]\n",
    "axes1.plot(cvals1, avg_misclssfc1, 'bs')\n",
    "axes1.set_title('Average Misclassification Rate VS C value')\n",
    "axes1.set_xlabel('C value')\n",
    "axes1.set_ylabel('Average Misclassification Rate')\n",
    "\n",
    "\n",
    "plt.show()\n"
   ]
  },
  {
   "cell_type": "markdown",
   "metadata": {},
   "source": [
    "### Train entire training set with the optimal value for regularization paramter C\n",
    "We trained soft-margin SVM with fixed parameter of value 0.00000085 on 50000 training feautre, excluding the validation feature. After being fitted, the model then was used to predict new digits of test data.\n",
    "\n",
    "### Validation error rate & Kaggle score\n",
    "\n",
    "We achieved Kaggle score of 0.92820. Our model matched 0.9181 of validation data with the correct label. "
   ]
  },
  {
   "cell_type": "code",
   "execution_count": 29,
   "metadata": {
    "collapsed": false
   },
   "outputs": [],
   "source": [
    "linearsvc = svm.SVC(kernel = 'linear', C = 0.00000085)\n",
    "train_feature = convert_to_feature(train_images[...,train_index], 50000)\n",
    "train_lb = train_labels[train_index, 0]\n",
    "linearsvc.fit(train_feature, train_lb)\n",
    "\n",
    "test_feature = convert_to_feature(test_img,10000)\n",
    "pred_test = linearsvc.predict(test_feature)"
   ]
  },
  {
   "cell_type": "code",
   "execution_count": 78,
   "metadata": {
    "collapsed": false
   },
   "outputs": [
    {
     "data": {
      "text/plain": [
       "0.0819"
      ]
     },
     "execution_count": 78,
     "metadata": {},
     "output_type": "execute_result"
    }
   ],
   "source": [
    "pred_valid = linearsvc.predict(validation_feature)\n",
    "count_misclassification(pred_valid, validation_lb)"
   ]
  },
  {
   "cell_type": "code",
   "execution_count": 30,
   "metadata": {
    "collapsed": false
   },
   "outputs": [],
   "source": [
    "pred_txt = np.asarray([[i+1, pred_test[i]] for i in np.arange(10000)])\n"
   ]
  },
  {
   "cell_type": "code",
   "execution_count": 31,
   "metadata": {
    "collapsed": false
   },
   "outputs": [],
   "source": [
    "np.savetxt('pred_test1.csv',pred_txt,fmt = '%1.u' ,  delimiter = ',', header = 'Id,Category',comments='')"
   ]
  },
  {
   "cell_type": "markdown",
   "metadata": {},
   "source": [
    "## Problem 4\n",
    "\n",
    "### SPAM/HAM Classification\n",
    "\n",
    "We classified real spam messages, building a classifier that, given the raw text of an email, classifies it as spam/ham (not-spam). The raw text of real emails and some extracted features were provided.\n",
    "\n",
    "### 10-fold Cross-Validation\n",
    "We used cross-validation implementation from above to train a linear SVM for the spam dataset. Before performing cross-validation, we randomly shuffled traing examples to get more fair outcome. \n",
    "\n",
    "In order to find the optimal value for the regularization parameter, we performed 10-fold cross-validation over different values. After comparing the classification accuracy of values 1 and 10, we decided to test with values that is greater than 10. Out of the values that we've tried, we met with the best classification accuracy when we trained soft-margin SVM with parameter of value 13.\n",
    "\n",
    "### Validation error rate & Kaggle score \n",
    "The model trained with the optimal parameter value obtained 0.21160409556313994 as the validation error rate. I could not submit the predicted label to kaggle due to daily submission allowance. Among the predicted labels that I have submitted to kaggle, the model trained with the parameter value 15 achieved validation error of 0.21160409556313994 and the highest kaggle score of 0.7373. But it is highly probable that the newly trained model with parameter value 13 may slightly improve the kaggle score."
   ]
  },
  {
   "cell_type": "code",
   "execution_count": 81,
   "metadata": {
    "collapsed": true
   },
   "outputs": [
    {
     "data": {
      "text/plain": [
       "{'__globals__': [],\n",
       " '__header__': b'MATLAB 5.0 MAT-file Platform: posix, Created on: Tue Jan 20 22:50:03 2015',\n",
       " '__version__': '1.0',\n",
       " 'test_data': array([[ 0.,  0.,  0., ...,  0.,  0.,  0.],\n",
       "        [ 0.,  0.,  0., ...,  0.,  0.,  0.],\n",
       "        [ 0.,  0.,  0., ...,  0.,  0.,  0.],\n",
       "        ..., \n",
       "        [ 0.,  0.,  0., ...,  0.,  0.,  0.],\n",
       "        [ 0.,  0.,  0., ...,  0.,  0.,  0.],\n",
       "        [ 0.,  0.,  0., ...,  3.,  0.,  0.]]),\n",
       " 'training_data': array([[ 0.,  0.,  0., ...,  0.,  0.,  0.],\n",
       "        [ 0.,  0.,  0., ...,  0.,  0.,  0.],\n",
       "        [ 0.,  0.,  0., ...,  0.,  0.,  0.],\n",
       "        ..., \n",
       "        [ 0.,  0.,  0., ...,  0.,  0.,  0.],\n",
       "        [ 0.,  0.,  1., ...,  4.,  0.,  0.],\n",
       "        [ 0.,  0.,  0., ...,  2.,  0.,  0.]]),\n",
       " 'training_labels': array([[1, 1, 1, ..., 0, 0, 0]])}"
      ]
     },
     "execution_count": 81,
     "metadata": {},
     "output_type": "execute_result"
    }
   ],
   "source": [
    "spam_data"
   ]
  },
  {
   "cell_type": "code",
   "execution_count": 93,
   "metadata": {
    "collapsed": true
   },
   "outputs": [],
   "source": [
    "arr = np.arange(5172)\n",
    "nr.shuffle(arr)"
   ]
  },
  {
   "cell_type": "code",
   "execution_count": 113,
   "metadata": {
    "collapsed": false
   },
   "outputs": [],
   "source": [
    "sptrain_data = spam_data['training_data'][arr, ][0:4000,]\n",
    "sptrain_lb = spam_data['training_labels'][0,][arr][0:4000]\n",
    "spvalidation_data = spam_data['training_data'][arr,][4000:, ] \n",
    "spvalidation_lb = spam_data['training_labels'][0,][arr][4000:]\n",
    "sptest_data = spam_data['test_data']\n"
   ]
  },
  {
   "cell_type": "code",
   "execution_count": 114,
   "metadata": {
    "collapsed": false
   },
   "outputs": [
    {
     "name": "stdout",
     "output_type": "stream",
     "text": [
      "(4000, 32)\n",
      "(4000,)\n",
      "(5857, 32)\n"
     ]
    },
    {
     "data": {
      "text/plain": [
       "2045"
      ]
     },
     "execution_count": 114,
     "metadata": {},
     "output_type": "execute_result"
    }
   ],
   "source": [
    "print(sptrain_data.shape)\n",
    "print(sptrain_lb.shape)\n",
    "print(sptest_data.shape)\n",
    "arr[0]"
   ]
  },
  {
   "cell_type": "code",
   "execution_count": 116,
   "metadata": {
    "collapsed": false
   },
   "outputs": [
    {
     "data": {
      "text/plain": [
       "0.19350000000000003"
      ]
     },
     "execution_count": 116,
     "metadata": {},
     "output_type": "execute_result"
    }
   ],
   "source": [
    "cross_validation(sptrain_data, sptrain_lb, 10, 10)"
   ]
  },
  {
   "cell_type": "code",
   "execution_count": 117,
   "metadata": {
    "collapsed": false
   },
   "outputs": [
    {
     "data": {
      "text/plain": [
       "0.19424999999999998"
      ]
     },
     "execution_count": 117,
     "metadata": {},
     "output_type": "execute_result"
    }
   ],
   "source": [
    "cross_validation(sptrain_data, sptrain_lb, 10, 1)"
   ]
  },
  {
   "cell_type": "code",
   "execution_count": 134,
   "metadata": {
    "collapsed": false
   },
   "outputs": [
    {
     "data": {
      "text/plain": [
       "0.1985"
      ]
     },
     "execution_count": 134,
     "metadata": {},
     "output_type": "execute_result"
    }
   ],
   "source": [
    "cross_validation(sptrain_data, sptrain_lb, 10, 0.1)"
   ]
  },
  {
   "cell_type": "code",
   "execution_count": 103,
   "metadata": {
    "collapsed": false
   },
   "outputs": [
    {
     "data": {
      "text/plain": [
       "0.19690522243713732"
      ]
     },
     "execution_count": 103,
     "metadata": {},
     "output_type": "execute_result"
    }
   ],
   "source": [
    "cross_validation(sptrain_data, sptrain_lb, 10, 30)"
   ]
  },
  {
   "cell_type": "code",
   "execution_count": 119,
   "metadata": {
    "collapsed": false
   },
   "outputs": [
    {
     "data": {
      "text/plain": [
       "0.194"
      ]
     },
     "execution_count": 119,
     "metadata": {},
     "output_type": "execute_result"
    }
   ],
   "source": [
    "cross_validation(sptrain_data, sptrain_lb, 10, 20)"
   ]
  },
  {
   "cell_type": "code",
   "execution_count": 122,
   "metadata": {
    "collapsed": false
   },
   "outputs": [
    {
     "data": {
      "text/plain": [
       "0.1935"
      ]
     },
     "execution_count": 122,
     "metadata": {},
     "output_type": "execute_result"
    }
   ],
   "source": [
    "cross_validation(sptrain_data, sptrain_lb, 10, 15)"
   ]
  },
  {
   "cell_type": "code",
   "execution_count": 123,
   "metadata": {
    "collapsed": false
   },
   "outputs": [
    {
     "data": {
      "text/plain": [
       "0.193"
      ]
     },
     "execution_count": 123,
     "metadata": {},
     "output_type": "execute_result"
    }
   ],
   "source": [
    "cross_validation(sptrain_data, sptrain_lb, 10, 13)"
   ]
  },
  {
   "cell_type": "code",
   "execution_count": 124,
   "metadata": {
    "collapsed": false
   },
   "outputs": [
    {
     "data": {
      "text/plain": [
       "0.19324999999999998"
      ]
     },
     "execution_count": 124,
     "metadata": {},
     "output_type": "execute_result"
    }
   ],
   "source": [
    "cross_validation(sptrain_data, sptrain_lb, 10, 12)"
   ]
  },
  {
   "cell_type": "code",
   "execution_count": 125,
   "metadata": {
    "collapsed": false
   },
   "outputs": [
    {
     "data": {
      "text/plain": [
       "0.19375"
      ]
     },
     "execution_count": 125,
     "metadata": {},
     "output_type": "execute_result"
    }
   ],
   "source": [
    "cross_validation(sptrain_data, sptrain_lb, 10, 14)"
   ]
  },
  {
   "cell_type": "code",
   "execution_count": 120,
   "metadata": {
    "collapsed": false
   },
   "outputs": [
    {
     "data": {
      "text/plain": [
       "0.2165"
      ]
     },
     "execution_count": 120,
     "metadata": {},
     "output_type": "execute_result"
    }
   ],
   "source": [
    "cross_validation(sptrain_data, sptrain_lb, 10, 0.01)"
   ]
  },
  {
   "cell_type": "code",
   "execution_count": 121,
   "metadata": {
    "collapsed": false
   },
   "outputs": [
    {
     "data": {
      "text/plain": [
       "0.275"
      ]
     },
     "execution_count": 121,
     "metadata": {},
     "output_type": "execute_result"
    }
   ],
   "source": [
    "cross_validation(sptrain_data, sptrain_lb, 10, 0.0001)"
   ]
  },
  {
   "cell_type": "code",
   "execution_count": 135,
   "metadata": {
    "collapsed": false
   },
   "outputs": [],
   "source": [
    "splinearsvc = svm.SVC(kernel = 'linear', C = 13)\n",
    "splinearsvc.fit(shf_sptrain_data, shf_sptrain_lb)\n",
    "sppred = splinearsvc.predict(sptest_data)\n",
    "spvalidpred = splinearsvc.predict(spvalidation_data)\n",
    "count_misclassification(spvalidpred, spvalidation_lb)"
   ]
  },
  {
   "cell_type": "code",
   "execution_count": 137,
   "metadata": {
    "collapsed": false
   },
   "outputs": [
    {
     "data": {
      "text/plain": [
       "0.21160409556313994"
      ]
     },
     "execution_count": 137,
     "metadata": {},
     "output_type": "execute_result"
    }
   ],
   "source": [
    "splinearsvc = svm.SVC(kernel = 'linear', C = 15)\n",
    "splinearsvc.fit(shf_sptrain_data, shf_sptrain_lb)\n",
    "sppred = splinearsvc.predict(sptest_data)\n",
    "spvalidpred = splinearsvc.predict(spvalidation_data)\n",
    "count_misclassification(spvalidpred, spvalidation_lb)"
   ]
  },
  {
   "cell_type": "code",
   "execution_count": 187,
   "metadata": {
    "collapsed": true
   },
   "outputs": [],
   "source": [
    "sppred_txt = np.asarray([[i+1, sppred[i]] for i in np.arange(5857)])\n",
    "np.savetxt('sppred_test.csv',sppred_txt,fmt = '%1.u' ,  delimiter = ',', header = 'Id,Category',comments='')"
   ]
  },
  {
   "cell_type": "markdown",
   "metadata": {},
   "source": [
    "We plotted average misclassification rate versus the parameter value."
   ]
  },
  {
   "cell_type": "code",
   "execution_count": 186,
   "metadata": {
    "collapsed": false
   },
   "outputs": [
    {
     "data": {
      "text/plain": [
       "<matplotlib.text.Text at 0x11f5200b8>"
      ]
     },
     "execution_count": 186,
     "metadata": {},
     "output_type": "execute_result"
    },
    {
     "data": {
      "image/png": "[encoded data removed]",
      "text/plain": [
       "<matplotlib.figure.Figure at 0x10bdb5a20>"
      ]
     },
     "metadata": {},
     "output_type": "display_data"
    }
   ],
   "source": [
    "spfig = plt.figure()\n",
    "spaxes = spfig.add_subplot(111)\n",
    "spcvals = [10, 1, 30, 20, 15, 13, 12, 14, 0.01, 0.0001]\n",
    "\n",
    "spavg_misclssfc = [0.19350000000000003, 0.19424999999999998,0.19690522243713732, 0.194\n",
    "                 , 0.1935, 0.193,0.19324999999999998, 0.19375, 0.2165, 0.275]\n",
    "\n",
    "\n",
    "spaxes.plot(spcvals, spavg_misclssfc, 'gs')\n",
    "spaxes.set_title('Average Misclassification Rate VS C value')\n",
    "spaxes.set_xlabel('C value')\n",
    "spaxes.set_ylabel('Average Misclassification Rate')\n",
    "\n",
    "\n"
   ]
  }
 ],
 "metadata": {
  "kernelspec": {
   "display_name": "Python 3",
   "language": "python",
   "name": "python3"
  },
  "language_info": {
   "codemirror_mode": {
    "name": "ipython",
    "version": 3
   },
   "file_extension": ".py",
   "mimetype": "text/x-python",
   "name": "python",
   "nbconvert_exporter": "python",
   "pygments_lexer": "ipython3",
   "version": "3.5.1"
  }
 },
 "nbformat": 4,
 "nbformat_minor": 0
}

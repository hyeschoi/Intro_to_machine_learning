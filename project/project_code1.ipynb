{
 "cells": [
  {
   "cell_type": "code",
   "execution_count": 1,
   "metadata": {
    "collapsed": true
   },
   "outputs": [],
   "source": [
    "import numpy as np\n",
    "import numpy.random as nr \n",
    "import scipy.io as sio"
   ]
  },
  {
   "cell_type": "markdown",
   "metadata": {},
   "source": [
    "### Generate mixture of Gaussian\n",
    "\n",
    "\n",
    "#### easy model"
   ]
  },
  {
   "cell_type": "code",
   "execution_count": 463,
   "metadata": {
    "collapsed": false
   },
   "outputs": [],
   "source": [
    "nr.seed(0)\n",
    "n = 100\n",
    "d = 2\n",
    "\n",
    "all_etr = np.array([[],[]]).T\n",
    "all_elb = np.array([])\n",
    "\n",
    "\n",
    "for i in range(11):\n",
    "\n",
    "    ebin_ = nr.choice(2, n, p = [0.9, 0.1])\n",
    "    ebin1 = nr.choice(2, np.sum(ebin_), p = [0.8, 0.2])\n",
    "    ebin0 = nr.choice(2, n - np.sum(ebin_), p = [0.8, 0.2])\n",
    "\n",
    "    emean0 = (-1,-1)\n",
    "    emean1 = (0,0)\n",
    "    emean2 = (1,1)\n",
    "\n",
    "    en01 = np.sum(ebin0)\n",
    "    en00 = n - np.sum(ebin_) - en01\n",
    "    en11 = np.sum(ebin1)\n",
    "    en10 = np.sum(ebin_) - en11\n",
    "\n",
    "    etr00 = nr.multivariate_normal(emean0, np.identity(d), en00)\n",
    "    etr01 = nr.multivariate_normal(emean1, np.identity(d), en01)\n",
    "    etr10 = nr.multivariate_normal(emean2, np.identity(d), en10)\n",
    "    etr11 = nr.multivariate_normal(emean1, np.identity(d), en11)\n",
    "\n",
    "    etr0 = np.append(etr00, etr01, axis = 0)\n",
    "    etr1 = np.append(etr10, etr11, axis = 0)\n",
    "\n",
    "    el0 = np.array([0 for i in range(len(etr0))])\n",
    "    el1 = np.array([1 for i in range(len(etr1))])\n",
    "\n",
    "    etr = np.append(etr0,etr1,axis = 0)\n",
    "    elb = np.append(el0,el1, axis = 0)\n",
    "    \n",
    "    \n",
    "    all_etr = np.append(all_etr, etr, axis = 0)\n",
    "    all_elb = np.append(all_elb, elb, axis = 0)\n",
    "    "
   ]
  },
  {
   "cell_type": "code",
   "execution_count": 466,
   "metadata": {
    "collapsed": false
   },
   "outputs": [],
   "source": [
    "sio.savemat('mix_gaussian_easy_train',{'train':all_etr, 'label': all_elb})"
   ]
  },
  {
   "cell_type": "markdown",
   "metadata": {},
   "source": [
    "#### difficult model"
   ]
  },
  {
   "cell_type": "code",
   "execution_count": 665,
   "metadata": {
    "collapsed": true
   },
   "outputs": [],
   "source": [
    "nr.seed(0)\n",
    "\n",
    "all_dtr = np.array([[],[]]).T\n",
    "all_dlb = np.array([])\n",
    "\n",
    "\n",
    "for i in range(11):\n",
    "    dbin_ = nr.choice(2, n, p = [0.9, 0.1])\n",
    "    dbin0 = nr.choice(3, n - np.sum(dbin_), p = [0.4, 0.4, 0.2])\n",
    "\n",
    "    dmean0 = (-0.5,0)\n",
    "    dmean1 = (0,-1)\n",
    "    dmean2 = (1, 0)\n",
    "    dmean3 = (0, 1)\n",
    "\n",
    "    dn1 = np.sum(dbin_)\n",
    "    dn01 = np.sum(dbin0 == 0)\n",
    "    dn02 = np.sum(dbin0 == 1)\n",
    "    dn03 = np.sum(dbin0 == 2) \n",
    "\n",
    "    dtr1 = nr.multivariate_normal(dmean0, np.identity(d), dn1)\n",
    "    dtr01 = nr.multivariate_normal(dmean1, np.identity(d), dn01)\n",
    "    dtr02 = nr.multivariate_normal(dmean2, np.identity(d), dn02)\n",
    "    dtr03 = nr.multivariate_normal(dmean3, np.identity(d), dn03)\n",
    "\n",
    "    dtr0 = np.append(np.append(dtr01, dtr02, axis = 0), dtr03, axis = 0)\n",
    "\n",
    "\n",
    "    dl0 = np.array([0 for i in range(len(dtr0))])\n",
    "    dl1 = np.array([1 for i in range(len(dtr1))])\n",
    "\n",
    "    dtr = np.append(dtr0,dtr1,axis = 0)\n",
    "    dlb = np.append(dl0,dl1, axis = 0)\n",
    "    \n",
    "    all_dtr = np.append(all_dtr, dtr, axis = 0)\n",
    "    all_dlb = np.append(all_dlb, dlb, axis = 0)\n"
   ]
  },
  {
   "cell_type": "code",
   "execution_count": 666,
   "metadata": {
    "collapsed": true
   },
   "outputs": [],
   "source": [
    "sio.savemat('mix_gaussian_diff',{'train':all_dtr, 'label': all_dlb})"
   ]
  },
  {
   "cell_type": "markdown",
   "metadata": {},
   "source": [
    "#### Import data"
   ]
  },
  {
   "cell_type": "code",
   "execution_count": 2,
   "metadata": {
    "collapsed": true
   },
   "outputs": [],
   "source": [
    "easy = sio.loadmat('mix_gaussian_easy_train')\n",
    "diff = sio.loadmat('mix_gaussian_diff')"
   ]
  },
  {
   "cell_type": "code",
   "execution_count": 3,
   "metadata": {
    "collapsed": false
   },
   "outputs": [],
   "source": [
    "elb = easy['label'][0,]\n",
    "etr = easy['train']\n",
    "dtr = diff['train']\n",
    "dlb = diff['label'][0,]"
   ]
  },
  {
   "cell_type": "markdown",
   "metadata": {},
   "source": [
    "### Soft-Margin SVM"
   ]
  },
  {
   "cell_type": "code",
   "execution_count": 20,
   "metadata": {
    "collapsed": true
   },
   "outputs": [],
   "source": [
    "from sklearn import svm\n",
    "import matplotlib.pyplot as plt\n",
    "import matplotlib.patches as mpatches\n",
    "%matplotlib inline"
   ]
  },
  {
   "cell_type": "markdown",
   "metadata": {},
   "source": [
    "#### 10-fold Cross-Validation\n",
    "\n",
    "We use 10-fold Cross-Validation in order to decide hyper-paramter. "
   ]
  },
  {
   "cell_type": "code",
   "execution_count": 19,
   "metadata": {
    "collapsed": true
   },
   "outputs": [],
   "source": [
    "from sklearn.cross_validation import KFold\n",
    "from sklearn.metrics import confusion_matrix"
   ]
  },
  {
   "cell_type": "code",
   "execution_count": 44,
   "metadata": {
    "collapsed": false
   },
   "outputs": [],
   "source": [
    "def cv_linearSVM (X, y, penalty, n_folds):\n",
    "    n = len(X)\n",
    "    kf = KFold(n, n_folds)\n",
    "    accuracy = []\n",
    "\n",
    "    total_gmean = 0 \n",
    "    for train_index, test_index in kf:\n",
    "        X_train, X_test = X[train_index,: ], X[test_index, :]\n",
    "        y_train, y_test = y[train_index], y[test_index]\n",
    "        \n",
    "        clf = svm.SVC(kernel='linear', C=penalty)\n",
    "        clf.fit(X_train, y_train)\n",
    "        y_pred = clf.predict(X_test)\n",
    "        cm = confusion_matrix(y_test, y_pred).T\n",
    "\n",
    "        if cm.shape == (1,1):\n",
    "            new_cm = np.zeros((2,2))\n",
    "            new_cm[0,0] = cm[0,0]\n",
    "            cm = new_cm\n",
    "        if cm[0,0]+ cm[1,0] == 0:\n",
    "            a1 = 0\n",
    "        else:\n",
    "            \n",
    "            a1 = cm[0,0]/(cm[0,0] + cm[1,0])\n",
    "        if cm[1,1]+ cm[0,1] == 0:\n",
    "            a0 = 0\n",
    "        else:\n",
    "            a0 = cm[1,1]/(cm[0,1] + cm[1,1])\n",
    "        \n",
    "        gmean = np.sqrt(a1 * a0)\n",
    "        total_gmean += gmean\n",
    "    return np.mean(total_gmean)"
   ]
  },
  {
   "cell_type": "markdown",
   "metadata": {},
   "source": [
    "#### Easy Model\n",
    "It is when penalty = 1 that we have highest average accuracy from cross validation."
   ]
  },
  {
   "cell_type": "code",
   "execution_count": 6,
   "metadata": {
    "collapsed": false
   },
   "outputs": [],
   "source": [
    "n = 100\n",
    "ran_ind = nr.choice(n,n,replace=False)\n",
    "etr0 = etr[0:100,:][ran_ind,:]\n",
    "elb0 = elb[0:100][ran_ind]"
   ]
  },
  {
   "cell_type": "code",
   "execution_count": 592,
   "metadata": {
    "collapsed": false
   },
   "outputs": [
    {
     "data": {
      "text/plain": [
       "4.7071067811865479"
      ]
     },
     "execution_count": 592,
     "metadata": {},
     "output_type": "execute_result"
    }
   ],
   "source": [
    "cv_linearSVM(etr0,elb0,1,10)"
   ]
  },
  {
   "cell_type": "code",
   "execution_count": 593,
   "metadata": {
    "collapsed": false
   },
   "outputs": [
    {
     "data": {
      "text/plain": [
       "0.0"
      ]
     },
     "execution_count": 593,
     "metadata": {},
     "output_type": "execute_result"
    }
   ],
   "source": [
    "cv_linearSVM(etr0,elb0,0.1,10)"
   ]
  },
  {
   "cell_type": "code",
   "execution_count": 594,
   "metadata": {
    "collapsed": false
   },
   "outputs": [
    {
     "data": {
      "text/plain": [
       "4.7071067811865479"
      ]
     },
     "execution_count": 594,
     "metadata": {},
     "output_type": "execute_result"
    }
   ],
   "source": [
    "cv_linearSVM(etr0,elb0,10,10)"
   ]
  },
  {
   "cell_type": "code",
   "execution_count": 595,
   "metadata": {
    "collapsed": false
   },
   "outputs": [
    {
     "data": {
      "text/plain": [
       "4.6614378277661475"
      ]
     },
     "execution_count": 595,
     "metadata": {},
     "output_type": "execute_result"
    }
   ],
   "source": [
    "cv_linearSVM(etr0,elb0,100,10)"
   ]
  },
  {
   "cell_type": "code",
   "execution_count": 596,
   "metadata": {
    "collapsed": false
   },
   "outputs": [
    {
     "data": {
      "text/plain": [
       "4.6614378277661475"
      ]
     },
     "execution_count": 596,
     "metadata": {},
     "output_type": "execute_result"
    }
   ],
   "source": [
    "cv_linearSVM(etr0,elb0,200,10)"
   ]
  },
  {
   "cell_type": "code",
   "execution_count": 597,
   "metadata": {
    "collapsed": false
   },
   "outputs": [
    {
     "data": {
      "text/plain": [
       "4.6614378277661475"
      ]
     },
     "execution_count": 597,
     "metadata": {},
     "output_type": "execute_result"
    }
   ],
   "source": [
    "cv_linearSVM(etr0,elb0,50,10)"
   ]
  },
  {
   "cell_type": "code",
   "execution_count": 598,
   "metadata": {
    "collapsed": false
   },
   "outputs": [
    {
     "data": {
      "text/plain": [
       "4.7071067811865479"
      ]
     },
     "execution_count": 598,
     "metadata": {},
     "output_type": "execute_result"
    }
   ],
   "source": [
    "cv_linearSVM(etr0,elb0,5,10)"
   ]
  },
  {
   "cell_type": "code",
   "execution_count": 599,
   "metadata": {
    "collapsed": false
   },
   "outputs": [
    {
     "data": {
      "text/plain": [
       "4.7071067811865479"
      ]
     },
     "execution_count": 599,
     "metadata": {},
     "output_type": "execute_result"
    }
   ],
   "source": [
    "cv_linearSVM(etr0,elb0,3,10)"
   ]
  },
  {
   "cell_type": "code",
   "execution_count": 600,
   "metadata": {
    "collapsed": false
   },
   "outputs": [
    {
     "data": {
      "text/plain": [
       "4.6614378277661475"
      ]
     },
     "execution_count": 600,
     "metadata": {},
     "output_type": "execute_result"
    }
   ],
   "source": [
    "cv_linearSVM(etr0,elb0,0.5,10)"
   ]
  },
  {
   "cell_type": "markdown",
   "metadata": {},
   "source": [
    "#### Graph and Confusion Matrix"
   ]
  },
  {
   "cell_type": "code",
   "execution_count": 53,
   "metadata": {
    "collapsed": true
   },
   "outputs": [],
   "source": [
    "def plot_confusion_matrix(cm, title='Confusion matrix', cmap=plt.cm.Blues):\n",
    "    plt.imshow(cm, interpolation='nearest', cmap=cmap)\n",
    "    plt.title(title)\n",
    "    plt.colorbar()\n",
    "    tick_marks = np.arange(len(['negative','positive']))\n",
    "    plt.xticks(tick_marks, ['negative','positive'])\n",
    "    plt.yticks(tick_marks, ['negative','positive'])\n",
    "    plt.tight_layout()\n",
    "    plt.ylabel('True label')\n",
    "    plt.xlabel('Predicted label')\n"
   ]
  },
  {
   "cell_type": "code",
   "execution_count": 156,
   "metadata": {
    "collapsed": false
   },
   "outputs": [
    {
     "data": {
      "image/png": "[encoded data removed]",
      "text/plain": [
       "<matplotlib.figure.Figure at 0x111732eb8>"
      ]
     },
     "metadata": {},
     "output_type": "display_data"
    }
   ],
   "source": [
    "penalty = 1\n",
    "clf = svm.SVC(kernel='linear', C=penalty)\n",
    "clf.fit(etr[0:100, :],elb[0:100])\n",
    "\n",
    "# get the separating hyperplane\n",
    "w = clf.coef_[0]\n",
    "a = -w[0] / w[1]\n",
    "xx = np.linspace(-5, 5)\n",
    "yy = a * xx - (clf.intercept_[0]) / w[1]\n",
    "fignum=1\n",
    "# plot the parallels to the separating hyperplane that pass through the\n",
    "# support vectors\n",
    "margin = 1 / np.sqrt(np.sum(clf.coef_ ** 2))\n",
    "yy_down = yy + a * margin\n",
    "yy_up = yy - a * margin\n",
    "\n",
    "# plot the line, the points, and the nearest vectors to the plane\n",
    "plt.figure(1, figsize=(5, 5))\n",
    "plt.clf()\n",
    "plt.plot(xx, yy, 'k-')\n",
    "plt.plot(xx, yy_down, 'k--')\n",
    "plt.plot(xx, yy_up, 'k--')\n",
    "\n",
    "plt.scatter(clf.support_vectors_[:, 0], clf.support_vectors_[:, 1], s=80,\n",
    "            facecolors='none', zorder=10)\n",
    "plt.scatter(etr[0:100, 0], etr[0:100, 1], c=elb[0:100], zorder=10, cmap=plt.cm.Paired, s = 20)\n",
    "\n",
    "plt.axis('tight')\n",
    "x_min = -6\n",
    "x_max = 6\n",
    "y_min = -6\n",
    "y_max = 6\n",
    "\n",
    "XX, YY = np.mgrid[x_min:x_max:200j, y_min:y_max:200j]\n",
    "Z = clf.predict(np.c_[XX.ravel(), YY.ravel()])\n",
    "\n",
    "# Put the result into a color plot\n",
    "Z = Z.reshape(XX.shape)\n",
    "plt.figure(fignum, figsize=(6, 6))\n",
    "plt.pcolormesh(XX, YY, Z, cmap=plt.cm.Paired)\n",
    "\n",
    "plt.xlim(x_min, x_max)\n",
    "plt.ylim(y_min, y_max)\n",
    "\n",
    "\n",
    "#plt.xticks(())\n",
    "#plt.yticks(())\n",
    "\n",
    "\n",
    "brown_patch = mpatches.Patch(color='brown', label='positive')\n",
    "sky_patch = mpatches.Patch(color='skyblue', label='negative')\n",
    "plt.legend(handles=[brown_patch, sky_patch])\n",
    "plt.title(\"LinearSVM (penalty = 1)\")\n",
    "plt.figtext(0.5, -0.1,'''SVMs decision boundary depends on some subset of the training data, \n",
    "                        called the support vectors. These are marked as big circles. The blue and \n",
    "                        brown circles represent negative and positive data, respectively''',\n",
    "            wrap=True,horizontalalignment='center', fontsize=12)\n",
    "\n",
    "plt.savefig('easy_linearSVM.png', bbox_inches='tight')\n",
    "\n"
   ]
  },
  {
   "cell_type": "code",
   "execution_count": 157,
   "metadata": {
    "collapsed": false
   },
   "outputs": [
    {
     "name": "stdout",
     "output_type": "stream",
     "text": [
      "[[90  2]\n",
      " [ 4  4]]\n"
     ]
    },
    {
     "data": {
      "image/png": "[encoded data removed]",
      "text/plain": [
       "<matplotlib.figure.Figure at 0x10ecf6860>"
      ]
     },
     "metadata": {},
     "output_type": "display_data"
    }
   ],
   "source": [
    "# Compute confusion matrix\n",
    "epred = clf.predict(etr[1000:1100,:])\n",
    "ecm_linearSVM = confusion_matrix(elb[1000:1100], epred)\n",
    "np.set_printoptions(precision=2)\n",
    "print(ecm_linearSVM)\n",
    "plt.figure()\n",
    "plot_confusion_matrix(ecm_linearSVM)\n",
    "plt.savefig('Confusion_easy_linearSVM.png', bbox_inches='tight')"
   ]
  },
  {
   "cell_type": "markdown",
   "metadata": {},
   "source": [
    "In numeric table, the confusion matrix is as follows.\n",
    "\n",
    "| true\\prdicted | negative      | positive |\n",
    "| ------------- |:-------------:| --------:|\n",
    "| negative      | 90            | 2        |\n",
    "| positive      | 4             | 4        |\n",
    "\n"
   ]
  },
  {
   "cell_type": "markdown",
   "metadata": {},
   "source": [
    "#### Average metrics of evaluation"
   ]
  },
  {
   "cell_type": "code",
   "execution_count": 166,
   "metadata": {
    "collapsed": true
   },
   "outputs": [],
   "source": [
    "def avg_linearSVM (X, y, penalty):\n",
    "\n",
    "    gmean = []\n",
    "    fmeas = []\n",
    "    accur = []    \n",
    "    X_test = X[1000:1100, :]\n",
    "    y_test = y[1000:1100]\n",
    "    for i in range(1,10):\n",
    "        \n",
    "        X_train = X[i*100:(i+1)*100,:]\n",
    "        y_train = y[i*100:(i+1)*100]\n",
    "\n",
    "\n",
    "        clf = svm.SVC(kernel='linear', C=penalty)\n",
    "        clf.fit(X_train, y_train)\n",
    "        y_pred = clf.predict(X_test)\n",
    "        cm = confusion_matrix(y_test, y_pred).T\n",
    "\n",
    "        if cm.shape == (1,1):\n",
    "            new_cm = np.zeros((2,2))\n",
    "            new_cm[0,0] = cm[0,0]\n",
    "            cm = new_cm\n",
    "        if cm[0,0]+ cm[1,0] == 0:\n",
    "            a1 = 0\n",
    "        else:\n",
    "            \n",
    "            a1 = cm[0,0]/(cm[0,0] + cm[1,0])\n",
    "        if cm[1,1]+ cm[0,1] == 0:\n",
    "            a0 = 0\n",
    "        else:\n",
    "            a0 = cm[1,1]/(cm[0,1] + cm[1,1])\n",
    "            \n",
    "        if cm[0,0]+ cm[0,1] == 0:\n",
    "            p = 0\n",
    "        else:\n",
    "            p = cm[0,0]/(cm[0,0] + cm[0,1])\n",
    "        \n",
    "        if a1 + p == 0:\n",
    "            f = 0\n",
    "        else:\n",
    "            f = (2 * p * a1)/(a1 + p)\n",
    "        fmeas = fmeas + [f]\n",
    "        gmean = gmean + [np.sqrt(a1 * a0)]\n",
    "        accur = accur + [(cm[0,0]+ cm[1,1])/(cm[0,0]+ cm[1,1]+cm[1,0]+ cm[0,1])]\n",
    "\n",
    "    return gmean, accur, fmeas"
   ]
  },
  {
   "cell_type": "code",
   "execution_count": 167,
   "metadata": {
    "collapsed": false
   },
   "outputs": [],
   "source": [
    "elinearSVM_gmean, elinearSVM_accur, elinearSVM_fmeas = avg_linearSVM(etr, elb, 1)"
   ]
  },
  {
   "cell_type": "code",
   "execution_count": 168,
   "metadata": {
    "collapsed": false
   },
   "outputs": [
    {
     "data": {
      "text/plain": [
       "0.27809292163621152"
      ]
     },
     "execution_count": 168,
     "metadata": {},
     "output_type": "execute_result"
    }
   ],
   "source": [
    "np.mean(elinearSVM_gmean)"
   ]
  },
  {
   "cell_type": "code",
   "execution_count": 169,
   "metadata": {
    "collapsed": false
   },
   "outputs": [
    {
     "data": {
      "text/plain": [
       "0.91888888888888909"
      ]
     },
     "execution_count": 169,
     "metadata": {},
     "output_type": "execute_result"
    }
   ],
   "source": [
    "np.mean(elinearSVM_accur)"
   ]
  },
  {
   "cell_type": "code",
   "execution_count": 170,
   "metadata": {
    "collapsed": false
   },
   "outputs": [
    {
     "data": {
      "text/plain": [
       "0.95727858843484404"
      ]
     },
     "execution_count": 170,
     "metadata": {},
     "output_type": "execute_result"
    }
   ],
   "source": [
    "np.mean(elinearSVM_fmeas)"
   ]
  },
  {
   "cell_type": "markdown",
   "metadata": {},
   "source": [
    "#### Difficult model"
   ]
  },
  {
   "cell_type": "code",
   "execution_count": 159,
   "metadata": {
    "collapsed": true
   },
   "outputs": [],
   "source": [
    "n = 100\n",
    "ran_ind = nr.choice(n,n,replace=False)\n",
    "dtr0 = dtr[0:100,:][ran_ind,:]\n",
    "dlb0 = dlb[0:100][ran_ind]"
   ]
  },
  {
   "cell_type": "code",
   "execution_count": 681,
   "metadata": {
    "collapsed": false
   },
   "outputs": [
    {
     "data": {
      "text/plain": [
       "0.0"
      ]
     },
     "execution_count": 681,
     "metadata": {},
     "output_type": "execute_result"
    }
   ],
   "source": [
    "cv_linearSVM(dtr0,dlb0,1,10)"
   ]
  },
  {
   "cell_type": "code",
   "execution_count": 162,
   "metadata": {
    "collapsed": false
   },
   "outputs": [
    {
     "data": {
      "text/plain": [
       "0.0"
      ]
     },
     "execution_count": 162,
     "metadata": {},
     "output_type": "execute_result"
    }
   ],
   "source": [
    "cv_linearSVM(dtr0,dlb0,100,10)"
   ]
  },
  {
   "cell_type": "code",
   "execution_count": 683,
   "metadata": {
    "collapsed": false
   },
   "outputs": [
    {
     "data": {
      "text/plain": [
       "0.0"
      ]
     },
     "execution_count": 683,
     "metadata": {},
     "output_type": "execute_result"
    }
   ],
   "source": [
    "cv_linearSVM(dtr0,dlb0,10,10)"
   ]
  },
  {
   "cell_type": "code",
   "execution_count": 684,
   "metadata": {
    "collapsed": false
   },
   "outputs": [
    {
     "data": {
      "text/plain": [
       "0.0"
      ]
     },
     "execution_count": 684,
     "metadata": {},
     "output_type": "execute_result"
    }
   ],
   "source": [
    "cv_linearSVM(dtr0,dlb0,5,10)"
   ]
  },
  {
   "cell_type": "code",
   "execution_count": 685,
   "metadata": {
    "collapsed": false
   },
   "outputs": [
    {
     "data": {
      "text/plain": [
       "0.0"
      ]
     },
     "execution_count": 685,
     "metadata": {},
     "output_type": "execute_result"
    }
   ],
   "source": [
    "cv_linearSVM(dtr0,dlb0,200,10)"
   ]
  },
  {
   "cell_type": "code",
   "execution_count": 686,
   "metadata": {
    "collapsed": false
   },
   "outputs": [
    {
     "data": {
      "text/plain": [
       "0.0"
      ]
     },
     "execution_count": 686,
     "metadata": {},
     "output_type": "execute_result"
    }
   ],
   "source": [
    "cv_linearSVM(dtr0,dlb0,20,10)"
   ]
  },
  {
   "cell_type": "code",
   "execution_count": 687,
   "metadata": {
    "collapsed": false
   },
   "outputs": [
    {
     "data": {
      "text/plain": [
       "0.0"
      ]
     },
     "execution_count": 687,
     "metadata": {},
     "output_type": "execute_result"
    }
   ],
   "source": [
    "cv_linearSVM(dtr0,dlb0,0.0000001,10)"
   ]
  },
  {
   "cell_type": "code",
   "execution_count": 688,
   "metadata": {
    "collapsed": false
   },
   "outputs": [
    {
     "data": {
      "text/plain": [
       "0.0"
      ]
     },
     "execution_count": 688,
     "metadata": {},
     "output_type": "execute_result"
    }
   ],
   "source": [
    "cv_linearSVM(dtr0,dlb0,1e-7,10)"
   ]
  },
  {
   "cell_type": "markdown",
   "metadata": {},
   "source": [
    "#### Graph and Confusion Matrix"
   ]
  },
  {
   "cell_type": "code",
   "execution_count": 163,
   "metadata": {
    "collapsed": false,
    "scrolled": true
   },
   "outputs": [
    {
     "data": {
      "image/png": "[encoded data removed]",
      "text/plain": [
       "<matplotlib.figure.Figure at 0x11199aeb8>"
      ]
     },
     "metadata": {},
     "output_type": "display_data"
    }
   ],
   "source": [
    "penalty = 1\n",
    "clf = svm.SVC(kernel='linear', C=penalty)\n",
    "clf.fit(dtr0, dlb0)\n",
    "\n",
    "# get the separating hyperplane\n",
    "w = clf.coef_[0]\n",
    "a = -w[0] / w[1]\n",
    "xx = np.linspace(-5, 5)\n",
    "yy = a * xx - (clf.intercept_[0]) / w[1]\n",
    "fignum=1\n",
    "# plot the parallels to the separating hyperplane that pass through the\n",
    "# support vectors\n",
    "margin = 1 / np.sqrt(np.sum(clf.coef_ ** 2))\n",
    "yy_down = yy + a * margin\n",
    "yy_up = yy - a * margin\n",
    "\n",
    "# plot the line, the points, and the nearest vectors to the plane\n",
    "plt.figure(1, figsize=(5, 5))\n",
    "plt.clf()\n",
    "plt.plot(xx, yy, 'k-')\n",
    "plt.plot(xx, yy_down, 'k--')\n",
    "plt.plot(xx, yy_up, 'k--')\n",
    "\n",
    "plt.scatter(clf.support_vectors_[:, 0], clf.support_vectors_[:, 1], s=80,\n",
    "            facecolors='none', zorder=10)\n",
    "plt.scatter(dtr0[:, 0], dtr0[:, 1], c=dlb0, zorder=10, cmap=plt.cm.Paired, s = 20)\n",
    "\n",
    "plt.axis('tight')\n",
    "x_min = -6\n",
    "x_max = 6\n",
    "y_min = -6\n",
    "y_max = 6\n",
    "\n",
    "XX, YY = np.mgrid[x_min:x_max:200j, y_min:y_max:200j]\n",
    "Z = clf.predict(np.c_[XX.ravel(), YY.ravel()])\n",
    "\n",
    "# Put the result into a color plot\n",
    "Z = Z.reshape(XX.shape)\n",
    "plt.figure(fignum, figsize=(6, 6))\n",
    "plt.pcolormesh(XX, YY, Z, cmap=plt.cm.Paired)\n",
    "\n",
    "plt.xlim(x_min, x_max)\n",
    "plt.ylim(y_min, y_max)\n",
    "\n",
    "\n",
    "#plt.xticks(())\n",
    "#plt.yticks(())\n",
    "\n",
    "\n",
    "brown_patch = mpatches.Patch(color='brown', label='positive')\n",
    "sky_patch = mpatches.Patch(color='skyblue', label='negative')\n",
    "plt.legend(handles=[brown_patch, sky_patch])\n",
    "plt.title(\"LinearSVM (penalty = 1)\")\n",
    "plt.figtext(0.5, -0.1,'''SVMs decision boundary depends on some subset of the training data, \n",
    "                        called the support vectors. These are marked as big circles. The blue and \n",
    "                        brown circles represent negative and positive data, respectively''',\n",
    "            wrap=True,horizontalalignment='center', fontsize=12)\n",
    "\n",
    "plt.savefig('diff_linearSVM.png', bbox_inches='tight')"
   ]
  },
  {
   "cell_type": "code",
   "execution_count": 164,
   "metadata": {
    "collapsed": false
   },
   "outputs": [
    {
     "name": "stdout",
     "output_type": "stream",
     "text": [
      "[[94  0]\n",
      " [ 6  0]]\n"
     ]
    },
    {
     "data": {
      "image/png": "[encoded data removed]",
      "text/plain": [
       "<matplotlib.figure.Figure at 0x1117742e8>"
      ]
     },
     "metadata": {},
     "output_type": "display_data"
    }
   ],
   "source": [
    "# Compute confusion matrix\n",
    "dpred = clf.predict(dtr[1000:1100,:])\n",
    "dcm_linearSVM = confusion_matrix(dlb[1000:1100], dpred)\n",
    "np.set_printoptions(precision=2)\n",
    "print(dcm_linearSVM)\n",
    "\n",
    "plt.figure()\n",
    "plot_confusion_matrix(dcm_linearSVM)\n",
    "plt.savefig('Confusion_diff_linearSVM.png', bbox_inches='tight')"
   ]
  },
  {
   "cell_type": "markdown",
   "metadata": {},
   "source": [
    "In tabular form,\n",
    "\n",
    "| true\\prdicted | negative      | positive |\n",
    "| ------------- |:-------------:| --------:|\n",
    "| negative      | 94            | 0        |\n",
    "| positive      | 6             | 0        |\n",
    "\n"
   ]
  },
  {
   "cell_type": "markdown",
   "metadata": {},
   "source": [
    "#### Average metrics of evaluation"
   ]
  },
  {
   "cell_type": "code",
   "execution_count": 171,
   "metadata": {
    "collapsed": false
   },
   "outputs": [],
   "source": [
    "dlinearSVM_gmean, dlinearSVM_accur, dlinearSVM_fmeas = avg_linearSVM(dtr, dlb, 1)"
   ]
  },
  {
   "cell_type": "code",
   "execution_count": 172,
   "metadata": {
    "collapsed": false
   },
   "outputs": [
    {
     "data": {
      "text/plain": [
       "0.0"
      ]
     },
     "execution_count": 172,
     "metadata": {},
     "output_type": "execute_result"
    }
   ],
   "source": [
    "np.mean(dlinearSVM_gmean)"
   ]
  },
  {
   "cell_type": "code",
   "execution_count": 173,
   "metadata": {
    "collapsed": false
   },
   "outputs": [
    {
     "data": {
      "text/plain": [
       "0.93999999999999995"
      ]
     },
     "execution_count": 173,
     "metadata": {},
     "output_type": "execute_result"
    }
   ],
   "source": [
    "np.mean(dlinearSVM_accur)"
   ]
  },
  {
   "cell_type": "code",
   "execution_count": 174,
   "metadata": {
    "collapsed": false
   },
   "outputs": [
    {
     "data": {
      "text/plain": [
       "0.9690721649484535"
      ]
     },
     "execution_count": 174,
     "metadata": {},
     "output_type": "execute_result"
    }
   ],
   "source": [
    "np.mean(dlinearSVM_fmeas)"
   ]
  },
  {
   "cell_type": "markdown",
   "metadata": {},
   "source": [
    "### k-Nearest Neighborhood "
   ]
  },
  {
   "cell_type": "code",
   "execution_count": 18,
   "metadata": {
    "collapsed": true
   },
   "outputs": [],
   "source": [
    "from sklearn.neighbors import KNeighborsClassifier\n",
    "from matplotlib.colors import ListedColormap"
   ]
  },
  {
   "cell_type": "markdown",
   "metadata": {},
   "source": [
    "#### 10-fold Cross-Validation\n",
    "\n"
   ]
  },
  {
   "cell_type": "code",
   "execution_count": 43,
   "metadata": {
    "collapsed": true
   },
   "outputs": [],
   "source": [
    "def cv_kNN (X, y, k, n_folds):\n",
    "    n = len(X)\n",
    "    kf = KFold(n, n_folds)\n",
    "    total_gmean = 0\n",
    "\n",
    "    for train_index, test_index in kf:\n",
    "        X_train, X_test = X[train_index,: ], X[test_index, :]\n",
    "        y_train, y_test = y[train_index], y[test_index]\n",
    "        \n",
    "        clf = KNeighborsClassifier(n_neighbors= k, weights = 'uniform')\n",
    "        clf.fit(X_train, y_train)\n",
    "        y_pred = clf.predict(X_test)\n",
    "        cm = confusion_matrix(y_test, y_pred).T\n",
    "\n",
    "        if cm.shape == (1,1):\n",
    "            new_cm = np.zeros((2,2))\n",
    "            new_cm[0,0] = cm[0,0]\n",
    "            cm = new_cm\n",
    "        if cm[0,0]+ cm[1,0] == 0:\n",
    "            a1 = 0\n",
    "        else:\n",
    "            \n",
    "            a1 = cm[0,0]/(cm[0,0] + cm[1,0])\n",
    "        if cm[1,1]+ cm[0,1] == 0:\n",
    "            a0 = 0\n",
    "        else:\n",
    "            a0 = cm[1,1]/(cm[0,1] + cm[1,1])\n",
    "        \n",
    "        gmean = np.sqrt(a1 * a0)\n",
    "        total_gmean += gmean\n",
    "    return np.mean(total_gmean)"
   ]
  },
  {
   "cell_type": "markdown",
   "metadata": {},
   "source": [
    "#### Easy Model\n",
    "\n",
    "It is when k = 1 that the model results in the highest average accuracy from cross validation."
   ]
  },
  {
   "cell_type": "code",
   "execution_count": 621,
   "metadata": {
    "collapsed": false
   },
   "outputs": [
    {
     "data": {
      "text/plain": [
       "4.6499158227686106"
      ]
     },
     "execution_count": 621,
     "metadata": {},
     "output_type": "execute_result"
    }
   ],
   "source": [
    "cv_kNN(etr0, elb0, 1, 10)"
   ]
  },
  {
   "cell_type": "code",
   "execution_count": 622,
   "metadata": {
    "collapsed": false
   },
   "outputs": [
    {
     "data": {
      "text/plain": [
       "3.4861639730364082"
      ]
     },
     "execution_count": 622,
     "metadata": {},
     "output_type": "execute_result"
    }
   ],
   "source": [
    "cv_kNN(etr0, elb0, 3, 10)"
   ]
  },
  {
   "cell_type": "code",
   "execution_count": 623,
   "metadata": {
    "collapsed": false
   },
   "outputs": [
    {
     "data": {
      "text/plain": [
       "2.0"
      ]
     },
     "execution_count": 623,
     "metadata": {},
     "output_type": "execute_result"
    }
   ],
   "source": [
    "cv_kNN(etr0, elb0, 5, 10)"
   ]
  },
  {
   "cell_type": "code",
   "execution_count": 624,
   "metadata": {
    "collapsed": false
   },
   "outputs": [
    {
     "data": {
      "text/plain": [
       "2.0"
      ]
     },
     "execution_count": 624,
     "metadata": {},
     "output_type": "execute_result"
    }
   ],
   "source": [
    "cv_kNN(etr0, elb0, 7, 10)"
   ]
  },
  {
   "cell_type": "code",
   "execution_count": 625,
   "metadata": {
    "collapsed": false
   },
   "outputs": [
    {
     "data": {
      "text/plain": [
       "2.0"
      ]
     },
     "execution_count": 625,
     "metadata": {},
     "output_type": "execute_result"
    }
   ],
   "source": [
    "cv_kNN(etr0, elb0, 11, 10)"
   ]
  },
  {
   "cell_type": "code",
   "execution_count": 626,
   "metadata": {
    "collapsed": false
   },
   "outputs": [
    {
     "data": {
      "text/plain": [
       "2.0"
      ]
     },
     "execution_count": 626,
     "metadata": {},
     "output_type": "execute_result"
    }
   ],
   "source": [
    "cv_kNN(etr0, elb0, 9, 10)"
   ]
  },
  {
   "cell_type": "code",
   "execution_count": 704,
   "metadata": {
    "collapsed": false
   },
   "outputs": [
    {
     "data": {
      "text/plain": [
       "0.0"
      ]
     },
     "execution_count": 704,
     "metadata": {},
     "output_type": "execute_result"
    }
   ],
   "source": [
    "cv_kNN(etr0, elb0, 19, 10)"
   ]
  },
  {
   "cell_type": "markdown",
   "metadata": {},
   "source": [
    "#### Graph and Confusion Matrix"
   ]
  },
  {
   "cell_type": "code",
   "execution_count": 175,
   "metadata": {
    "collapsed": false
   },
   "outputs": [
    {
     "data": {
      "image/png": "[encoded data removed]",
      "text/plain": [
       "<matplotlib.figure.Figure at 0x112d3fe80>"
      ]
     },
     "metadata": {},
     "output_type": "display_data"
    }
   ],
   "source": [
    "\n",
    "\n",
    "h = .02  # step size in the mesh\n",
    "\n",
    "# Create color maps\n",
    "cmap_light = ListedColormap(['#FFAAAA', '#AAFFAA'])\n",
    "cmap_bold = ListedColormap(['#FF0000', '#00FF00'])\n",
    "\n",
    "\n",
    "# we create an instance of Neighbours Classifier and fit the data.\n",
    "eneigh = KNeighborsClassifier(n_neighbors=1, weights ='uniform')\n",
    "eneigh.fit(etr0, elb0) \n",
    "\n",
    "# Plot the decision boundary. For that, we will assign a color to each\n",
    "# point in the mesh [x_min, m_max]x[y_min, y_max].\n",
    "x_min = -6\n",
    "x_max = 6\n",
    "y_min = -6\n",
    "y_max = 6\n",
    "xx, yy = np.meshgrid(np.arange(x_min, x_max, h),\n",
    "                     np.arange(y_min, y_max, h))\n",
    "Z = eneigh.predict(np.c_[xx.ravel(), yy.ravel()])\n",
    "\n",
    "# Put the result into a color plot\n",
    "Z = Z.reshape(xx.shape)\n",
    "plt.figure(1, figsize=(6,6))\n",
    "plt.pcolormesh(xx, yy, Z, cmap=cmap_light)\n",
    "\n",
    "# Plot also the training points\n",
    "plt.scatter(etr0[:, 0], etr0[:, 1], c=elb0, cmap=cmap_bold, s = 20)\n",
    "plt.xlim(xx.min(), xx.max())\n",
    "plt.ylim(yy.min(), yy.max())\n",
    "plt.title(\"k-Nearest neighbors (k = %i, weights = '%s')\"\n",
    "          % (1, 'distance'))\n",
    "\n",
    "green_patch = mpatches.Patch(color='green', label='positive')\n",
    "red_patch = mpatches.Patch(color='red', label='negative')\n",
    "plt.legend(handles=[green_patch, red_patch])\n",
    "\n",
    "plt.savefig('easy_kNN.png', bbox_inches='tight')"
   ]
  },
  {
   "cell_type": "code",
   "execution_count": 176,
   "metadata": {
    "collapsed": false
   },
   "outputs": [
    {
     "name": "stdout",
     "output_type": "stream",
     "text": [
      "[[85  7]\n",
      " [ 6  2]]\n"
     ]
    },
    {
     "data": {
      "image/png": "[encoded data removed]",
      "text/plain": [
       "<matplotlib.figure.Figure at 0x111d78be0>"
      ]
     },
     "metadata": {},
     "output_type": "display_data"
    }
   ],
   "source": [
    "epred = eneigh.predict(etr[1000:1100,:])\n",
    "ecm_kNN = confusion_matrix(elb[1000:1100], epred)\n",
    "np.set_printoptions(precision=2)\n",
    "\n",
    "print(ecm_kNN)\n",
    "plt.figure()\n",
    "plot_confusion_matrix(ecm_kNN)\n",
    "plt.savefig('Confusion_easy_kNN.png', bbox_inches='tight')"
   ]
  },
  {
   "cell_type": "markdown",
   "metadata": {},
   "source": [
    "In tabular form,\n",
    "\n",
    "| true\\prdicted | negative      | positive |\n",
    "| ------------- |:-------------:| --------:|\n",
    "| negative      | 85            | 7        |\n",
    "| positive      | 6             | 2        |"
   ]
  },
  {
   "cell_type": "markdown",
   "metadata": {},
   "source": [
    "#### Average metrics of evaluation"
   ]
  },
  {
   "cell_type": "code",
   "execution_count": 177,
   "metadata": {
    "collapsed": true
   },
   "outputs": [],
   "source": [
    "def avg_kNN (X, y, k):\n",
    "\n",
    "    gmean = []\n",
    "    fmeas = []\n",
    "    accur = []    \n",
    "    X_test = X[1000:1100, :]\n",
    "    y_test = y[1000:1100]\n",
    "    for i in range(1,10):\n",
    "        \n",
    "        X_train = X[i*100:(i+1)*100,:]\n",
    "        y_train = y[i*100:(i+1)*100]\n",
    "\n",
    "\n",
    "        clf = KNeighborsClassifier(n_neighbors= k, weights = 'uniform')\n",
    "        clf.fit(X_train, y_train)\n",
    "        y_pred = clf.predict(X_test)\n",
    "        cm = confusion_matrix(y_test, y_pred).T\n",
    "\n",
    "        if cm.shape == (1,1):\n",
    "            new_cm = np.zeros((2,2))\n",
    "            new_cm[0,0] = cm[0,0]\n",
    "            cm = new_cm\n",
    "        if cm[0,0]+ cm[1,0] == 0:\n",
    "            a1 = 0\n",
    "        else:\n",
    "            \n",
    "            a1 = cm[0,0]/(cm[0,0] + cm[1,0])\n",
    "        if cm[1,1]+ cm[0,1] == 0:\n",
    "            a0 = 0\n",
    "        else:\n",
    "            a0 = cm[1,1]/(cm[0,1] + cm[1,1])\n",
    "            \n",
    "        if cm[0,0]+ cm[0,1] == 0:\n",
    "            p = 0\n",
    "        else:\n",
    "            p = cm[0,0]/(cm[0,0] + cm[0,1])\n",
    "        \n",
    "        if a1 + p == 0:\n",
    "            f = 0\n",
    "        else:\n",
    "            f = (2 * p * a1)/(a1 + p)\n",
    "        fmeas = fmeas + [f]\n",
    "        gmean = gmean + [np.sqrt(a1 * a0)]\n",
    "        accur = accur + [(cm[0,0]+ cm[1,1])/(cm[0,0]+ cm[1,1]+cm[1,0]+ cm[0,1])]\n",
    "\n",
    "    return gmean, accur, fmeas"
   ]
  },
  {
   "cell_type": "code",
   "execution_count": 178,
   "metadata": {
    "collapsed": true
   },
   "outputs": [],
   "source": [
    "ekNN_gmean, ekNN_accur, ekNN_fmeas = avg_kNN(etr,elb, 1)"
   ]
  },
  {
   "cell_type": "code",
   "execution_count": 179,
   "metadata": {
    "collapsed": false
   },
   "outputs": [
    {
     "data": {
      "text/plain": [
       "0.42953083477258214"
      ]
     },
     "execution_count": 179,
     "metadata": {},
     "output_type": "execute_result"
    }
   ],
   "source": [
    "np.mean(ekNN_gmean)"
   ]
  },
  {
   "cell_type": "code",
   "execution_count": 180,
   "metadata": {
    "collapsed": false
   },
   "outputs": [
    {
     "data": {
      "text/plain": [
       "0.89999999999999991"
      ]
     },
     "execution_count": 180,
     "metadata": {},
     "output_type": "execute_result"
    }
   ],
   "source": [
    "np.mean(ekNN_accur)"
   ]
  },
  {
   "cell_type": "code",
   "execution_count": 181,
   "metadata": {
    "collapsed": false
   },
   "outputs": [
    {
     "data": {
      "text/plain": [
       "0.94619813392245555"
      ]
     },
     "execution_count": 181,
     "metadata": {},
     "output_type": "execute_result"
    }
   ],
   "source": [
    "np.mean(ekNN_fmeas)"
   ]
  },
  {
   "cell_type": "markdown",
   "metadata": {},
   "source": [
    "#### Difficult model"
   ]
  },
  {
   "cell_type": "code",
   "execution_count": 707,
   "metadata": {
    "collapsed": false
   },
   "outputs": [
    {
     "data": {
      "text/plain": [
       "1.0"
      ]
     },
     "execution_count": 707,
     "metadata": {},
     "output_type": "execute_result"
    }
   ],
   "source": [
    "cv_kNN(dtr0, dlb0, 1, 10)"
   ]
  },
  {
   "cell_type": "code",
   "execution_count": 706,
   "metadata": {
    "collapsed": false
   },
   "outputs": [
    {
     "data": {
      "text/plain": [
       "0.0"
      ]
     },
     "execution_count": 706,
     "metadata": {},
     "output_type": "execute_result"
    }
   ],
   "source": [
    "cv_kNN(dtr0, dlb0, 3, 10)"
   ]
  },
  {
   "cell_type": "code",
   "execution_count": 708,
   "metadata": {
    "collapsed": false
   },
   "outputs": [
    {
     "data": {
      "text/plain": [
       "0.0"
      ]
     },
     "execution_count": 708,
     "metadata": {},
     "output_type": "execute_result"
    }
   ],
   "source": [
    "cv_kNN(dtr0, dlb0, 5, 10)"
   ]
  },
  {
   "cell_type": "code",
   "execution_count": 709,
   "metadata": {
    "collapsed": false
   },
   "outputs": [
    {
     "data": {
      "text/plain": [
       "0.0"
      ]
     },
     "execution_count": 709,
     "metadata": {},
     "output_type": "execute_result"
    }
   ],
   "source": [
    "cv_kNN(dtr0, dlb0, 11, 10)"
   ]
  },
  {
   "cell_type": "code",
   "execution_count": 710,
   "metadata": {
    "collapsed": false
   },
   "outputs": [
    {
     "data": {
      "text/plain": [
       "0.0"
      ]
     },
     "execution_count": 710,
     "metadata": {},
     "output_type": "execute_result"
    }
   ],
   "source": [
    "cv_kNN(dtr0, dlb0, 15, 10)"
   ]
  },
  {
   "cell_type": "code",
   "execution_count": 711,
   "metadata": {
    "collapsed": false
   },
   "outputs": [
    {
     "data": {
      "text/plain": [
       "0.0"
      ]
     },
     "execution_count": 711,
     "metadata": {},
     "output_type": "execute_result"
    }
   ],
   "source": [
    "cv_kNN(dtr0, dlb0, 21, 10)"
   ]
  },
  {
   "cell_type": "markdown",
   "metadata": {},
   "source": [
    "#### Graph and Confusion Matrix"
   ]
  },
  {
   "cell_type": "code",
   "execution_count": 182,
   "metadata": {
    "collapsed": false
   },
   "outputs": [
    {
     "data": {
      "image/png": "[encoded data removed]",
      "text/plain": [
       "<matplotlib.figure.Figure at 0x111d6dda0>"
      ]
     },
     "metadata": {},
     "output_type": "display_data"
    }
   ],
   "source": [
    "h = .02  # step size in the mesh\n",
    "\n",
    "# Create color maps\n",
    "cmap_light = ListedColormap(['#FFAAAA', '#AAFFAA'])\n",
    "cmap_bold = ListedColormap(['#FF0000', '#00FF00'])\n",
    "\n",
    "\n",
    "# we create an instance of Neighbours Classifier and fit the data.\n",
    "dneigh = KNeighborsClassifier(n_neighbors=1, weights ='uniform')\n",
    "dneigh.fit(dtr0, dlb0) \n",
    "\n",
    "# Plot the decision boundary. For that, we will assign a color to each\n",
    "# point in the mesh [x_min, m_max]x[y_min, y_max].\n",
    "x_min = -6\n",
    "x_max = 6\n",
    "y_min = -6\n",
    "y_max = 6\n",
    "xx, yy = np.meshgrid(np.arange(x_min, x_max, h),\n",
    "                     np.arange(y_min, y_max, h))\n",
    "Z = dneigh.predict(np.c_[xx.ravel(), yy.ravel()])\n",
    "\n",
    "# Put the result into a color plot\n",
    "Z = Z.reshape(xx.shape)\n",
    "plt.figure(figsize=(6,6))\n",
    "plt.pcolormesh(xx, yy, Z, cmap=cmap_light)\n",
    "\n",
    "# Plot also the training points\n",
    "plt.scatter(dtr0[:, 0], dtr0[:, 1], c=dlb0, cmap=cmap_bold, s = 20)\n",
    "plt.xlim(xx.min(), xx.max())\n",
    "plt.ylim(yy.min(), yy.max())\n",
    "plt.title(\"k-Nearest neighbors (k = %i, weights = '%s')\"\n",
    "          % (1, 'distance'))\n",
    "\n",
    "green_patch = mpatches.Patch(color='green', label='positive')\n",
    "red_patch = mpatches.Patch(color='red', label='negative')\n",
    "plt.legend(handles=[green_patch, red_patch])\n",
    "\n",
    "\n",
    "plt.savefig('diff_kNN.png', bbox_inches='tight')"
   ]
  },
  {
   "cell_type": "code",
   "execution_count": 183,
   "metadata": {
    "collapsed": false
   },
   "outputs": [
    {
     "name": "stdout",
     "output_type": "stream",
     "text": [
      "[[84 10]\n",
      " [ 5  1]]\n"
     ]
    },
    {
     "data": {
      "image/png": "[encoded data removed]",
      "text/plain": [
       "<matplotlib.figure.Figure at 0x1117b6f28>"
      ]
     },
     "metadata": {},
     "output_type": "display_data"
    }
   ],
   "source": [
    "\n",
    "dpred = dneigh.predict(dtr[1000:1100,:])\n",
    "dcm_kNN = confusion_matrix(dlb[1000:1100], dpred)\n",
    "np.set_printoptions(precision=2)\n",
    "\n",
    "print(dcm_kNN)\n",
    "plt.figure()\n",
    "plot_confusion_matrix(dcm_kNN)\n",
    "plt.savefig('Confusion_diff_kNN.png', bbox_inches='tight')"
   ]
  },
  {
   "cell_type": "markdown",
   "metadata": {},
   "source": [
    "In tabular form,\n",
    "\n",
    "| true\\prdicted | negative      | positive |\n",
    "| ------------- |:-------------:| --------:|\n",
    "| negative      | 84            | 10       |\n",
    "| positive      | 5             | 1        |"
   ]
  },
  {
   "cell_type": "markdown",
   "metadata": {},
   "source": [
    "#### Average metrics of evaluation"
   ]
  },
  {
   "cell_type": "code",
   "execution_count": 796,
   "metadata": {
    "collapsed": true
   },
   "outputs": [],
   "source": [
    "dkNN_gmean, dkNN_accur, dkNN_fmeas = avg_kNN(dtr, dlb, 1)"
   ]
  },
  {
   "cell_type": "code",
   "execution_count": 797,
   "metadata": {
    "collapsed": false
   },
   "outputs": [
    {
     "data": {
      "text/plain": [
       "0.38117497103809805"
      ]
     },
     "execution_count": 797,
     "metadata": {},
     "output_type": "execute_result"
    }
   ],
   "source": [
    "np.mean(dkNN_gmean)"
   ]
  },
  {
   "cell_type": "code",
   "execution_count": 798,
   "metadata": {
    "collapsed": false
   },
   "outputs": [
    {
     "data": {
      "text/plain": [
       "0.87222222222222223"
      ]
     },
     "execution_count": 798,
     "metadata": {},
     "output_type": "execute_result"
    }
   ],
   "source": [
    "np.mean(dkNN_accur)"
   ]
  },
  {
   "cell_type": "code",
   "execution_count": 799,
   "metadata": {
    "collapsed": false
   },
   "outputs": [
    {
     "data": {
      "text/plain": [
       "0.93063120046755088"
      ]
     },
     "execution_count": 799,
     "metadata": {},
     "output_type": "execute_result"
    }
   ],
   "source": [
    "np.mean(dkNN_fmeas)"
   ]
  },
  {
   "cell_type": "markdown",
   "metadata": {},
   "source": [
    "### Adaboost\n",
    "\n",
    "\n",
    "#### Easy Model\n",
    "\n",
    "#### Graph and Confusion Matrix"
   ]
  },
  {
   "cell_type": "code",
   "execution_count": 17,
   "metadata": {
    "collapsed": true
   },
   "outputs": [],
   "source": [
    "from sklearn.ensemble import AdaBoostClassifier\n",
    "from sklearn.tree import DecisionTreeClassifier"
   ]
  },
  {
   "cell_type": "code",
   "execution_count": 195,
   "metadata": {
    "collapsed": false
   },
   "outputs": [
    {
     "data": {
      "text/plain": [
       "<matplotlib.figure.Figure at 0x1119bf128>"
      ]
     },
     "metadata": {},
     "output_type": "display_data"
    },
    {
     "data": {
      "image/png": "[encoded data removed]",
      "text/plain": [
       "<matplotlib.figure.Figure at 0x112819630>"
      ]
     },
     "metadata": {},
     "output_type": "display_data"
    }
   ],
   "source": [
    "\n",
    "\n",
    "\n",
    "# Create and fit an AdaBoosted decision tree\n",
    "ebdt = AdaBoostClassifier(DecisionTreeClassifier(),\n",
    "                         algorithm=\"SAMME\",\n",
    "                         n_estimators=200)\n",
    "\n",
    "ebdt.fit(etr0, elb0)\n",
    "\n",
    "plot_colors = ['blue','yellow']\n",
    "plot_step = 0.02\n",
    "\n",
    "\n",
    "\n",
    "# Plot the decision boundaries\n",
    "plt.figure()\n",
    "x_min = -6\n",
    "x_max = 6\n",
    "y_min = -6\n",
    "y_max = 6\n",
    "xx, yy = np.meshgrid(np.arange(x_min, x_max, plot_step),\n",
    "                     np.arange(y_min, y_max, plot_step))\n",
    "\n",
    "Z = ebdt.predict(np.c_[xx.ravel(), yy.ravel()])\n",
    "Z = Z.reshape(xx.shape)\n",
    "plt.figure(figsize=(6, 6))\n",
    "cs = plt.contourf(xx, yy, Z, cmap=plt.cm.Paired)\n",
    "plt.axis(\"tight\")\n",
    "\n",
    "# Plot the training points\n",
    "for i, c in zip(range(2), plot_colors):\n",
    "    idx = np.where(elb0 == i)\n",
    "    plt.scatter(etr0[idx, 0], etr0[idx, 1], c=c)\n",
    "plt.xlim(x_min, x_max)\n",
    "plt.ylim(y_min, y_max)\n",
    "\n",
    "gold_patch = mpatches.Patch(color='gold', label='positive')\n",
    "blue_patch = mpatches.Patch(color='dodgerBlue', label='negative')\n",
    "plt.legend(handles=[gold_patch, blue_patch])\n",
    "\n",
    "plt.title('AdaBoost(n_estimators=200)')\n",
    "\n",
    "plt.savefig('easy_Adaboost.png', bbox_inches='tight')"
   ]
  },
  {
   "cell_type": "code",
   "execution_count": 196,
   "metadata": {
    "collapsed": false
   },
   "outputs": [
    {
     "name": "stdout",
     "output_type": "stream",
     "text": [
      "[[86  6]\n",
      " [ 4  4]]\n"
     ]
    },
    {
     "data": {
      "image/png": "[encoded data removed]",
      "text/plain": [
       "<matplotlib.figure.Figure at 0x111d73a90>"
      ]
     },
     "metadata": {},
     "output_type": "display_data"
    }
   ],
   "source": [
    "epred = ebdt.predict(etr[1000:1100, :])\n",
    "ecm_bdt = confusion_matrix(elb[1000:1100], epred)\n",
    "np.set_printoptions(precision=2)\n",
    "\n",
    "print(ecm_bdt)\n",
    "plt.figure()\n",
    "plot_confusion_matrix(ecm_bdt)\n",
    "plt.savefig('Confusion_easy_AdaBoost.png', bbox_inches='tight')"
   ]
  },
  {
   "cell_type": "markdown",
   "metadata": {},
   "source": [
    "In tabular form,\n",
    "\n",
    "| true\\prdicted | negative      | positive |\n",
    "| ------------- |:-------------:| --------:|\n",
    "| negative      | 86            | 6        |\n",
    "| positive      | 4             | 4        |"
   ]
  },
  {
   "cell_type": "markdown",
   "metadata": {},
   "source": [
    "#### Average metrics of evaluation"
   ]
  },
  {
   "cell_type": "code",
   "execution_count": 184,
   "metadata": {
    "collapsed": true
   },
   "outputs": [],
   "source": [
    "def avg_AdaBoost (X, y):\n",
    "\n",
    "    gmean = []\n",
    "    fmeas = []\n",
    "    accur = []    \n",
    "    X_test = X[1000:1100, :]\n",
    "    y_test = y[1000:1100]\n",
    "    for i in range(1,10):\n",
    "        \n",
    "        X_train = X[i*100:(i+1)*100,:]\n",
    "        y_train = y[i*100:(i+1)*100]\n",
    "\n",
    "        bdt = AdaBoostClassifier(DecisionTreeClassifier(),\n",
    "                         algorithm=\"SAMME\",\n",
    "                         n_estimators=200)\n",
    "\n",
    "        bdt.fit(X_train, y_train)\n",
    "        y_pred = bdt.predict(X_test)\n",
    "        \n",
    "        cm = confusion_matrix(y_test, y_pred).T\n",
    "\n",
    "        if cm.shape == (1,1):\n",
    "            new_cm = np.zeros((2,2))\n",
    "            new_cm[0,0] = cm[0,0]\n",
    "            cm = new_cm\n",
    "        if cm[0,0]+ cm[1,0] == 0:\n",
    "            a1 = 0\n",
    "        else:\n",
    "            \n",
    "            a1 = cm[0,0]/(cm[0,0] + cm[1,0])\n",
    "        if cm[1,1]+ cm[0,1] == 0:\n",
    "            a0 = 0\n",
    "        else:\n",
    "            a0 = cm[1,1]/(cm[0,1] + cm[1,1])\n",
    "            \n",
    "        if cm[0,0]+ cm[0,1] == 0:\n",
    "            p = 0\n",
    "        else:\n",
    "            p = cm[0,0]/(cm[0,0] + cm[0,1])\n",
    "        \n",
    "        if a1 + p == 0:\n",
    "            f = 0\n",
    "        else:\n",
    "            f = (2 * p * a1)/(a1 + p)\n",
    "        fmeas = fmeas + [f]\n",
    "        gmean = gmean + [np.sqrt(a1 * a0)]\n",
    "        accur = accur + [(cm[0,0]+ cm[1,1])/(cm[0,0]+ cm[1,1]+cm[1,0]+ cm[0,1])]\n",
    "\n",
    "    return gmean, accur, fmeas"
   ]
  },
  {
   "cell_type": "code",
   "execution_count": 185,
   "metadata": {
    "collapsed": true
   },
   "outputs": [],
   "source": [
    "eAdaBoost_gmean, eAdaBoost_accur, eAdaBoost_fmeas = avg_AdaBoost(etr, elb)"
   ]
  },
  {
   "cell_type": "code",
   "execution_count": 186,
   "metadata": {
    "collapsed": false
   },
   "outputs": [
    {
     "data": {
      "text/plain": [
       "0.5259808711794306"
      ]
     },
     "execution_count": 186,
     "metadata": {},
     "output_type": "execute_result"
    }
   ],
   "source": [
    "np.mean(eAdaBoost_gmean)"
   ]
  },
  {
   "cell_type": "code",
   "execution_count": 187,
   "metadata": {
    "collapsed": false
   },
   "outputs": [
    {
     "data": {
      "text/plain": [
       "0.90222222222222215"
      ]
     },
     "execution_count": 187,
     "metadata": {},
     "output_type": "execute_result"
    }
   ],
   "source": [
    "np.mean(eAdaBoost_accur)"
   ]
  },
  {
   "cell_type": "code",
   "execution_count": 188,
   "metadata": {
    "collapsed": false
   },
   "outputs": [
    {
     "data": {
      "text/plain": [
       "0.94704953741566067"
      ]
     },
     "execution_count": 188,
     "metadata": {},
     "output_type": "execute_result"
    }
   ],
   "source": [
    "np.mean(eAdaBoost_fmeas)"
   ]
  },
  {
   "cell_type": "markdown",
   "metadata": {},
   "source": [
    "#### Difficult Model\n",
    "\n",
    "#### Graph and Confusion Matrix"
   ]
  },
  {
   "cell_type": "code",
   "execution_count": 248,
   "metadata": {
    "collapsed": false
   },
   "outputs": [
    {
     "data": {
      "text/plain": [
       "<matplotlib.figure.Figure at 0x103439d68>"
      ]
     },
     "metadata": {},
     "output_type": "display_data"
    },
    {
     "data": {
      "image/png": "[encoded data removed]",
      "text/plain": [
       "<matplotlib.figure.Figure at 0x108fcb5f8>"
      ]
     },
     "metadata": {},
     "output_type": "display_data"
    }
   ],
   "source": [
    "# Create and fit an AdaBoosted decision tree\n",
    "dbdt = AdaBoostClassifier(DecisionTreeClassifier(),\n",
    "                         algorithm=\"SAMME\",\n",
    "                         n_estimators=200)\n",
    "\n",
    "dbdt.fit(dtr0, dlb0)\n",
    "\n",
    "plot_colors = ['blue','yellow']\n",
    "plot_step = 0.02\n",
    "\n",
    "\n",
    "\n",
    "# Plot the decision boundaries\n",
    "plt.figure()\n",
    "x_min = -6\n",
    "x_max = 6\n",
    "y_min = -6\n",
    "y_max = 6\n",
    "xx, yy = np.meshgrid(np.arange(x_min, x_max, plot_step),\n",
    "                     np.arange(y_min, y_max, plot_step))\n",
    "\n",
    "Z = dbdt.predict(np.c_[xx.ravel(), yy.ravel()])\n",
    "Z = Z.reshape(xx.shape)\n",
    "plt.figure(figsize=(6, 6))\n",
    "cs = plt.contourf(xx, yy, Z, cmap=plt.cm.Paired)\n",
    "plt.axis(\"tight\")\n",
    "\n",
    "# Plot the training points\n",
    "for i, c in zip(range(2), plot_colors):\n",
    "    idx = np.where(dlb0 == i)\n",
    "    plt.scatter(dtr0[idx, 0], dtr0[idx, 1], c=c)\n",
    "plt.xlim(x_min, x_max)\n",
    "plt.ylim(y_min, y_max)\n",
    "\n",
    "gold_patch = mpatches.Patch(color='gold', label='positive')\n",
    "blue_patch = mpatches.Patch(color='dodgerBlue', label='negative')\n",
    "plt.legend(handles=[gold_patch, blue_patch])\n",
    "\n",
    "plt.title('AdaBoost(n_estimators=200)')\n",
    "\n",
    "plt.savefig('diff_Adaboost.png', bbox_inches='tight')"
   ]
  },
  {
   "cell_type": "code",
   "execution_count": 249,
   "metadata": {
    "collapsed": false
   },
   "outputs": [
    {
     "name": "stdout",
     "output_type": "stream",
     "text": [
      "[[88  6]\n",
      " [ 4  2]]\n"
     ]
    },
    {
     "data": {
      "image/png": "[encoded data removed]",
      "text/plain": [
       "<matplotlib.figure.Figure at 0x112d35e48>"
      ]
     },
     "metadata": {},
     "output_type": "display_data"
    }
   ],
   "source": [
    "dpred = dbdt.predict(dtr[1000:1100,:])\n",
    "dcm_bdt = confusion_matrix(dlb[1000:1100], dpred)\n",
    "np.set_printoptions(precision=2)\n",
    "\n",
    "print(dcm_bdt)\n",
    "plt.figure()\n",
    "plot_confusion_matrix(dcm_bdt)\n",
    "plt.savefig('Confusion_diff_AdaBoost.png', bbox_inches='tight')"
   ]
  },
  {
   "cell_type": "markdown",
   "metadata": {},
   "source": [
    "In tabular form,\n",
    "\n",
    "| true\\prdicted | negative      | positive |\n",
    "| ------------- |:-------------:| --------:|\n",
    "| negative      | 88            | 6       |\n",
    "| positive      | 4             | 1        |"
   ]
  },
  {
   "cell_type": "markdown",
   "metadata": {},
   "source": [
    "#### Average metrics of evaluation"
   ]
  },
  {
   "cell_type": "code",
   "execution_count": 250,
   "metadata": {
    "collapsed": true
   },
   "outputs": [],
   "source": [
    "dAdaBoost_gmean, dAdaBoost_accur, dAdaBoost_fmeas = avg_AdaBoost(dtr, dlb)"
   ]
  },
  {
   "cell_type": "code",
   "execution_count": 251,
   "metadata": {
    "collapsed": false
   },
   "outputs": [
    {
     "data": {
      "text/plain": [
       "0.43772687860585602"
      ]
     },
     "execution_count": 251,
     "metadata": {},
     "output_type": "execute_result"
    }
   ],
   "source": [
    "np.mean(dAdaBoost_gmean)"
   ]
  },
  {
   "cell_type": "code",
   "execution_count": 252,
   "metadata": {
    "collapsed": false
   },
   "outputs": [
    {
     "data": {
      "text/plain": [
       "0.85555555555555551"
      ]
     },
     "execution_count": 252,
     "metadata": {},
     "output_type": "execute_result"
    }
   ],
   "source": [
    "np.mean(dAdaBoost_accur)"
   ]
  },
  {
   "cell_type": "code",
   "execution_count": 253,
   "metadata": {
    "collapsed": false
   },
   "outputs": [
    {
     "data": {
      "text/plain": [
       "0.9202755493459408"
      ]
     },
     "execution_count": 253,
     "metadata": {},
     "output_type": "execute_result"
    }
   ],
   "source": [
    "np.mean(dAdaBoost_fmeas)"
   ]
  },
  {
   "cell_type": "markdown",
   "metadata": {},
   "source": [
    "# Spam data"
   ]
  },
  {
   "cell_type": "code",
   "execution_count": 119,
   "metadata": {
    "collapsed": true
   },
   "outputs": [],
   "source": [
    "spam_data = sio.loadmat('spam_data.mat')"
   ]
  },
  {
   "cell_type": "code",
   "execution_count": 120,
   "metadata": {
    "collapsed": false
   },
   "outputs": [],
   "source": [
    "sp_ft = spam_data['training_data']\n",
    "sp_lb = spam_data['training_labels'][0,:]"
   ]
  },
  {
   "cell_type": "markdown",
   "metadata": {},
   "source": [
    "### Preprocessing"
   ]
  },
  {
   "cell_type": "code",
   "execution_count": 121,
   "metadata": {
    "collapsed": false
   },
   "outputs": [],
   "source": [
    "m = len(sp_ft)"
   ]
  },
  {
   "cell_type": "code",
   "execution_count": 122,
   "metadata": {
    "collapsed": false
   },
   "outputs": [],
   "source": [
    "sran_ind = nr.choice(m,m,replace = False)\n",
    "sp_ft = sp_ft[sran_ind,:]\n",
    "sp_lb = sp_lb[sran_ind]"
   ]
  },
  {
   "cell_type": "code",
   "execution_count": 123,
   "metadata": {
    "collapsed": true
   },
   "outputs": [],
   "source": [
    "bin_sp_ft = (sp_ft > 0) * 1"
   ]
  },
  {
   "cell_type": "code",
   "execution_count": 124,
   "metadata": {
    "collapsed": false
   },
   "outputs": [],
   "source": [
    "spvl_ft = bin_sp_ft[4000:5172,:]\n",
    "sptr_ft = bin_sp_ft[:4000,:]\n",
    "spvl_lb = sp_lb[4000:5172]\n",
    "sptr_lb = sp_lb[:4000]"
   ]
  },
  {
   "cell_type": "markdown",
   "metadata": {},
   "source": [
    "### LinearSVM"
   ]
  },
  {
   "cell_type": "code",
   "execution_count": 726,
   "metadata": {
    "collapsed": false
   },
   "outputs": [
    {
     "data": {
      "text/plain": [
       "7.2767893784439561"
      ]
     },
     "execution_count": 726,
     "metadata": {},
     "output_type": "execute_result"
    }
   ],
   "source": [
    "cv_linearSVM(sptr_ft,sptr_lb,1,10)"
   ]
  },
  {
   "cell_type": "code",
   "execution_count": 727,
   "metadata": {
    "collapsed": false
   },
   "outputs": [
    {
     "data": {
      "text/plain": [
       "7.2802722548382679"
      ]
     },
     "execution_count": 727,
     "metadata": {},
     "output_type": "execute_result"
    }
   ],
   "source": [
    "cv_linearSVM(sptr_ft,sptr_lb,10,10)"
   ]
  },
  {
   "cell_type": "code",
   "execution_count": 728,
   "metadata": {
    "collapsed": false
   },
   "outputs": [
    {
     "data": {
      "text/plain": [
       "7.1782743518242782"
      ]
     },
     "execution_count": 728,
     "metadata": {},
     "output_type": "execute_result"
    }
   ],
   "source": [
    "cv_linearSVM(sptr_ft,sptr_lb,0.1,10)"
   ]
  },
  {
   "cell_type": "code",
   "execution_count": 729,
   "metadata": {
    "collapsed": false
   },
   "outputs": [
    {
     "data": {
      "text/plain": [
       "7.2789290560462803"
      ]
     },
     "execution_count": 729,
     "metadata": {},
     "output_type": "execute_result"
    }
   ],
   "source": [
    "cv_linearSVM(sptr_ft,sptr_lb,20,10)"
   ]
  },
  {
   "cell_type": "code",
   "execution_count": 730,
   "metadata": {
    "collapsed": false
   },
   "outputs": [
    {
     "data": {
      "text/plain": [
       "7.2802722548382679"
      ]
     },
     "execution_count": 730,
     "metadata": {},
     "output_type": "execute_result"
    }
   ],
   "source": [
    "cv_linearSVM(sptr_ft,sptr_lb,15,10)"
   ]
  },
  {
   "cell_type": "code",
   "execution_count": 197,
   "metadata": {
    "collapsed": false
   },
   "outputs": [
    {
     "name": "stdout",
     "output_type": "stream",
     "text": [
      "[[739  76]\n",
      " [173 184]]\n"
     ]
    },
    {
     "data": {
      "image/png": "[encoded data removed]",
      "text/plain": [
       "<matplotlib.figure.Figure at 0x108fe4390>"
      ]
     },
     "metadata": {},
     "output_type": "display_data"
    }
   ],
   "source": [
    "penalty = 10\n",
    "sclf = svm.SVC(kernel='linear', C=penalty)\n",
    "sclf.fit(sptr_ft, sptr_lb)\n",
    "# Compute confusion matrix\n",
    "spred = sclf.predict(spvl_ft)\n",
    "scm_linearSVM = confusion_matrix(spvl_lb, spred)\n",
    "np.set_printoptions(precision=2)\n",
    "print(scm_linearSVM)\n",
    "\n",
    "plt.figure()\n",
    "plot_confusion_matrix(scm_linearSVM)\n",
    "plt.savefig('Confusion_spam_linearSVM.png', bbox_inches='tight')"
   ]
  },
  {
   "cell_type": "markdown",
   "metadata": {},
   "source": [
    "In tabular form,\n",
    "\n",
    "| true\\prdicted | negative      | positive |\n",
    "| ------------- |:-------------:| --------:|\n",
    "| negative      | 739            | 76      |\n",
    "| positive      | 173            | 184     |"
   ]
  },
  {
   "cell_type": "markdown",
   "metadata": {},
   "source": [
    "#### metrics of evaluation"
   ]
  },
  {
   "cell_type": "code",
   "execution_count": 152,
   "metadata": {
    "collapsed": false
   },
   "outputs": [],
   "source": [
    "def metrics(cm):\n",
    "    if cm.shape == (1,1):\n",
    "        new_cm = np.zeros((2,2))\n",
    "        new_cm[0,0] = cm[0,0]\n",
    "        cm = new_cm\n",
    "    if cm[0,0]+ cm[1,0] == 0:\n",
    "        a1 = 0\n",
    "    else:\n",
    "\n",
    "        a1 = cm[0,0]/(cm[0,0] + cm[1,0])\n",
    "    if cm[1,1]+ cm[0,1] == 0:\n",
    "        a0 = 0\n",
    "    else:\n",
    "        a0 = cm[1,1]/(cm[0,1] + cm[1,1])\n",
    "\n",
    "    if cm[0,0]+ cm[0,1] == 0:\n",
    "        p = 0\n",
    "    else:\n",
    "        p = cm[0,0]/(cm[0,0] + cm[0,1])\n",
    "\n",
    "    if a1 + p == 0:\n",
    "        f = 0\n",
    "    else:\n",
    "        f = (2 * p * a1)/(a1 + p)\n",
    "    fmeas = f\n",
    "    gmean = np.sqrt(a1 * a0)\n",
    "    accur = (cm[0,0]+ cm[1,1])/(cm[0,0]+ cm[1,1]+cm[1,0]+ cm[0,1])\n",
    "\n",
    "    return gmean, accur, fmeas"
   ]
  },
  {
   "cell_type": "code",
   "execution_count": 198,
   "metadata": {
    "collapsed": false
   },
   "outputs": [
    {
     "data": {
      "text/plain": [
       "(0.6836254437298811, 0.78754266211604096, 0.85581933989577297)"
      ]
     },
     "execution_count": 198,
     "metadata": {},
     "output_type": "execute_result"
    }
   ],
   "source": [
    "metrics(scm_linearSVM.T)"
   ]
  },
  {
   "cell_type": "markdown",
   "metadata": {},
   "source": [
    "### kNN"
   ]
  },
  {
   "cell_type": "code",
   "execution_count": 733,
   "metadata": {
    "collapsed": false
   },
   "outputs": [
    {
     "data": {
      "text/plain": [
       "6.7415877571801666"
      ]
     },
     "execution_count": 733,
     "metadata": {},
     "output_type": "execute_result"
    }
   ],
   "source": [
    "cv_kNN(sptr_ft, sptr_lb, 1, 10)"
   ]
  },
  {
   "cell_type": "code",
   "execution_count": 734,
   "metadata": {
    "collapsed": false
   },
   "outputs": [
    {
     "data": {
      "text/plain": [
       "7.3535907549657011"
      ]
     },
     "execution_count": 734,
     "metadata": {},
     "output_type": "execute_result"
    }
   ],
   "source": [
    "cv_kNN(sptr_ft, sptr_lb, 3, 10)"
   ]
  },
  {
   "cell_type": "code",
   "execution_count": 735,
   "metadata": {
    "collapsed": false
   },
   "outputs": [
    {
     "data": {
      "text/plain": [
       "7.3429176755334931"
      ]
     },
     "execution_count": 735,
     "metadata": {},
     "output_type": "execute_result"
    }
   ],
   "source": [
    "cv_kNN(sptr_ft, sptr_lb, 5, 10)"
   ]
  },
  {
   "cell_type": "code",
   "execution_count": 736,
   "metadata": {
    "collapsed": false
   },
   "outputs": [
    {
     "data": {
      "text/plain": [
       "7.1220837803303727"
      ]
     },
     "execution_count": 736,
     "metadata": {},
     "output_type": "execute_result"
    }
   ],
   "source": [
    "cv_kNN(sp_ft, sp_lb, 7, 10)"
   ]
  },
  {
   "cell_type": "code",
   "execution_count": 737,
   "metadata": {
    "collapsed": false
   },
   "outputs": [
    {
     "data": {
      "text/plain": [
       "7.0116106463711487"
      ]
     },
     "execution_count": 737,
     "metadata": {},
     "output_type": "execute_result"
    }
   ],
   "source": [
    "cv_kNN(sp_ft, sp_lb, 9, 10)"
   ]
  },
  {
   "cell_type": "code",
   "execution_count": 738,
   "metadata": {
    "collapsed": false
   },
   "outputs": [
    {
     "data": {
      "text/plain": [
       "6.7866142237864366"
      ]
     },
     "execution_count": 738,
     "metadata": {},
     "output_type": "execute_result"
    }
   ],
   "source": [
    "cv_kNN(sp_ft, sp_lb, 21, 10)"
   ]
  },
  {
   "cell_type": "code",
   "execution_count": 739,
   "metadata": {
    "collapsed": false
   },
   "outputs": [
    {
     "data": {
      "text/plain": [
       "6.6370114823629169"
      ]
     },
     "execution_count": 739,
     "metadata": {},
     "output_type": "execute_result"
    }
   ],
   "source": [
    "cv_kNN(sp_ft, sp_lb, 31, 10)"
   ]
  },
  {
   "cell_type": "code",
   "execution_count": 740,
   "metadata": {
    "collapsed": false
   },
   "outputs": [
    {
     "data": {
      "text/plain": [
       "6.3714724630522532"
      ]
     },
     "execution_count": 740,
     "metadata": {},
     "output_type": "execute_result"
    }
   ],
   "source": [
    "cv_kNN(sp_ft, sp_lb, 101, 10)"
   ]
  },
  {
   "cell_type": "code",
   "execution_count": 741,
   "metadata": {
    "collapsed": false
   },
   "outputs": [
    {
     "data": {
      "text/plain": [
       "6.9080607723316083"
      ]
     },
     "execution_count": 741,
     "metadata": {},
     "output_type": "execute_result"
    }
   ],
   "source": [
    "cv_kNN(sp_ft, sp_lb, 11, 10)"
   ]
  },
  {
   "cell_type": "code",
   "execution_count": 742,
   "metadata": {
    "collapsed": false
   },
   "outputs": [
    {
     "data": {
      "text/plain": [
       "6.8619748323963412"
      ]
     },
     "execution_count": 742,
     "metadata": {},
     "output_type": "execute_result"
    }
   ],
   "source": [
    "cv_kNN(sp_ft, sp_lb, 13, 10)"
   ]
  },
  {
   "cell_type": "code",
   "execution_count": 199,
   "metadata": {
    "collapsed": false,
    "scrolled": true
   },
   "outputs": [
    {
     "name": "stdout",
     "output_type": "stream",
     "text": [
      "[[733  82]\n",
      " [157 200]]\n"
     ]
    },
    {
     "data": {
      "image/png": "[encoded data removed]",
      "text/plain": [
       "<matplotlib.figure.Figure at 0x11631e470>"
      ]
     },
     "metadata": {},
     "output_type": "display_data"
    }
   ],
   "source": [
    "# we create an instance of Neighbours Classifier and fit the data.\n",
    "sneigh = KNeighborsClassifier(n_neighbors=3, weights ='uniform')\n",
    "sneigh.fit(sptr_ft, sptr_lb) \n",
    "spred = sneigh.predict(spvl_ft)\n",
    "scm_kNN = confusion_matrix(spvl_lb, spred)\n",
    "np.set_printoptions(precision=2)\n",
    "\n",
    "print(scm_kNN)\n",
    "plt.figure()\n",
    "plot_confusion_matrix(scm_kNN)\n",
    "plt.savefig('Confusion_spam_kNN.png', bbox_inches='tight')\n"
   ]
  },
  {
   "cell_type": "markdown",
   "metadata": {},
   "source": [
    "In tabular form,\n",
    "\n",
    "| true\\prdicted | negative      | positive |\n",
    "| ------------- |:-------------:| --------:|\n",
    "| negative      | 733           | 82       |\n",
    "| positive      | 155           | 200      |"
   ]
  },
  {
   "cell_type": "markdown",
   "metadata": {},
   "source": [
    "#### Metrics of evaluation"
   ]
  },
  {
   "cell_type": "code",
   "execution_count": 200,
   "metadata": {
    "collapsed": false
   },
   "outputs": [
    {
     "data": {
      "text/plain": [
       "(0.70982954637839368, 0.7960750853242321, 0.85982404692082126)"
      ]
     },
     "execution_count": 200,
     "metadata": {},
     "output_type": "execute_result"
    }
   ],
   "source": [
    "metrics(scm_kNN.T)"
   ]
  },
  {
   "cell_type": "markdown",
   "metadata": {},
   "source": [
    "### AdaBoost"
   ]
  },
  {
   "cell_type": "code",
   "execution_count": 201,
   "metadata": {
    "collapsed": false
   },
   "outputs": [
    {
     "name": "stdout",
     "output_type": "stream",
     "text": [
      "[[750  65]\n",
      " [155 202]]\n"
     ]
    },
    {
     "data": {
      "image/png": "[encoded data removed]",
      "text/plain": [
       "<matplotlib.figure.Figure at 0x108fdd668>"
      ]
     },
     "metadata": {},
     "output_type": "display_data"
    }
   ],
   "source": [
    "sbdt = AdaBoostClassifier(DecisionTreeClassifier(),\n",
    "                         algorithm=\"SAMME\",\n",
    "                         n_estimators=1000)\n",
    "\n",
    "sbdt.fit(sptr_ft, sptr_lb)\n",
    "\n",
    "\n",
    "spred = sbdt.predict(spvl_ft)\n",
    "scm_bdt = confusion_matrix(spvl_lb, spred)\n",
    "np.set_printoptions(precision=2)\n",
    "\n",
    "print(scm_bdt)\n",
    "plt.figure()\n",
    "plot_confusion_matrix(scm_bdt)\n",
    "plt.savefig('Confusion_spam_AdaBoost.png', bbox_inches='tight')"
   ]
  },
  {
   "cell_type": "markdown",
   "metadata": {},
   "source": [
    "In tabular form,\n",
    "\n",
    "| true\\prdicted | negative      | positive |\n",
    "| ------------- |:-------------:| --------:|\n",
    "| negative      | 750           | 65       |\n",
    "| positive      | 155           | 202      |"
   ]
  },
  {
   "cell_type": "markdown",
   "metadata": {},
   "source": [
    "#### Metrics of evaluation"
   ]
  },
  {
   "cell_type": "code",
   "execution_count": 202,
   "metadata": {
    "collapsed": false
   },
   "outputs": [
    {
     "data": {
      "text/plain": [
       "(0.72159481509839229, 0.8122866894197952, 0.87209302325581406)"
      ]
     },
     "execution_count": 202,
     "metadata": {},
     "output_type": "execute_result"
    }
   ],
   "source": [
    "metrics(scm_bdt.T)"
   ]
  },
  {
   "cell_type": "markdown",
   "metadata": {},
   "source": [
    "### Gmean summary\n"
   ]
  },
  {
   "cell_type": "markdown",
   "metadata": {},
   "source": [
    "|   Gmean       | linearSVM     | kNN      |  AdaBoost|\n",
    "| ------------- |:-------------:| --------:|---------:|\n",
    "| spam          | 0.7456        | 0.7164   |  0.7295  | \n",
    "| easy          | 0.2781        | 0.4295   |  0.6837  |\n",
    "| diff          | 0.0           | 0.3812   |  0.3556  | \n",
    "\n"
   ]
  },
  {
   "cell_type": "markdown",
   "metadata": {},
   "source": [
    "### Thinning out"
   ]
  },
  {
   "cell_type": "code",
   "execution_count": 32,
   "metadata": {
    "collapsed": false
   },
   "outputs": [],
   "source": [
    "def thin_out(X,y):\n",
    "    neg = X[y == 0,:]\n",
    "    pos = X[y == 1,:]\n",
    "    m = len(neg)\n",
    "    n = len(pos)\n",
    "    ind = np.arange(m+n)\n",
    "    i = nr.choice(ind[y==0],1)[0]\n",
    "    \n",
    "    C = np.append(ind[y==1], [i])\n",
    "    \n",
    "    tneigh = KNeighborsClassifier(n_neighbors=1, weights ='uniform')\n",
    "    tneigh.fit(X[C,:], np.append(y[y==1],[0])) \n",
    "    tpred = np.array(tneigh.predict(X))\n",
    "    mis_ind = np.logical_and(tpred != y, y == 0)\n",
    "\n",
    "    C = np.append(C, ind[mis_ind])\n",
    "    \n",
    "    del_ind = []\n",
    "    \n",
    "    for j in range(n,len(C)):\n",
    "        distj = np.sum(np.square(X - X[C[j],:]), axis = 1)\n",
    "        distj[C[j]] = 1000000000\n",
    "        minj = np.min(distj)\n",
    "        ind_min = np.logical_and(minj == distj, y == 1)\n",
    "        \n",
    "        cond = False\n",
    "        for l in ind[ind_min]:\n",
    "          \n",
    "            if not cond:\n",
    "                distl = np.sum(np.square(X - X[l,:]), axis = 1)\n",
    "                distl[l] = 10000000    \n",
    "                cond = np.all(distl >= minj)\n",
    "                if cond:\n",
    "                    del_ind += [j]\n",
    "                \n",
    "    C = np.delete(C, del_ind)\n",
    "   \n",
    "  \n",
    "    return C\n",
    "        \n"
   ]
  },
  {
   "cell_type": "code",
   "execution_count": 33,
   "metadata": {
    "collapsed": false
   },
   "outputs": [
    {
     "data": {
      "text/plain": [
       "array([19, 22, 23, 32, 37, 42, 66, 78, 86,  2,  0,  3,  4,  5,  6,  7,  9,\n",
       "       10, 11, 12, 14, 15, 17, 18, 20, 21, 25, 26, 27, 29, 31, 33, 34, 35,\n",
       "       36, 38, 39, 40, 41, 45, 46, 47, 48, 49, 50, 52, 53, 54, 56, 57, 59,\n",
       "       60, 62, 63, 67, 69, 70, 71, 72, 73, 74, 75, 76, 77, 79, 80, 81, 83,\n",
       "       84, 85, 87, 89, 90, 91, 92, 93, 94, 95, 97, 98])"
      ]
     },
     "execution_count": 33,
     "metadata": {},
     "output_type": "execute_result"
    }
   ],
   "source": [
    "thin_out(etr0,elb0)"
   ]
  },
  {
   "cell_type": "markdown",
   "metadata": {},
   "source": [
    "### Thin out and linearSVM "
   ]
  },
  {
   "cell_type": "markdown",
   "metadata": {},
   "source": [
    "### Easy model"
   ]
  },
  {
   "cell_type": "code",
   "execution_count": 41,
   "metadata": {
    "collapsed": false
   },
   "outputs": [],
   "source": [
    "m= len(ethft0)\n",
    "ran_ind = nr.choice(m,m,replace =False)\n",
    "ethft0_ = ethft0[ran_ind,:]\n",
    "ethlb0_ = ethlb0[ran_ind]"
   ]
  },
  {
   "cell_type": "code",
   "execution_count": 46,
   "metadata": {
    "collapsed": false
   },
   "outputs": [
    {
     "data": {
      "text/plain": [
       "4.4142135623730949"
      ]
     },
     "execution_count": 46,
     "metadata": {},
     "output_type": "execute_result"
    }
   ],
   "source": [
    "cv_linearSVM (ethft0_, ethlb0_, 1, 10)"
   ]
  },
  {
   "cell_type": "code",
   "execution_count": 47,
   "metadata": {
    "collapsed": false
   },
   "outputs": [
    {
     "data": {
      "text/plain": [
       "4.4142135623730949"
      ]
     },
     "execution_count": 47,
     "metadata": {},
     "output_type": "execute_result"
    }
   ],
   "source": [
    "cv_linearSVM (ethft0_, ethlb0_, 10, 10)"
   ]
  },
  {
   "cell_type": "code",
   "execution_count": 48,
   "metadata": {
    "collapsed": false
   },
   "outputs": [
    {
     "data": {
      "text/plain": [
       "0.0"
      ]
     },
     "execution_count": 48,
     "metadata": {},
     "output_type": "execute_result"
    }
   ],
   "source": [
    "cv_linearSVM (ethft0_, ethlb0_, 0.1, 10)"
   ]
  },
  {
   "cell_type": "code",
   "execution_count": 49,
   "metadata": {
    "collapsed": false
   },
   "outputs": [
    {
     "data": {
      "text/plain": [
       "4.4142135623730949"
      ]
     },
     "execution_count": 49,
     "metadata": {},
     "output_type": "execute_result"
    }
   ],
   "source": [
    "cv_linearSVM (ethft0_, ethlb0_, 100, 10)"
   ]
  },
  {
   "cell_type": "code",
   "execution_count": 50,
   "metadata": {
    "collapsed": false
   },
   "outputs": [
    {
     "data": {
      "text/plain": [
       "4.4142135623730949"
      ]
     },
     "execution_count": 50,
     "metadata": {},
     "output_type": "execute_result"
    }
   ],
   "source": [
    "cv_linearSVM (ethft0_, ethlb0_, 5, 10)"
   ]
  },
  {
   "cell_type": "code",
   "execution_count": 203,
   "metadata": {
    "collapsed": false
   },
   "outputs": [
    {
     "data": {
      "image/png": "[encoded data removed]",
      "text/plain": [
       "<matplotlib.figure.Figure at 0x111922160>"
      ]
     },
     "metadata": {},
     "output_type": "display_data"
    }
   ],
   "source": [
    "penalty = 1\n",
    "clf = svm.SVC(kernel='linear', C=penalty)\n",
    "\n",
    "clf.fit(ethft0_,ethlb0_)\n",
    "\n",
    "# get the separating hyperplane\n",
    "w = clf.coef_[0]\n",
    "a = -w[0] / w[1]\n",
    "xx = np.linspace(-5, 5)\n",
    "yy = a * xx - (clf.intercept_[0]) / w[1]\n",
    "fignum=1\n",
    "# plot the parallels to the separating hyperplane that pass through the\n",
    "# support vectors\n",
    "margin = 1 / np.sqrt(np.sum(clf.coef_ ** 2))\n",
    "yy_down = yy + a * margin\n",
    "yy_up = yy - a * margin\n",
    "\n",
    "# plot the line, the points, and the nearest vectors to the plane\n",
    "plt.figure(1, figsize=(5, 5))\n",
    "plt.clf()\n",
    "plt.plot(xx, yy, 'k-')\n",
    "plt.plot(xx, yy_down, 'k--')\n",
    "plt.plot(xx, yy_up, 'k--')\n",
    "\n",
    "plt.scatter(clf.support_vectors_[:, 0], clf.support_vectors_[:, 1], s=80,\n",
    "            facecolors='none', zorder=10)\n",
    "plt.scatter(ethft0_[:, 0], ethft0_[0:100, 1], c=ethlb0_[0:100], zorder=10, cmap=plt.cm.Paired, s = 20)\n",
    "\n",
    "plt.axis('tight')\n",
    "x_min = -6\n",
    "x_max = 6\n",
    "y_min = -6\n",
    "y_max = 6\n",
    "\n",
    "XX, YY = np.mgrid[x_min:x_max:200j, y_min:y_max:200j]\n",
    "Z = clf.predict(np.c_[XX.ravel(), YY.ravel()])\n",
    "\n",
    "# Put the result into a color plot\n",
    "Z = Z.reshape(XX.shape)\n",
    "plt.figure(fignum, figsize=(6, 6))\n",
    "plt.pcolormesh(XX, YY, Z, cmap=plt.cm.Paired)\n",
    "\n",
    "plt.xlim(x_min, x_max)\n",
    "plt.ylim(y_min, y_max)\n",
    "\n",
    "\n",
    "#plt.xticks(())\n",
    "#plt.yticks(())\n",
    "\n",
    "\n",
    "brown_patch = mpatches.Patch(color='brown', label='positive')\n",
    "sky_patch = mpatches.Patch(color='skyblue', label='negative')\n",
    "plt.legend(handles=[brown_patch, sky_patch])\n",
    "plt.title(\"Thin_LinearSVM (penalty = 1)\")\n",
    "plt.figtext(0.5, -0.1,'''SVMs decision boundary depends on some subset of the training data, \n",
    "                        called the support vectors. These are marked as big circles. The blue and \n",
    "                        brown circles represent negative and positive data, respectively''',\n",
    "            wrap=True,horizontalalignment='center', fontsize=12)\n",
    "\n",
    "plt.savefig('easy_thin_linearSVM.png', bbox_inches='tight')\n",
    "\n",
    "\n"
   ]
  },
  {
   "cell_type": "code",
   "execution_count": 204,
   "metadata": {
    "collapsed": false
   },
   "outputs": [
    {
     "name": "stdout",
     "output_type": "stream",
     "text": [
      "[[90  2]\n",
      " [ 4  4]]\n"
     ]
    },
    {
     "data": {
      "image/png": "[encoded data removed]",
      "text/plain": [
       "<matplotlib.figure.Figure at 0x112d331d0>"
      ]
     },
     "metadata": {},
     "output_type": "display_data"
    }
   ],
   "source": [
    "# Compute confusion matrix\n",
    "epred = clf.predict(etr[1000:1100,:])\n",
    "ecm_thin_linearSVM = confusion_matrix(elb[1000:1100], epred)\n",
    "np.set_printoptions(precision=2)\n",
    "print(ecm_thin_linearSVM)\n",
    "plt.figure()\n",
    "plot_confusion_matrix(ecm_thin_linearSVM)\n",
    "plt.savefig('Confusion_easy_thin_linearSVM.png', bbox_inches='tight')"
   ]
  },
  {
   "cell_type": "markdown",
   "metadata": {},
   "source": [
    "In tabular form,\n",
    "\n",
    "| true\\prdicted | negative      | positive |\n",
    "| ------------- |:-------------:| --------:|\n",
    "| negative      | 90            | 2        |\n",
    "| positive      | 4             | 4        |"
   ]
  },
  {
   "cell_type": "markdown",
   "metadata": {},
   "source": [
    "#### Average metrics of evaluation"
   ]
  },
  {
   "cell_type": "code",
   "execution_count": 205,
   "metadata": {
    "collapsed": true
   },
   "outputs": [],
   "source": [
    "def avg_thin_linearSVM (X, y, ft, lb, penalty):\n",
    "\n",
    "    gmean = []\n",
    "    fmeas = []\n",
    "    accur = []    \n",
    "    X_test = X[1000:1100, :]\n",
    "    y_test = y[1000:1100]\n",
    "    for i in range(1,10):\n",
    "        \n",
    "        X_train = ft[i]\n",
    "        y_train = lb[i]\n",
    "        \n",
    "        \n",
    "        clf = svm.SVC(kernel='linear', C=penalty)\n",
    "        clf.fit(X_train, y_train)\n",
    "        y_pred = clf.predict(X_test)\n",
    "        cm = confusion_matrix(y_test, y_pred).T\n",
    "\n",
    "        if cm.shape == (1,1):\n",
    "            new_cm = np.zeros((2,2))\n",
    "            new_cm[0,0] = cm[0,0]\n",
    "            cm = new_cm\n",
    "        if cm[0,0]+ cm[1,0] == 0:\n",
    "            a1 = 0\n",
    "        else:\n",
    "            \n",
    "            a1 = cm[0,0]/(cm[0,0] + cm[1,0])\n",
    "        if cm[1,1]+ cm[0,1] == 0:\n",
    "            a0 = 0\n",
    "        else:\n",
    "            a0 = cm[1,1]/(cm[0,1] + cm[1,1])\n",
    "            \n",
    "        if cm[0,0]+ cm[0,1] == 0:\n",
    "            p = 0\n",
    "        else:\n",
    "            p = cm[0,0]/(cm[0,0] + cm[0,1])\n",
    "        \n",
    "        if a1 + p == 0:\n",
    "            f = 0\n",
    "        else:\n",
    "            f = (2 * p * a1)/(a1 + p)\n",
    "        fmeas = fmeas + [f]\n",
    "        gmean = gmean + [np.sqrt(a1 * a0)]\n",
    "        accur = accur + [(cm[0,0]+ cm[1,1])/(cm[0,0]+ cm[1,1]+cm[1,0]+ cm[0,1])]\n",
    "\n",
    "    return gmean, accur, fmeas"
   ]
  },
  {
   "cell_type": "code",
   "execution_count": 206,
   "metadata": {
    "collapsed": false
   },
   "outputs": [],
   "source": [
    "thin_linearSVM_gmean, thin_linearSVM_accur, thin_linearSVM_fmeas = avg_thin_linearSVM (etr, elb, ethft, ethlb, 1)"
   ]
  },
  {
   "cell_type": "code",
   "execution_count": 207,
   "metadata": {
    "collapsed": false
   },
   "outputs": [
    {
     "data": {
      "text/plain": [
       "0.3349231635802965"
      ]
     },
     "execution_count": 207,
     "metadata": {},
     "output_type": "execute_result"
    }
   ],
   "source": [
    "np.mean(thin_linearSVM_gmean)"
   ]
  },
  {
   "cell_type": "code",
   "execution_count": 208,
   "metadata": {
    "collapsed": false
   },
   "outputs": [
    {
     "data": {
      "text/plain": [
       "0.92222222222222228"
      ]
     },
     "execution_count": 208,
     "metadata": {},
     "output_type": "execute_result"
    }
   ],
   "source": [
    "np.mean(thin_linearSVM_accur)"
   ]
  },
  {
   "cell_type": "code",
   "execution_count": 209,
   "metadata": {
    "collapsed": false
   },
   "outputs": [
    {
     "data": {
      "text/plain": [
       "0.9589363899438994"
      ]
     },
     "execution_count": 209,
     "metadata": {},
     "output_type": "execute_result"
    }
   ],
   "source": [
    "np.mean(thin_linearSVM_fmeas)"
   ]
  },
  {
   "cell_type": "markdown",
   "metadata": {},
   "source": [
    "#### Difficult model "
   ]
  },
  {
   "cell_type": "code",
   "execution_count": 62,
   "metadata": {
    "collapsed": true
   },
   "outputs": [],
   "source": [
    "m = len(dthft0)\n",
    "ran_ind = nr.choice(m,m,replace = False)\n",
    "dthft0_ = dthft0[ran_ind]\n",
    "dthlb0_ = dthlb0[ran_ind]"
   ]
  },
  {
   "cell_type": "code",
   "execution_count": null,
   "metadata": {
    "collapsed": true
   },
   "outputs": [],
   "source": []
  },
  {
   "cell_type": "code",
   "execution_count": 63,
   "metadata": {
    "collapsed": false
   },
   "outputs": [
    {
     "data": {
      "text/plain": [
       "0.0"
      ]
     },
     "execution_count": 63,
     "metadata": {},
     "output_type": "execute_result"
    }
   ],
   "source": [
    "cv_linearSVM (dthft0_, dthlb0_, 1, 10)"
   ]
  },
  {
   "cell_type": "code",
   "execution_count": 64,
   "metadata": {
    "collapsed": false
   },
   "outputs": [
    {
     "data": {
      "text/plain": [
       "0.0"
      ]
     },
     "execution_count": 64,
     "metadata": {},
     "output_type": "execute_result"
    }
   ],
   "source": [
    "cv_linearSVM (dthft0_, dthlb0_, 10, 10)"
   ]
  },
  {
   "cell_type": "code",
   "execution_count": 65,
   "metadata": {
    "collapsed": false
   },
   "outputs": [
    {
     "data": {
      "text/plain": [
       "0.0"
      ]
     },
     "execution_count": 65,
     "metadata": {},
     "output_type": "execute_result"
    }
   ],
   "source": [
    "cv_linearSVM (dthft0_, dthlb0_, 100, 10)"
   ]
  },
  {
   "cell_type": "code",
   "execution_count": 66,
   "metadata": {
    "collapsed": false
   },
   "outputs": [
    {
     "data": {
      "text/plain": [
       "0.0"
      ]
     },
     "execution_count": 66,
     "metadata": {},
     "output_type": "execute_result"
    }
   ],
   "source": [
    "cv_linearSVM (dthft0_, dthlb0_, 0.1, 10)"
   ]
  },
  {
   "cell_type": "code",
   "execution_count": 67,
   "metadata": {
    "collapsed": false
   },
   "outputs": [
    {
     "data": {
      "text/plain": [
       "0.0"
      ]
     },
     "execution_count": 67,
     "metadata": {},
     "output_type": "execute_result"
    }
   ],
   "source": [
    "cv_linearSVM (dthft0_, dthlb0_, 0.01, 10)"
   ]
  },
  {
   "cell_type": "code",
   "execution_count": 210,
   "metadata": {
    "collapsed": false
   },
   "outputs": [
    {
     "data": {
      "image/png": "[encoded data removed]",
      "text/plain": [
       "<matplotlib.figure.Figure at 0x111e97eb8>"
      ]
     },
     "metadata": {},
     "output_type": "display_data"
    }
   ],
   "source": [
    "penalty = 1\n",
    "clf = svm.SVC(kernel='linear', C=penalty)\n",
    "\n",
    "\n",
    "clf.fit(dthft0_,dthlb0_)\n",
    "\n",
    "# get the separating hyperplane\n",
    "w = clf.coef_[0]\n",
    "a = -w[0] / w[1]\n",
    "xx = np.linspace(-5, 5)\n",
    "yy = a * xx - (clf.intercept_[0]) / w[1]\n",
    "fignum=1\n",
    "# plot the parallels to the separating hyperplane that pass through the\n",
    "# support vectors\n",
    "margin = 1 / np.sqrt(np.sum(clf.coef_ ** 2))\n",
    "yy_down = yy + a * margin\n",
    "yy_up = yy - a * margin\n",
    "\n",
    "# plot the line, the points, and the nearest vectors to the plane\n",
    "plt.figure(1, figsize=(5, 5))\n",
    "plt.clf()\n",
    "plt.plot(xx, yy, 'k-')\n",
    "plt.plot(xx, yy_down, 'k--')\n",
    "plt.plot(xx, yy_up, 'k--')\n",
    "\n",
    "plt.scatter(clf.support_vectors_[:, 0], clf.support_vectors_[:, 1], s=80,\n",
    "            facecolors='none', zorder=10)\n",
    "plt.scatter(dthft0_[:, 0], dthft0_[:, 1], c=dthlb0_, zorder=10, cmap=plt.cm.Paired, s = 20)\n",
    "\n",
    "plt.axis('tight')\n",
    "x_min = -6\n",
    "x_max = 6\n",
    "y_min = -6\n",
    "y_max = 6\n",
    "\n",
    "XX, YY = np.mgrid[x_min:x_max:200j, y_min:y_max:200j]\n",
    "Z = clf.predict(np.c_[XX.ravel(), YY.ravel()])\n",
    "\n",
    "# Put the result into a color plot\n",
    "Z = Z.reshape(XX.shape)\n",
    "plt.figure(fignum, figsize=(6, 6))\n",
    "plt.pcolormesh(XX, YY, Z, cmap=plt.cm.Paired)\n",
    "\n",
    "plt.xlim(x_min, x_max)\n",
    "plt.ylim(y_min, y_max)\n",
    "\n",
    "\n",
    "#plt.xticks(())\n",
    "#plt.yticks(())\n",
    "\n",
    "\n",
    "brown_patch = mpatches.Patch(color='brown', label='positive')\n",
    "sky_patch = mpatches.Patch(color='skyblue', label='negative')\n",
    "plt.legend(handles=[brown_patch, sky_patch])\n",
    "plt.title(\"Thin_LinearSVM (penalty = 1)\")\n",
    "plt.figtext(0.5, -0.1,'''SVMs decision boundary depends on some subset of the training data, \n",
    "                        called the support vectors. These are marked as big circles. The blue and \n",
    "                        brown circles represent negative and positive data, respectively''',\n",
    "            wrap=True,horizontalalignment='center', fontsize=12)\n",
    "\n",
    "plt.savefig('diff_thin_linearSVM.png', bbox_inches='tight')\n"
   ]
  },
  {
   "cell_type": "code",
   "execution_count": 211,
   "metadata": {
    "collapsed": false
   },
   "outputs": [
    {
     "name": "stdout",
     "output_type": "stream",
     "text": [
      "[[94  0]\n",
      " [ 6  0]]\n"
     ]
    },
    {
     "data": {
      "image/png": "[encoded data removed]",
      "text/plain": [
       "<matplotlib.figure.Figure at 0x111258e80>"
      ]
     },
     "metadata": {},
     "output_type": "display_data"
    }
   ],
   "source": [
    "# Compute confusion matrix\n",
    "dpred = clf.predict(dtr[1000:1100,:])\n",
    "dcm_thin_linearSVM = confusion_matrix(dlb[1000:1100], dpred)\n",
    "np.set_printoptions(precision=2)\n",
    "print(dcm_thin_linearSVM)\n",
    "plt.figure()\n",
    "plot_confusion_matrix(dcm_thin_linearSVM)\n",
    "plt.savefig('Confusion_diff_thin_linearSVM.png', bbox_inches='tight')"
   ]
  },
  {
   "cell_type": "markdown",
   "metadata": {},
   "source": [
    "In tabular form,\n",
    "\n",
    "| true\\prdicted | negative      | positive |\n",
    "| ------------- |:-------------:| --------:|\n",
    "| negative      | 94            | 0        |\n",
    "| positive      | 6             | 0        |"
   ]
  },
  {
   "cell_type": "code",
   "execution_count": 212,
   "metadata": {
    "collapsed": true
   },
   "outputs": [],
   "source": [
    "dthin_linearSVM_gmean, dthin_linearSVM_acurr, dthin_linearSVM_fmeas = avg_thin_linearSVM(dtr, dlb, dthft, dthlb, 1)"
   ]
  },
  {
   "cell_type": "code",
   "execution_count": 213,
   "metadata": {
    "collapsed": false
   },
   "outputs": [
    {
     "data": {
      "text/plain": [
       "0.0"
      ]
     },
     "execution_count": 213,
     "metadata": {},
     "output_type": "execute_result"
    }
   ],
   "source": [
    "np.mean(dthin_linearSVM_gmean)"
   ]
  },
  {
   "cell_type": "code",
   "execution_count": 214,
   "metadata": {
    "collapsed": false
   },
   "outputs": [
    {
     "data": {
      "text/plain": [
       "0.93999999999999995"
      ]
     },
     "execution_count": 214,
     "metadata": {},
     "output_type": "execute_result"
    }
   ],
   "source": [
    "np.mean(dthin_linearSVM_acurr)"
   ]
  },
  {
   "cell_type": "code",
   "execution_count": 215,
   "metadata": {
    "collapsed": false
   },
   "outputs": [
    {
     "data": {
      "text/plain": [
       "0.9690721649484535"
      ]
     },
     "execution_count": 215,
     "metadata": {},
     "output_type": "execute_result"
    }
   ],
   "source": [
    "np.mean(dthin_linearSVM_fmeas)"
   ]
  },
  {
   "cell_type": "markdown",
   "metadata": {},
   "source": [
    "### Thin out and kNN"
   ]
  },
  {
   "cell_type": "code",
   "execution_count": 81,
   "metadata": {
    "collapsed": false
   },
   "outputs": [
    {
     "data": {
      "text/plain": [
       "5.0"
      ]
     },
     "execution_count": 81,
     "metadata": {},
     "output_type": "execute_result"
    }
   ],
   "source": [
    "cv_kNN(ethft0_, ethlb0_, 1, 10)"
   ]
  },
  {
   "cell_type": "code",
   "execution_count": 83,
   "metadata": {
    "collapsed": false
   },
   "outputs": [
    {
     "data": {
      "text/plain": [
       "4.3400336621456468"
      ]
     },
     "execution_count": 83,
     "metadata": {},
     "output_type": "execute_result"
    }
   ],
   "source": [
    "cv_kNN(ethft0_, ethlb0_, 3, 10)"
   ]
  },
  {
   "cell_type": "code",
   "execution_count": 84,
   "metadata": {
    "collapsed": false
   },
   "outputs": [
    {
     "data": {
      "text/plain": [
       "2.0"
      ]
     },
     "execution_count": 84,
     "metadata": {},
     "output_type": "execute_result"
    }
   ],
   "source": [
    "cv_kNN(ethft0_, ethlb0_, 5, 10)"
   ]
  },
  {
   "cell_type": "code",
   "execution_count": 85,
   "metadata": {
    "collapsed": false
   },
   "outputs": [
    {
     "data": {
      "text/plain": [
       "2.0"
      ]
     },
     "execution_count": 85,
     "metadata": {},
     "output_type": "execute_result"
    }
   ],
   "source": [
    "cv_kNN(ethft0_, ethlb0_, 7, 10)"
   ]
  },
  {
   "cell_type": "code",
   "execution_count": 86,
   "metadata": {
    "collapsed": false
   },
   "outputs": [
    {
     "data": {
      "text/plain": [
       "2.0"
      ]
     },
     "execution_count": 86,
     "metadata": {},
     "output_type": "execute_result"
    }
   ],
   "source": [
    "cv_kNN(ethft0_, ethlb0_, 9, 10)"
   ]
  },
  {
   "cell_type": "code",
   "execution_count": 87,
   "metadata": {
    "collapsed": false
   },
   "outputs": [
    {
     "data": {
      "text/plain": [
       "0.0"
      ]
     },
     "execution_count": 87,
     "metadata": {},
     "output_type": "execute_result"
    }
   ],
   "source": [
    "cv_kNN(ethft0_, ethlb0_, 15, 10)"
   ]
  },
  {
   "cell_type": "code",
   "execution_count": 216,
   "metadata": {
    "collapsed": false
   },
   "outputs": [
    {
     "data": {
      "image/png": "[encoded data removed]",
      "text/plain": [
       "<matplotlib.figure.Figure at 0x111d4d6d8>"
      ]
     },
     "metadata": {},
     "output_type": "display_data"
    }
   ],
   "source": [
    "h = .02  # step size in the mesh\n",
    "\n",
    "# Create color maps\n",
    "cmap_light = ListedColormap(['#FFAAAA', '#AAFFAA'])\n",
    "cmap_bold = ListedColormap(['#FF0000', '#00FF00'])\n",
    "\n",
    "\n",
    "# we create an instance of Neighbours Classifier and fit the data.\n",
    "tneigh = KNeighborsClassifier(n_neighbors=1, weights ='uniform')\n",
    "\n",
    "tneigh.fit(ethft0_, ethlb0_) \n",
    "\n",
    "# Plot the decision boundary. For that, we will assign a color to each\n",
    "# point in the mesh [x_min, m_max]x[y_min, y_max].\n",
    "x_min = -6\n",
    "x_max = 6\n",
    "y_min = -6\n",
    "y_max = 6\n",
    "xx, yy = np.meshgrid(np.arange(x_min, x_max, h),\n",
    "                     np.arange(y_min, y_max, h))\n",
    "Z = tneigh.predict(np.c_[xx.ravel(), yy.ravel()])\n",
    "\n",
    "# Put the result into a color plot\n",
    "Z = Z.reshape(xx.shape)\n",
    "plt.figure(1, figsize=(6,6))\n",
    "plt.pcolormesh(xx, yy, Z, cmap=cmap_light)\n",
    "\n",
    "# Plot also the training points\n",
    "plt.scatter(ethft0[:, 0], ethft0[:, 1], c=ethlb0, cmap=cmap_bold, s = 20)\n",
    "plt.xlim(xx.min(), xx.max())\n",
    "plt.ylim(yy.min(), yy.max())\n",
    "plt.title(\"Thin_k-Nearest neighbors (k = %i, weights = '%s')\"\n",
    "          % (1, 'distance'))\n",
    "\n",
    "green_patch = mpatches.Patch(color='green', label='positive')\n",
    "red_patch = mpatches.Patch(color='red', label='negative')\n",
    "plt.legend(handles=[green_patch, red_patch])\n",
    "\n",
    "plt.savefig('easy_thin_kNN.png', bbox_inches='tight')"
   ]
  },
  {
   "cell_type": "code",
   "execution_count": 217,
   "metadata": {
    "collapsed": false
   },
   "outputs": [
    {
     "name": "stdout",
     "output_type": "stream",
     "text": [
      "[[85  7]\n",
      " [ 6  2]]\n"
     ]
    },
    {
     "data": {
      "image/png": "[encoded data removed]",
      "text/plain": [
       "<matplotlib.figure.Figure at 0x11199ac50>"
      ]
     },
     "metadata": {},
     "output_type": "display_data"
    }
   ],
   "source": [
    "# Compute confusion matrix\n",
    "epred = tneigh.predict(etr[1000:1100,:])\n",
    "ecm_thin_kNN = confusion_matrix(elb[1000:1100], epred)\n",
    "np.set_printoptions(precision=2)\n",
    "print(ecm_thin_kNN)\n",
    "plt.figure()\n",
    "plot_confusion_matrix(ecm_thin_kNN)\n",
    "plt.savefig('Confusion_easy_thin_kNN.png', bbox_inches='tight')"
   ]
  },
  {
   "cell_type": "markdown",
   "metadata": {},
   "source": [
    "In tabular form,\n",
    "\n",
    "| true\\prdicted | negative      | positive |\n",
    "| ------------- |:-------------:| --------:|\n",
    "| negative      | 85            | 7        |\n",
    "| positive      | 6             | 2        |"
   ]
  },
  {
   "cell_type": "code",
   "execution_count": 90,
   "metadata": {
    "collapsed": true
   },
   "outputs": [],
   "source": [
    "def avg_thin_kNN (X, y,ft,lb, k):\n",
    "\n",
    "    gmean = []\n",
    "    fmeas = []\n",
    "    accur = []    \n",
    "    X_test = X[1000:1100, :]\n",
    "    y_test = y[1000:1100]\n",
    "    for i in range(1,10):\n",
    "        \n",
    "        X_train = ft[i]\n",
    "        y_train = lb[i]\n",
    "\n",
    "        clf = KNeighborsClassifier(n_neighbors=k, weights ='uniform')\n",
    "        clf.fit(X_train, y_train)\n",
    "        y_pred = clf.predict(X_test)\n",
    "        cm = confusion_matrix(y_test, y_pred).T\n",
    "\n",
    "        if cm.shape == (1,1):\n",
    "            new_cm = np.zeros((2,2))\n",
    "            new_cm[0,0] = cm[0,0]\n",
    "            cm = new_cm\n",
    "        if cm[0,0]+ cm[1,0] == 0:\n",
    "            a1 = 0\n",
    "        else:\n",
    "            \n",
    "            a1 = cm[0,0]/(cm[0,0] + cm[1,0])\n",
    "        if cm[1,1]+ cm[0,1] == 0:\n",
    "            a0 = 0\n",
    "        else:\n",
    "            a0 = cm[1,1]/(cm[0,1] + cm[1,1])\n",
    "            \n",
    "        if cm[0,0]+ cm[0,1] == 0:\n",
    "            p = 0\n",
    "        else:\n",
    "            p = cm[0,0]/(cm[0,0] + cm[0,1])\n",
    "        \n",
    "        if a1 + p == 0:\n",
    "            f = 0\n",
    "        else:\n",
    "            f = (2 * p * a1)/(a1 + p)\n",
    "        fmeas = fmeas + [f]\n",
    "        gmean = gmean + [np.sqrt(a1 * a0)]\n",
    "        accur = accur + [(cm[0,0]+ cm[1,1])/(cm[0,0]+ cm[1,1]+cm[1,0]+ cm[0,1])]\n",
    "\n",
    "    return gmean, accur, fmeas"
   ]
  },
  {
   "cell_type": "code",
   "execution_count": 218,
   "metadata": {
    "collapsed": true
   },
   "outputs": [],
   "source": [
    "thin_kNN_gmean, thin_kNN_accur, thin_kNN_fmeas = avg_thin_kNN(etr, elb,ethft, ethlb, 1)"
   ]
  },
  {
   "cell_type": "code",
   "execution_count": 219,
   "metadata": {
    "collapsed": false
   },
   "outputs": [
    {
     "data": {
      "text/plain": [
       "0.43854220985704906"
      ]
     },
     "execution_count": 219,
     "metadata": {},
     "output_type": "execute_result"
    }
   ],
   "source": [
    "np.mean(thin_kNN_gmean)"
   ]
  },
  {
   "cell_type": "code",
   "execution_count": 220,
   "metadata": {
    "collapsed": false
   },
   "outputs": [
    {
     "data": {
      "text/plain": [
       "0.88888888888888884"
      ]
     },
     "execution_count": 220,
     "metadata": {},
     "output_type": "execute_result"
    }
   ],
   "source": [
    "np.mean(thin_kNN_accur)"
   ]
  },
  {
   "cell_type": "code",
   "execution_count": 221,
   "metadata": {
    "collapsed": false
   },
   "outputs": [
    {
     "data": {
      "text/plain": [
       "0.93978997666443853"
      ]
     },
     "execution_count": 221,
     "metadata": {},
     "output_type": "execute_result"
    }
   ],
   "source": [
    "np.mean(thin_kNN_fmeas)"
   ]
  },
  {
   "cell_type": "markdown",
   "metadata": {},
   "source": [
    "#### Difficult model"
   ]
  },
  {
   "cell_type": "code",
   "execution_count": 96,
   "metadata": {
    "collapsed": false
   },
   "outputs": [
    {
     "data": {
      "text/plain": [
       "1.3617604518945248"
      ]
     },
     "execution_count": 96,
     "metadata": {},
     "output_type": "execute_result"
    }
   ],
   "source": [
    "cv_kNN(dthft0_, dthlb0_, 1, 10)"
   ]
  },
  {
   "cell_type": "code",
   "execution_count": 98,
   "metadata": {
    "collapsed": false
   },
   "outputs": [
    {
     "data": {
      "text/plain": [
       "0.0"
      ]
     },
     "execution_count": 98,
     "metadata": {},
     "output_type": "execute_result"
    }
   ],
   "source": [
    "cv_kNN(dthft0_, dthlb0_, 3, 10)"
   ]
  },
  {
   "cell_type": "code",
   "execution_count": 99,
   "metadata": {
    "collapsed": false
   },
   "outputs": [
    {
     "data": {
      "text/plain": [
       "0.0"
      ]
     },
     "execution_count": 99,
     "metadata": {},
     "output_type": "execute_result"
    }
   ],
   "source": [
    "cv_kNN(dthft0_, dthlb0_, 5, 10)"
   ]
  },
  {
   "cell_type": "code",
   "execution_count": 100,
   "metadata": {
    "collapsed": false
   },
   "outputs": [
    {
     "data": {
      "text/plain": [
       "0.0"
      ]
     },
     "execution_count": 100,
     "metadata": {},
     "output_type": "execute_result"
    }
   ],
   "source": [
    "cv_kNN(dthft0_, dthlb0_, 11, 10)"
   ]
  },
  {
   "cell_type": "code",
   "execution_count": 265,
   "metadata": {
    "collapsed": true
   },
   "outputs": [],
   "source": [
    "dthft0__ = np.delete(dthft0,[59,79,89],0)\n",
    "dthlb0__ = np.delete(dthlb0,[59,79,89],0)"
   ]
  },
  {
   "cell_type": "code",
   "execution_count": 266,
   "metadata": {
    "collapsed": false
   },
   "outputs": [
    {
     "data": {
      "text/plain": [
       "(88,)"
      ]
     },
     "execution_count": 266,
     "metadata": {},
     "output_type": "execute_result"
    }
   ],
   "source": [
    "dthlb0__.shape"
   ]
  },
  {
   "cell_type": "code",
   "execution_count": 267,
   "metadata": {
    "collapsed": false
   },
   "outputs": [
    {
     "data": {
      "image/png": "[encoded data removed]",
      "text/plain": [
       "<matplotlib.figure.Figure at 0x1119739b0>"
      ]
     },
     "metadata": {},
     "output_type": "display_data"
    }
   ],
   "source": [
    "h = .02  # step size in the mesh\n",
    "\n",
    "# Create color maps\n",
    "cmap_light = ListedColormap(['#FFAAAA', '#AAFFAA'])\n",
    "cmap_bold = ListedColormap(['#FF0000', '#00FF00'])\n",
    "\n",
    "\n",
    "# we create an instance of Neighbours Classifier and fit the data.\n",
    "tneigh = KNeighborsClassifier(n_neighbors=1, weights ='uniform')\n",
    "\n",
    "tneigh.fit(dthft0__, dthlb0__) \n",
    "\n",
    "# Plot the decision boundary. For that, we will assign a color to each\n",
    "# point in the mesh [x_min, m_max]x[y_min, y_max].\n",
    "x_min = -6\n",
    "x_max = 6\n",
    "y_min = -6\n",
    "y_max = 6\n",
    "xx, yy = np.meshgrid(np.arange(x_min, x_max, h),\n",
    "                     np.arange(y_min, y_max, h))\n",
    "Z = tneigh.predict(np.c_[xx.ravel(), yy.ravel()])\n",
    "\n",
    "# Put the result into a color plot\n",
    "Z = Z.reshape(xx.shape)\n",
    "plt.figure(1, figsize=(6,6))\n",
    "plt.pcolormesh(xx, yy, Z, cmap=cmap_light)\n",
    "\n",
    "# Plot also the training points\n",
    "plt.scatter(dthft0__[:, 0], dthft0__[:, 1], c=dthlb0__, cmap=cmap_bold, s = 20)\n",
    "plt.xlim(xx.min(), xx.max())\n",
    "plt.ylim(yy.min(), yy.max())\n",
    "plt.title(\"Thin_k-Nearest neighbors (k = %i, weights = '%s')\"\n",
    "          % (1, 'distance'))\n",
    "\n",
    "green_patch = mpatches.Patch(color='green', label='positive')\n",
    "red_patch = mpatches.Patch(color='red', label='negative')\n",
    "plt.legend(handles=[green_patch, red_patch])\n",
    "\n",
    "plt.savefig('diff_thin_kNN.png', bbox_inches='tight')"
   ]
  },
  {
   "cell_type": "code",
   "execution_count": 268,
   "metadata": {
    "collapsed": false
   },
   "outputs": [
    {
     "name": "stdout",
     "output_type": "stream",
     "text": [
      "[[82 12]\n",
      " [ 5  1]]\n"
     ]
    },
    {
     "data": {
      "image/png": "[encoded data removed]",
      "text/plain": [
       "<matplotlib.figure.Figure at 0x111937b70>"
      ]
     },
     "metadata": {},
     "output_type": "display_data"
    }
   ],
   "source": [
    "# Compute confusion matrix\n",
    "dpred = tneigh.predict(dtr[1000:1100,:])\n",
    "dcm_thin_kNN = confusion_matrix(dlb[1000:1100], dpred)\n",
    "np.set_printoptions(precision=2)\n",
    "print(dcm_thin_kNN)\n",
    "plt.figure()\n",
    "plot_confusion_matrix(dcm_thin_kNN)\n",
    "plt.savefig('Confusion_diff_thin_kNN.png', bbox_inches='tight')"
   ]
  },
  {
   "cell_type": "markdown",
   "metadata": {},
   "source": [
    "In tabular form,\n",
    "\n",
    "| true\\prdicted | negative      | positive |\n",
    "| ------------- |:-------------:| --------:|\n",
    "| negative      | 82            | 12       |\n",
    "| positive      | 5             | 1        |"
   ]
  },
  {
   "cell_type": "markdown",
   "metadata": {},
   "source": [
    "#### Average metrics of evaluation"
   ]
  },
  {
   "cell_type": "code",
   "execution_count": 269,
   "metadata": {
    "collapsed": true
   },
   "outputs": [],
   "source": [
    "dthin_kNN_gmean, dthin_kNN_accur, dthin_kNN_fmeas = avg_thin_kNN(dtr, dlb,dthft, dthlb, 1)"
   ]
  },
  {
   "cell_type": "code",
   "execution_count": 270,
   "metadata": {
    "collapsed": false
   },
   "outputs": [
    {
     "data": {
      "text/plain": [
       "0.49269188796021268"
      ]
     },
     "execution_count": 270,
     "metadata": {},
     "output_type": "execute_result"
    }
   ],
   "source": [
    "np.mean(dthin_kNN_gmean)"
   ]
  },
  {
   "cell_type": "code",
   "execution_count": 271,
   "metadata": {
    "collapsed": false
   },
   "outputs": [
    {
     "data": {
      "text/plain": [
       "0.8488888888888888"
      ]
     },
     "execution_count": 271,
     "metadata": {},
     "output_type": "execute_result"
    }
   ],
   "source": [
    "np.mean(dthin_kNN_accur)"
   ]
  },
  {
   "cell_type": "code",
   "execution_count": 272,
   "metadata": {
    "collapsed": false
   },
   "outputs": [
    {
     "data": {
      "text/plain": [
       "0.91624583712957353"
      ]
     },
     "execution_count": 272,
     "metadata": {},
     "output_type": "execute_result"
    }
   ],
   "source": [
    "np.mean(dthin_kNN_fmeas)"
   ]
  },
  {
   "cell_type": "markdown",
   "metadata": {},
   "source": [
    "### Thin out and AdaBoost"
   ]
  },
  {
   "cell_type": "code",
   "execution_count": 254,
   "metadata": {
    "collapsed": false
   },
   "outputs": [
    {
     "data": {
      "text/plain": [
       "<matplotlib.figure.Figure at 0x111a0fa58>"
      ]
     },
     "metadata": {},
     "output_type": "display_data"
    },
    {
     "data": {
      "image/png": "[encoded data removed]",
      "text/plain": [
       "<matplotlib.figure.Figure at 0x111a0f1d0>"
      ]
     },
     "metadata": {},
     "output_type": "display_data"
    }
   ],
   "source": [
    "# Create and fit an AdaBoosted decision tree\n",
    "ebdt = AdaBoostClassifier(DecisionTreeClassifier(),\n",
    "                         algorithm=\"SAMME\",\n",
    "                         n_estimators=200)\n",
    "\n",
    "\n",
    "ebdt.fit(ethft0_, ethlb0_)\n",
    "\n",
    "plot_colors = ['blue','yellow']\n",
    "plot_step = 0.02\n",
    "\n",
    "\n",
    "\n",
    "# Plot the decision boundaries\n",
    "plt.figure()\n",
    "x_min = -6\n",
    "x_max = 6\n",
    "y_min = -6\n",
    "y_max = 6\n",
    "xx, yy = np.meshgrid(np.arange(x_min, x_max, plot_step),\n",
    "                     np.arange(y_min, y_max, plot_step))\n",
    "\n",
    "Z = ebdt.predict(np.c_[xx.ravel(), yy.ravel()])\n",
    "Z = Z.reshape(xx.shape)\n",
    "plt.figure(figsize=(6, 6))\n",
    "cs = plt.contourf(xx, yy, Z, cmap=plt.cm.Paired)\n",
    "plt.axis(\"tight\")\n",
    "\n",
    "# Plot the training points\n",
    "for i, c in zip(range(2), plot_colors):\n",
    "    idx = np.where(ethlb0 == i)\n",
    "    plt.scatter(ethft0[idx, 0], ethft0[idx, 1], c=c)\n",
    "plt.xlim(x_min, x_max)\n",
    "plt.ylim(y_min, y_max)\n",
    "\n",
    "gold_patch = mpatches.Patch(color='gold', label='positive')\n",
    "blue_patch = mpatches.Patch(color='dodgerBlue', label='negative')\n",
    "plt.legend(handles=[gold_patch, blue_patch])\n",
    "\n",
    "plt.title('Thin_AdaBoost(n_estimators=200)')\n",
    "\n",
    "plt.savefig('easy_thin_Adaboost.png', bbox_inches='tight')"
   ]
  },
  {
   "cell_type": "code",
   "execution_count": 255,
   "metadata": {
    "collapsed": false
   },
   "outputs": [
    {
     "name": "stdout",
     "output_type": "stream",
     "text": [
      "[[88  4]\n",
      " [ 7  1]]\n"
     ]
    },
    {
     "data": {
      "image/png": "[encoded data removed]",
      "text/plain": [
       "<matplotlib.figure.Figure at 0x111924208>"
      ]
     },
     "metadata": {},
     "output_type": "display_data"
    }
   ],
   "source": [
    "# Compute confusion matrix\n",
    "epred = ebdt.predict(etr[1000:1100,:])\n",
    "ecm_thin_AdaBoost = confusion_matrix(elb[1000:1100], epred)\n",
    "np.set_printoptions(precision=2)\n",
    "print(ecm_thin_AdaBoost)\n",
    "plt.figure()\n",
    "plot_confusion_matrix(ecm_thin_AdaBoost)\n",
    "plt.savefig('Confusion_easy_thin_AdaBoost.png', bbox_inches='tight')"
   ]
  },
  {
   "cell_type": "markdown",
   "metadata": {},
   "source": [
    "In tabular form,\n",
    "\n",
    "| true\\prdicted | negative      | positive |\n",
    "| ------------- |:-------------:| --------:|\n",
    "| negative      | 88            | 44       |\n",
    "| positive      | 7             | 1        |"
   ]
  },
  {
   "cell_type": "code",
   "execution_count": 112,
   "metadata": {
    "collapsed": true
   },
   "outputs": [],
   "source": [
    "def avg_thin_AdaBoost (X, y, ft, lb):\n",
    "\n",
    "    gmean = []\n",
    "    fmeas = []\n",
    "    accur = []    \n",
    "    X_test = X[1000:1100, :]\n",
    "    y_test = y[1000:1100]\n",
    "    for i in range(1,10):\n",
    "        \n",
    "        X_train = ft[i]\n",
    "        y_train = lb[i]\n",
    "        \n",
    "        \n",
    "     \n",
    "        bdt = AdaBoostClassifier(DecisionTreeClassifier(),\n",
    "                         algorithm=\"SAMME\",\n",
    "                         n_estimators=200)\n",
    "\n",
    "        bdt.fit(X_train, y_train)\n",
    "        y_pred = bdt.predict(X_test)\n",
    "        \n",
    "        cm = confusion_matrix(y_test, y_pred).T\n",
    "\n",
    "        if cm.shape == (1,1):\n",
    "            new_cm = np.zeros((2,2))\n",
    "            new_cm[0,0] = cm[0,0]\n",
    "            cm = new_cm\n",
    "        if cm[0,0]+ cm[1,0] == 0:\n",
    "            a1 = 0\n",
    "        else:\n",
    "            \n",
    "            a1 = cm[0,0]/(cm[0,0] + cm[1,0])\n",
    "        if cm[1,1]+ cm[0,1] == 0:\n",
    "            a0 = 0\n",
    "        else:\n",
    "            a0 = cm[1,1]/(cm[0,1] + cm[1,1])\n",
    "            \n",
    "        if cm[0,0]+ cm[0,1] == 0:\n",
    "            p = 0\n",
    "        else:\n",
    "            p = cm[0,0]/(cm[0,0] + cm[0,1])\n",
    "        \n",
    "        if a1 + p == 0:\n",
    "            f = 0\n",
    "        else:\n",
    "            f = (2 * p * a1)/(a1 + p)\n",
    "        fmeas = fmeas + [f]\n",
    "        gmean = gmean + [np.sqrt(a1 * a0)]\n",
    "        accur = accur + [(cm[0,0]+ cm[1,1])/(cm[0,0]+ cm[1,1]+cm[1,0]+ cm[0,1])]\n",
    "\n",
    "    return gmean, accur, fmeas"
   ]
  },
  {
   "cell_type": "code",
   "execution_count": 256,
   "metadata": {
    "collapsed": false
   },
   "outputs": [],
   "source": [
    "thin_AdaBoost_gmean, thin_AdaBoost_accur, thin_AdaBoost_fmeas = avg_thin_AdaBoost(etr,elb, ethft, ethlb)"
   ]
  },
  {
   "cell_type": "code",
   "execution_count": 257,
   "metadata": {
    "collapsed": false
   },
   "outputs": [
    {
     "data": {
      "text/plain": [
       "0.54777245300528299"
      ]
     },
     "execution_count": 257,
     "metadata": {},
     "output_type": "execute_result"
    }
   ],
   "source": [
    "np.mean(thin_AdaBoost_gmean)"
   ]
  },
  {
   "cell_type": "code",
   "execution_count": 258,
   "metadata": {
    "collapsed": false
   },
   "outputs": [
    {
     "data": {
      "text/plain": [
       "0.87222222222222223"
      ]
     },
     "execution_count": 258,
     "metadata": {},
     "output_type": "execute_result"
    }
   ],
   "source": [
    "np.mean(thin_AdaBoost_accur)"
   ]
  },
  {
   "cell_type": "code",
   "execution_count": 259,
   "metadata": {
    "collapsed": false
   },
   "outputs": [
    {
     "data": {
      "text/plain": [
       "0.9294580968717584"
      ]
     },
     "execution_count": 259,
     "metadata": {},
     "output_type": "execute_result"
    }
   ],
   "source": [
    "np.mean(thin_AdaBoost_fmeas)"
   ]
  },
  {
   "cell_type": "markdown",
   "metadata": {},
   "source": [
    "#### Difficult model"
   ]
  },
  {
   "cell_type": "code",
   "execution_count": 273,
   "metadata": {
    "collapsed": false
   },
   "outputs": [
    {
     "data": {
      "text/plain": [
       "<matplotlib.figure.Figure at 0x104400cf8>"
      ]
     },
     "metadata": {},
     "output_type": "display_data"
    },
    {
     "data": {
      "image/png": "[encoded data removed]",
      "text/plain": [
       "<matplotlib.figure.Figure at 0x111b75518>"
      ]
     },
     "metadata": {},
     "output_type": "display_data"
    }
   ],
   "source": [
    "# Create and fit an AdaBoosted decision tree\n",
    "dbdt = AdaBoostClassifier(DecisionTreeClassifier(),\n",
    "                         algorithm=\"SAMME\",\n",
    "                         n_estimators=200)\n",
    "\n",
    "dbdt.fit(dthft0__, dthlb0__)\n",
    "\n",
    "plot_colors = ['blue','yellow']\n",
    "plot_step = 0.02\n",
    "\n",
    "\n",
    "\n",
    "# Plot the decision boundaries\n",
    "plt.figure()\n",
    "x_min = -6\n",
    "x_max = 6\n",
    "y_min = -6\n",
    "y_max = 6\n",
    "xx, yy = np.meshgrid(np.arange(x_min, x_max, plot_step),\n",
    "                     np.arange(y_min, y_max, plot_step))\n",
    "\n",
    "Z = dbdt.predict(np.c_[xx.ravel(), yy.ravel()])\n",
    "Z = Z.reshape(xx.shape)\n",
    "plt.figure(figsize=(6, 6))\n",
    "cs = plt.contourf(xx, yy, Z, cmap=plt.cm.Paired)\n",
    "plt.axis(\"tight\")\n",
    "\n",
    "# Plot the training points\n",
    "for i, c in zip(range(2), plot_colors):\n",
    "    idx = np.where(dthlb0__ == i)\n",
    "    plt.scatter(dthft0__[idx, 0], dthft0__[idx, 1], c=c)\n",
    "plt.xlim(x_min, x_max)\n",
    "plt.ylim(y_min, y_max)\n",
    "\n",
    "gold_patch = mpatches.Patch(color='gold', label='positive')\n",
    "blue_patch = mpatches.Patch(color='dodgerBlue', label='negative')\n",
    "plt.legend(handles=[gold_patch, blue_patch])\n",
    "\n",
    "plt.title('Thin_AdaBoost(n_estimators=200)')\n",
    "\n",
    "plt.savefig('diff_thin_Adaboost.png', bbox_inches='tight')\n",
    "\n",
    "\n"
   ]
  },
  {
   "cell_type": "code",
   "execution_count": 235,
   "metadata": {
    "collapsed": false
   },
   "outputs": [
    {
     "name": "stdout",
     "output_type": "stream",
     "text": [
      "[[87  7]\n",
      " [ 4  2]]\n"
     ]
    },
    {
     "data": {
      "image/png": "[encoded data removed]",
      "text/plain": [
       "<matplotlib.figure.Figure at 0x103439a58>"
      ]
     },
     "metadata": {},
     "output_type": "display_data"
    }
   ],
   "source": [
    "# Compute confusion matrix\n",
    "dpred = dbdt.predict(dtr[1000:1100,:])\n",
    "dcm_thin_AdaBoost = confusion_matrix(dlb[1000:1100], dpred)\n",
    "np.set_printoptions(precision=2)\n",
    "print(dcm_thin_AdaBoost)\n",
    "plt.figure()\n",
    "plot_confusion_matrix(dcm_thin_AdaBoost)\n",
    "plt.savefig('Confusion_diff_thin_AdaBoost.png', bbox_inches='tight')"
   ]
  },
  {
   "cell_type": "markdown",
   "metadata": {},
   "source": [
    "In tabular form,\n",
    "\n",
    "| true\\prdicted | negative      | positive |\n",
    "| ------------- |:-------------:| --------:|\n",
    "| negative      | 87            | 7       |\n",
    "| positive      | 4             | 2        |"
   ]
  },
  {
   "cell_type": "code",
   "execution_count": 243,
   "metadata": {
    "collapsed": true
   },
   "outputs": [],
   "source": [
    "dthin_AdaBoost_gmean, dthin_AdaBoost_accur, dthin_AdaBoost_fmeas = avg_thin_AdaBoost(dtr,dlb, dthft, dthlb)"
   ]
  },
  {
   "cell_type": "code",
   "execution_count": 245,
   "metadata": {
    "collapsed": false
   },
   "outputs": [
    {
     "data": {
      "text/plain": [
       "0.44988787265140295"
      ]
     },
     "execution_count": 245,
     "metadata": {},
     "output_type": "execute_result"
    }
   ],
   "source": [
    "np.mean(dthin_AdaBoost_gmean)"
   ]
  },
  {
   "cell_type": "code",
   "execution_count": 246,
   "metadata": {
    "collapsed": false
   },
   "outputs": [
    {
     "data": {
      "text/plain": [
       "0.84222222222222221"
      ]
     },
     "execution_count": 246,
     "metadata": {},
     "output_type": "execute_result"
    }
   ],
   "source": [
    "np.mean(dthin_AdaBoost_accur)"
   ]
  },
  {
   "cell_type": "code",
   "execution_count": 247,
   "metadata": {
    "collapsed": false
   },
   "outputs": [
    {
     "data": {
      "text/plain": [
       "0.91226770019852055"
      ]
     },
     "execution_count": 247,
     "metadata": {},
     "output_type": "execute_result"
    }
   ],
   "source": [
    "np.mean(dthin_AdaBoost_fmeas)"
   ]
  },
  {
   "cell_type": "markdown",
   "metadata": {},
   "source": [
    "## Spam "
   ]
  },
  {
   "cell_type": "code",
   "execution_count": 126,
   "metadata": {
    "collapsed": false
   },
   "outputs": [],
   "source": [
    "spnew = thin_out(sptr_ft, sptr_lb)"
   ]
  },
  {
   "cell_type": "code",
   "execution_count": 129,
   "metadata": {
    "collapsed": true
   },
   "outputs": [],
   "source": [
    "sptr_ft_ = sptr_ft[spnew]\n",
    "sptr_lb_ = sptr_lb[spnew]"
   ]
  },
  {
   "cell_type": "code",
   "execution_count": 242,
   "metadata": {
    "collapsed": false
   },
   "outputs": [],
   "source": [
    "sio.savemat('thinned_spam',{'train_ft':sptr_ft_,'train_lb':sptr_lb_,'valid_ft':spvl_ft,'valid_lb':spvl_lb})"
   ]
  },
  {
   "cell_type": "markdown",
   "metadata": {},
   "source": [
    "### Thin_LinearSVM"
   ]
  },
  {
   "cell_type": "code",
   "execution_count": 137,
   "metadata": {
    "collapsed": false
   },
   "outputs": [
    {
     "data": {
      "text/plain": [
       "0.9506056572620748"
      ]
     },
     "execution_count": 137,
     "metadata": {},
     "output_type": "execute_result"
    }
   ],
   "source": [
    "cv_linearSVM(sptr_ft_, sptr_lb_, 1, 10)"
   ]
  },
  {
   "cell_type": "code",
   "execution_count": 133,
   "metadata": {
    "collapsed": false
   },
   "outputs": [
    {
     "data": {
      "text/plain": [
       "0.93879643288282111"
      ]
     },
     "execution_count": 133,
     "metadata": {},
     "output_type": "execute_result"
    }
   ],
   "source": [
    "cv_linearSVM(sptr_ft_, sptr_lb_, 10, 10)"
   ]
  },
  {
   "cell_type": "code",
   "execution_count": 134,
   "metadata": {
    "collapsed": false
   },
   "outputs": [
    {
     "data": {
      "text/plain": [
       "0.90538730183750671"
      ]
     },
     "execution_count": 134,
     "metadata": {},
     "output_type": "execute_result"
    }
   ],
   "source": [
    "cv_linearSVM(sptr_ft_, sptr_lb_, 0.1, 10)"
   ]
  },
  {
   "cell_type": "code",
   "execution_count": 135,
   "metadata": {
    "collapsed": false
   },
   "outputs": [
    {
     "data": {
      "text/plain": [
       "0.94471949752616258"
      ]
     },
     "execution_count": 135,
     "metadata": {},
     "output_type": "execute_result"
    }
   ],
   "source": [
    "cv_linearSVM(sptr_ft_, sptr_lb_, 3, 10)"
   ]
  },
  {
   "cell_type": "code",
   "execution_count": 136,
   "metadata": {
    "collapsed": false
   },
   "outputs": [
    {
     "data": {
      "text/plain": [
       "0.94471949752616258"
      ]
     },
     "execution_count": 136,
     "metadata": {},
     "output_type": "execute_result"
    }
   ],
   "source": [
    "cv_linearSVM(sptr_ft_, sptr_lb_, 2, 10)"
   ]
  },
  {
   "cell_type": "code",
   "execution_count": 236,
   "metadata": {
    "collapsed": false
   },
   "outputs": [
    {
     "name": "stdout",
     "output_type": "stream",
     "text": [
      "[[739  76]\n",
      " [173 184]]\n"
     ]
    },
    {
     "data": {
      "image/png": "[encoded data removed]",
      "text/plain": [
       "<matplotlib.figure.Figure at 0x1033e7940>"
      ]
     },
     "metadata": {},
     "output_type": "display_data"
    }
   ],
   "source": [
    "penalty = 1\n",
    "sthclf = svm.SVC(kernel='linear', C=penalty)\n",
    "sthclf.fit(sptr_ft_, sptr_lb_)\n",
    "# Compute confusion matrix\n",
    "spred = sclf.predict(spvl_ft)\n",
    "sthcm_linearSVM = confusion_matrix(spvl_lb, spred)\n",
    "np.set_printoptions(precision=2)\n",
    "print(sthcm_linearSVM)\n",
    "\n",
    "plt.figure()\n",
    "plot_confusion_matrix(sthcm_linearSVM)\n",
    "plt.savefig('Confusion_spam_thin_linearSVM.png', bbox_inches='tight')"
   ]
  },
  {
   "cell_type": "markdown",
   "metadata": {},
   "source": [
    "In tabular form,\n",
    "\n",
    "| true\\prdicted | negative      | positive |\n",
    "| ------------- |:-------------:| --------:|\n",
    "| negative      | 739           | 76       |\n",
    "| positive      | 173           | 184      |"
   ]
  },
  {
   "cell_type": "code",
   "execution_count": 237,
   "metadata": {
    "collapsed": false
   },
   "outputs": [
    {
     "data": {
      "text/plain": [
       "(0.6836254437298811, 0.78754266211604096, 0.85581933989577297)"
      ]
     },
     "execution_count": 237,
     "metadata": {},
     "output_type": "execute_result"
    }
   ],
   "source": [
    "metrics(sthcm_linearSVM.T)"
   ]
  },
  {
   "cell_type": "markdown",
   "metadata": {},
   "source": [
    "### Thin_KNN"
   ]
  },
  {
   "cell_type": "code",
   "execution_count": 139,
   "metadata": {
    "collapsed": false
   },
   "outputs": [
    {
     "data": {
      "text/plain": [
       "0.93618202375883908"
      ]
     },
     "execution_count": 139,
     "metadata": {},
     "output_type": "execute_result"
    }
   ],
   "source": [
    "cv_kNN(sptr_ft_,sptr_lb_,1,10)"
   ]
  },
  {
   "cell_type": "code",
   "execution_count": 140,
   "metadata": {
    "collapsed": false
   },
   "outputs": [
    {
     "data": {
      "text/plain": [
       "0.9128709291752769"
      ]
     },
     "execution_count": 140,
     "metadata": {},
     "output_type": "execute_result"
    }
   ],
   "source": [
    "cv_kNN(sptr_ft_,sptr_lb_,3,10)"
   ]
  },
  {
   "cell_type": "code",
   "execution_count": 141,
   "metadata": {
    "collapsed": false
   },
   "outputs": [
    {
     "data": {
      "text/plain": [
       "0.88894875277344942"
      ]
     },
     "execution_count": 141,
     "metadata": {},
     "output_type": "execute_result"
    }
   ],
   "source": [
    "cv_kNN(sptr_ft_,sptr_lb_,5,10)"
   ]
  },
  {
   "cell_type": "code",
   "execution_count": 142,
   "metadata": {
    "collapsed": false
   },
   "outputs": [
    {
     "data": {
      "text/plain": [
       "0.88083032927205518"
      ]
     },
     "execution_count": 142,
     "metadata": {},
     "output_type": "execute_result"
    }
   ],
   "source": [
    "cv_kNN(sptr_ft_,sptr_lb_,7,10)"
   ]
  },
  {
   "cell_type": "code",
   "execution_count": 143,
   "metadata": {
    "collapsed": false
   },
   "outputs": [
    {
     "data": {
      "text/plain": [
       "0.88370417158703318"
      ]
     },
     "execution_count": 143,
     "metadata": {},
     "output_type": "execute_result"
    }
   ],
   "source": [
    "cv_kNN(sptr_ft_,sptr_lb_,11,10)"
   ]
  },
  {
   "cell_type": "code",
   "execution_count": 238,
   "metadata": {
    "collapsed": false
   },
   "outputs": [
    {
     "name": "stdout",
     "output_type": "stream",
     "text": [
      "[[326 489]\n",
      " [ 17 340]]\n"
     ]
    },
    {
     "data": {
      "image/png": "[encoded data removed]",
      "text/plain": [
       "<matplotlib.figure.Figure at 0x108fcd780>"
      ]
     },
     "metadata": {},
     "output_type": "display_data"
    }
   ],
   "source": [
    "# we create an instance of Neighbours Classifier and fit the data.\n",
    "sthneigh = KNeighborsClassifier(n_neighbors=1, weights ='uniform')\n",
    "sthneigh.fit(sptr_ft_, sptr_lb_) \n",
    "spred = sthneigh.predict(spvl_ft)\n",
    "sthcm_kNN = confusion_matrix(spvl_lb, spred)\n",
    "np.set_printoptions(precision=2)\n",
    "\n",
    "print(sthcm_kNN)\n",
    "plt.figure()\n",
    "plot_confusion_matrix(sthcm_kNN)\n",
    "plt.savefig('Confusion_spam_thin_kNN.png', bbox_inches='tight')\n"
   ]
  },
  {
   "cell_type": "markdown",
   "metadata": {},
   "source": [
    "In tabular form,\n",
    "\n",
    "| true\\prdicted | negative      | positive |\n",
    "| ------------- |:-------------:| --------:|\n",
    "| negative      | 326           | 489      |\n",
    "| positive      | 17            | 340      |"
   ]
  },
  {
   "cell_type": "code",
   "execution_count": 239,
   "metadata": {
    "collapsed": false
   },
   "outputs": [
    {
     "data": {
      "text/plain": [
       "(0.61721339984836765, 0.56825938566552903, 0.56303972366148536)"
      ]
     },
     "execution_count": 239,
     "metadata": {},
     "output_type": "execute_result"
    }
   ],
   "source": [
    "metrics(sthcm_kNN.T)"
   ]
  },
  {
   "cell_type": "markdown",
   "metadata": {},
   "source": [
    "#### Thin_AdaBoost"
   ]
  },
  {
   "cell_type": "code",
   "execution_count": 240,
   "metadata": {
    "collapsed": false
   },
   "outputs": [
    {
     "name": "stdout",
     "output_type": "stream",
     "text": [
      "[[353 462]\n",
      " [ 22 335]]\n"
     ]
    },
    {
     "data": {
      "image/png": "[encoded data removed]",
      "text/plain": [
       "<matplotlib.figure.Figure at 0x112829b00>"
      ]
     },
     "metadata": {},
     "output_type": "display_data"
    }
   ],
   "source": [
    "sthbdt = AdaBoostClassifier(DecisionTreeClassifier(),\n",
    "                         algorithm=\"SAMME\",\n",
    "                         n_estimators=1000)\n",
    "\n",
    "sthbdt.fit(sptr_ft_, sptr_lb_)\n",
    "\n",
    "\n",
    "spred = sthbdt.predict(spvl_ft)\n",
    "sthcm_bdt = confusion_matrix(spvl_lb, spred)\n",
    "np.set_printoptions(precision=2)\n",
    "\n",
    "print(sthcm_bdt)\n",
    "plt.figure()\n",
    "plot_confusion_matrix(sthcm_bdt)\n",
    "plt.savefig('Confusion_spam_thin_AdaBoost.png', bbox_inches='tight')\n"
   ]
  },
  {
   "cell_type": "markdown",
   "metadata": {},
   "source": [
    "In tabular form,\n",
    "\n",
    "| true\\prdicted | negative      | positive |\n",
    "| ------------- |:-------------:| --------:|\n",
    "| negative      | 353           | 462      |\n",
    "| positive      | 22            | 335      |"
   ]
  },
  {
   "cell_type": "code",
   "execution_count": 241,
   "metadata": {
    "collapsed": false
   },
   "outputs": [
    {
     "data": {
      "text/plain": [
       "(0.63752444784055506, 0.58703071672354945, 0.59327731092436975)"
      ]
     },
     "execution_count": 241,
     "metadata": {},
     "output_type": "execute_result"
    }
   ],
   "source": [
    "metrics(sthcm_bdt.T)"
   ]
  },
  {
   "cell_type": "markdown",
   "metadata": {},
   "source": [
    "#### Import thinned data\n"
   ]
  },
  {
   "cell_type": "code",
   "execution_count": 7,
   "metadata": {
    "collapsed": true
   },
   "outputs": [],
   "source": [
    "thin_easy = sio.loadmat('thinned_easy.mat')\n",
    "thin_diff = sio.loadmat('thinned_diff.mat')"
   ]
  },
  {
   "cell_type": "code",
   "execution_count": 37,
   "metadata": {
    "collapsed": false
   },
   "outputs": [],
   "source": [
    "ethft0, ethlb0 = thin_easy['feat0'], thin_easy['label0'] [0,:]\n",
    "ethft1, ethlb1 = thin_easy['feat1'], thin_easy['label1'] [0,:]\n",
    "ethft2, ethlb2 = thin_easy['feat2'], thin_easy['label2'] [0,:]\n",
    "ethft3, ethlb3 = thin_easy['feat3'], thin_easy['label3'] [0,:]\n",
    "ethft4, ethlb4 = thin_easy['feat4'], thin_easy['label4'][0,:]\n",
    "ethft5, ethlb5 = thin_easy['feat5'], thin_easy['label5'][0,:] \n",
    "ethft6, ethlb6 = thin_easy['feat6'], thin_easy['label6'][0,:] \n",
    "ethft7, ethlb7 = thin_easy['feat7'], thin_easy['label7'][0,:] \n",
    "ethft8, ethlb8 = thin_easy['feat8'], thin_easy['label8'][0,:] \n",
    "ethft9, ethlb9 = thin_easy['feat9'], thin_easy['label9'][0,:] "
   ]
  },
  {
   "cell_type": "code",
   "execution_count": 39,
   "metadata": {
    "collapsed": true
   },
   "outputs": [],
   "source": [
    "dthft0, dthlb0 = thin_diff['feat0'], thin_diff['label0'][0,:] \n",
    "dthft1, dthlb1 = thin_diff['feat1'], thin_diff['label1'] [0,:]\n",
    "dthft2, dthlb2 = thin_diff['feat2'], thin_diff['label2'][0,:] \n",
    "dthft3, dthlb3 = thin_diff['feat3'], thin_diff['label3'][0,:] \n",
    "dthft4, dthlb4 = thin_diff['feat4'], thin_diff['label4'][0,:] \n",
    "dthft5, dthlb5 = thin_diff['feat5'], thin_diff['label5'][0,:] \n",
    "dthft6, dthlb6 = thin_diff['feat6'], thin_diff['label6'][0,:] \n",
    "dthft7, dthlb7 = thin_diff['feat7'], thin_diff['label7'][0,:] \n",
    "dthft8, dthlb8 = thin_diff['feat8'], thin_diff['label8'][0,:] \n",
    "dthft9, dthlb9 = thin_diff['feat9'], thin_diff['label9'][0,:] "
   ]
  },
  {
   "cell_type": "code",
   "execution_count": 40,
   "metadata": {
    "collapsed": true
   },
   "outputs": [],
   "source": [
    "ethft = [ethft0,ethft1,ethft2,ethft3,ethft4,ethft5, ethft6,ethft7,ethft8,ethft9]\n",
    "ethlb = [ethlb0,ethlb1,ethlb2,ethlb3,ethlb4,ethlb5, ethlb6,ethlb7,ethlb8,ethlb9]\n",
    "dthft = [dthft0,dthft1,dthft2,dthft3,dthft4,dthft5, dthft6,dthft7,dthft8,dthft9]\n",
    "dthlb = [dthlb0,dthlb1,dthlb2,dthlb3,dthlb4,dthlb5, dthlb6,dthlb7,dthlb8,dthlb9]"
   ]
  },
  {
   "cell_type": "code",
   "execution_count": 38,
   "metadata": {
    "collapsed": false
   },
   "outputs": [
    {
     "data": {
      "text/plain": [
       "(78,)"
      ]
     },
     "execution_count": 38,
     "metadata": {},
     "output_type": "execute_result"
    }
   ],
   "source": [
    "ethlb0.shape"
   ]
  },
  {
   "cell_type": "code",
   "execution_count": null,
   "metadata": {
    "collapsed": true
   },
   "outputs": [],
   "source": []
  }
 ],
 "metadata": {
  "kernelspec": {
   "display_name": "Python 3",
   "language": "python",
   "name": "python3"
  },
  "language_info": {
   "codemirror_mode": {
    "name": "ipython",
    "version": 3
   },
   "file_extension": ".py",
   "mimetype": "text/x-python",
   "name": "python",
   "nbconvert_exporter": "python",
   "pygments_lexer": "ipython3",
   "version": "3.5.1"
  }
 },
 "nbformat": 4,
 "nbformat_minor": 0
}

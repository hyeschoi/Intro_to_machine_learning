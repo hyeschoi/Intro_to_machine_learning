{
 "cells": [
  {
   "cell_type": "code",
   "execution_count": 1,
   "metadata": {
    "collapsed": true
   },
   "outputs": [],
   "source": [
    "import numpy as np\n",
    "import numpy.random as nr \n",
    "import scipy.io as sio"
   ]
  },
  {
   "cell_type": "markdown",
   "metadata": {},
   "source": [
    "### Generate mixture of Gaussian\n",
    "\n",
    "\n",
    "#### easy model"
   ]
  },
  {
   "cell_type": "code",
   "execution_count": 463,
   "metadata": {
    "collapsed": false
   },
   "outputs": [],
   "source": [
    "nr.seed(0)\n",
    "n = 100\n",
    "d = 2\n",
    "\n",
    "all_etr = np.array([[],[]]).T\n",
    "all_elb = np.array([])\n",
    "\n",
    "\n",
    "for i in range(11):\n",
    "\n",
    "    ebin_ = nr.choice(2, n, p = [0.9, 0.1])\n",
    "    ebin1 = nr.choice(2, np.sum(ebin_), p = [0.8, 0.2])\n",
    "    ebin0 = nr.choice(2, n - np.sum(ebin_), p = [0.8, 0.2])\n",
    "\n",
    "    emean0 = (-1,-1)\n",
    "    emean1 = (0,0)\n",
    "    emean2 = (1,1)\n",
    "\n",
    "    en01 = np.sum(ebin0)\n",
    "    en00 = n - np.sum(ebin_) - en01\n",
    "    en11 = np.sum(ebin1)\n",
    "    en10 = np.sum(ebin_) - en11\n",
    "\n",
    "    etr00 = nr.multivariate_normal(emean0, np.identity(d), en00)\n",
    "    etr01 = nr.multivariate_normal(emean1, np.identity(d), en01)\n",
    "    etr10 = nr.multivariate_normal(emean2, np.identity(d), en10)\n",
    "    etr11 = nr.multivariate_normal(emean1, np.identity(d), en11)\n",
    "\n",
    "    etr0 = np.append(etr00, etr01, axis = 0)\n",
    "    etr1 = np.append(etr10, etr11, axis = 0)\n",
    "\n",
    "    el0 = np.array([0 for i in range(len(etr0))])\n",
    "    el1 = np.array([1 for i in range(len(etr1))])\n",
    "\n",
    "    etr = np.append(etr0,etr1,axis = 0)\n",
    "    elb = np.append(el0,el1, axis = 0)\n",
    "    \n",
    "    \n",
    "    all_etr = np.append(all_etr, etr, axis = 0)\n",
    "    all_elb = np.append(all_elb, elb, axis = 0)\n",
    "    "
   ]
  },
  {
   "cell_type": "code",
   "execution_count": 466,
   "metadata": {
    "collapsed": false
   },
   "outputs": [],
   "source": [
    "sio.savemat('mix_gaussian_easy_train',{'train':all_etr, 'label': all_elb})"
   ]
  },
  {
   "cell_type": "markdown",
   "metadata": {},
   "source": [
    "#### difficult model"
   ]
  },
  {
   "cell_type": "code",
   "execution_count": 665,
   "metadata": {
    "collapsed": true
   },
   "outputs": [],
   "source": [
    "nr.seed(0)\n",
    "\n",
    "all_dtr = np.array([[],[]]).T\n",
    "all_dlb = np.array([])\n",
    "\n",
    "\n",
    "for i in range(11):\n",
    "    dbin_ = nr.choice(2, n, p = [0.9, 0.1])\n",
    "    dbin0 = nr.choice(3, n - np.sum(dbin_), p = [0.4, 0.4, 0.2])\n",
    "\n",
    "    dmean0 = (-0.5,0)\n",
    "    dmean1 = (0,-1)\n",
    "    dmean2 = (1, 0)\n",
    "    dmean3 = (0, 1)\n",
    "\n",
    "    dn1 = np.sum(dbin_)\n",
    "    dn01 = np.sum(dbin0 == 0)\n",
    "    dn02 = np.sum(dbin0 == 1)\n",
    "    dn03 = np.sum(dbin0 == 2) \n",
    "\n",
    "    dtr1 = nr.multivariate_normal(dmean0, np.identity(d), dn1)\n",
    "    dtr01 = nr.multivariate_normal(dmean1, np.identity(d), dn01)\n",
    "    dtr02 = nr.multivariate_normal(dmean2, np.identity(d), dn02)\n",
    "    dtr03 = nr.multivariate_normal(dmean3, np.identity(d), dn03)\n",
    "\n",
    "    dtr0 = np.append(np.append(dtr01, dtr02, axis = 0), dtr03, axis = 0)\n",
    "\n",
    "\n",
    "    dl0 = np.array([0 for i in range(len(dtr0))])\n",
    "    dl1 = np.array([1 for i in range(len(dtr1))])\n",
    "\n",
    "    dtr = np.append(dtr0,dtr1,axis = 0)\n",
    "    dlb = np.append(dl0,dl1, axis = 0)\n",
    "    \n",
    "    all_dtr = np.append(all_dtr, dtr, axis = 0)\n",
    "    all_dlb = np.append(all_dlb, dlb, axis = 0)\n"
   ]
  },
  {
   "cell_type": "code",
   "execution_count": 666,
   "metadata": {
    "collapsed": true
   },
   "outputs": [],
   "source": [
    "sio.savemat('mix_gaussian_diff',{'train':all_dtr, 'label': all_dlb})"
   ]
  },
  {
   "cell_type": "markdown",
   "metadata": {},
   "source": [
    "#### Import data"
   ]
  },
  {
   "cell_type": "code",
   "execution_count": 668,
   "metadata": {
    "collapsed": true
   },
   "outputs": [],
   "source": [
    "easy = sio.loadmat('mix_gaussian_easy_train')\n",
    "diff = sio.loadmat('mix_gaussian_diff')"
   ]
  },
  {
   "cell_type": "code",
   "execution_count": 669,
   "metadata": {
    "collapsed": false
   },
   "outputs": [],
   "source": [
    "elb = easy['label'][0,]\n",
    "etr = easy['train']\n",
    "dtr = diff['train']\n",
    "dlb = diff['label'][0,]"
   ]
  },
  {
   "cell_type": "markdown",
   "metadata": {},
   "source": [
    "### Soft-Margin SVM"
   ]
  },
  {
   "cell_type": "code",
   "execution_count": 474,
   "metadata": {
    "collapsed": true
   },
   "outputs": [],
   "source": [
    "from sklearn import svm\n",
    "import matplotlib.pyplot as plt\n",
    "import matplotlib.patches as mpatches\n",
    "%matplotlib inline"
   ]
  },
  {
   "cell_type": "markdown",
   "metadata": {},
   "source": [
    "#### 10-fold Cross-Validation\n",
    "\n",
    "We use 10-fold Cross-Validation in order to decide hyper-paramter. "
   ]
  },
  {
   "cell_type": "code",
   "execution_count": 476,
   "metadata": {
    "collapsed": true
   },
   "outputs": [],
   "source": [
    "from sklearn.cross_validation import KFold\n",
    "from sklearn.metrics import confusion_matrix"
   ]
  },
  {
   "cell_type": "code",
   "execution_count": 590,
   "metadata": {
    "collapsed": false
   },
   "outputs": [],
   "source": [
    "def cv_linearSVM (X, y, penalty, n_folds):\n",
    "    n = len(X)\n",
    "    kf = KFold(n, n_folds)\n",
    "    accuracy = []\n",
    "\n",
    "    total_gmean = 0 \n",
    "    for train_index, test_index in kf:\n",
    "        X_train, X_test = X[train_index,: ], X[test_index, :]\n",
    "        y_train, y_test = y[train_index], y[test_index]\n",
    "        \n",
    "        clf = svm.SVC(kernel='linear', C=penalty)\n",
    "        clf.fit(X_train, y_train)\n",
    "        y_pred = clf.predict(X_test)\n",
    "        cm = confusion_matrix(y_test, y_pred).T\n",
    "\n",
    "        if cm.shape == (1,1):\n",
    "            new_cm = np.zeros((2,2))\n",
    "            new_cm[0,0] = cm[0,0]\n",
    "            cm = new_cm\n",
    "        if cm[0,0]+ cm[1,0] == 0:\n",
    "            a1 = 0\n",
    "        else:\n",
    "            \n",
    "            a1 = cm[0,0]/(cm[0,0] + cm[1,0])\n",
    "        if cm[1,1]+ cm[0,1] == 0:\n",
    "            a0 = 0\n",
    "        else:\n",
    "            a0 = cm[1,1]/(cm[0,1] + cm[1,1])\n",
    "        \n",
    "        gmean = np.sqrt(a1 * a0)\n",
    "        total_gmean += gmean\n",
    "    return np.mean(total_gmean)"
   ]
  },
  {
   "cell_type": "markdown",
   "metadata": {},
   "source": [
    "#### Easy Model\n",
    "It is when penalty = 1.5 that we have highest average accuracy from cross validation."
   ]
  },
  {
   "cell_type": "code",
   "execution_count": 940,
   "metadata": {
    "collapsed": false
   },
   "outputs": [],
   "source": [
    "n = 100\n",
    "ran_ind = nr.choice(n,n,replace=False)\n",
    "etr0 = etr[0:100,:][ran_ind,:]\n",
    "elb0 = elb[0:100][ran_ind]"
   ]
  },
  {
   "cell_type": "code",
   "execution_count": 592,
   "metadata": {
    "collapsed": false
   },
   "outputs": [
    {
     "data": {
      "text/plain": [
       "4.7071067811865479"
      ]
     },
     "execution_count": 592,
     "metadata": {},
     "output_type": "execute_result"
    }
   ],
   "source": [
    "cv_linearSVM(etr0,elb0,1,10)"
   ]
  },
  {
   "cell_type": "code",
   "execution_count": 593,
   "metadata": {
    "collapsed": false
   },
   "outputs": [
    {
     "data": {
      "text/plain": [
       "0.0"
      ]
     },
     "execution_count": 593,
     "metadata": {},
     "output_type": "execute_result"
    }
   ],
   "source": [
    "cv_linearSVM(etr0,elb0,0.1,10)"
   ]
  },
  {
   "cell_type": "code",
   "execution_count": 594,
   "metadata": {
    "collapsed": false
   },
   "outputs": [
    {
     "data": {
      "text/plain": [
       "4.7071067811865479"
      ]
     },
     "execution_count": 594,
     "metadata": {},
     "output_type": "execute_result"
    }
   ],
   "source": [
    "cv_linearSVM(etr0,elb0,10,10)"
   ]
  },
  {
   "cell_type": "code",
   "execution_count": 595,
   "metadata": {
    "collapsed": false
   },
   "outputs": [
    {
     "data": {
      "text/plain": [
       "4.6614378277661475"
      ]
     },
     "execution_count": 595,
     "metadata": {},
     "output_type": "execute_result"
    }
   ],
   "source": [
    "cv_linearSVM(etr0,elb0,100,10)"
   ]
  },
  {
   "cell_type": "code",
   "execution_count": 596,
   "metadata": {
    "collapsed": false
   },
   "outputs": [
    {
     "data": {
      "text/plain": [
       "4.6614378277661475"
      ]
     },
     "execution_count": 596,
     "metadata": {},
     "output_type": "execute_result"
    }
   ],
   "source": [
    "cv_linearSVM(etr0,elb0,200,10)"
   ]
  },
  {
   "cell_type": "code",
   "execution_count": 597,
   "metadata": {
    "collapsed": false
   },
   "outputs": [
    {
     "data": {
      "text/plain": [
       "4.6614378277661475"
      ]
     },
     "execution_count": 597,
     "metadata": {},
     "output_type": "execute_result"
    }
   ],
   "source": [
    "cv_linearSVM(etr0,elb0,50,10)"
   ]
  },
  {
   "cell_type": "code",
   "execution_count": 598,
   "metadata": {
    "collapsed": false
   },
   "outputs": [
    {
     "data": {
      "text/plain": [
       "4.7071067811865479"
      ]
     },
     "execution_count": 598,
     "metadata": {},
     "output_type": "execute_result"
    }
   ],
   "source": [
    "cv_linearSVM(etr0,elb0,5,10)"
   ]
  },
  {
   "cell_type": "code",
   "execution_count": 599,
   "metadata": {
    "collapsed": false
   },
   "outputs": [
    {
     "data": {
      "text/plain": [
       "4.7071067811865479"
      ]
     },
     "execution_count": 599,
     "metadata": {},
     "output_type": "execute_result"
    }
   ],
   "source": [
    "cv_linearSVM(etr0,elb0,3,10)"
   ]
  },
  {
   "cell_type": "code",
   "execution_count": 600,
   "metadata": {
    "collapsed": false
   },
   "outputs": [
    {
     "data": {
      "text/plain": [
       "4.6614378277661475"
      ]
     },
     "execution_count": 600,
     "metadata": {},
     "output_type": "execute_result"
    }
   ],
   "source": [
    "cv_linearSVM(etr0,elb0,0.5,10)"
   ]
  },
  {
   "cell_type": "markdown",
   "metadata": {},
   "source": [
    "#### Graph and Confusion Matrix"
   ]
  },
  {
   "cell_type": "code",
   "execution_count": 309,
   "metadata": {
    "collapsed": true
   },
   "outputs": [],
   "source": [
    "def plot_confusion_matrix(cm, title='Confusion matrix', cmap=plt.cm.Blues):\n",
    "    plt.imshow(cm, interpolation='nearest', cmap=cmap)\n",
    "    plt.title(title)\n",
    "    plt.colorbar()\n",
    "    tick_marks = np.arange(len(['negative','positive']))\n",
    "    plt.xticks(tick_marks, ['negative','positive'])\n",
    "    plt.yticks(tick_marks, ['negative','positive'])\n",
    "    plt.tight_layout()\n",
    "    plt.ylabel('True label')\n",
    "    plt.xlabel('Predicted label')\n"
   ]
  },
  {
   "cell_type": "code",
   "execution_count": 770,
   "metadata": {
    "collapsed": false
   },
   "outputs": [
    {
     "data": {
      "image/png": "[encoded data removed]",
      "text/plain": [
       "<matplotlib.figure.Figure at 0x112f97668>"
      ]
     },
     "metadata": {},
     "output_type": "display_data"
    }
   ],
   "source": [
    "penalty = 1\n",
    "clf = svm.SVC(kernel='linear', C=penalty)\n",
    "clf.fit(etr[0:100, :],elb[0:100])\n",
    "\n",
    "# get the separating hyperplane\n",
    "w = clf.coef_[0]\n",
    "a = -w[0] / w[1]\n",
    "xx = np.linspace(-5, 5)\n",
    "yy = a * xx - (clf.intercept_[0]) / w[1]\n",
    "fignum=1\n",
    "# plot the parallels to the separating hyperplane that pass through the\n",
    "# support vectors\n",
    "margin = 1 / np.sqrt(np.sum(clf.coef_ ** 2))\n",
    "yy_down = yy + a * margin\n",
    "yy_up = yy - a * margin\n",
    "\n",
    "# plot the line, the points, and the nearest vectors to the plane\n",
    "plt.figure(1, figsize=(5, 5))\n",
    "plt.clf()\n",
    "plt.plot(xx, yy, 'k-')\n",
    "plt.plot(xx, yy_down, 'k--')\n",
    "plt.plot(xx, yy_up, 'k--')\n",
    "\n",
    "plt.scatter(clf.support_vectors_[:, 0], clf.support_vectors_[:, 1], s=80,\n",
    "            facecolors='none', zorder=10)\n",
    "plt.scatter(etr[0:100, 0], etr[0:100, 1], c=elb[0:100], zorder=10, cmap=plt.cm.Paired, s = 20)\n",
    "\n",
    "plt.axis('tight')\n",
    "x_min = -6\n",
    "x_max = 6\n",
    "y_min = -6\n",
    "y_max = 6\n",
    "\n",
    "XX, YY = np.mgrid[x_min:x_max:200j, y_min:y_max:200j]\n",
    "Z = clf.predict(np.c_[XX.ravel(), YY.ravel()])\n",
    "\n",
    "# Put the result into a color plot\n",
    "Z = Z.reshape(XX.shape)\n",
    "plt.figure(fignum, figsize=(6, 6))\n",
    "plt.pcolormesh(XX, YY, Z, cmap=plt.cm.Paired)\n",
    "\n",
    "plt.xlim(x_min, x_max)\n",
    "plt.ylim(y_min, y_max)\n",
    "\n",
    "\n",
    "#plt.xticks(())\n",
    "#plt.yticks(())\n",
    "\n",
    "\n",
    "brown_patch = mpatches.Patch(color='brown', label='positive')\n",
    "sky_patch = mpatches.Patch(color='skyblue', label='negative')\n",
    "plt.legend(handles=[brown_patch, sky_patch])\n",
    "plt.title(\"LinearSVM (penalty = 1)\")\n",
    "plt.figtext(0.5, -0.1,'''SVMs decision boundary depends on some subset of the training data, \n",
    "                        called the support vectors. These are marked as big circles. The blue and \n",
    "                        brown circles represent negative and positive data, respectively''',\n",
    "            wrap=True,horizontalalignment='center', fontsize=12)\n",
    "\n",
    "plt.savefig('easy_linearSVM.png', bbox_inches='tight')\n",
    "\n"
   ]
  },
  {
   "cell_type": "code",
   "execution_count": 771,
   "metadata": {
    "collapsed": false
   },
   "outputs": [
    {
     "name": "stdout",
     "output_type": "stream",
     "text": [
      "[[90  2]\n",
      " [ 4  4]]\n"
     ]
    },
    {
     "data": {
      "image/png": "[encoded data removed]",
      "text/plain": [
       "<matplotlib.figure.Figure at 0x111807748>"
      ]
     },
     "metadata": {},
     "output_type": "display_data"
    }
   ],
   "source": [
    "# Compute confusion matrix\n",
    "epred = clf.predict(etr[1000:1100,:])\n",
    "ecm_linearSVM = confusion_matrix(elb[1000:1100], epred)\n",
    "np.set_printoptions(precision=2)\n",
    "print(ecm_linearSVM)\n",
    "plt.figure()\n",
    "plot_confusion_matrix(ecm_linearSVM)\n",
    "plt.savefig('Confusion_easy_linearSVM.png', bbox_inches='tight')"
   ]
  },
  {
   "cell_type": "markdown",
   "metadata": {},
   "source": [
    "In numeric table, the confusion matrix is as follows.\n",
    "\n",
    "| true\\prdicted | negative      | positive |\n",
    "| ------------- |:-------------:| --------:|\n",
    "| negative      | 90            | 2        |\n",
    "| positive      | 4             | 4        |\n",
    "\n"
   ]
  },
  {
   "cell_type": "markdown",
   "metadata": {},
   "source": [
    "#### Average metrics of evaluation"
   ]
  },
  {
   "cell_type": "code",
   "execution_count": 778,
   "metadata": {
    "collapsed": true
   },
   "outputs": [],
   "source": [
    "def avg_linearSVM (X, y, penalty):\n",
    "\n",
    "    gmean = []\n",
    "    fmeas = []\n",
    "    accur = []    \n",
    "    X_test = X[1000:1100, :]\n",
    "    y_test = y[1000:1100]\n",
    "    for i in range(1,10):\n",
    "        \n",
    "        X_train = X[i*100:(i+1)*100,:]\n",
    "        y_train = y[i*100:(i+1)*100]\n",
    "\n",
    "\n",
    "        clf = svm.SVC(kernel='linear', C=penalty)\n",
    "        clf.fit(X_train, y_train)\n",
    "        y_pred = clf.predict(X_test)\n",
    "        cm = confusion_matrix(y_test, y_pred).T\n",
    "\n",
    "        if cm.shape == (1,1):\n",
    "            new_cm = np.zeros((2,2))\n",
    "            new_cm[0,0] = cm[0,0]\n",
    "            cm = new_cm\n",
    "        if cm[0,0]+ cm[1,0] == 0:\n",
    "            a1 = 0\n",
    "        else:\n",
    "            \n",
    "            a1 = cm[0,0]/(cm[0,0] + cm[1,0])\n",
    "        if cm[1,1]+ cm[0,1] == 0:\n",
    "            a0 = 0\n",
    "        else:\n",
    "            a0 = cm[1,1]/(cm[0,1] + cm[1,1])\n",
    "            \n",
    "        if cm[0,0]+ cm[0,1] == 0:\n",
    "            p = 0\n",
    "        else:\n",
    "            p = cm[0,0]/(cm[0,0] + cm[0,1])\n",
    "        \n",
    "        if a1 + p == 0:\n",
    "            f = 0\n",
    "        else:\n",
    "            f = (2 * p * a1)/(a1 + p)\n",
    "        fmeas = fmeas + [f]\n",
    "        gmean = gmean + [np.sqrt(a1 * a0)]\n",
    "        accur = accur + [(cm[0,0]+ cm[1,1])/(cm[0,0]+ cm[1,1]+cm[1,0]+ cm[0,1])]\n",
    "\n",
    "    return gmean, accur, fmeas"
   ]
  },
  {
   "cell_type": "code",
   "execution_count": 780,
   "metadata": {
    "collapsed": false
   },
   "outputs": [],
   "source": [
    "elinearSVM_gmean, elinearSVM_accur, elinearSVM_fmeas = avg_linearSVM(etr, elb, 1)"
   ]
  },
  {
   "cell_type": "code",
   "execution_count": 781,
   "metadata": {
    "collapsed": false
   },
   "outputs": [
    {
     "data": {
      "text/plain": [
       "0.27809292163621152"
      ]
     },
     "execution_count": 781,
     "metadata": {},
     "output_type": "execute_result"
    }
   ],
   "source": [
    "np.mean(elinearSVM_gmean)"
   ]
  },
  {
   "cell_type": "code",
   "execution_count": 782,
   "metadata": {
    "collapsed": false
   },
   "outputs": [
    {
     "data": {
      "text/plain": [
       "0.91888888888888909"
      ]
     },
     "execution_count": 782,
     "metadata": {},
     "output_type": "execute_result"
    }
   ],
   "source": [
    "np.mean(elinearSVM_accur)"
   ]
  },
  {
   "cell_type": "code",
   "execution_count": 783,
   "metadata": {
    "collapsed": false
   },
   "outputs": [
    {
     "data": {
      "text/plain": [
       "0.95727858843484404"
      ]
     },
     "execution_count": 783,
     "metadata": {},
     "output_type": "execute_result"
    }
   ],
   "source": [
    "np.mean(elinearSVM_fmeas)"
   ]
  },
  {
   "cell_type": "markdown",
   "metadata": {},
   "source": [
    "#### Difficult model"
   ]
  },
  {
   "cell_type": "code",
   "execution_count": 680,
   "metadata": {
    "collapsed": true
   },
   "outputs": [],
   "source": [
    "n = 100\n",
    "ran_ind = nr.choice(n,n,replace=False)\n",
    "dtr0 = dtr[0:100,:][ran_ind,:]\n",
    "dlb0 = dlb[0:100][ran_ind]"
   ]
  },
  {
   "cell_type": "code",
   "execution_count": 681,
   "metadata": {
    "collapsed": false
   },
   "outputs": [
    {
     "data": {
      "text/plain": [
       "0.0"
      ]
     },
     "execution_count": 681,
     "metadata": {},
     "output_type": "execute_result"
    }
   ],
   "source": [
    "cv_linearSVM(dtr0,dlb0,1,10)"
   ]
  },
  {
   "cell_type": "code",
   "execution_count": 682,
   "metadata": {
    "collapsed": false
   },
   "outputs": [
    {
     "data": {
      "text/plain": [
       "0.0"
      ]
     },
     "execution_count": 682,
     "metadata": {},
     "output_type": "execute_result"
    }
   ],
   "source": [
    "cv_linearSVM(dtr0,dlb0,100,10)"
   ]
  },
  {
   "cell_type": "code",
   "execution_count": 683,
   "metadata": {
    "collapsed": false
   },
   "outputs": [
    {
     "data": {
      "text/plain": [
       "0.0"
      ]
     },
     "execution_count": 683,
     "metadata": {},
     "output_type": "execute_result"
    }
   ],
   "source": [
    "cv_linearSVM(dtr0,dlb0,10,10)"
   ]
  },
  {
   "cell_type": "code",
   "execution_count": 684,
   "metadata": {
    "collapsed": false
   },
   "outputs": [
    {
     "data": {
      "text/plain": [
       "0.0"
      ]
     },
     "execution_count": 684,
     "metadata": {},
     "output_type": "execute_result"
    }
   ],
   "source": [
    "cv_linearSVM(dtr0,dlb0,5,10)"
   ]
  },
  {
   "cell_type": "code",
   "execution_count": 685,
   "metadata": {
    "collapsed": false
   },
   "outputs": [
    {
     "data": {
      "text/plain": [
       "0.0"
      ]
     },
     "execution_count": 685,
     "metadata": {},
     "output_type": "execute_result"
    }
   ],
   "source": [
    "cv_linearSVM(dtr0,dlb0,200,10)"
   ]
  },
  {
   "cell_type": "code",
   "execution_count": 686,
   "metadata": {
    "collapsed": false
   },
   "outputs": [
    {
     "data": {
      "text/plain": [
       "0.0"
      ]
     },
     "execution_count": 686,
     "metadata": {},
     "output_type": "execute_result"
    }
   ],
   "source": [
    "cv_linearSVM(dtr0,dlb0,20,10)"
   ]
  },
  {
   "cell_type": "code",
   "execution_count": 687,
   "metadata": {
    "collapsed": false
   },
   "outputs": [
    {
     "data": {
      "text/plain": [
       "0.0"
      ]
     },
     "execution_count": 687,
     "metadata": {},
     "output_type": "execute_result"
    }
   ],
   "source": [
    "cv_linearSVM(dtr0,dlb0,0.0000001,10)"
   ]
  },
  {
   "cell_type": "code",
   "execution_count": 688,
   "metadata": {
    "collapsed": false
   },
   "outputs": [
    {
     "data": {
      "text/plain": [
       "0.0"
      ]
     },
     "execution_count": 688,
     "metadata": {},
     "output_type": "execute_result"
    }
   ],
   "source": [
    "cv_linearSVM(dtr0,dlb0,1e-7,10)"
   ]
  },
  {
   "cell_type": "markdown",
   "metadata": {},
   "source": [
    "#### Graph and Confusion Matrix"
   ]
  },
  {
   "cell_type": "code",
   "execution_count": 750,
   "metadata": {
    "collapsed": false,
    "scrolled": true
   },
   "outputs": [
    {
     "data": {
      "image/png": "[encoded data removed]",
      "text/plain": [
       "<matplotlib.figure.Figure at 0x114420e10>"
      ]
     },
     "metadata": {},
     "output_type": "display_data"
    }
   ],
   "source": [
    "penalty = 1\n",
    "clf = svm.SVC(kernel='linear', C=penalty)\n",
    "clf.fit(dtr0, dlb0)\n",
    "\n",
    "# get the separating hyperplane\n",
    "w = clf.coef_[0]\n",
    "a = -w[0] / w[1]\n",
    "xx = np.linspace(-5, 5)\n",
    "yy = a * xx - (clf.intercept_[0]) / w[1]\n",
    "fignum=1\n",
    "# plot the parallels to the separating hyperplane that pass through the\n",
    "# support vectors\n",
    "margin = 1 / np.sqrt(np.sum(clf.coef_ ** 2))\n",
    "yy_down = yy + a * margin\n",
    "yy_up = yy - a * margin\n",
    "\n",
    "# plot the line, the points, and the nearest vectors to the plane\n",
    "plt.figure(1, figsize=(5, 5))\n",
    "plt.clf()\n",
    "plt.plot(xx, yy, 'k-')\n",
    "plt.plot(xx, yy_down, 'k--')\n",
    "plt.plot(xx, yy_up, 'k--')\n",
    "\n",
    "plt.scatter(clf.support_vectors_[:, 0], clf.support_vectors_[:, 1], s=80,\n",
    "            facecolors='none', zorder=10)\n",
    "plt.scatter(dtr0[:, 0], dtr0[:, 1], c=dlb0, zorder=10, cmap=plt.cm.Paired, s = 20)\n",
    "\n",
    "plt.axis('tight')\n",
    "x_min = -6\n",
    "x_max = 6\n",
    "y_min = -6\n",
    "y_max = 6\n",
    "\n",
    "XX, YY = np.mgrid[x_min:x_max:200j, y_min:y_max:200j]\n",
    "Z = clf.predict(np.c_[XX.ravel(), YY.ravel()])\n",
    "\n",
    "# Put the result into a color plot\n",
    "Z = Z.reshape(XX.shape)\n",
    "plt.figure(fignum, figsize=(6, 6))\n",
    "plt.pcolormesh(XX, YY, Z, cmap=plt.cm.Paired)\n",
    "\n",
    "plt.xlim(x_min, x_max)\n",
    "plt.ylim(y_min, y_max)\n",
    "\n",
    "\n",
    "#plt.xticks(())\n",
    "#plt.yticks(())\n",
    "\n",
    "\n",
    "brown_patch = mpatches.Patch(color='brown', label='positive')\n",
    "sky_patch = mpatches.Patch(color='skyblue', label='negative')\n",
    "plt.legend(handles=[brown_patch, sky_patch])\n",
    "plt.title(\"LinearSVM (penalty = 1)\")\n",
    "plt.figtext(0.5, -0.1,'''SVMs decision boundary depends on some subset of the training data, \n",
    "                        called the support vectors. These are marked as big circles. The blue and \n",
    "                        brown circles represent negative and positive data, respectively''',\n",
    "            wrap=True,horizontalalignment='center', fontsize=12)\n",
    "\n",
    "plt.savefig('diff_linearSVM.png', bbox_inches='tight')"
   ]
  },
  {
   "cell_type": "code",
   "execution_count": 697,
   "metadata": {
    "collapsed": false
   },
   "outputs": [
    {
     "name": "stdout",
     "output_type": "stream",
     "text": [
      "[[70 24]\n",
      " [ 5  1]]\n"
     ]
    },
    {
     "data": {
      "image/png": "[encoded data removed]",
      "text/plain": [
       "<matplotlib.figure.Figure at 0x1144206d8>"
      ]
     },
     "metadata": {},
     "output_type": "display_data"
    }
   ],
   "source": [
    "# Compute confusion matrix\n",
    "dpred = clf.predict(dtr[1000:1100,:])\n",
    "dcm_linearSVM = confusion_matrix(dlb[1000:1100], dpred)\n",
    "np.set_printoptions(precision=2)\n",
    "print(dcm_linearSVM)\n",
    "\n",
    "plt.figure()\n",
    "plot_confusion_matrix(dcm_linearSVM)\n",
    "plt.savefig('Confusion_diff_linearSVM.png', bbox_inches='tight')"
   ]
  },
  {
   "cell_type": "markdown",
   "metadata": {},
   "source": [
    "In tabular form,\n",
    "\n",
    "| true\\prdicted | negative      | positive |\n",
    "| ------------- |:-------------:| --------:|\n",
    "| negative      | 70            | 24       |\n",
    "| positive      | 5             | 1        |\n",
    "\n"
   ]
  },
  {
   "cell_type": "markdown",
   "metadata": {},
   "source": [
    "#### Average metrics of evaluation"
   ]
  },
  {
   "cell_type": "code",
   "execution_count": 784,
   "metadata": {
    "collapsed": false
   },
   "outputs": [],
   "source": [
    "dlinearSVM_gmean, dlinearSVM_accur, dlinearSVM_fmeas = avg_linearSVM(dtr, dlb, 1)"
   ]
  },
  {
   "cell_type": "code",
   "execution_count": 785,
   "metadata": {
    "collapsed": false
   },
   "outputs": [
    {
     "data": {
      "text/plain": [
       "0.0"
      ]
     },
     "execution_count": 785,
     "metadata": {},
     "output_type": "execute_result"
    }
   ],
   "source": [
    "np.mean(dlinearSVM_gmean)"
   ]
  },
  {
   "cell_type": "code",
   "execution_count": 786,
   "metadata": {
    "collapsed": false
   },
   "outputs": [
    {
     "data": {
      "text/plain": [
       "0.93999999999999995"
      ]
     },
     "execution_count": 786,
     "metadata": {},
     "output_type": "execute_result"
    }
   ],
   "source": [
    "np.mean(dlinearSVM_accur)"
   ]
  },
  {
   "cell_type": "code",
   "execution_count": 787,
   "metadata": {
    "collapsed": false
   },
   "outputs": [
    {
     "data": {
      "text/plain": [
       "0.9690721649484535"
      ]
     },
     "execution_count": 787,
     "metadata": {},
     "output_type": "execute_result"
    }
   ],
   "source": [
    "np.mean(dlinearSVM_fmeas)"
   ]
  },
  {
   "cell_type": "markdown",
   "metadata": {},
   "source": [
    "### k-Nearest Neighborhood "
   ]
  },
  {
   "cell_type": "code",
   "execution_count": 165,
   "metadata": {
    "collapsed": true
   },
   "outputs": [],
   "source": [
    "from sklearn.neighbors import KNeighborsClassifier\n",
    "from matplotlib.colors import ListedColormap"
   ]
  },
  {
   "cell_type": "markdown",
   "metadata": {},
   "source": [
    "#### 10-fold Cross-Validation\n",
    "\n"
   ]
  },
  {
   "cell_type": "code",
   "execution_count": 703,
   "metadata": {
    "collapsed": true
   },
   "outputs": [],
   "source": [
    "def cv_kNN (X, y, k, n_folds):\n",
    "    n = len(X)\n",
    "    kf = KFold(n, n_folds)\n",
    "    total_gmean = 0\n",
    "\n",
    "    for train_index, test_index in kf:\n",
    "        X_train, X_test = X[train_index,: ], X[test_index, :]\n",
    "        y_train, y_test = y[train_index], y[test_index]\n",
    "        \n",
    "        clf = KNeighborsClassifier(n_neighbors= k, weights = 'uniform')\n",
    "        clf.fit(X_train, y_train)\n",
    "        y_pred = clf.predict(X_test)\n",
    "        cm = confusion_matrix(y_test, y_pred).T\n",
    "\n",
    "        if cm.shape == (1,1):\n",
    "            new_cm = np.zeros((2,2))\n",
    "            new_cm[0,0] = cm[0,0]\n",
    "            cm = new_cm\n",
    "        if cm[0,0]+ cm[1,0] == 0:\n",
    "            a1 = 0\n",
    "        else:\n",
    "            \n",
    "            a1 = cm[0,0]/(cm[0,0] + cm[1,0])\n",
    "        if cm[1,1]+ cm[0,1] == 0:\n",
    "            a0 = 0\n",
    "        else:\n",
    "            a0 = cm[1,1]/(cm[0,1] + cm[1,1])\n",
    "        \n",
    "        gmean = np.sqrt(a1 * a0)\n",
    "        total_gmean += gmean\n",
    "    return np.mean(total_gmean)"
   ]
  },
  {
   "cell_type": "markdown",
   "metadata": {},
   "source": [
    "#### Easy Model\n",
    "\n",
    "It is when k = 1 that the model results in the highest average accuracy from cross validation."
   ]
  },
  {
   "cell_type": "code",
   "execution_count": 621,
   "metadata": {
    "collapsed": false
   },
   "outputs": [
    {
     "data": {
      "text/plain": [
       "4.6499158227686106"
      ]
     },
     "execution_count": 621,
     "metadata": {},
     "output_type": "execute_result"
    }
   ],
   "source": [
    "cv_kNN(etr0, elb0, 1, 10)"
   ]
  },
  {
   "cell_type": "code",
   "execution_count": 622,
   "metadata": {
    "collapsed": false
   },
   "outputs": [
    {
     "data": {
      "text/plain": [
       "3.4861639730364082"
      ]
     },
     "execution_count": 622,
     "metadata": {},
     "output_type": "execute_result"
    }
   ],
   "source": [
    "cv_kNN(etr0, elb0, 3, 10)"
   ]
  },
  {
   "cell_type": "code",
   "execution_count": 623,
   "metadata": {
    "collapsed": false
   },
   "outputs": [
    {
     "data": {
      "text/plain": [
       "2.0"
      ]
     },
     "execution_count": 623,
     "metadata": {},
     "output_type": "execute_result"
    }
   ],
   "source": [
    "cv_kNN(etr0, elb0, 5, 10)"
   ]
  },
  {
   "cell_type": "code",
   "execution_count": 624,
   "metadata": {
    "collapsed": false
   },
   "outputs": [
    {
     "data": {
      "text/plain": [
       "2.0"
      ]
     },
     "execution_count": 624,
     "metadata": {},
     "output_type": "execute_result"
    }
   ],
   "source": [
    "cv_kNN(etr0, elb0, 7, 10)"
   ]
  },
  {
   "cell_type": "code",
   "execution_count": 625,
   "metadata": {
    "collapsed": false
   },
   "outputs": [
    {
     "data": {
      "text/plain": [
       "2.0"
      ]
     },
     "execution_count": 625,
     "metadata": {},
     "output_type": "execute_result"
    }
   ],
   "source": [
    "cv_kNN(etr0, elb0, 11, 10)"
   ]
  },
  {
   "cell_type": "code",
   "execution_count": 626,
   "metadata": {
    "collapsed": false
   },
   "outputs": [
    {
     "data": {
      "text/plain": [
       "2.0"
      ]
     },
     "execution_count": 626,
     "metadata": {},
     "output_type": "execute_result"
    }
   ],
   "source": [
    "cv_kNN(etr0, elb0, 9, 10)"
   ]
  },
  {
   "cell_type": "code",
   "execution_count": 704,
   "metadata": {
    "collapsed": false
   },
   "outputs": [
    {
     "data": {
      "text/plain": [
       "0.0"
      ]
     },
     "execution_count": 704,
     "metadata": {},
     "output_type": "execute_result"
    }
   ],
   "source": [
    "cv_kNN(etr0, elb0, 19, 10)"
   ]
  },
  {
   "cell_type": "markdown",
   "metadata": {},
   "source": [
    "#### Graph and Confusion Matrix"
   ]
  },
  {
   "cell_type": "code",
   "execution_count": 628,
   "metadata": {
    "collapsed": false
   },
   "outputs": [
    {
     "data": {
      "image/png": "[encoded data removed]",
      "text/plain": [
       "<matplotlib.figure.Figure at 0x1149b6be0>"
      ]
     },
     "metadata": {},
     "output_type": "display_data"
    }
   ],
   "source": [
    "\n",
    "\n",
    "h = .02  # step size in the mesh\n",
    "\n",
    "# Create color maps\n",
    "cmap_light = ListedColormap(['#FFAAAA', '#AAFFAA'])\n",
    "cmap_bold = ListedColormap(['#FF0000', '#00FF00'])\n",
    "\n",
    "\n",
    "# we create an instance of Neighbours Classifier and fit the data.\n",
    "eneigh = KNeighborsClassifier(n_neighbors=1, weights ='uniform')\n",
    "eneigh.fit(etr0, elb0) \n",
    "\n",
    "# Plot the decision boundary. For that, we will assign a color to each\n",
    "# point in the mesh [x_min, m_max]x[y_min, y_max].\n",
    "x_min = -6\n",
    "x_max = 6\n",
    "y_min = -6\n",
    "y_max = 6\n",
    "xx, yy = np.meshgrid(np.arange(x_min, x_max, h),\n",
    "                     np.arange(y_min, y_max, h))\n",
    "Z = eneigh.predict(np.c_[xx.ravel(), yy.ravel()])\n",
    "\n",
    "# Put the result into a color plot\n",
    "Z = Z.reshape(xx.shape)\n",
    "plt.figure(1, figsize=(6,6))\n",
    "plt.pcolormesh(xx, yy, Z, cmap=cmap_light)\n",
    "\n",
    "# Plot also the training points\n",
    "plt.scatter(etr0[:, 0], etr0[:, 1], c=elb0, cmap=cmap_bold, s = 20)\n",
    "plt.xlim(xx.min(), xx.max())\n",
    "plt.ylim(yy.min(), yy.max())\n",
    "plt.title(\"k-Nearest neighbors (k = %i, weights = '%s')\"\n",
    "          % (1, 'distance'))\n",
    "\n",
    "green_patch = mpatches.Patch(color='green', label='positive')\n",
    "red_patch = mpatches.Patch(color='red', label='negative')\n",
    "plt.legend(handles=[green_patch, red_patch])\n",
    "\n",
    "plt.savefig('easy_kNN.png', bbox_inches='tight')"
   ]
  },
  {
   "cell_type": "code",
   "execution_count": 629,
   "metadata": {
    "collapsed": false
   },
   "outputs": [
    {
     "name": "stdout",
     "output_type": "stream",
     "text": [
      "[[85  7]\n",
      " [ 6  2]]\n"
     ]
    },
    {
     "data": {
      "image/png": "[encoded data removed]",
      "text/plain": [
       "<matplotlib.figure.Figure at 0x1188de5c0>"
      ]
     },
     "metadata": {},
     "output_type": "display_data"
    }
   ],
   "source": [
    "epred = eneigh.predict(etr[1000:1100,:])\n",
    "ecm_kNN = confusion_matrix(elb[1000:1100], epred)\n",
    "np.set_printoptions(precision=2)\n",
    "\n",
    "print(ecm_kNN)\n",
    "plt.figure()\n",
    "plot_confusion_matrix(ecm_kNN)\n",
    "plt.savefig('Confusion_easy_kNN.png', bbox_inches='tight')"
   ]
  },
  {
   "cell_type": "markdown",
   "metadata": {},
   "source": [
    "In tabular form,\n",
    "\n",
    "| true\\prdicted | negative      | positive |\n",
    "| ------------- |:-------------:| --------:|\n",
    "| negative      | 85            | 7        |\n",
    "| positive      | 6             | 2        |"
   ]
  },
  {
   "cell_type": "markdown",
   "metadata": {},
   "source": [
    "#### Average metrics of evaluation"
   ]
  },
  {
   "cell_type": "code",
   "execution_count": 789,
   "metadata": {
    "collapsed": true
   },
   "outputs": [],
   "source": [
    "def avg_kNN (X, y, k):\n",
    "\n",
    "    gmean = []\n",
    "    fmeas = []\n",
    "    accur = []    \n",
    "    X_test = X[1000:1100, :]\n",
    "    y_test = y[1000:1100]\n",
    "    for i in range(1,10):\n",
    "        \n",
    "        X_train = X[i*100:(i+1)*100,:]\n",
    "        y_train = y[i*100:(i+1)*100]\n",
    "\n",
    "\n",
    "        clf = KNeighborsClassifier(n_neighbors= k, weights = 'uniform')\n",
    "        clf.fit(X_train, y_train)\n",
    "        y_pred = clf.predict(X_test)\n",
    "        cm = confusion_matrix(y_test, y_pred).T\n",
    "\n",
    "        if cm.shape == (1,1):\n",
    "            new_cm = np.zeros((2,2))\n",
    "            new_cm[0,0] = cm[0,0]\n",
    "            cm = new_cm\n",
    "        if cm[0,0]+ cm[1,0] == 0:\n",
    "            a1 = 0\n",
    "        else:\n",
    "            \n",
    "            a1 = cm[0,0]/(cm[0,0] + cm[1,0])\n",
    "        if cm[1,1]+ cm[0,1] == 0:\n",
    "            a0 = 0\n",
    "        else:\n",
    "            a0 = cm[1,1]/(cm[0,1] + cm[1,1])\n",
    "            \n",
    "        if cm[0,0]+ cm[0,1] == 0:\n",
    "            p = 0\n",
    "        else:\n",
    "            p = cm[0,0]/(cm[0,0] + cm[0,1])\n",
    "        \n",
    "        if a1 + p == 0:\n",
    "            f = 0\n",
    "        else:\n",
    "            f = (2 * p * a1)/(a1 + p)\n",
    "        fmeas = fmeas + [f]\n",
    "        gmean = gmean + [np.sqrt(a1 * a0)]\n",
    "        accur = accur + [(cm[0,0]+ cm[1,1])/(cm[0,0]+ cm[1,1]+cm[1,0]+ cm[0,1])]\n",
    "\n",
    "    return gmean, accur, fmeas"
   ]
  },
  {
   "cell_type": "code",
   "execution_count": 790,
   "metadata": {
    "collapsed": true
   },
   "outputs": [],
   "source": [
    "ekNN_gmean, ekNN_accur, ekNN_fmeas = avg_kNN(etr,elb, 1)"
   ]
  },
  {
   "cell_type": "code",
   "execution_count": 792,
   "metadata": {
    "collapsed": false
   },
   "outputs": [
    {
     "data": {
      "text/plain": [
       "0.42953083477258214"
      ]
     },
     "execution_count": 792,
     "metadata": {},
     "output_type": "execute_result"
    }
   ],
   "source": [
    "np.mean(ekNN_gmean)"
   ]
  },
  {
   "cell_type": "code",
   "execution_count": 793,
   "metadata": {
    "collapsed": false
   },
   "outputs": [
    {
     "data": {
      "text/plain": [
       "0.89999999999999991"
      ]
     },
     "execution_count": 793,
     "metadata": {},
     "output_type": "execute_result"
    }
   ],
   "source": [
    "np.mean(ekNN_accur)"
   ]
  },
  {
   "cell_type": "code",
   "execution_count": 794,
   "metadata": {
    "collapsed": false
   },
   "outputs": [
    {
     "data": {
      "text/plain": [
       "0.94619813392245555"
      ]
     },
     "execution_count": 794,
     "metadata": {},
     "output_type": "execute_result"
    }
   ],
   "source": [
    "np.mean(ekNN_fmeas)"
   ]
  },
  {
   "cell_type": "markdown",
   "metadata": {},
   "source": [
    "#### Difficult model"
   ]
  },
  {
   "cell_type": "code",
   "execution_count": 707,
   "metadata": {
    "collapsed": false
   },
   "outputs": [
    {
     "data": {
      "text/plain": [
       "1.0"
      ]
     },
     "execution_count": 707,
     "metadata": {},
     "output_type": "execute_result"
    }
   ],
   "source": [
    "cv_kNN(dtr0, dlb0, 1, 10)"
   ]
  },
  {
   "cell_type": "code",
   "execution_count": 706,
   "metadata": {
    "collapsed": false
   },
   "outputs": [
    {
     "data": {
      "text/plain": [
       "0.0"
      ]
     },
     "execution_count": 706,
     "metadata": {},
     "output_type": "execute_result"
    }
   ],
   "source": [
    "cv_kNN(dtr0, dlb0, 3, 10)"
   ]
  },
  {
   "cell_type": "code",
   "execution_count": 708,
   "metadata": {
    "collapsed": false
   },
   "outputs": [
    {
     "data": {
      "text/plain": [
       "0.0"
      ]
     },
     "execution_count": 708,
     "metadata": {},
     "output_type": "execute_result"
    }
   ],
   "source": [
    "cv_kNN(dtr0, dlb0, 5, 10)"
   ]
  },
  {
   "cell_type": "code",
   "execution_count": 709,
   "metadata": {
    "collapsed": false
   },
   "outputs": [
    {
     "data": {
      "text/plain": [
       "0.0"
      ]
     },
     "execution_count": 709,
     "metadata": {},
     "output_type": "execute_result"
    }
   ],
   "source": [
    "cv_kNN(dtr0, dlb0, 11, 10)"
   ]
  },
  {
   "cell_type": "code",
   "execution_count": 710,
   "metadata": {
    "collapsed": false
   },
   "outputs": [
    {
     "data": {
      "text/plain": [
       "0.0"
      ]
     },
     "execution_count": 710,
     "metadata": {},
     "output_type": "execute_result"
    }
   ],
   "source": [
    "cv_kNN(dtr0, dlb0, 15, 10)"
   ]
  },
  {
   "cell_type": "code",
   "execution_count": 711,
   "metadata": {
    "collapsed": false
   },
   "outputs": [
    {
     "data": {
      "text/plain": [
       "0.0"
      ]
     },
     "execution_count": 711,
     "metadata": {},
     "output_type": "execute_result"
    }
   ],
   "source": [
    "cv_kNN(dtr0, dlb0, 21, 10)"
   ]
  },
  {
   "cell_type": "markdown",
   "metadata": {},
   "source": [
    "#### Graph and Confusion Matrix"
   ]
  },
  {
   "cell_type": "code",
   "execution_count": 712,
   "metadata": {
    "collapsed": false
   },
   "outputs": [
    {
     "data": {
      "image/png": "[encoded data removed]",
      "text/plain": [
       "<matplotlib.figure.Figure at 0x1196ec160>"
      ]
     },
     "metadata": {},
     "output_type": "display_data"
    }
   ],
   "source": [
    "h = .02  # step size in the mesh\n",
    "\n",
    "# Create color maps\n",
    "cmap_light = ListedColormap(['#FFAAAA', '#AAFFAA'])\n",
    "cmap_bold = ListedColormap(['#FF0000', '#00FF00'])\n",
    "\n",
    "\n",
    "# we create an instance of Neighbours Classifier and fit the data.\n",
    "dneigh = KNeighborsClassifier(n_neighbors=1, weights ='uniform')\n",
    "dneigh.fit(dtr0, dlb0) \n",
    "\n",
    "# Plot the decision boundary. For that, we will assign a color to each\n",
    "# point in the mesh [x_min, m_max]x[y_min, y_max].\n",
    "x_min = -6\n",
    "x_max = 6\n",
    "y_min = -6\n",
    "y_max = 6\n",
    "xx, yy = np.meshgrid(np.arange(x_min, x_max, h),\n",
    "                     np.arange(y_min, y_max, h))\n",
    "Z = dneigh.predict(np.c_[xx.ravel(), yy.ravel()])\n",
    "\n",
    "# Put the result into a color plot\n",
    "Z = Z.reshape(xx.shape)\n",
    "plt.figure(figsize=(6,6))\n",
    "plt.pcolormesh(xx, yy, Z, cmap=cmap_light)\n",
    "\n",
    "# Plot also the training points\n",
    "plt.scatter(dtr0[:, 0], dtr0[:, 1], c=dlb0, cmap=cmap_bold, s = 20)\n",
    "plt.xlim(xx.min(), xx.max())\n",
    "plt.ylim(yy.min(), yy.max())\n",
    "plt.title(\"k-Nearest neighbors (k = %i, weights = '%s')\"\n",
    "          % (1, 'distance'))\n",
    "\n",
    "green_patch = mpatches.Patch(color='green', label='positive')\n",
    "red_patch = mpatches.Patch(color='red', label='negative')\n",
    "plt.legend(handles=[green_patch, red_patch])\n",
    "\n",
    "\n",
    "plt.savefig('diff_kNN.png', bbox_inches='tight')"
   ]
  },
  {
   "cell_type": "code",
   "execution_count": 713,
   "metadata": {
    "collapsed": false
   },
   "outputs": [
    {
     "name": "stdout",
     "output_type": "stream",
     "text": [
      "[[84 10]\n",
      " [ 5  1]]\n"
     ]
    },
    {
     "data": {
      "image/png": "[encoded data removed]",
      "text/plain": [
       "<matplotlib.figure.Figure at 0x1133fcbe0>"
      ]
     },
     "metadata": {},
     "output_type": "display_data"
    }
   ],
   "source": [
    "\n",
    "dpred = dneigh.predict(dtr[1000:1100,:])\n",
    "dcm_kNN = confusion_matrix(dlb[1000:1100], dpred)\n",
    "np.set_printoptions(precision=2)\n",
    "\n",
    "print(dcm_kNN)\n",
    "plt.figure()\n",
    "plot_confusion_matrix(dcm_kNN)\n",
    "plt.savefig('Confusion_diff_kNN.png', bbox_inches='tight')"
   ]
  },
  {
   "cell_type": "markdown",
   "metadata": {},
   "source": [
    "In tabular form,\n",
    "\n",
    "| true\\prdicted | negative      | positive |\n",
    "| ------------- |:-------------:| --------:|\n",
    "| negative      | 84            | 10       |\n",
    "| positive      | 5             | 1        |"
   ]
  },
  {
   "cell_type": "markdown",
   "metadata": {},
   "source": [
    "#### Average metrics of evaluation"
   ]
  },
  {
   "cell_type": "code",
   "execution_count": 796,
   "metadata": {
    "collapsed": true
   },
   "outputs": [],
   "source": [
    "dkNN_gmean, dkNN_accur, dkNN_fmeas = avg_kNN(dtr, dlb, 1)"
   ]
  },
  {
   "cell_type": "code",
   "execution_count": 797,
   "metadata": {
    "collapsed": false
   },
   "outputs": [
    {
     "data": {
      "text/plain": [
       "0.38117497103809805"
      ]
     },
     "execution_count": 797,
     "metadata": {},
     "output_type": "execute_result"
    }
   ],
   "source": [
    "np.mean(dkNN_gmean)"
   ]
  },
  {
   "cell_type": "code",
   "execution_count": 798,
   "metadata": {
    "collapsed": false
   },
   "outputs": [
    {
     "data": {
      "text/plain": [
       "0.87222222222222223"
      ]
     },
     "execution_count": 798,
     "metadata": {},
     "output_type": "execute_result"
    }
   ],
   "source": [
    "np.mean(dkNN_accur)"
   ]
  },
  {
   "cell_type": "code",
   "execution_count": 799,
   "metadata": {
    "collapsed": false
   },
   "outputs": [
    {
     "data": {
      "text/plain": [
       "0.93063120046755088"
      ]
     },
     "execution_count": 799,
     "metadata": {},
     "output_type": "execute_result"
    }
   ],
   "source": [
    "np.mean(dkNN_fmeas)"
   ]
  },
  {
   "cell_type": "markdown",
   "metadata": {},
   "source": [
    "### Adaboost\n",
    "\n",
    "\n",
    "#### Easy Model\n",
    "\n",
    "#### Graph and Confusion Matrix"
   ]
  },
  {
   "cell_type": "code",
   "execution_count": 643,
   "metadata": {
    "collapsed": false
   },
   "outputs": [
    {
     "data": {
      "text/plain": [
       "<matplotlib.figure.Figure at 0x1148e3b00>"
      ]
     },
     "metadata": {},
     "output_type": "display_data"
    },
    {
     "data": {
      "image/png": "[encoded data removed]",
      "text/plain": [
       "<matplotlib.figure.Figure at 0x113a5ea20>"
      ]
     },
     "metadata": {},
     "output_type": "display_data"
    }
   ],
   "source": [
    "from sklearn.ensemble import AdaBoostClassifier\n",
    "from sklearn.tree import DecisionTreeClassifier\n",
    "\n",
    "\n",
    "# Create and fit an AdaBoosted decision tree\n",
    "ebdt = AdaBoostClassifier(DecisionTreeClassifier(),\n",
    "                         algorithm=\"SAMME\",\n",
    "                         n_estimators=200)\n",
    "\n",
    "ebdt.fit(etr0, elb0)\n",
    "\n",
    "plot_colors = ['blue','yellow']\n",
    "plot_step = 0.02\n",
    "\n",
    "\n",
    "\n",
    "# Plot the decision boundaries\n",
    "plt.figure()\n",
    "x_min = -6\n",
    "x_max = 6\n",
    "y_min = -6\n",
    "y_max = 6\n",
    "xx, yy = np.meshgrid(np.arange(x_min, x_max, plot_step),\n",
    "                     np.arange(y_min, y_max, plot_step))\n",
    "\n",
    "Z = ebdt.predict(np.c_[xx.ravel(), yy.ravel()])\n",
    "Z = Z.reshape(xx.shape)\n",
    "plt.figure(figsize=(6, 6))\n",
    "cs = plt.contourf(xx, yy, Z, cmap=plt.cm.Paired)\n",
    "plt.axis(\"tight\")\n",
    "\n",
    "# Plot the training points\n",
    "for i, c in zip(range(2), plot_colors):\n",
    "    idx = np.where(elb0 == i)\n",
    "    plt.scatter(etr0[idx, 0], etr0[idx, 1], c=c)\n",
    "plt.xlim(x_min, x_max)\n",
    "plt.ylim(y_min, y_max)\n",
    "\n",
    "gold_patch = mpatches.Patch(color='gold', label='positive')\n",
    "blue_patch = mpatches.Patch(color='dodgerBlue', label='negative')\n",
    "plt.legend(handles=[gold_patch, blue_patch])\n",
    "\n",
    "plt.title('AdaBoost(n_estimators=200)')\n",
    "\n",
    "plt.savefig('easy_Adaboost.png', bbox_inches='tight')"
   ]
  },
  {
   "cell_type": "code",
   "execution_count": 648,
   "metadata": {
    "collapsed": false
   },
   "outputs": [
    {
     "name": "stdout",
     "output_type": "stream",
     "text": [
      "[[86  6]\n",
      " [ 4  4]]\n"
     ]
    },
    {
     "data": {
      "image/png": "[encoded data removed]",
      "text/plain": [
       "<matplotlib.figure.Figure at 0x112d10668>"
      ]
     },
     "metadata": {},
     "output_type": "display_data"
    }
   ],
   "source": [
    "epred = ebdt.predict(etr[1000:1100, :])\n",
    "ecm_bdt = confusion_matrix(elb[1000:1100], epred)\n",
    "np.set_printoptions(precision=2)\n",
    "\n",
    "print(ecm_bdt)\n",
    "plt.figure()\n",
    "plot_confusion_matrix(ecm_bdt)\n",
    "plt.savefig('Confusion_easy_AdaBoost.png', bbox_inches='tight')"
   ]
  },
  {
   "cell_type": "markdown",
   "metadata": {},
   "source": [
    "In tabular form,\n",
    "\n",
    "| true\\prdicted | negative      | positive |\n",
    "| ------------- |:-------------:| --------:|\n",
    "| negative      | 86            | 6        |\n",
    "| positive      | 4             | 4        |"
   ]
  },
  {
   "cell_type": "markdown",
   "metadata": {},
   "source": [
    "#### Average metrics of evaluation"
   ]
  },
  {
   "cell_type": "code",
   "execution_count": 1035,
   "metadata": {
    "collapsed": true
   },
   "outputs": [],
   "source": [
    "def avg_AdaBoost (X, y):\n",
    "\n",
    "    gmean = []\n",
    "    fmeas = []\n",
    "    accur = []    \n",
    "    X_test = X[1000:1100, :]\n",
    "    y_test = y[1000:1100]\n",
    "    for i in range(1,10):\n",
    "        \n",
    "        X_train = X[i*100:(i+1)*100,:]\n",
    "        y_train = y[i*100:(i+1)*100]\n",
    "\n",
    "        bdt = AdaBoostClassifier(DecisionTreeClassifier(),\n",
    "                         algorithm=\"SAMME\",\n",
    "                         n_estimators=200)\n",
    "\n",
    "        bdt.fit(X_train, y_train)\n",
    "        y_pred = bdt.predict(X_test)\n",
    "        \n",
    "        cm = confusion_matrix(y_test, y_pred).T\n",
    "\n",
    "        if cm.shape == (1,1):\n",
    "            new_cm = np.zeros((2,2))\n",
    "            new_cm[0,0] = cm[0,0]\n",
    "            cm = new_cm\n",
    "        if cm[0,0]+ cm[1,0] == 0:\n",
    "            a1 = 0\n",
    "        else:\n",
    "            \n",
    "            a1 = cm[0,0]/(cm[0,0] + cm[1,0])\n",
    "        if cm[1,1]+ cm[0,1] == 0:\n",
    "            a0 = 0\n",
    "        else:\n",
    "            a0 = cm[1,1]/(cm[0,1] + cm[1,1])\n",
    "            \n",
    "        if cm[0,0]+ cm[0,1] == 0:\n",
    "            p = 0\n",
    "        else:\n",
    "            p = cm[0,0]/(cm[0,0] + cm[0,1])\n",
    "        \n",
    "        if a1 + p == 0:\n",
    "            f = 0\n",
    "        else:\n",
    "            f = (2 * p * a1)/(a1 + p)\n",
    "        fmeas = fmeas + [f]\n",
    "        gmean = gmean + [np.sqrt(a1 * a0)]\n",
    "        accur = accur + [(cm[0,0]+ cm[1,1])/(cm[0,0]+ cm[1,1]+cm[1,0]+ cm[0,1])]\n",
    "\n",
    "    return gmean, accur, fmeas"
   ]
  },
  {
   "cell_type": "code",
   "execution_count": 1036,
   "metadata": {
    "collapsed": true
   },
   "outputs": [],
   "source": [
    "eAdaBoost_gmean, eAdaBoost_accur, eAdaBoost_fmeas = avg_AdaBoost(etr, elb)"
   ]
  },
  {
   "cell_type": "code",
   "execution_count": 1037,
   "metadata": {
    "collapsed": false
   },
   "outputs": [
    {
     "data": {
      "text/plain": [
       "0.52559140106370261"
      ]
     },
     "execution_count": 1037,
     "metadata": {},
     "output_type": "execute_result"
    }
   ],
   "source": [
    "np.mean(eAdaBoost_gmean)"
   ]
  },
  {
   "cell_type": "code",
   "execution_count": 1038,
   "metadata": {
    "collapsed": false
   },
   "outputs": [
    {
     "data": {
      "text/plain": [
       "0.90111111111111108"
      ]
     },
     "execution_count": 1038,
     "metadata": {},
     "output_type": "execute_result"
    }
   ],
   "source": [
    "np.mean(eAdaBoost_accur)"
   ]
  },
  {
   "cell_type": "code",
   "execution_count": 1039,
   "metadata": {
    "collapsed": false
   },
   "outputs": [
    {
     "data": {
      "text/plain": [
       "0.94646397686896711"
      ]
     },
     "execution_count": 1039,
     "metadata": {},
     "output_type": "execute_result"
    }
   ],
   "source": [
    "np.mean(eAdaBoost_fmeas)"
   ]
  },
  {
   "cell_type": "markdown",
   "metadata": {},
   "source": [
    "#### Difficult Model\n",
    "\n",
    "#### Graph and Confusion Matrix"
   ]
  },
  {
   "cell_type": "code",
   "execution_count": 714,
   "metadata": {
    "collapsed": false
   },
   "outputs": [
    {
     "data": {
      "text/plain": [
       "<matplotlib.figure.Figure at 0x113d48748>"
      ]
     },
     "metadata": {},
     "output_type": "display_data"
    },
    {
     "data": {
      "image/png": "[encoded data removed]",
      "text/plain": [
       "<matplotlib.figure.Figure at 0x113d48940>"
      ]
     },
     "metadata": {},
     "output_type": "display_data"
    }
   ],
   "source": [
    "# Create and fit an AdaBoosted decision tree\n",
    "dbdt = AdaBoostClassifier(DecisionTreeClassifier(),\n",
    "                         algorithm=\"SAMME\",\n",
    "                         n_estimators=200)\n",
    "\n",
    "dbdt.fit(etr0, elb0)\n",
    "\n",
    "plot_colors = ['blue','yellow']\n",
    "plot_step = 0.02\n",
    "\n",
    "\n",
    "\n",
    "# Plot the decision boundaries\n",
    "plt.figure()\n",
    "x_min = -6\n",
    "x_max = 6\n",
    "y_min = -6\n",
    "y_max = 6\n",
    "xx, yy = np.meshgrid(np.arange(x_min, x_max, plot_step),\n",
    "                     np.arange(y_min, y_max, plot_step))\n",
    "\n",
    "Z = dbdt.predict(np.c_[xx.ravel(), yy.ravel()])\n",
    "Z = Z.reshape(xx.shape)\n",
    "plt.figure(figsize=(6, 6))\n",
    "cs = plt.contourf(xx, yy, Z, cmap=plt.cm.Paired)\n",
    "plt.axis(\"tight\")\n",
    "\n",
    "# Plot the training points\n",
    "for i, c in zip(range(2), plot_colors):\n",
    "    idx = np.where(dlb0 == i)\n",
    "    plt.scatter(dtr0[idx, 0], dtr0[idx, 1], c=c)\n",
    "plt.xlim(x_min, x_max)\n",
    "plt.ylim(y_min, y_max)\n",
    "\n",
    "gold_patch = mpatches.Patch(color='gold', label='positive')\n",
    "blue_patch = mpatches.Patch(color='dodgerBlue', label='negative')\n",
    "plt.legend(handles=[gold_patch, blue_patch])\n",
    "\n",
    "plt.title('AdaBoost(n_estimators=200)')\n",
    "\n",
    "plt.savefig('diff_Adaboost.png', bbox_inches='tight')"
   ]
  },
  {
   "cell_type": "code",
   "execution_count": 715,
   "metadata": {
    "collapsed": false
   },
   "outputs": [
    {
     "name": "stdout",
     "output_type": "stream",
     "text": [
      "[[70 24]\n",
      " [ 5  1]]\n"
     ]
    },
    {
     "data": {
      "image/png": "[encoded data removed]",
      "text/plain": [
       "<matplotlib.figure.Figure at 0x112e0d518>"
      ]
     },
     "metadata": {},
     "output_type": "display_data"
    }
   ],
   "source": [
    "dpred = dbdt.predict(dtr[1000:1100,:])\n",
    "dcm_bdt = confusion_matrix(dlb[1000:1100], dpred)\n",
    "np.set_printoptions(precision=2)\n",
    "\n",
    "print(dcm_bdt)\n",
    "plt.figure()\n",
    "plot_confusion_matrix(dcm_bdt)\n",
    "plt.savefig('Confusion_diff_AdaBoost.png', bbox_inches='tight')"
   ]
  },
  {
   "cell_type": "markdown",
   "metadata": {},
   "source": [
    "In tabular form,\n",
    "\n",
    "| true\\prdicted | negative      | positive |\n",
    "| ------------- |:-------------:| --------:|\n",
    "| negative      | 70            | 24       |\n",
    "| positive      | 5             | 1        |"
   ]
  },
  {
   "cell_type": "markdown",
   "metadata": {},
   "source": [
    "#### Average metrics of evaluation"
   ]
  },
  {
   "cell_type": "code",
   "execution_count": 1040,
   "metadata": {
    "collapsed": true
   },
   "outputs": [],
   "source": [
    "dAdaBoost_gmean, dAdaBoost_accur, dAdaBoost_fmeas = avg_AdaBoost(dtr, dlb)"
   ]
  },
  {
   "cell_type": "code",
   "execution_count": 1041,
   "metadata": {
    "collapsed": false
   },
   "outputs": [
    {
     "data": {
      "text/plain": [
       "0.42097511027641105"
      ]
     },
     "execution_count": 1041,
     "metadata": {},
     "output_type": "execute_result"
    }
   ],
   "source": [
    "np.mean(dAdaBoost_gmean)"
   ]
  },
  {
   "cell_type": "code",
   "execution_count": 1042,
   "metadata": {
    "collapsed": false
   },
   "outputs": [
    {
     "data": {
      "text/plain": [
       "0.85555555555555562"
      ]
     },
     "execution_count": 1042,
     "metadata": {},
     "output_type": "execute_result"
    }
   ],
   "source": [
    "np.mean(dAdaBoost_accur)"
   ]
  },
  {
   "cell_type": "code",
   "execution_count": 1043,
   "metadata": {
    "collapsed": false
   },
   "outputs": [
    {
     "data": {
      "text/plain": [
       "0.92037923195699889"
      ]
     },
     "execution_count": 1043,
     "metadata": {},
     "output_type": "execute_result"
    }
   ],
   "source": [
    "np.mean(dAdaBoost_fmeas)"
   ]
  },
  {
   "cell_type": "markdown",
   "metadata": {},
   "source": [
    "# Spam data"
   ]
  },
  {
   "cell_type": "code",
   "execution_count": 400,
   "metadata": {
    "collapsed": true
   },
   "outputs": [],
   "source": [
    "spam_data = sio.loadmat('spam_data.mat')"
   ]
  },
  {
   "cell_type": "code",
   "execution_count": 405,
   "metadata": {
    "collapsed": false
   },
   "outputs": [],
   "source": [
    "sp_ft = spam_data['training_data']\n",
    "sp_lb = spam_data['training_labels'][0,:]"
   ]
  },
  {
   "cell_type": "markdown",
   "metadata": {},
   "source": [
    "### Preprocessing"
   ]
  },
  {
   "cell_type": "code",
   "execution_count": 651,
   "metadata": {
    "collapsed": false
   },
   "outputs": [],
   "source": [
    "m = len(sp_ft)"
   ]
  },
  {
   "cell_type": "code",
   "execution_count": 722,
   "metadata": {
    "collapsed": false
   },
   "outputs": [],
   "source": [
    "sran_ind = nr.choice(m,m,replace = False)\n",
    "sp_ft = sp_ft[sran_ind,:]\n",
    "sp_lb = sp_lb[sran_ind]"
   ]
  },
  {
   "cell_type": "code",
   "execution_count": 723,
   "metadata": {
    "collapsed": true
   },
   "outputs": [],
   "source": [
    "bin_sp_ft = (sp_ft > 0) * 1"
   ]
  },
  {
   "cell_type": "code",
   "execution_count": 724,
   "metadata": {
    "collapsed": false
   },
   "outputs": [],
   "source": [
    "spvl_ft = bin_sp_ft[4000:5172,:]\n",
    "sptr_ft = bin_sp_ft[:4000,:]\n",
    "spvl_lb = sp_lb[4000:5172]\n",
    "sptr_lb = sp_lb[:4000]"
   ]
  },
  {
   "cell_type": "code",
   "execution_count": 725,
   "metadata": {
    "collapsed": false
   },
   "outputs": [
    {
     "data": {
      "text/plain": [
       "(5172, 32)"
      ]
     },
     "execution_count": 725,
     "metadata": {},
     "output_type": "execute_result"
    }
   ],
   "source": [
    "bin_sp_ft.shape"
   ]
  },
  {
   "cell_type": "markdown",
   "metadata": {},
   "source": [
    "### LinearSVM"
   ]
  },
  {
   "cell_type": "code",
   "execution_count": 726,
   "metadata": {
    "collapsed": false
   },
   "outputs": [
    {
     "data": {
      "text/plain": [
       "7.2767893784439561"
      ]
     },
     "execution_count": 726,
     "metadata": {},
     "output_type": "execute_result"
    }
   ],
   "source": [
    "cv_linearSVM(sptr_ft,sptr_lb,1,10)"
   ]
  },
  {
   "cell_type": "code",
   "execution_count": 727,
   "metadata": {
    "collapsed": false
   },
   "outputs": [
    {
     "data": {
      "text/plain": [
       "7.2802722548382679"
      ]
     },
     "execution_count": 727,
     "metadata": {},
     "output_type": "execute_result"
    }
   ],
   "source": [
    "cv_linearSVM(sptr_ft,sptr_lb,10,10)"
   ]
  },
  {
   "cell_type": "code",
   "execution_count": 728,
   "metadata": {
    "collapsed": false
   },
   "outputs": [
    {
     "data": {
      "text/plain": [
       "7.1782743518242782"
      ]
     },
     "execution_count": 728,
     "metadata": {},
     "output_type": "execute_result"
    }
   ],
   "source": [
    "cv_linearSVM(sptr_ft,sptr_lb,0.1,10)"
   ]
  },
  {
   "cell_type": "code",
   "execution_count": 729,
   "metadata": {
    "collapsed": false
   },
   "outputs": [
    {
     "data": {
      "text/plain": [
       "7.2789290560462803"
      ]
     },
     "execution_count": 729,
     "metadata": {},
     "output_type": "execute_result"
    }
   ],
   "source": [
    "cv_linearSVM(sptr_ft,sptr_lb,20,10)"
   ]
  },
  {
   "cell_type": "code",
   "execution_count": 730,
   "metadata": {
    "collapsed": false
   },
   "outputs": [
    {
     "data": {
      "text/plain": [
       "7.2802722548382679"
      ]
     },
     "execution_count": 730,
     "metadata": {},
     "output_type": "execute_result"
    }
   ],
   "source": [
    "cv_linearSVM(sptr_ft,sptr_lb,15,10)"
   ]
  },
  {
   "cell_type": "code",
   "execution_count": 731,
   "metadata": {
    "collapsed": false
   },
   "outputs": [
    {
     "name": "stdout",
     "output_type": "stream",
     "text": [
      "[[775  51]\n",
      " [141 205]]\n"
     ]
    },
    {
     "data": {
      "image/png": "[encoded data removed]",
      "text/plain": [
       "<matplotlib.figure.Figure at 0x114e2f828>"
      ]
     },
     "metadata": {},
     "output_type": "display_data"
    }
   ],
   "source": [
    "penalty = 10\n",
    "sclf = svm.SVC(kernel='linear', C=penalty)\n",
    "sclf.fit(sptr_ft, sptr_lb)\n",
    "# Compute confusion matrix\n",
    "spred = sclf.predict(spvl_ft)\n",
    "scm_linearSVM = confusion_matrix(spvl_lb, spred)\n",
    "np.set_printoptions(precision=2)\n",
    "print(scm_linearSVM)\n",
    "\n",
    "plt.figure()\n",
    "plot_confusion_matrix(scm_linearSVM)\n",
    "plt.savefig('Confusion_spam_linearSVM.png', bbox_inches='tight')"
   ]
  },
  {
   "cell_type": "markdown",
   "metadata": {},
   "source": [
    "In tabular form,\n",
    "\n",
    "| true\\prdicted | negative      | positive |\n",
    "| ------------- |:-------------:| --------:|\n",
    "| negative      | 775            | 51      |\n",
    "| positive      | 141            | 20      |"
   ]
  },
  {
   "cell_type": "markdown",
   "metadata": {},
   "source": [
    "#### metrics of evaluation"
   ]
  },
  {
   "cell_type": "code",
   "execution_count": 812,
   "metadata": {
    "collapsed": false
   },
   "outputs": [],
   "source": [
    "def metrics(cm):\n",
    "    if cm.shape == (1,1):\n",
    "        new_cm = np.zeros((2,2))\n",
    "        new_cm[0,0] = cm[0,0]\n",
    "        cm = new_cm\n",
    "    if cm[0,0]+ cm[1,0] == 0:\n",
    "        a1 = 0\n",
    "    else:\n",
    "\n",
    "        a1 = cm[0,0]/(cm[0,0] + cm[1,0])\n",
    "    if cm[1,1]+ cm[0,1] == 0:\n",
    "        a0 = 0\n",
    "    else:\n",
    "        a0 = cm[1,1]/(cm[0,1] + cm[1,1])\n",
    "\n",
    "    if cm[0,0]+ cm[0,1] == 0:\n",
    "        p = 0\n",
    "    else:\n",
    "        p = cm[0,0]/(cm[0,0] + cm[0,1])\n",
    "\n",
    "    if a1 + p == 0:\n",
    "        f = 0\n",
    "    else:\n",
    "        f = (2 * p * a1)/(a1 + p)\n",
    "    fmeas = f\n",
    "    gmean = np.sqrt(a1 * a0)\n",
    "    accur = (cm[0,0]+ cm[1,1])/(cm[0,0]+ cm[1,1]+cm[1,0]+ cm[0,1])\n",
    "\n",
    "    return gmean, accur, fmeas"
   ]
  },
  {
   "cell_type": "code",
   "execution_count": 813,
   "metadata": {
    "collapsed": false
   },
   "outputs": [
    {
     "data": {
      "text/plain": [
       "(0.74558937197071395, 0.83617747440273038, 0.88978185993111369)"
      ]
     },
     "execution_count": 813,
     "metadata": {},
     "output_type": "execute_result"
    }
   ],
   "source": [
    "metrics(scm_linearSVM.T)"
   ]
  },
  {
   "cell_type": "markdown",
   "metadata": {},
   "source": [
    "### kNN"
   ]
  },
  {
   "cell_type": "code",
   "execution_count": 733,
   "metadata": {
    "collapsed": false
   },
   "outputs": [
    {
     "data": {
      "text/plain": [
       "6.7415877571801666"
      ]
     },
     "execution_count": 733,
     "metadata": {},
     "output_type": "execute_result"
    }
   ],
   "source": [
    "cv_kNN(sptr_ft, sptr_lb, 1, 10)"
   ]
  },
  {
   "cell_type": "code",
   "execution_count": 734,
   "metadata": {
    "collapsed": false
   },
   "outputs": [
    {
     "data": {
      "text/plain": [
       "7.3535907549657011"
      ]
     },
     "execution_count": 734,
     "metadata": {},
     "output_type": "execute_result"
    }
   ],
   "source": [
    "cv_kNN(sptr_ft, sptr_lb, 3, 10)"
   ]
  },
  {
   "cell_type": "code",
   "execution_count": 735,
   "metadata": {
    "collapsed": false
   },
   "outputs": [
    {
     "data": {
      "text/plain": [
       "7.3429176755334931"
      ]
     },
     "execution_count": 735,
     "metadata": {},
     "output_type": "execute_result"
    }
   ],
   "source": [
    "cv_kNN(sptr_ft, sptr_lb, 5, 10)"
   ]
  },
  {
   "cell_type": "code",
   "execution_count": 736,
   "metadata": {
    "collapsed": false
   },
   "outputs": [
    {
     "data": {
      "text/plain": [
       "7.1220837803303727"
      ]
     },
     "execution_count": 736,
     "metadata": {},
     "output_type": "execute_result"
    }
   ],
   "source": [
    "cv_kNN(sp_ft, sp_lb, 7, 10)"
   ]
  },
  {
   "cell_type": "code",
   "execution_count": 737,
   "metadata": {
    "collapsed": false
   },
   "outputs": [
    {
     "data": {
      "text/plain": [
       "7.0116106463711487"
      ]
     },
     "execution_count": 737,
     "metadata": {},
     "output_type": "execute_result"
    }
   ],
   "source": [
    "cv_kNN(sp_ft, sp_lb, 9, 10)"
   ]
  },
  {
   "cell_type": "code",
   "execution_count": 738,
   "metadata": {
    "collapsed": false
   },
   "outputs": [
    {
     "data": {
      "text/plain": [
       "6.7866142237864366"
      ]
     },
     "execution_count": 738,
     "metadata": {},
     "output_type": "execute_result"
    }
   ],
   "source": [
    "cv_kNN(sp_ft, sp_lb, 21, 10)"
   ]
  },
  {
   "cell_type": "code",
   "execution_count": 739,
   "metadata": {
    "collapsed": false
   },
   "outputs": [
    {
     "data": {
      "text/plain": [
       "6.6370114823629169"
      ]
     },
     "execution_count": 739,
     "metadata": {},
     "output_type": "execute_result"
    }
   ],
   "source": [
    "cv_kNN(sp_ft, sp_lb, 31, 10)"
   ]
  },
  {
   "cell_type": "code",
   "execution_count": 740,
   "metadata": {
    "collapsed": false
   },
   "outputs": [
    {
     "data": {
      "text/plain": [
       "6.3714724630522532"
      ]
     },
     "execution_count": 740,
     "metadata": {},
     "output_type": "execute_result"
    }
   ],
   "source": [
    "cv_kNN(sp_ft, sp_lb, 101, 10)"
   ]
  },
  {
   "cell_type": "code",
   "execution_count": 741,
   "metadata": {
    "collapsed": false
   },
   "outputs": [
    {
     "data": {
      "text/plain": [
       "6.9080607723316083"
      ]
     },
     "execution_count": 741,
     "metadata": {},
     "output_type": "execute_result"
    }
   ],
   "source": [
    "cv_kNN(sp_ft, sp_lb, 11, 10)"
   ]
  },
  {
   "cell_type": "code",
   "execution_count": 742,
   "metadata": {
    "collapsed": false
   },
   "outputs": [
    {
     "data": {
      "text/plain": [
       "6.8619748323963412"
      ]
     },
     "execution_count": 742,
     "metadata": {},
     "output_type": "execute_result"
    }
   ],
   "source": [
    "cv_kNN(sp_ft, sp_lb, 13, 10)"
   ]
  },
  {
   "cell_type": "code",
   "execution_count": 743,
   "metadata": {
    "collapsed": false
   },
   "outputs": [
    {
     "name": "stdout",
     "output_type": "stream",
     "text": [
      "[[768  58]\n",
      " [155 191]]\n"
     ]
    },
    {
     "data": {
      "image/png": "[encoded data removed]",
      "text/plain": [
       "<matplotlib.figure.Figure at 0x113f65128>"
      ]
     },
     "metadata": {},
     "output_type": "display_data"
    }
   ],
   "source": [
    "# we create an instance of Neighbours Classifier and fit the data.\n",
    "sneigh = KNeighborsClassifier(n_neighbors=3, weights ='uniform')\n",
    "sneigh.fit(sptr_ft, sptr_lb) \n",
    "spred = sneigh.predict(spvl_ft)\n",
    "scm_kNN = confusion_matrix(spvl_lb, spred)\n",
    "np.set_printoptions(precision=2)\n",
    "\n",
    "print(scm_kNN)\n",
    "plt.figure()\n",
    "plot_confusion_matrix(scm_kNN)\n",
    "plt.savefig('Confusion_spam_kNN.png', bbox_inches='tight')"
   ]
  },
  {
   "cell_type": "markdown",
   "metadata": {},
   "source": [
    "In tabular form,\n",
    "\n",
    "| true\\prdicted | negative      | positive |\n",
    "| ------------- |:-------------:| --------:|\n",
    "| negative      | 768           | 58       |\n",
    "| positive      | 155           | 191      |"
   ]
  },
  {
   "cell_type": "markdown",
   "metadata": {},
   "source": [
    "#### Metrics of evaluation"
   ]
  },
  {
   "cell_type": "code",
   "execution_count": 814,
   "metadata": {
    "collapsed": false
   },
   "outputs": [
    {
     "data": {
      "text/plain": [
       "(0.71642250613357605, 0.81825938566552903, 0.87821612349914235)"
      ]
     },
     "execution_count": 814,
     "metadata": {},
     "output_type": "execute_result"
    }
   ],
   "source": [
    "metrics(scm_kNN.T)"
   ]
  },
  {
   "cell_type": "markdown",
   "metadata": {},
   "source": [
    "### AdaBoost"
   ]
  },
  {
   "cell_type": "code",
   "execution_count": 744,
   "metadata": {
    "collapsed": false
   },
   "outputs": [
    {
     "name": "stdout",
     "output_type": "stream",
     "text": [
      "[[788  38]\n",
      " [153 193]]\n"
     ]
    },
    {
     "data": {
      "image/png": "[encoded data removed]",
      "text/plain": [
       "<matplotlib.figure.Figure at 0x113fc4f98>"
      ]
     },
     "metadata": {},
     "output_type": "display_data"
    }
   ],
   "source": [
    "sbdt = AdaBoostClassifier(DecisionTreeClassifier(),\n",
    "                         algorithm=\"SAMME\",\n",
    "                         n_estimators=1000)\n",
    "\n",
    "sbdt.fit(sptr_ft, sptr_lb)\n",
    "\n",
    "\n",
    "spred = sbdt.predict(spvl_ft)\n",
    "scm_bdt = confusion_matrix(spvl_lb, spred)\n",
    "np.set_printoptions(precision=2)\n",
    "\n",
    "print(scm_bdt)\n",
    "plt.figure()\n",
    "plot_confusion_matrix(scm_bdt)\n",
    "plt.savefig('Confusion_spam_AdaBoost.png', bbox_inches='tight')"
   ]
  },
  {
   "cell_type": "markdown",
   "metadata": {},
   "source": [
    "In tabular form,\n",
    "\n",
    "| true\\prdicted | negative      | positive |\n",
    "| ------------- |:-------------:| --------:|\n",
    "| negative      | 788           | 38       |\n",
    "| positive      | 153           | 193      |"
   ]
  },
  {
   "cell_type": "markdown",
   "metadata": {},
   "source": [
    "#### Metrics of evaluation"
   ]
  },
  {
   "cell_type": "code",
   "execution_count": 818,
   "metadata": {
    "collapsed": false
   },
   "outputs": [
    {
     "data": {
      "text/plain": [
       "(0.72948050518370355, 0.83703071672354945, 0.89190718732314644)"
      ]
     },
     "execution_count": 818,
     "metadata": {},
     "output_type": "execute_result"
    }
   ],
   "source": [
    "metrics(scm_bdt.T)"
   ]
  },
  {
   "cell_type": "markdown",
   "metadata": {},
   "source": [
    "### Gmean summary\n"
   ]
  },
  {
   "cell_type": "markdown",
   "metadata": {},
   "source": [
    "|   Gmean       | linearSVM     | kNN      |  AdaBoost| Thin_linearSVM | Thin_kNN | Thin_AdaBoost|\n",
    "| ------------- |:-------------:| --------:|---------:|---------------:|---------:|-------------:|\n",
    "| spam          | 0.7456        | 0.7164   |  0.7295  |                | \n",
    "| easy          | 0.2781        | 0.4295   |  0.6837  | 0.2781         | 0.4451   | 0.5467       |\n",
    "| diff          | 0.0           | 0.3812   |  0.3556  | 0.0            | 0.3812   | 0.4484       | \n",
    "\n"
   ]
  },
  {
   "cell_type": "markdown",
   "metadata": {},
   "source": [
    "### Thinning out"
   ]
  },
  {
   "cell_type": "code",
   "execution_count": 1372,
   "metadata": {
    "collapsed": true
   },
   "outputs": [],
   "source": [
    "X=etr0\n",
    "y=elb0\n",
    "neg = X[y == 0,:]\n",
    "pos = X[y == 1,:]\n",
    "m = len(neg)\n",
    "n = len(pos)\n",
    "ind = np.arange(m+n)\n",
    "i = nr.choice(ind[y==0],1)[0]\n",
    "\n"
   ]
  },
  {
   "cell_type": "code",
   "execution_count": 1374,
   "metadata": {
    "collapsed": false
   },
   "outputs": [
    {
     "data": {
      "text/plain": [
       "0.0"
      ]
     },
     "execution_count": 1374,
     "metadata": {},
     "output_type": "execute_result"
    }
   ],
   "source": [
    "y[88]"
   ]
  },
  {
   "cell_type": "code",
   "execution_count": 1375,
   "metadata": {
    "collapsed": false
   },
   "outputs": [
    {
     "data": {
      "text/plain": [
       "KNeighborsClassifier(algorithm='auto', leaf_size=30, metric='minkowski',\n",
       "           metric_params=None, n_jobs=1, n_neighbors=1, p=2,\n",
       "           weights='uniform')"
      ]
     },
     "execution_count": 1375,
     "metadata": {},
     "output_type": "execute_result"
    }
   ],
   "source": [
    "C = np.append(ind[y==1], [i])\n",
    "\n",
    "tneigh = KNeighborsClassifier(n_neighbors=1, weights ='uniform')\n",
    "tneigh.fit(X[C,:], np.append(y[y==1],[0]))"
   ]
  },
  {
   "cell_type": "code",
   "execution_count": 1385,
   "metadata": {
    "collapsed": false
   },
   "outputs": [],
   "source": [
    "tpred = np.array(tneigh.predict(X))\n",
    "mis_ind = (tpred != y)"
   ]
  },
  {
   "cell_type": "code",
   "execution_count": 1379,
   "metadata": {
    "collapsed": false
   },
   "outputs": [
    {
     "data": {
      "text/plain": [
       "array([], dtype=int64)"
      ]
     },
     "execution_count": 1379,
     "metadata": {},
     "output_type": "execute_result"
    }
   ],
   "source": [
    "np.intersect1d(ind[mis_ind], C)"
   ]
  },
  {
   "cell_type": "code",
   "execution_count": 1380,
   "metadata": {
    "collapsed": false
   },
   "outputs": [
    {
     "data": {
      "text/plain": [
       "array([ 8, 14, 26, 31, 34, 39, 52, 70, 94, 88])"
      ]
     },
     "execution_count": 1380,
     "metadata": {},
     "output_type": "execute_result"
    }
   ],
   "source": [
    "C"
   ]
  },
  {
   "cell_type": "code",
   "execution_count": 1387,
   "metadata": {
    "collapsed": false
   },
   "outputs": [],
   "source": [
    "C = np.append(C, ind[mis_ind])"
   ]
  },
  {
   "cell_type": "code",
   "execution_count": 1389,
   "metadata": {
    "collapsed": true
   },
   "outputs": [],
   "source": [
    "del_ind = []\n",
    "j = n\n",
    "distj = np.sum(np.square(X - X[C[j],:]), axis = 1)"
   ]
  },
  {
   "cell_type": "code",
   "execution_count": 1392,
   "metadata": {
    "collapsed": false
   },
   "outputs": [
    {
     "data": {
      "text/plain": [
       "100000000000.0"
      ]
     },
     "execution_count": 1392,
     "metadata": {},
     "output_type": "execute_result"
    }
   ],
   "source": [
    "distj[C[j]] = 100000000000\n",
    "distj[88]"
   ]
  },
  {
   "cell_type": "code",
   "execution_count": 1395,
   "metadata": {
    "collapsed": false
   },
   "outputs": [
    {
     "data": {
      "text/plain": [
       "100"
      ]
     },
     "execution_count": 1395,
     "metadata": {},
     "output_type": "execute_result"
    }
   ],
   "source": [
    "minj = np.min(distj)\n",
    "minj\n",
    "len(distj)"
   ]
  },
  {
   "cell_type": "code",
   "execution_count": 1398,
   "metadata": {
    "collapsed": false
   },
   "outputs": [],
   "source": [
    "ind_min = np.logical_and(minj == distj, y == 1)"
   ]
  },
  {
   "cell_type": "code",
   "execution_count": 1411,
   "metadata": {
    "collapsed": false
   },
   "outputs": [],
   "source": [
    "\n",
    "del_ind = []\n",
    "j = 45\n",
    "distj = np.sum(np.square(X - X[C[j],:]), axis = 1)\n",
    "distj[C[j]] = 100000000000\n",
    "minj = np.min(distj)\n",
    "ind_min = np.logical_and(minj == distj, y == 1)\n",
    "\n"
   ]
  },
  {
   "cell_type": "code",
   "execution_count": 1414,
   "metadata": {
    "collapsed": false
   },
   "outputs": [
    {
     "data": {
      "text/plain": [
       "array([31])"
      ]
     },
     "execution_count": 1414,
     "metadata": {},
     "output_type": "execute_result"
    }
   ],
   "source": [
    "ind[ind_min]"
   ]
  },
  {
   "cell_type": "code",
   "execution_count": 1417,
   "metadata": {
    "collapsed": false
   },
   "outputs": [
    {
     "data": {
      "text/plain": [
       "0.38661995125530574"
      ]
     },
     "execution_count": 1417,
     "metadata": {},
     "output_type": "execute_result"
    }
   ],
   "source": [
    "distl = np.sum(np.square(X - X[31,:]), axis = 1)\n",
    "distl[31]=100\n",
    "np.min(distl)"
   ]
  },
  {
   "cell_type": "code",
   "execution_count": 1418,
   "metadata": {
    "collapsed": false
   },
   "outputs": [
    {
     "name": "stdout",
     "output_type": "stream",
     "text": [
      "45\n",
      "[45]\n"
     ]
    }
   ],
   "source": [
    "\n",
    "\n",
    "\n",
    "cond = False\n",
    "for l in ind[ind_min]:\n",
    "    print(j)\n",
    "\n",
    "    if (not cond):\n",
    "        distl = np.sum(np.square(X - X[l,:]), axis = 1)\n",
    "        distl[l] = 10000000\n",
    "\n",
    "        cond = np.all(distl >= minj)\n",
    "\n",
    "        if cond:\n",
    "            del_ind += del_ind + [j]\n",
    "\n",
    "print(del_ind)\n",
    "C = np.delete(C, del_ind)"
   ]
  },
  {
   "cell_type": "code",
   "execution_count": 1433,
   "metadata": {
    "collapsed": false
   },
   "outputs": [],
   "source": [
    "def thin_out(X,y):\n",
    "    neg = X[y == 0,:]\n",
    "    pos = X[y == 1,:]\n",
    "    m = len(neg)\n",
    "    n = len(pos)\n",
    "    ind = np.arange(m+n)\n",
    "    i = nr.choice(ind[y==0],1)[0]\n",
    "    \n",
    "    C = np.append(ind[y==1], [i])\n",
    "    \n",
    "    tneigh = KNeighborsClassifier(n_neighbors=1, weights ='uniform')\n",
    "    tneigh.fit(X[C,:], np.append(y[y==1],[0])) \n",
    "    \n",
    "    tpred = np.array(tneigh.predict(X))\n",
    "    mis_ind = np.logical_and(tpred != y, y == 0)\n",
    "    \n",
    "    if mis_ind[i] == True:\n",
    "        mis_ind[i] = False\n",
    "    \n",
    "    C = np.append(C, ind[mis_ind])\n",
    "    \n",
    "\n",
    "    del_ind = []\n",
    "    for j in range(n, len(C)):\n",
    "        distj = np.sum(np.square(X - X[C[j],:]), axis = 1)\n",
    "        distj[C[j]] = 100000000000\n",
    "        minj = np.min(distj)\n",
    "        ind_min = np.logical_and(minj == distj, y == 1)\n",
    "        \n",
    "        cond = False\n",
    "        for l in ind[ind_min]:\n",
    "            \n",
    "            if (not cond):\n",
    "                distl = np.sum(np.square(X - X[l,:]), axis = 1)\n",
    "                distl[l] = 1000000000\n",
    "            \n",
    "                cond = np.all(distl >= minj)\n",
    "                \n",
    "                if cond:\n",
    "                    del_ind += [j]\n",
    "                \n",
    "    \n",
    "    C = np.delete(C, del_ind)\n",
    "    return C\n",
    "        \n"
   ]
  },
  {
   "cell_type": "code",
   "execution_count": 1429,
   "metadata": {
    "collapsed": false
   },
   "outputs": [
    {
     "data": {
      "text/plain": [
       "True"
      ]
     },
     "execution_count": 1429,
     "metadata": {},
     "output_type": "execute_result"
    }
   ],
   "source": [
    "not False"
   ]
  },
  {
   "cell_type": "code",
   "execution_count": 1430,
   "metadata": {
    "collapsed": false
   },
   "outputs": [
    {
     "name": "stdout",
     "output_type": "stream",
     "text": [
      "[37, 80]\n"
     ]
    },
    {
     "data": {
      "text/plain": [
       "array([15, 24, 47, 62, 65, 73, 78, 89, 91, 92,  0,  1,  2,  3,  4,  5,  6,\n",
       "        7,  8,  9, 10, 12, 13, 14, 16, 17, 18, 19, 20, 21, 22, 23, 25, 26,\n",
       "       27, 28, 29, 32, 33, 34, 35, 36, 37, 38, 39, 40, 41, 42, 43, 44, 45,\n",
       "       46, 48, 49, 50, 51, 52, 53, 54, 55, 56, 57, 58, 59, 60, 61, 63, 64,\n",
       "       66, 67, 68, 69, 70, 71, 72, 74, 75, 76, 77, 80, 81, 82, 83, 84, 85,\n",
       "       86, 87, 88, 90, 93, 94, 95, 96, 97, 98])"
      ]
     },
     "execution_count": 1430,
     "metadata": {},
     "output_type": "execute_result"
    }
   ],
   "source": [
    "thin_out(dtr0, dlb0)"
   ]
  },
  {
   "cell_type": "markdown",
   "metadata": {},
   "source": [
    "### Thin out and linearSVM "
   ]
  },
  {
   "cell_type": "markdown",
   "metadata": {},
   "source": [
    "### Easy model"
   ]
  },
  {
   "cell_type": "code",
   "execution_count": 1440,
   "metadata": {
    "collapsed": false
   },
   "outputs": [],
   "source": [
    "m_ = len(ethlb0)\n",
    "ran_ind = nr.choice(m_,m_,replace = False)\n",
    "ethft0_ , ethlb0_ = ethft0[ran_ind,:], ethlb0[ran_ind]"
   ]
  },
  {
   "cell_type": "code",
   "execution_count": 1441,
   "metadata": {
    "collapsed": false
   },
   "outputs": [
    {
     "data": {
      "text/plain": [
       "3.8164965809277263"
      ]
     },
     "execution_count": 1441,
     "metadata": {},
     "output_type": "execute_result"
    }
   ],
   "source": [
    "cv_linearSVM(ethft0_, ethlb0_, 1, 10)"
   ]
  },
  {
   "cell_type": "code",
   "execution_count": 1442,
   "metadata": {
    "collapsed": false
   },
   "outputs": [
    {
     "data": {
      "text/plain": [
       "3.8164965809277263"
      ]
     },
     "execution_count": 1442,
     "metadata": {},
     "output_type": "execute_result"
    }
   ],
   "source": [
    "cv_linearSVM(ethft0_, ethlb0_, 10, 10)"
   ]
  },
  {
   "cell_type": "code",
   "execution_count": 1443,
   "metadata": {
    "collapsed": false
   },
   "outputs": [
    {
     "data": {
      "text/plain": [
       "0.0"
      ]
     },
     "execution_count": 1443,
     "metadata": {},
     "output_type": "execute_result"
    }
   ],
   "source": [
    "cv_linearSVM(ethft0_, ethlb0_, 0.1, 10)"
   ]
  },
  {
   "cell_type": "code",
   "execution_count": 1444,
   "metadata": {
    "collapsed": false
   },
   "outputs": [
    {
     "data": {
      "text/plain": [
       "3.8164965809277263"
      ]
     },
     "execution_count": 1444,
     "metadata": {},
     "output_type": "execute_result"
    }
   ],
   "source": [
    "cv_linearSVM(ethft0_, ethlb0_, 5, 10)"
   ]
  },
  {
   "cell_type": "code",
   "execution_count": 1445,
   "metadata": {
    "collapsed": false
   },
   "outputs": [
    {
     "data": {
      "text/plain": [
       "3.8164965809277263"
      ]
     },
     "execution_count": 1445,
     "metadata": {},
     "output_type": "execute_result"
    }
   ],
   "source": [
    "cv_linearSVM(ethft0_, ethlb0_, 100, 10)"
   ]
  },
  {
   "cell_type": "code",
   "execution_count": 1446,
   "metadata": {
    "collapsed": false
   },
   "outputs": [
    {
     "data": {
      "image/png": "[encoded data removed]",
      "text/plain": [
       "<matplotlib.figure.Figure at 0x1149bb358>"
      ]
     },
     "metadata": {},
     "output_type": "display_data"
    }
   ],
   "source": [
    "penalty = 1\n",
    "clf = svm.SVC(kernel='linear', C=penalty)\n",
    "\n",
    "\n",
    "clf.fit(ethft0_, ethlb0_)\n",
    "\n",
    "# get the separating hyperplane\n",
    "w = clf.coef_[0]\n",
    "a = -w[0] / w[1]\n",
    "xx = np.linspace(-5, 5)\n",
    "yy = a * xx - (clf.intercept_[0]) / w[1]\n",
    "fignum=1\n",
    "# plot the parallels to the separating hyperplane that pass through the\n",
    "# support vectors\n",
    "margin = 1 / np.sqrt(np.sum(clf.coef_ ** 2))\n",
    "yy_down = yy + a * margin\n",
    "yy_up = yy - a * margin\n",
    "\n",
    "# plot the line, the points, and the nearest vectors to the plane\n",
    "plt.figure(1, figsize=(5, 5))\n",
    "plt.clf()\n",
    "plt.plot(xx, yy, 'k-')\n",
    "plt.plot(xx, yy_down, 'k--')\n",
    "plt.plot(xx, yy_up, 'k--')\n",
    "\n",
    "plt.scatter(clf.support_vectors_[:, 0], clf.support_vectors_[:, 1], s=80,\n",
    "            facecolors='none', zorder=10)\n",
    "plt.scatter(ethft0_[:, 0], ethft0_[:, 1], c=ethlb0_, zorder=10, cmap=plt.cm.Paired, s = 20)\n",
    "\n",
    "plt.axis('tight')\n",
    "x_min = -6\n",
    "x_max = 6\n",
    "y_min = -6\n",
    "y_max = 6\n",
    "\n",
    "XX, YY = np.mgrid[x_min:x_max:200j, y_min:y_max:200j]\n",
    "Z = clf.predict(np.c_[XX.ravel(), YY.ravel()])\n",
    "\n",
    "# Put the result into a color plot\n",
    "Z = Z.reshape(XX.shape)\n",
    "plt.figure(fignum, figsize=(6, 6))\n",
    "plt.pcolormesh(XX, YY, Z, cmap=plt.cm.Paired)\n",
    "\n",
    "plt.xlim(x_min, x_max)\n",
    "plt.ylim(y_min, y_max)\n",
    "\n",
    "\n",
    "#plt.xticks(())\n",
    "#plt.yticks(())\n",
    "\n",
    "\n",
    "brown_patch = mpatches.Patch(color='brown', label='positive')\n",
    "sky_patch = mpatches.Patch(color='skyblue', label='negative')\n",
    "plt.legend(handles=[brown_patch, sky_patch])\n",
    "plt.title(\"Thin_LinearSVM (penalty = 1)\")\n",
    "plt.figtext(0.5, -0.1,'''SVMs decision boundary depends on some subset of the training data, \n",
    "                        called the support vectors. These are marked as big circles. The blue and \n",
    "                        brown circles represent negative and positive data, respectively''',\n",
    "            wrap=True,horizontalalignment='center', fontsize=12)\n",
    "\n",
    "plt.savefig('easy_thin_linearSVM.png', bbox_inches='tight')\n",
    "\n",
    "\n"
   ]
  },
  {
   "cell_type": "code",
   "execution_count": 1447,
   "metadata": {
    "collapsed": false
   },
   "outputs": [
    {
     "name": "stdout",
     "output_type": "stream",
     "text": [
      "[[90  2]\n",
      " [ 4  4]]\n"
     ]
    },
    {
     "data": {
      "image/png": "[encoded data removed]",
      "text/plain": [
       "<matplotlib.figure.Figure at 0x1188e7208>"
      ]
     },
     "metadata": {},
     "output_type": "display_data"
    }
   ],
   "source": [
    "# Compute confusion matrix\n",
    "epred = clf.predict(etr[1000:1100,:])\n",
    "ecm_thin_linearSVM = confusion_matrix(elb[1000:1100], epred)\n",
    "np.set_printoptions(precision=2)\n",
    "print(ecm_thin_linearSVM)\n",
    "plt.figure()\n",
    "plot_confusion_matrix(ecm_thin_linearSVM)\n",
    "plt.savefig('Confusion_easy_thin_linearSVM.png', bbox_inches='tight')"
   ]
  },
  {
   "cell_type": "markdown",
   "metadata": {},
   "source": [
    "In tabular form,\n",
    "\n",
    "| true\\prdicted | negative      | positive |\n",
    "| ------------- |:-------------:| --------:|\n",
    "| negative      | 90            | 2        |\n",
    "| positive      | 4             | 4        |"
   ]
  },
  {
   "cell_type": "markdown",
   "metadata": {},
   "source": [
    "#### Average metrics of evaluation"
   ]
  },
  {
   "cell_type": "code",
   "execution_count": 1448,
   "metadata": {
    "collapsed": true
   },
   "outputs": [],
   "source": [
    "\n",
    "def avg_thin_linearSVM (X, y, penalty, ind):\n",
    "\n",
    "    gmean = []\n",
    "    fmeas = []\n",
    "    accur = []    \n",
    "    X_test = X[1000:1100, :]\n",
    "    y_test = y[1000:1100]\n",
    "    for i in range(1,10):\n",
    "        \n",
    "        X_train = X[i*100:(i+1)*100,:]\n",
    "        y_train = y[i*100:(i+1)*100]\n",
    "        \n",
    "        \n",
    "        X_train_ = X_train[ind[i], :]\n",
    "        y_train_ = y_train[ind[i]]\n",
    "        \n",
    "        clf = svm.SVC(kernel='linear', C=penalty)\n",
    "        clf.fit(X_train_, y_train_)\n",
    "        y_pred = clf.predict(X_test)\n",
    "        cm = confusion_matrix(y_test, y_pred).T\n",
    "\n",
    "        if cm.shape == (1,1):\n",
    "            new_cm = np.zeros((2,2))\n",
    "            new_cm[0,0] = cm[0,0]\n",
    "            cm = new_cm\n",
    "        if cm[0,0]+ cm[1,0] == 0:\n",
    "            a1 = 0\n",
    "        else:\n",
    "            \n",
    "            a1 = cm[0,0]/(cm[0,0] + cm[1,0])\n",
    "        if cm[1,1]+ cm[0,1] == 0:\n",
    "            a0 = 0\n",
    "        else:\n",
    "            a0 = cm[1,1]/(cm[0,1] + cm[1,1])\n",
    "            \n",
    "        if cm[0,0]+ cm[0,1] == 0:\n",
    "            p = 0\n",
    "        else:\n",
    "            p = cm[0,0]/(cm[0,0] + cm[0,1])\n",
    "        \n",
    "        if a1 + p == 0:\n",
    "            f = 0\n",
    "        else:\n",
    "            f = (2 * p * a1)/(a1 + p)\n",
    "        fmeas = fmeas + [f]\n",
    "        gmean = gmean + [np.sqrt(a1 * a0)]\n",
    "        accur = accur + [(cm[0,0]+ cm[1,1])/(cm[0,0]+ cm[1,1]+cm[1,0]+ cm[0,1])]\n",
    "\n",
    "    return gmean, accur, fmeas"
   ]
  },
  {
   "cell_type": "code",
   "execution_count": 1449,
   "metadata": {
    "collapsed": false
   },
   "outputs": [],
   "source": [
    "thin_linearSVM_gmean, thin_linearSVM_accur, thin_linearSVM_fmeas = avg_thin_linearSVM (etr, elb, 1, eind)"
   ]
  },
  {
   "cell_type": "code",
   "execution_count": 1450,
   "metadata": {
    "collapsed": false
   },
   "outputs": [
    {
     "data": {
      "text/plain": [
       "0.3349231635802965"
      ]
     },
     "execution_count": 1450,
     "metadata": {},
     "output_type": "execute_result"
    }
   ],
   "source": [
    "np.mean(thin_linearSVM_gmean)"
   ]
  },
  {
   "cell_type": "code",
   "execution_count": 1451,
   "metadata": {
    "collapsed": false
   },
   "outputs": [
    {
     "data": {
      "text/plain": [
       "0.92222222222222228"
      ]
     },
     "execution_count": 1451,
     "metadata": {},
     "output_type": "execute_result"
    }
   ],
   "source": [
    "np.mean(thin_linearSVM_accur)"
   ]
  },
  {
   "cell_type": "code",
   "execution_count": 1452,
   "metadata": {
    "collapsed": false
   },
   "outputs": [
    {
     "data": {
      "text/plain": [
       "0.9589363899438994"
      ]
     },
     "execution_count": 1452,
     "metadata": {},
     "output_type": "execute_result"
    }
   ],
   "source": [
    "np.mean(thin_linearSVM_fmeas)"
   ]
  },
  {
   "cell_type": "markdown",
   "metadata": {},
   "source": [
    "#### Difficult model "
   ]
  },
  {
   "cell_type": "code",
   "execution_count": 1453,
   "metadata": {
    "collapsed": true
   },
   "outputs": [],
   "source": [
    "m_= len(dthlb0)\n",
    "ran_ind = nr.choice(m_,m_,replace = False)\n",
    "dthlb0_ = dthlb0[ran_ind]\n",
    "dthft0_ = dthft0[ran_ind, :]"
   ]
  },
  {
   "cell_type": "code",
   "execution_count": 1454,
   "metadata": {
    "collapsed": false
   },
   "outputs": [
    {
     "data": {
      "text/plain": [
       "0.0"
      ]
     },
     "execution_count": 1454,
     "metadata": {},
     "output_type": "execute_result"
    }
   ],
   "source": [
    "cv_linearSVM (dthft0_, dthlb0_, 1, 10) "
   ]
  },
  {
   "cell_type": "code",
   "execution_count": 1455,
   "metadata": {
    "collapsed": false
   },
   "outputs": [
    {
     "data": {
      "text/plain": [
       "0.0"
      ]
     },
     "execution_count": 1455,
     "metadata": {},
     "output_type": "execute_result"
    }
   ],
   "source": [
    "cv_linearSVM (dthft0_, dthlb0_, 10, 10) "
   ]
  },
  {
   "cell_type": "code",
   "execution_count": 1456,
   "metadata": {
    "collapsed": false
   },
   "outputs": [
    {
     "data": {
      "text/plain": [
       "0.0"
      ]
     },
     "execution_count": 1456,
     "metadata": {},
     "output_type": "execute_result"
    }
   ],
   "source": [
    "cv_linearSVM (dthft0_, dthlb0_, 100, 10) "
   ]
  },
  {
   "cell_type": "code",
   "execution_count": 1457,
   "metadata": {
    "collapsed": false
   },
   "outputs": [
    {
     "data": {
      "image/png": "[encoded data removed]",
      "text/plain": [
       "<matplotlib.figure.Figure at 0x113fb2400>"
      ]
     },
     "metadata": {},
     "output_type": "display_data"
    }
   ],
   "source": [
    "penalty = 1\n",
    "clf = svm.SVC(kernel='linear', C=penalty)\n",
    "\n",
    "\n",
    "clf.fit(dthft0_, dthlb0_)\n",
    "\n",
    "# get the separating hyperplane\n",
    "w = clf.coef_[0]\n",
    "a = -w[0] / w[1]\n",
    "xx = np.linspace(-5, 5)\n",
    "yy = a * xx - (clf.intercept_[0]) / w[1]\n",
    "fignum=1\n",
    "# plot the parallels to the separating hyperplane that pass through the\n",
    "# support vectors\n",
    "margin = 1 / np.sqrt(np.sum(clf.coef_ ** 2))\n",
    "yy_down = yy + a * margin\n",
    "yy_up = yy - a * margin\n",
    "\n",
    "# plot the line, the points, and the nearest vectors to the plane\n",
    "plt.figure(1, figsize=(5, 5))\n",
    "plt.clf()\n",
    "plt.plot(xx, yy, 'k-')\n",
    "plt.plot(xx, yy_down, 'k--')\n",
    "plt.plot(xx, yy_up, 'k--')\n",
    "\n",
    "plt.scatter(clf.support_vectors_[:, 0], clf.support_vectors_[:, 1], s=80,\n",
    "            facecolors='none', zorder=10)\n",
    "plt.scatter(dthft0_[:, 0], dthft0_[:, 1], c=dthlb0_, zorder=10, cmap=plt.cm.Paired, s = 20)\n",
    "\n",
    "plt.axis('tight')\n",
    "x_min = -6\n",
    "x_max = 6\n",
    "y_min = -6\n",
    "y_max = 6\n",
    "\n",
    "XX, YY = np.mgrid[x_min:x_max:200j, y_min:y_max:200j]\n",
    "Z = clf.predict(np.c_[XX.ravel(), YY.ravel()])\n",
    "\n",
    "# Put the result into a color plot\n",
    "Z = Z.reshape(XX.shape)\n",
    "plt.figure(fignum, figsize=(6, 6))\n",
    "plt.pcolormesh(XX, YY, Z, cmap=plt.cm.Paired)\n",
    "\n",
    "plt.xlim(x_min, x_max)\n",
    "plt.ylim(y_min, y_max)\n",
    "\n",
    "\n",
    "#plt.xticks(())\n",
    "#plt.yticks(())\n",
    "\n",
    "\n",
    "brown_patch = mpatches.Patch(color='brown', label='positive')\n",
    "sky_patch = mpatches.Patch(color='skyblue', label='negative')\n",
    "plt.legend(handles=[brown_patch, sky_patch])\n",
    "plt.title(\"Thin_LinearSVM (penalty = 1)\")\n",
    "plt.figtext(0.5, -0.1,'''SVMs decision boundary depends on some subset of the training data, \n",
    "                        called the support vectors. These are marked as big circles. The blue and \n",
    "                        brown circles represent negative and positive data, respectively''',\n",
    "            wrap=True,horizontalalignment='center', fontsize=12)\n",
    "\n",
    "plt.savefig('diff_thin_linearSVM.png', bbox_inches='tight')\n"
   ]
  },
  {
   "cell_type": "code",
   "execution_count": 1458,
   "metadata": {
    "collapsed": false
   },
   "outputs": [
    {
     "name": "stdout",
     "output_type": "stream",
     "text": [
      "[[94  0]\n",
      " [ 6  0]]\n"
     ]
    },
    {
     "data": {
      "image/png": "[encoded data removed]",
      "text/plain": [
       "<matplotlib.figure.Figure at 0x113252358>"
      ]
     },
     "metadata": {},
     "output_type": "display_data"
    }
   ],
   "source": [
    "# Compute confusion matrix\n",
    "dpred = clf.predict(dtr[1000:1100,:])\n",
    "dcm_thin_linearSVM = confusion_matrix(dlb[1000:1100], dpred)\n",
    "np.set_printoptions(precision=2)\n",
    "print(dcm_thin_linearSVM)\n",
    "plt.figure()\n",
    "plot_confusion_matrix(dcm_thin_linearSVM)\n",
    "plt.savefig('Confusion_diff_thin_linearSVM.png', bbox_inches='tight')"
   ]
  },
  {
   "cell_type": "markdown",
   "metadata": {},
   "source": [
    "In tabular form,\n",
    "\n",
    "| true\\prdicted | negative      | positive |\n",
    "| ------------- |:-------------:| --------:|\n",
    "| negative      | 94            | 0        |\n",
    "| positive      | 6             | 0        |"
   ]
  },
  {
   "cell_type": "code",
   "execution_count": 1459,
   "metadata": {
    "collapsed": true
   },
   "outputs": [],
   "source": [
    "dthin_linearSVM_gmean, dthin_linearSVM_acurr, dthin_linearSVM_fmeas = avg_thin_linearSVM(dtr, dlb, 1, dind)"
   ]
  },
  {
   "cell_type": "code",
   "execution_count": 1460,
   "metadata": {
    "collapsed": false
   },
   "outputs": [
    {
     "data": {
      "text/plain": [
       "0.0"
      ]
     },
     "execution_count": 1460,
     "metadata": {},
     "output_type": "execute_result"
    }
   ],
   "source": [
    "np.mean(dthin_linearSVM_gmean)"
   ]
  },
  {
   "cell_type": "code",
   "execution_count": 1461,
   "metadata": {
    "collapsed": false
   },
   "outputs": [
    {
     "data": {
      "text/plain": [
       "0.93999999999999995"
      ]
     },
     "execution_count": 1461,
     "metadata": {},
     "output_type": "execute_result"
    }
   ],
   "source": [
    "np.mean(dthin_linearSVM_acurr)"
   ]
  },
  {
   "cell_type": "code",
   "execution_count": 1462,
   "metadata": {
    "collapsed": false
   },
   "outputs": [
    {
     "data": {
      "text/plain": [
       "0.9690721649484535"
      ]
     },
     "execution_count": 1462,
     "metadata": {},
     "output_type": "execute_result"
    }
   ],
   "source": [
    "np.mean(dthin_linearSVM_fmeas)"
   ]
  },
  {
   "cell_type": "markdown",
   "metadata": {},
   "source": [
    "### Thin out and kNN"
   ]
  },
  {
   "cell_type": "code",
   "execution_count": 1463,
   "metadata": {
    "collapsed": false
   },
   "outputs": [
    {
     "data": {
      "text/plain": [
       "4.6329268809590989"
      ]
     },
     "execution_count": 1463,
     "metadata": {},
     "output_type": "execute_result"
    }
   ],
   "source": [
    "cv_kNN(ethft0_, ethlb0_, 1, 10)"
   ]
  },
  {
   "cell_type": "code",
   "execution_count": 1464,
   "metadata": {
    "collapsed": false
   },
   "outputs": [
    {
     "data": {
      "text/plain": [
       "3.8164965809277263"
      ]
     },
     "execution_count": 1464,
     "metadata": {},
     "output_type": "execute_result"
    }
   ],
   "source": [
    "cv_kNN(ethft0_, ethlb0_, 3, 10)"
   ]
  },
  {
   "cell_type": "code",
   "execution_count": 1465,
   "metadata": {
    "collapsed": false
   },
   "outputs": [
    {
     "data": {
      "text/plain": [
       "2.5773502691896257"
      ]
     },
     "execution_count": 1465,
     "metadata": {},
     "output_type": "execute_result"
    }
   ],
   "source": [
    "cv_kNN(ethft0_, ethlb0_, 5, 10)"
   ]
  },
  {
   "cell_type": "code",
   "execution_count": 1466,
   "metadata": {
    "collapsed": false
   },
   "outputs": [
    {
     "data": {
      "text/plain": [
       "2.0"
      ]
     },
     "execution_count": 1466,
     "metadata": {},
     "output_type": "execute_result"
    }
   ],
   "source": [
    "cv_kNN(ethft0_, ethlb0_, 7, 10)"
   ]
  },
  {
   "cell_type": "code",
   "execution_count": 1467,
   "metadata": {
    "collapsed": false
   },
   "outputs": [
    {
     "data": {
      "text/plain": [
       "1.0"
      ]
     },
     "execution_count": 1467,
     "metadata": {},
     "output_type": "execute_result"
    }
   ],
   "source": [
    "cv_kNN(ethft0_, ethlb0_, 9, 10)"
   ]
  },
  {
   "cell_type": "code",
   "execution_count": 1468,
   "metadata": {
    "collapsed": false
   },
   "outputs": [
    {
     "data": {
      "text/plain": [
       "1.0"
      ]
     },
     "execution_count": 1468,
     "metadata": {},
     "output_type": "execute_result"
    }
   ],
   "source": [
    "cv_kNN(ethft0_, ethlb0_, 11, 10)"
   ]
  },
  {
   "cell_type": "code",
   "execution_count": null,
   "metadata": {
    "collapsed": false
   },
   "outputs": [],
   "source": [
    "h = .02  # step size in the mesh\n",
    "\n",
    "# Create color maps\n",
    "cmap_light = ListedColormap(['#FFAAAA', '#AAFFAA'])\n",
    "cmap_bold = ListedColormap(['#FF0000', '#00FF00'])\n",
    "\n",
    "\n",
    "# we create an instance of Neighbours Classifier and fit the data.\n",
    "tneigh = KNeighborsClassifier(n_neighbors=1, weights ='uniform')\n",
    "\n",
    "tneigh.fit(ethft0_, ethlb0_) \n",
    "\n",
    "# Plot the decision boundary. For that, we will assign a color to each\n",
    "# point in the mesh [x_min, m_max]x[y_min, y_max].\n",
    "x_min = -6\n",
    "x_max = 6\n",
    "y_min = -6\n",
    "y_max = 6\n",
    "xx, yy = np.meshgrid(np.arange(x_min, x_max, h),\n",
    "                     np.arange(y_min, y_max, h))\n",
    "Z = tneigh.predict(np.c_[xx.ravel(), yy.ravel()])\n",
    "\n",
    "# Put the result into a color plot\n",
    "Z = Z.reshape(xx.shape)\n",
    "plt.figure(1, figsize=(6,6))\n",
    "plt.pcolormesh(xx, yy, Z, cmap=cmap_light)\n",
    "\n",
    "# Plot also the training points\n",
    "plt.scatter(ethft0_[:, 0], ethft0_[:, 1], c=ethlb0_, cmap=cmap_bold, s = 20)\n",
    "plt.xlim(xx.min(), xx.max())\n",
    "plt.ylim(yy.min(), yy.max())\n",
    "plt.title(\"Thin_k-Nearest neighbors (k = %i, weights = '%s')\"\n",
    "          % (1, 'distance'))\n",
    "\n",
    "green_patch = mpatches.Patch(color='green', label='positive')\n",
    "red_patch = mpatches.Patch(color='red', label='negative')\n",
    "plt.legend(handles=[green_patch, red_patch])\n",
    "\n",
    "plt.savefig('easy_thin_kNN.png', bbox_inches='tight')"
   ]
  },
  {
   "cell_type": "code",
   "execution_count": null,
   "metadata": {
    "collapsed": false
   },
   "outputs": [],
   "source": [
    "# Compute confusion matrix\n",
    "epred = tneigh.predict(etr[1000:1100,:])\n",
    "ecm_thin_kNN = confusion_matrix(elb[1000:1100], epred)\n",
    "np.set_printoptions(precision=2)\n",
    "print(ecm_thin_kNN)\n",
    "plt.figure()\n",
    "plot_confusion_matrix(ecm_thin_kNN)\n",
    "plt.savefig('Confusion_easy_thin_kNN.png', bbox_inches='tight')"
   ]
  },
  {
   "cell_type": "markdown",
   "metadata": {},
   "source": [
    "In tabular form,\n",
    "\n",
    "| true\\prdicted | negative      | positive |\n",
    "| ------------- |:-------------:| --------:|\n",
    "| negative      | 85            | 7        |\n",
    "| positive      | 6             | 2        |"
   ]
  },
  {
   "cell_type": "code",
   "execution_count": 1290,
   "metadata": {
    "collapsed": true
   },
   "outputs": [],
   "source": [
    "def avg_thin_kNN (X, y, k, ind):\n",
    "\n",
    "    gmean = []\n",
    "    fmeas = []\n",
    "    accur = []    \n",
    "    X_test = X[1000:1100, :]\n",
    "    y_test = y[1000:1100]\n",
    "    for i in range(1,10):\n",
    "        \n",
    "        X_train = X[i*100:(i+1)*100,:]\n",
    "        y_train = y[i*100:(i+1)*100]\n",
    "        \n",
    "        X_train_ = X_train[ind[i]]\n",
    "        y_train_ = y_train[ind[i]]\n",
    "        \n",
    "        clf = KNeighborsClassifier(n_neighbors=k, weights ='uniform')\n",
    "        clf.fit(X_train_, y_train_)\n",
    "        y_pred = clf.predict(X_test)\n",
    "        cm = confusion_matrix(y_test, y_pred).T\n",
    "\n",
    "        if cm.shape == (1,1):\n",
    "            new_cm = np.zeros((2,2))\n",
    "            new_cm[0,0] = cm[0,0]\n",
    "            cm = new_cm\n",
    "        if cm[0,0]+ cm[1,0] == 0:\n",
    "            a1 = 0\n",
    "        else:\n",
    "            \n",
    "            a1 = cm[0,0]/(cm[0,0] + cm[1,0])\n",
    "        if cm[1,1]+ cm[0,1] == 0:\n",
    "            a0 = 0\n",
    "        else:\n",
    "            a0 = cm[1,1]/(cm[0,1] + cm[1,1])\n",
    "            \n",
    "        if cm[0,0]+ cm[0,1] == 0:\n",
    "            p = 0\n",
    "        else:\n",
    "            p = cm[0,0]/(cm[0,0] + cm[0,1])\n",
    "        \n",
    "        if a1 + p == 0:\n",
    "            f = 0\n",
    "        else:\n",
    "            f = (2 * p * a1)/(a1 + p)\n",
    "        fmeas = fmeas + [f]\n",
    "        gmean = gmean + [np.sqrt(a1 * a0)]\n",
    "        accur = accur + [(cm[0,0]+ cm[1,1])/(cm[0,0]+ cm[1,1]+cm[1,0]+ cm[0,1])]\n",
    "\n",
    "    return gmean, accur, fmeas"
   ]
  },
  {
   "cell_type": "code",
   "execution_count": 1291,
   "metadata": {
    "collapsed": false
   },
   "outputs": [],
   "source": [
    "thin_kNN_gmean, thin_kNN_accur, thin_kNN_fmeas = avg_thin_kNN(etr, elb, 1, eind)"
   ]
  },
  {
   "cell_type": "code",
   "execution_count": 1292,
   "metadata": {
    "collapsed": false
   },
   "outputs": [
    {
     "data": {
      "text/plain": [
       "0.42890258602354553"
      ]
     },
     "execution_count": 1292,
     "metadata": {},
     "output_type": "execute_result"
    }
   ],
   "source": [
    "np.mean(thin_kNN_gmean)"
   ]
  },
  {
   "cell_type": "code",
   "execution_count": 1293,
   "metadata": {
    "collapsed": false
   },
   "outputs": [
    {
     "data": {
      "text/plain": [
       "0.89777777777777779"
      ]
     },
     "execution_count": 1293,
     "metadata": {},
     "output_type": "execute_result"
    }
   ],
   "source": [
    "np.mean(thin_kNN_accur)"
   ]
  },
  {
   "cell_type": "code",
   "execution_count": 1294,
   "metadata": {
    "collapsed": false
   },
   "outputs": [
    {
     "data": {
      "text/plain": [
       "0.94489750218704116"
      ]
     },
     "execution_count": 1294,
     "metadata": {},
     "output_type": "execute_result"
    }
   ],
   "source": [
    "np.mean(thin_kNN_fmeas)"
   ]
  },
  {
   "cell_type": "markdown",
   "metadata": {},
   "source": [
    "#### Difficult model"
   ]
  },
  {
   "cell_type": "code",
   "execution_count": 1295,
   "metadata": {
    "collapsed": false
   },
   "outputs": [
    {
     "data": {
      "text/plain": [
       "0.93541434669348533"
      ]
     },
     "execution_count": 1295,
     "metadata": {},
     "output_type": "execute_result"
    }
   ],
   "source": [
    "cv_kNN(dthft0_, dthlb0_, 1, 10)"
   ]
  },
  {
   "cell_type": "code",
   "execution_count": 1296,
   "metadata": {
    "collapsed": false
   },
   "outputs": [
    {
     "data": {
      "text/plain": [
       "0.0"
      ]
     },
     "execution_count": 1296,
     "metadata": {},
     "output_type": "execute_result"
    }
   ],
   "source": [
    "cv_kNN(dthft0_, dthlb0_, 3, 10)"
   ]
  },
  {
   "cell_type": "code",
   "execution_count": 1297,
   "metadata": {
    "collapsed": false
   },
   "outputs": [
    {
     "data": {
      "text/plain": [
       "0.0"
      ]
     },
     "execution_count": 1297,
     "metadata": {},
     "output_type": "execute_result"
    }
   ],
   "source": [
    "cv_kNN(dthft0_, dthlb0_, 5, 10)"
   ]
  },
  {
   "cell_type": "code",
   "execution_count": 1299,
   "metadata": {
    "collapsed": false
   },
   "outputs": [
    {
     "data": {
      "text/plain": [
       "0.0"
      ]
     },
     "execution_count": 1299,
     "metadata": {},
     "output_type": "execute_result"
    }
   ],
   "source": [
    "cv_kNN(dthft0_, dthlb0_, 7, 10)"
   ]
  },
  {
   "cell_type": "code",
   "execution_count": 1301,
   "metadata": {
    "collapsed": false
   },
   "outputs": [
    {
     "data": {
      "image/png": "[encoded data removed]",
      "text/plain": [
       "<matplotlib.figure.Figure at 0x10e84ceb8>"
      ]
     },
     "metadata": {},
     "output_type": "display_data"
    }
   ],
   "source": [
    "h = .02  # step size in the mesh\n",
    "\n",
    "# Create color maps\n",
    "cmap_light = ListedColormap(['#FFAAAA', '#AAFFAA'])\n",
    "cmap_bold = ListedColormap(['#FF0000', '#00FF00'])\n",
    "\n",
    "\n",
    "# we create an instance of Neighbours Classifier and fit the data.\n",
    "tneigh = KNeighborsClassifier(n_neighbors=1, weights ='uniform')\n",
    "\n",
    "tneigh.fit(dthft0_, dthlb0_) \n",
    "\n",
    "# Plot the decision boundary. For that, we will assign a color to each\n",
    "# point in the mesh [x_min, m_max]x[y_min, y_max].\n",
    "x_min = -6\n",
    "x_max = 6\n",
    "y_min = -6\n",
    "y_max = 6\n",
    "xx, yy = np.meshgrid(np.arange(x_min, x_max, h),\n",
    "                     np.arange(y_min, y_max, h))\n",
    "Z = tneigh.predict(np.c_[xx.ravel(), yy.ravel()])\n",
    "\n",
    "# Put the result into a color plot\n",
    "Z = Z.reshape(xx.shape)\n",
    "plt.figure(1, figsize=(6,6))\n",
    "plt.pcolormesh(xx, yy, Z, cmap=cmap_light)\n",
    "\n",
    "# Plot also the training points\n",
    "plt.scatter(dthft0_[:, 0], dthft0_[:, 1], c=dthlb0_, cmap=cmap_bold, s = 20)\n",
    "plt.xlim(xx.min(), xx.max())\n",
    "plt.ylim(yy.min(), yy.max())\n",
    "plt.title(\"Thin_k-Nearest neighbors (k = %i, weights = '%s')\"\n",
    "          % (1, 'distance'))\n",
    "\n",
    "green_patch = mpatches.Patch(color='green', label='positive')\n",
    "red_patch = mpatches.Patch(color='red', label='negative')\n",
    "plt.legend(handles=[green_patch, red_patch])\n",
    "\n",
    "plt.savefig('diff_thin_kNN.png', bbox_inches='tight')"
   ]
  },
  {
   "cell_type": "code",
   "execution_count": 1303,
   "metadata": {
    "collapsed": false
   },
   "outputs": [
    {
     "data": {
      "text/plain": [
       "97"
      ]
     },
     "execution_count": 1303,
     "metadata": {},
     "output_type": "execute_result"
    }
   ],
   "source": [
    "len(dthft0)"
   ]
  },
  {
   "cell_type": "code",
   "execution_count": 1103,
   "metadata": {
    "collapsed": false
   },
   "outputs": [
    {
     "name": "stdout",
     "output_type": "stream",
     "text": [
      "[[83 11]\n",
      " [ 5  1]]\n"
     ]
    },
    {
     "data": {
      "image/png": "[encoded data removed]",
      "text/plain": [
       "<matplotlib.figure.Figure at 0x1133595c0>"
      ]
     },
     "metadata": {},
     "output_type": "display_data"
    }
   ],
   "source": [
    "# Compute confusion matrix\n",
    "dpred = tneigh.predict(dtr[1000:1100,:])\n",
    "dcm_thin_kNN = confusion_matrix(dlb[1000:1100], dpred)\n",
    "np.set_printoptions(precision=2)\n",
    "print(dcm_thin_kNN)\n",
    "plt.figure()\n",
    "plot_confusion_matrix(dcm_thin_kNN)\n",
    "plt.savefig('Confusion_diff_thin_kNN.png', bbox_inches='tight')"
   ]
  },
  {
   "cell_type": "markdown",
   "metadata": {},
   "source": [
    "In tabular form,\n",
    "\n",
    "| true\\prdicted | negative      | positive |\n",
    "| ------------- |:-------------:| --------:|\n",
    "| negative      | 83            | 11       |\n",
    "| positive      | 5             | 1        |"
   ]
  },
  {
   "cell_type": "markdown",
   "metadata": {},
   "source": [
    "#### Average metrics of evaluation"
   ]
  },
  {
   "cell_type": "code",
   "execution_count": 1104,
   "metadata": {
    "collapsed": true
   },
   "outputs": [],
   "source": [
    "dthin_kNN_gmean, dthin_kNN_accur, dthin_kNN_fmeas = avg_thin_kNN(dtr, dlb, 1)"
   ]
  },
  {
   "cell_type": "code",
   "execution_count": 1105,
   "metadata": {
    "collapsed": false
   },
   "outputs": [
    {
     "data": {
      "text/plain": [
       "0.38117497103809805"
      ]
     },
     "execution_count": 1105,
     "metadata": {},
     "output_type": "execute_result"
    }
   ],
   "source": [
    "np.mean(dthin_kNN_gmean)"
   ]
  },
  {
   "cell_type": "code",
   "execution_count": 1106,
   "metadata": {
    "collapsed": false
   },
   "outputs": [
    {
     "data": {
      "text/plain": [
       "0.87222222222222223"
      ]
     },
     "execution_count": 1106,
     "metadata": {},
     "output_type": "execute_result"
    }
   ],
   "source": [
    "np.mean(dthin_kNN_accur)"
   ]
  },
  {
   "cell_type": "code",
   "execution_count": 1107,
   "metadata": {
    "collapsed": false
   },
   "outputs": [
    {
     "data": {
      "text/plain": [
       "0.93063120046755088"
      ]
     },
     "execution_count": 1107,
     "metadata": {},
     "output_type": "execute_result"
    }
   ],
   "source": [
    "np.mean(dthin_kNN_fmeas)"
   ]
  },
  {
   "cell_type": "markdown",
   "metadata": {},
   "source": [
    "### Thin out and AdaBoost"
   ]
  },
  {
   "cell_type": "code",
   "execution_count": 1108,
   "metadata": {
    "collapsed": false
   },
   "outputs": [
    {
     "data": {
      "text/plain": [
       "<matplotlib.figure.Figure at 0x11334f6a0>"
      ]
     },
     "metadata": {},
     "output_type": "display_data"
    },
    {
     "data": {
      "image/png": "[encoded data removed]",
      "text/plain": [
       "<matplotlib.figure.Figure at 0x117e793c8>"
      ]
     },
     "metadata": {},
     "output_type": "display_data"
    }
   ],
   "source": [
    "# Create and fit an AdaBoosted decision tree\n",
    "ebdt = AdaBoostClassifier(DecisionTreeClassifier(),\n",
    "                         algorithm=\"SAMME\",\n",
    "                         n_estimators=200)\n",
    "\n",
    "thin_ind = thin_out(etr0, elb0)\n",
    "etr0_,elb0_ = etr0[thin_ind,:], elb0[thin_ind]\n",
    "\n",
    "ebdt.fit(etr0_, elb0_)\n",
    "\n",
    "plot_colors = ['blue','yellow']\n",
    "plot_step = 0.02\n",
    "\n",
    "\n",
    "\n",
    "# Plot the decision boundaries\n",
    "plt.figure()\n",
    "x_min = -6\n",
    "x_max = 6\n",
    "y_min = -6\n",
    "y_max = 6\n",
    "xx, yy = np.meshgrid(np.arange(x_min, x_max, plot_step),\n",
    "                     np.arange(y_min, y_max, plot_step))\n",
    "\n",
    "Z = ebdt.predict(np.c_[xx.ravel(), yy.ravel()])\n",
    "Z = Z.reshape(xx.shape)\n",
    "plt.figure(figsize=(6, 6))\n",
    "cs = plt.contourf(xx, yy, Z, cmap=plt.cm.Paired)\n",
    "plt.axis(\"tight\")\n",
    "\n",
    "# Plot the training points\n",
    "for i, c in zip(range(2), plot_colors):\n",
    "    idx = np.where(dlb0 == i)\n",
    "    plt.scatter(dtr0[idx, 0], dtr0[idx, 1], c=c)\n",
    "plt.xlim(x_min, x_max)\n",
    "plt.ylim(y_min, y_max)\n",
    "\n",
    "gold_patch = mpatches.Patch(color='gold', label='positive')\n",
    "blue_patch = mpatches.Patch(color='dodgerBlue', label='negative')\n",
    "plt.legend(handles=[gold_patch, blue_patch])\n",
    "\n",
    "plt.title('Thin_AdaBoost(n_estimators=200)')\n",
    "\n",
    "plt.savefig('easy_thin_Adaboost.png', bbox_inches='tight')"
   ]
  },
  {
   "cell_type": "code",
   "execution_count": 1109,
   "metadata": {
    "collapsed": false
   },
   "outputs": [
    {
     "name": "stdout",
     "output_type": "stream",
     "text": [
      "[[72 20]\n",
      " [ 6  2]]\n"
     ]
    },
    {
     "data": {
      "image/png": "[encoded data removed]",
      "text/plain": [
       "<matplotlib.figure.Figure at 0x113252438>"
      ]
     },
     "metadata": {},
     "output_type": "display_data"
    }
   ],
   "source": [
    "# Compute confusion matrix\n",
    "epred = ebdt.predict(dtr[1000:1100,:])\n",
    "ecm_thin_AdaBoost = confusion_matrix(elb[1000:1100], epred)\n",
    "np.set_printoptions(precision=2)\n",
    "print(ecm_thin_AdaBoost)\n",
    "plt.figure()\n",
    "plot_confusion_matrix(ecm_thin_AdaBoost)\n",
    "plt.savefig('Confusion_easy_thin_AdaBoost.png', bbox_inches='tight')"
   ]
  },
  {
   "cell_type": "markdown",
   "metadata": {},
   "source": [
    "In tabular form,\n",
    "\n",
    "| true\\prdicted | negative      | positive |\n",
    "| ------------- |:-------------:| --------:|\n",
    "| negative      | 72            | 20       |\n",
    "| positive      | 6             | 2        |"
   ]
  },
  {
   "cell_type": "code",
   "execution_count": 1110,
   "metadata": {
    "collapsed": true
   },
   "outputs": [],
   "source": [
    "def avg_thin_AdaBoost (X, y):\n",
    "\n",
    "    gmean = []\n",
    "    fmeas = []\n",
    "    accur = []    \n",
    "    X_test = X[1000:1100, :]\n",
    "    y_test = y[1000:1100]\n",
    "    for i in range(1,10):\n",
    "        \n",
    "        X_train = X[i*100:(i+1)*100,:]\n",
    "        y_train = y[i*100:(i+1)*100]\n",
    "        \n",
    "        \n",
    "        thin_ind = thin_out(X_train, y_train)\n",
    "        X_train_ = X_train[thin_ind, :]\n",
    "        y_train_ = y_train[thin_ind]\n",
    "        bdt = AdaBoostClassifier(DecisionTreeClassifier(),\n",
    "                         algorithm=\"SAMME\",\n",
    "                         n_estimators=200)\n",
    "\n",
    "        bdt.fit(X_train_, y_train_)\n",
    "        y_pred = bdt.predict(X_test)\n",
    "        \n",
    "        cm = confusion_matrix(y_test, y_pred).T\n",
    "\n",
    "        if cm.shape == (1,1):\n",
    "            new_cm = np.zeros((2,2))\n",
    "            new_cm[0,0] = cm[0,0]\n",
    "            cm = new_cm\n",
    "        if cm[0,0]+ cm[1,0] == 0:\n",
    "            a1 = 0\n",
    "        else:\n",
    "            \n",
    "            a1 = cm[0,0]/(cm[0,0] + cm[1,0])\n",
    "        if cm[1,1]+ cm[0,1] == 0:\n",
    "            a0 = 0\n",
    "        else:\n",
    "            a0 = cm[1,1]/(cm[0,1] + cm[1,1])\n",
    "            \n",
    "        if cm[0,0]+ cm[0,1] == 0:\n",
    "            p = 0\n",
    "        else:\n",
    "            p = cm[0,0]/(cm[0,0] + cm[0,1])\n",
    "        \n",
    "        if a1 + p == 0:\n",
    "            f = 0\n",
    "        else:\n",
    "            f = (2 * p * a1)/(a1 + p)\n",
    "        fmeas = fmeas + [f]\n",
    "        gmean = gmean + [np.sqrt(a1 * a0)]\n",
    "        accur = accur + [(cm[0,0]+ cm[1,1])/(cm[0,0]+ cm[1,1]+cm[1,0]+ cm[0,1])]\n",
    "\n",
    "    return gmean, accur, fmeas"
   ]
  },
  {
   "cell_type": "code",
   "execution_count": 1111,
   "metadata": {
    "collapsed": false
   },
   "outputs": [],
   "source": [
    "thin_AdaBoost_gmean, thin_AdaBoost_accur, thin_AdaBoost_fmeas = avg_thin_AdaBoost(etr,elb)"
   ]
  },
  {
   "cell_type": "code",
   "execution_count": 1112,
   "metadata": {
    "collapsed": false
   },
   "outputs": [
    {
     "data": {
      "text/plain": [
       "0.54674905091880233"
      ]
     },
     "execution_count": 1112,
     "metadata": {},
     "output_type": "execute_result"
    }
   ],
   "source": [
    "np.mean(thin_AdaBoost_gmean)"
   ]
  },
  {
   "cell_type": "code",
   "execution_count": 1113,
   "metadata": {
    "collapsed": false
   },
   "outputs": [
    {
     "data": {
      "text/plain": [
       "0.89777777777777779"
      ]
     },
     "execution_count": 1113,
     "metadata": {},
     "output_type": "execute_result"
    }
   ],
   "source": [
    "np.mean(thin_AdaBoost_accur)"
   ]
  },
  {
   "cell_type": "code",
   "execution_count": 1114,
   "metadata": {
    "collapsed": false
   },
   "outputs": [
    {
     "data": {
      "text/plain": [
       "0.94444870410238735"
      ]
     },
     "execution_count": 1114,
     "metadata": {},
     "output_type": "execute_result"
    }
   ],
   "source": [
    "np.mean(thin_AdaBoost_fmeas)"
   ]
  },
  {
   "cell_type": "markdown",
   "metadata": {},
   "source": [
    "#### Difficult model"
   ]
  },
  {
   "cell_type": "code",
   "execution_count": 1116,
   "metadata": {
    "collapsed": false
   },
   "outputs": [
    {
     "data": {
      "text/plain": [
       "<matplotlib.figure.Figure at 0x1144199e8>"
      ]
     },
     "metadata": {},
     "output_type": "display_data"
    },
    {
     "data": {
      "image/png": "[encoded data removed]",
      "text/plain": [
       "<matplotlib.figure.Figure at 0x114e18b38>"
      ]
     },
     "metadata": {},
     "output_type": "display_data"
    }
   ],
   "source": [
    "# Create and fit an AdaBoosted decision tree\n",
    "dbdt = AdaBoostClassifier(DecisionTreeClassifier(),\n",
    "                         algorithm=\"SAMME\",\n",
    "                         n_estimators=200)\n",
    "\n",
    "thin_ind = thin_out(dtr0, dlb0)\n",
    "dtr0_,dlb0_ = dtr0[thin_ind,:], dlb0[thin_ind]\n",
    "\n",
    "dbdt.fit(dtr0_, dlb0_)\n",
    "\n",
    "plot_colors = ['blue','yellow']\n",
    "plot_step = 0.02\n",
    "\n",
    "\n",
    "\n",
    "# Plot the decision boundaries\n",
    "plt.figure()\n",
    "x_min = -6\n",
    "x_max = 6\n",
    "y_min = -6\n",
    "y_max = 6\n",
    "xx, yy = np.meshgrid(np.arange(x_min, x_max, plot_step),\n",
    "                     np.arange(y_min, y_max, plot_step))\n",
    "\n",
    "Z = dbdt.predict(np.c_[xx.ravel(), yy.ravel()])\n",
    "Z = Z.reshape(xx.shape)\n",
    "plt.figure(figsize=(6, 6))\n",
    "cs = plt.contourf(xx, yy, Z, cmap=plt.cm.Paired)\n",
    "plt.axis(\"tight\")\n",
    "\n",
    "# Plot the training points\n",
    "for i, c in zip(range(2), plot_colors):\n",
    "    idx = np.where(dlb0 == i)\n",
    "    plt.scatter(dtr0[idx, 0], dtr0[idx, 1], c=c)\n",
    "plt.xlim(x_min, x_max)\n",
    "plt.ylim(y_min, y_max)\n",
    "\n",
    "gold_patch = mpatches.Patch(color='gold', label='positive')\n",
    "blue_patch = mpatches.Patch(color='dodgerBlue', label='negative')\n",
    "plt.legend(handles=[gold_patch, blue_patch])\n",
    "\n",
    "plt.title('Thin_AdaBoost(n_estimators=200)')\n",
    "\n",
    "plt.savefig('diff_thin_Adaboost.png', bbox_inches='tight')\n",
    "\n",
    "\n"
   ]
  },
  {
   "cell_type": "code",
   "execution_count": 1117,
   "metadata": {
    "collapsed": false
   },
   "outputs": [
    {
     "name": "stdout",
     "output_type": "stream",
     "text": [
      "[[83 11]\n",
      " [ 4  2]]\n"
     ]
    },
    {
     "data": {
      "image/png": "[encoded data removed]",
      "text/plain": [
       "<matplotlib.figure.Figure at 0x11334c400>"
      ]
     },
     "metadata": {},
     "output_type": "display_data"
    }
   ],
   "source": [
    "# Compute confusion matrix\n",
    "dpred = dbdt.predict(dtr[1000:1100,:])\n",
    "dcm_thin_AdaBoost = confusion_matrix(dlb[1000:1100], dpred)\n",
    "np.set_printoptions(precision=2)\n",
    "print(dcm_thin_AdaBoost)\n",
    "plt.figure()\n",
    "plot_confusion_matrix(dcm_thin_AdaBoost)\n",
    "plt.savefig('Confusion_diff_thin_AdaBoost.png', bbox_inches='tight')"
   ]
  },
  {
   "cell_type": "markdown",
   "metadata": {},
   "source": [
    "In tabular form,\n",
    "\n",
    "| true\\prdicted | negative      | positive |\n",
    "| ------------- |:-------------:| --------:|\n",
    "| negative      | 83            | 11       |\n",
    "| positive      | 4             | 2        |"
   ]
  },
  {
   "cell_type": "code",
   "execution_count": 1119,
   "metadata": {
    "collapsed": true
   },
   "outputs": [],
   "source": [
    "dthin_AdaBoost_gmean, dthin_AdaBoost_accur, dthin_AdaBoost_fmeas = avg_thin_AdaBoost(dtr,dlb)"
   ]
  },
  {
   "cell_type": "code",
   "execution_count": 1120,
   "metadata": {
    "collapsed": false
   },
   "outputs": [
    {
     "data": {
      "text/plain": [
       "0.44845425122134064"
      ]
     },
     "execution_count": 1120,
     "metadata": {},
     "output_type": "execute_result"
    }
   ],
   "source": [
    "np.mean(dthin_AdaBoost_gmean)"
   ]
  },
  {
   "cell_type": "code",
   "execution_count": 1121,
   "metadata": {
    "collapsed": false
   },
   "outputs": [
    {
     "data": {
      "text/plain": [
       "0.84888888888888892"
      ]
     },
     "execution_count": 1121,
     "metadata": {},
     "output_type": "execute_result"
    }
   ],
   "source": [
    "np.mean(dthin_AdaBoost_accur)"
   ]
  },
  {
   "cell_type": "code",
   "execution_count": 1122,
   "metadata": {
    "collapsed": false
   },
   "outputs": [
    {
     "data": {
      "text/plain": [
       "0.91628783242878009"
      ]
     },
     "execution_count": 1122,
     "metadata": {},
     "output_type": "execute_result"
    }
   ],
   "source": [
    "np.mean(dthin_AdaBoost_fmeas)"
   ]
  },
  {
   "cell_type": "markdown",
   "metadata": {},
   "source": [
    "## Spam "
   ]
  },
  {
   "cell_type": "code",
   "execution_count": 1135,
   "metadata": {
    "collapsed": false
   },
   "outputs": [],
   "source": [
    "test = thin_out(sptr_ft[:4000,:],sptr_lb[:4000])"
   ]
  },
  {
   "cell_type": "code",
   "execution_count": 1157,
   "metadata": {
    "collapsed": true
   },
   "outputs": [],
   "source": [
    "spth_ft, spth_lb = sptr_ft[test], sptr_lb[test]"
   ]
  },
  {
   "cell_type": "code",
   "execution_count": 1161,
   "metadata": {
    "collapsed": false
   },
   "outputs": [],
   "source": [
    "sio.savemat('thinned_spam',{'train_ft':spth_ft, 'train_lb':spth_lb, 'valid_ft':spvl_ft,'valid_lb':spvl_lb})"
   ]
  },
  {
   "cell_type": "code",
   "execution_count": 1162,
   "metadata": {
    "collapsed": false
   },
   "outputs": [
    {
     "data": {
      "text/plain": [
       "(1172, 32)"
      ]
     },
     "execution_count": 1162,
     "metadata": {},
     "output_type": "execute_result"
    }
   ],
   "source": [
    "spvl_ft.shape"
   ]
  },
  {
   "cell_type": "code",
   "execution_count": 1144,
   "metadata": {
    "collapsed": false
   },
   "outputs": [],
   "source": [
    "n_spam =4000\n",
    "n_folds = 10\n",
    "kf = KFold(n_spam, n_folds)\n",
    "cv_spam_ft = []\n",
    "cv_spam_lb = []\n",
    "cv_spam_thin = []\n",
    "for train_index, test_index in kf:\n",
    "    cv_spam_thin = cv_spam_thin + [thin_out(sptr_ft[train_index,: ], sptr_lb[train_index])]\n",
    "    cv_spam_ft = cv_spam_ft + [train_index]\n",
    "    cv_spam_lb = cv_spam_lb + [test_index]"
   ]
  },
  {
   "cell_type": "code",
   "execution_count": 1143,
   "metadata": {
    "collapsed": false
   },
   "outputs": [
    {
     "data": {
      "text/plain": [
       "10"
      ]
     },
     "execution_count": 1143,
     "metadata": {},
     "output_type": "execute_result"
    }
   ],
   "source": [
    "len(cv_spam_ft)"
   ]
  },
  {
   "cell_type": "code",
   "execution_count": null,
   "metadata": {
    "collapsed": true
   },
   "outputs": [],
   "source": [
    "penalty = 10\n",
    "sclf = svm.SVC(kernel='linear', C=penalty)\n",
    "sclf.fit(sptr_ft, sptr_lb)\n",
    "# Compute confusion matrix\n",
    "spred = sclf.predict(spvl_ft)\n",
    "scm_linearSVM = confusion_matrix(spvl_lb, spred)\n",
    "np.set_printoptions(precision=2)\n",
    "print(scm_linearSVM)\n",
    "\n",
    "plt.figure()\n",
    "plot_confusion_matrix(scm_linearSVM)\n",
    "plt.savefig('Confusion_spam_linearSVM.png', bbox_inches='tight')"
   ]
  },
  {
   "cell_type": "markdown",
   "metadata": {},
   "source": [
    "### Thinned data"
   ]
  },
  {
   "cell_type": "code",
   "execution_count": 1434,
   "metadata": {
    "collapsed": false
   },
   "outputs": [],
   "source": [
    "enew0 = thin_out(etr0,elb0) \n",
    "enew1 = thin_out(etr[100:200],elb[100:200])\n",
    "enew2 = thin_out(etr[200:300],elb[200:300])\n",
    "enew3 = thin_out(etr[300:400],elb[300:400])\n",
    "enew4 = thin_out(etr[400:500],elb[400:500])\n",
    "enew5 = thin_out(etr[500:600],elb[500:600])\n",
    "enew6 = thin_out(etr[600:700],elb[600:700])\n",
    "enew7 = thin_out(etr[700:800],elb[700:800])\n",
    "enew8 = thin_out(etr[800:900],elb[800:900])\n",
    "enew9 = thin_out(etr[900:1000],elb[900:1000])\n",
    "\n",
    "\n",
    "eind = [enew0,enew1,enew2,enew3,enew4,enew5,enew6,enew7,enew8,enew9]"
   ]
  },
  {
   "cell_type": "code",
   "execution_count": 1435,
   "metadata": {
    "collapsed": false
   },
   "outputs": [],
   "source": [
    "dnew0 = thin_out(dtr0,dlb0) \n",
    "dnew1 = thin_out(dtr[100:200],dlb[100:200])\n",
    "dnew2 = thin_out(dtr[200:300],dlb[200:300])\n",
    "dnew3 = thin_out(dtr[300:400],dlb[300:400])\n",
    "dnew4 = thin_out(dtr[400:500],dlb[400:500])\n",
    "dnew5 = thin_out(dtr[500:600],dlb[500:600])\n",
    "dnew6 = thin_out(dtr[600:700],dlb[600:700])\n",
    "dnew7 = thin_out(dtr[700:800],dlb[700:800])\n",
    "dnew8 = thin_out(dtr[800:900],dlb[800:900])\n",
    "dnew9 = thin_out(dtr[900:1000],dlb[900:1000])\n",
    "\n",
    "dind = [dnew0,dnew1,dnew2,dnew3,dnew4,dnew5,dnew6,dnew7,dnew8,dnew9]"
   ]
  },
  {
   "cell_type": "code",
   "execution_count": 1436,
   "metadata": {
    "collapsed": true
   },
   "outputs": [],
   "source": [
    "ethft0, ethlb0 = etr0[enew0], elb0[enew0]\n",
    "ethft1, ethlb1 = etr[100:200][enew1], elb[100:200][enew1]\n",
    "ethft2, ethlb2 = etr[200:300][enew2], elb[200:300][enew2]\n",
    "ethft3, ethlb3 = etr[300:400][enew3], elb[300:400][enew3]\n",
    "ethft4, ethlb4 = etr[400:500][enew4], elb[400:500][enew4]\n",
    "ethft5, ethlb5 = etr[500:600][enew5], elb[500:600][enew5]\n",
    "ethft6, ethlb6 = etr[600:700][enew6], elb[600:700][enew6]\n",
    "ethft7, ethlb7 = etr[700:800][enew7], elb[700:800][enew7]\n",
    "ethft8, ethlb8 = etr[800:900][enew8], elb[800:900][enew8]\n",
    "ethft9, ethlb9 = etr[900:1000][enew9], elb[900:1000][enew9]"
   ]
  },
  {
   "cell_type": "code",
   "execution_count": 1437,
   "metadata": {
    "collapsed": true
   },
   "outputs": [],
   "source": [
    "sio.savemat('thinned_easy',{'feat0': ethft0, 'label0': ethlb0,\n",
    "                           'feat1': ethft1, 'label1': ethlb1,\n",
    "                           'feat2': ethft2, 'label2': ethlb2,\n",
    "                            'feat3': ethft3, 'label3': ethlb3,\n",
    "                           'feat4': ethft4, 'label4': ethlb4,\n",
    "                           'feat5': ethft5, 'label5': ethlb5,\n",
    "                           'feat6': ethft6, 'label6': ethlb6,\n",
    "                           'feat7': ethft7, 'label7': ethlb7,\n",
    "                           'feat8': ethft8, 'label8': ethlb8,\n",
    "                           'feat9': ethft9, 'label9': ethlb9})"
   ]
  },
  {
   "cell_type": "code",
   "execution_count": 1438,
   "metadata": {
    "collapsed": true
   },
   "outputs": [],
   "source": [
    "dthft0, dthlb0 = dtr0[dnew0], dlb0[dnew0]\n",
    "dthft1, dthlb1 = dtr[100:200][dnew1], dlb[100:200][dnew1]\n",
    "dthft2, dthlb2 = dtr[200:300][dnew2], dlb[200:300][dnew2]\n",
    "dthft3, dthlb3 = dtr[300:400][dnew3], dlb[300:400][dnew3]\n",
    "dthft4, dthlb4 = dtr[400:500][dnew4], dlb[400:500][dnew4]\n",
    "dthft5, dthlb5 = dtr[500:600][dnew5], dlb[500:600][dnew5]\n",
    "dthft6, dthlb6 = dtr[600:700][dnew6], dlb[600:700][dnew6]\n",
    "dthft7, dthlb7 = dtr[700:800][dnew7], dlb[700:800][dnew7]\n",
    "dthft8, dthlb8 = dtr[800:900][dnew8], dlb[800:900][dnew8]\n",
    "dthft9, dthlb9 = dtr[900:1000][dnew9], dlb[900:1000][dnew9]\n"
   ]
  },
  {
   "cell_type": "code",
   "execution_count": 1439,
   "metadata": {
    "collapsed": true
   },
   "outputs": [],
   "source": [
    "sio.savemat('thinned_diff',{'feat0': dthft0, 'label0': dthlb0,\n",
    "                           'feat1': dthft1, 'label1': dthlb1,\n",
    "                           'feat2': dthft2, 'label2': dthlb2,\n",
    "                            'feat3': dthft3, 'label3': dthlb3,\n",
    "                           'feat4': dthft4, 'label4': dthlb4,\n",
    "                           'feat5': dthft5, 'label5': dthlb5,\n",
    "                           'feat6': dthft6, 'label6': dthlb6,\n",
    "                           'feat7': dthft7, 'label7': dthlb7,\n",
    "                           'feat8': dthft8, 'label8': dthlb8,\n",
    "                           'feat9': dthft9, 'label9': dthlb9})"
   ]
  },
  {
   "cell_type": "code",
   "execution_count": null,
   "metadata": {
    "collapsed": true
   },
   "outputs": [],
   "source": []
  }
 ],
 "metadata": {
  "kernelspec": {
   "display_name": "Python 3",
   "language": "python",
   "name": "python3"
  },
  "language_info": {
   "codemirror_mode": {
    "name": "ipython",
    "version": 3
   },
   "file_extension": ".py",
   "mimetype": "text/x-python",
   "name": "python",
   "nbconvert_exporter": "python",
   "pygments_lexer": "ipython3",
   "version": "3.5.1"
  }
 },
 "nbformat": 4,
 "nbformat_minor": 0
}

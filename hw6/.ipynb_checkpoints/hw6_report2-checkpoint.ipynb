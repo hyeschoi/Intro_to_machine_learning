{
 "cells": [
  {
   "cell_type": "code",
   "execution_count": 1,
   "metadata": {
    "collapsed": true
   },
   "outputs": [],
   "source": [
    "import scipy.io as sio\n",
    "import numpy as np\n",
    "import numpy.random as nr\n",
    "from sklearn import preprocessing"
   ]
  },
  {
   "cell_type": "code",
   "execution_count": 2,
   "metadata": {
    "collapsed": true
   },
   "outputs": [],
   "source": [
    "train_data = sio.loadmat('./dataset/train.mat')\n",
    "test_data = sio.loadmat('./dataset/test.mat')\n",
    "tr_img = train_data['train_images']\n",
    "tr_lb_num = train_data['train_labels'][:,0]\n",
    "tr_img = np.reshape(tr_img, (784, 60000), order = 'F')\n",
    "ts_img = np.reshape(np.transpose(test['test_images']), (784, 10000), order = 'F')\n",
    "all_img = np.append(tr_img, ts_img, axis = 1)"
   ]
  },
  {
   "cell_type": "code",
   "execution_count": 50,
   "metadata": {
    "collapsed": true
   },
   "outputs": [],
   "source": [
    "tr_lb_num = train_data['train_labels'][:,0]"
   ]
  },
  {
   "cell_type": "code",
   "execution_count": 3,
   "metadata": {
    "collapsed": true
   },
   "outputs": [],
   "source": [
    "temp_lb = np.zeros((len(tr_lb),10))\n",
    "\n",
    "for i in np.arange(len(tr_lb)):\n",
    "    j = tr_lb[i]\n",
    "    temp_lb[i,j] = 1\n",
    "\n",
    "tr_lb = temp_lb"
   ]
  },
  {
   "cell_type": "code",
   "execution_count": 4,
   "metadata": {
    "collapsed": true
   },
   "outputs": [],
   "source": [
    "all_img = all_img.astype(float) # change data type from int to float, in order to \n",
    "                                # facilitate calculations for standardization\n",
    "all_img = preprocessing.scale(all_img, axis = 1)\n",
    "ts_img = all_img[:, 60000:70000]\n",
    "tr_img = all_img[:, 0:60000]\n",
    "valid_ind = nr.choice(60000, 10000, replace = False)\n",
    "vd_img = tr_img[: , valid_ind]\n",
    "tr_img = tr_img[:, np.setdiff1d(np.arange(60000), valid_ind)]\n",
    "vd_lb = tr_lb[valid_ind, :]\n",
    "tr_lb = tr_lb[np.setdiff1d(np.arange(60000), valid_ind), :]"
   ]
  },
  {
   "cell_type": "code",
   "execution_count": 61,
   "metadata": {
    "collapsed": true
   },
   "outputs": [],
   "source": [
    "vd_lb_num = tr_lb_num[valid_ind]\n",
    "tr_lb_num = tr_lb_num[np.setdiff1d(np.arange(60000), valid_ind)]"
   ]
  },
  {
   "cell_type": "code",
   "execution_count": 5,
   "metadata": {
    "collapsed": true
   },
   "outputs": [],
   "source": [
    "nr.seed(0)\n",
    "n_in = 784\n",
    "n_hid = 200\n",
    "n_out = 10\n",
    "epsilon = 0.01\n",
    "V0 = nr.normal(scale = epsilon, size = (n_hid, n_in + 1))\n",
    "W0 = nr.normal(scale = epsilon, size = (n_out, n_hid + 1))"
   ]
  },
  {
   "cell_type": "code",
   "execution_count": 6,
   "metadata": {
    "collapsed": false
   },
   "outputs": [
    {
     "data": {
      "text/plain": [
       "(785, 50000)"
      ]
     },
     "execution_count": 6,
     "metadata": {},
     "output_type": "execute_result"
    }
   ],
   "source": [
    "def add_bias(mat):\n",
    "    if len(mat.shape) > 1:\n",
    "        ncol = mat.shape[1]\n",
    "        temp = np.array([[1.0 for j in range(ncol)]])\n",
    "        mat = np.append(mat, temp, axis = 0)\n",
    "    else:\n",
    "        mat = np.append(mat, [1.0], axis = 0)\n",
    "    return mat\n",
    "\n",
    "tr_img = add_bias(tr_img) # add one column of 1's to all data\n",
    "tr_img.shape\n",
    "\n",
    "\n"
   ]
  },
  {
   "cell_type": "code",
   "execution_count": 57,
   "metadata": {
    "collapsed": true
   },
   "outputs": [],
   "source": [
    "def mean_squared(true, pred):\n",
    "    temp = np.square(true - pred)\n",
    "    err = np.sum(temp)\n",
    "    return err/2\n",
    "\n",
    "def cross_entropy(true, pred):\n",
    "    n,k = true.shape\n",
    "    ind = (true == 1)\n",
    "    temp = np.sum(true[ind] * np.log(pred[ind])) + np.sum((1-true[~ind]) * np.log(1-pred[~ind]))\n",
    "    err = - temp\n",
    "    return err\n",
    "\n",
    "\n",
    "   \n",
    "def sigmoid_stb(mat):\n",
    "    # Numerically-stable sigmoid function\n",
    "    \n",
    "    ind = (mat >= 0)\n",
    "    temp = np.zeros(mat.shape)\n",
    "    temp[ind] = 1/(1+np.exp(-mat[ind]))\n",
    "    z =np.exp(mat[~ind])\n",
    "    temp[~ind] = z /(1+z)\n",
    "    \n",
    "    return temp\n",
    "\n",
    "\n",
    "def sigmoid(mat):\n",
    "    temp = 1/(1+ np.exp(- mat))\n",
    "    return temp\n",
    "\n",
    "def predict( V,W, img):\n",
    "    temp = np.dot(V, img)\n",
    "    hidden = np.tanh(temp)\n",
    "    hidden = add_bias(hidden)\n",
    "    temp = np.dot(W, hidden)\n",
    "    return np.transpose(sigmoid_stb(temp))\n",
    "\n",
    "def calculate_loss(V,W, img, true_label, loss_fun):\n",
    "    pred_label = predict(V, W, img)\n",
    "    loss = loss_fun(true_label, pred_label)\n",
    "    return loss\n",
    "\n",
    "def misclassification(V,W,img, true_num):\n",
    "    pred = predict(V,W,img)\n",
    "    pred_num = np.argmax(pred, axis = 1)\n",
    "    return np.sum(pred_num != true_num)/len(true_num)\n",
    "    \n"
   ]
  },
  {
   "cell_type": "code",
   "execution_count": 40,
   "metadata": {
    "collapsed": true
   },
   "outputs": [],
   "source": [
    "def find_gradient(V,W, i, loss_fun_name):\n",
    "    \n",
    "    x = tr_img[:,i:i+1]\n",
    "    y = np.transpose(tr_lb[i:i+1,:])\n",
    "    A = np.dot(V, x)\n",
    "    B = np.tanh(A)\n",
    "    B_bias = add_bias(B)\n",
    "    C = np.dot(W, B_bias)\n",
    "    D = sigmoid_stb(C)\n",
    "\n",
    "    I = np.identity(n_out)\n",
    "    if loss_fun_name == 'mean_squared':\n",
    "        dEdD = - y + D\n",
    "    elif loss_fun_name == 'cross_entropy':\n",
    "        ind = (y == 1)\n",
    "        temp = np.zeros(y.shape)\n",
    "        temp[ind] = - y[ind]/D[ind]\n",
    "        temp[~ind] = (1-y[~ind])/(1-D[~ind])\n",
    "        dEdD = temp\n",
    "        \n",
    "\n",
    "    dDdC = np.multiply(D, 1-D)\n",
    "    dCdB = np.transpose(W[:, :n_hid])\n",
    "    dBdA = 1- np.square(B)\n",
    "    \n",
    "    dEdC = np.multiply(dDdC, dEdD)\n",
    "    dEdB = np.dot(dCdB, dEdC)\n",
    "    dEdA = np.multiply(dBdA, dEdB)\n",
    "    dEdV = np.array([])\n",
    "    dEdW = np.array([])\n",
    " \n",
    "    \n",
    "    dAdV = x[:,0]\n",
    "    dEdV = np.outer(dEdA[:,0], dAdV)\n",
    "\n",
    "    dCdW = B_bias[:,0]\n",
    "    dEdW = np.outer(dEdC[:,0], dCdW)\n",
    "\n",
    "        \n",
    "    return np.concatenate((dEdV.ravel('F'), dEdW.ravel('F')))\n",
    "\n",
    "\n",
    "def column_to_matrix(vec, r, c):\n",
    "    return vec.reshape((r,c), order = 'F')\n",
    "    \n",
    "def matrix_to_column(mat):\n",
    "    return mat.ravel(order = 'F')\n",
    "    "
   ]
  },
  {
   "cell_type": "code",
   "execution_count": 9,
   "metadata": {
    "collapsed": true
   },
   "outputs": [],
   "source": [
    "b = find_gradient(V0, W0, 2, 'cross_entropy')\n",
    "def numerical_gradient(V, W, i, eps = 1e-8):\n",
    "    grad = np.concatenate((matrix_to_column(V), matrix_to_column(W)))\n",
    "\n",
    "    num_grad = np.zeros(grad.shape)\n",
    "    temp = grad\n",
    "    for j in range(len(grad)):\n",
    "        \n",
    "        temp[j] = grad[j] + eps\n",
    "        V_temp = column_to_matrix(temp[0:n_hid*(n_in + 1)], n_hid, n_in + 1)\n",
    "        W_temp = column_to_matrix(temp[n_hid*(n_in + 1):], n_out, n_hid + 1)\n",
    "        loss1 = calculate_loss(V_temp,W_temp, tr_img[:, i:i+1], tr_lb[i:i+1,:], mean_squared)\n",
    "        \n",
    "\n",
    "        temp[j] = grad[j] - 2 * eps\n",
    "        V_temp = column_to_matrix(temp[0:n_hid*(n_in + 1)], n_hid, n_in + 1)\n",
    "        W_temp = column_to_matrix(temp[n_hid*(n_in + 1):], n_out, n_hid + 1)\n",
    "        loss2 = calculate_loss(V_temp,W_temp, tr_img[:, i:i+1],tr_lb[i:i+1,:], mean_squared)\n",
    "        \n",
    "        num_grad[j] = (loss1-loss2)/(2*eps)\n",
    "        temp = grad\n",
    "        \n",
    "    return num_grad\n",
    "        \n",
    "    \n",
    "def numerical_gradient_cross_entropy(V, W, i, eps = 1e-8):\n",
    "    grad = np.concatenate((matrix_to_column(V), matrix_to_column(W)))\n",
    "\n",
    "    num_grad = np.zeros(grad.shape)\n",
    "    temp = grad\n",
    "    for j in range(len(grad)):\n",
    "        \n",
    "        temp[j] = grad[j] + eps\n",
    "        V_temp = column_to_matrix(temp[0:n_hid*(n_in + 1)], n_hid, n_in + 1)\n",
    "        W_temp = column_to_matrix(temp[n_hid*(n_in + 1):], n_out, n_hid + 1)\n",
    "        loss1 = calculate_loss(V_temp,W_temp, tr_img[:, i:i+1], tr_lb[i:i+1,:], cross_entropy)\n",
    "        \n",
    "\n",
    "        temp[j] = grad[j] - 2 * eps\n",
    "        V_temp = column_to_matrix(temp[0:n_hid*(n_in + 1)], n_hid, n_in + 1)\n",
    "        W_temp = column_to_matrix(temp[n_hid*(n_in + 1):], n_out, n_hid + 1)\n",
    "        loss2 = calculate_loss(V_temp,W_temp, tr_img[:, i:i+1],tr_lb[i:i+1,:], cross_entropy)\n",
    "        \n",
    "        num_grad[j] = (loss1-loss2)/(2*eps)\n",
    "        temp = grad\n",
    "        \n",
    "    return num_grad\n",
    "        \n",
    "num_grad_cross = numerical_gradient_cross_entropy(V0, W0, 2)"
   ]
  },
  {
   "cell_type": "code",
   "execution_count": 41,
   "metadata": {
    "collapsed": true
   },
   "outputs": [],
   "source": [
    "def train(V, W, img, true, index, start, end, step):\n",
    "    n = len(true)\n",
    "    epoch = 0\n",
    "    step = 0.01\n",
    "    V_temp = V\n",
    "    W_temp = W\n",
    "    \n",
    "    VW_temp = np.concatenate((matrix_to_column(V), matrix_to_column(W)))\n",
    "    \n",
    "    for i in index[start * 1000: end * 1000]:\n",
    "        grad = find_gradient(V_temp, W_temp, i, 'mean_squared')\n",
    "        VW_temp = VW_temp - step * grad\n",
    "        V_temp = column_to_matrix(VW_temp[0:n_hid*(n_in + 1)], n_hid, n_in + 1)\n",
    "        W_temp = column_to_matrix(VW_temp[n_hid*(n_in + 1):], n_out, n_hid + 1)\n",
    "\n",
    "\n",
    "    return (V_temp, W_temp)\n",
    "            "
   ]
  },
  {
   "cell_type": "code",
   "execution_count": 25,
   "metadata": {
    "collapsed": false,
    "scrolled": true
   },
   "outputs": [
    {
     "name": "stdout",
     "output_type": "stream",
     "text": [
      "j: 24966.316093\n",
      "j: 15453.2102276\n",
      "j: 11989.0813818\n",
      "j: 10185.7701805\n",
      "j: 8978.12291982\n",
      "j: 8245.09613124\n",
      "j: 7885.60807255\n",
      "j: 7342.83743417\n",
      "j: 7037.11591919\n",
      "j: 6755.192499\n",
      "j: 6467.3166437\n",
      "j: 6382.57642781\n",
      "j: 6144.14366289\n",
      "j: 5946.6077592\n",
      "j: 5819.33277965\n",
      "j: 5718.52110709\n",
      "j: 5615.30886097\n",
      "j: 5503.18867482\n",
      "j: 5371.45580887\n",
      "j: 5284.95304697\n",
      "j: 5114.5221942\n",
      "j: 5080.11327407\n",
      "j: 4941.17846776\n",
      "j: 4860.36049486\n",
      "j: 4819.44926474\n",
      "j: 4752.25213291\n",
      "j: 4658.20909661\n",
      "j: 4542.1796784\n",
      "j: 4535.81037602\n",
      "j: 4486.79010302\n",
      "j: 4474.27184489\n",
      "j: 4325.49886134\n",
      "j: 4259.41465115\n",
      "j: 4227.78780027\n",
      "j: 4221.59135082\n",
      "j: 4132.10437112\n",
      "j: 4090.04372243\n",
      "j: 4054.66798276\n",
      "j: 3977.11561183\n",
      "j: 3941.15649738\n",
      "j: 3883.10343628\n",
      "j: 3818.72103135\n",
      "j: 3808.81525277\n",
      "j: 3739.33910793\n",
      "j: 3699.68808487\n",
      "j: 3690.53221229\n",
      "j: 3653.44797654\n",
      "j: 3631.96808956\n",
      "j: 3590.59149197\n",
      "j: 3565.3734661\n"
     ]
    }
   ],
   "source": [
    "V_temp = V0\n",
    "W_temp = W0\n",
    "ind = nr.choice(50000,50000, replace = False)\n",
    "loss = []\n",
    "for j in range(50):\n",
    "    V_temp, W_temp = train(V_temp, W_temp, tr_img, tr_lb, ind, j, j+1, 0.01)\n",
    "    loss_temp = calculate_loss(V_temp, W_temp, tr_img, tr_lb, mean_squared)\n",
    "    print('j:', loss_temp)\n",
    "    loss = np.append(loss, [loss_temp])"
   ]
  },
  {
   "cell_type": "code",
   "execution_count": 33,
   "metadata": {
    "collapsed": true
   },
   "outputs": [],
   "source": [
    "V1, W1 = (V_temp, W_temp)\n",
    "loss1 = loss"
   ]
  },
  {
   "cell_type": "code",
   "execution_count": 42,
   "metadata": {
    "collapsed": false
   },
   "outputs": [
    {
     "name": "stdout",
     "output_type": "stream",
     "text": [
      "0 : 3482.50340147\n",
      "1 : 3495.15003139\n",
      "2 : 3450.82598257\n",
      "3 : 3392.19072646\n",
      "4 : 3364.5324147\n",
      "5 : 3403.47574984\n",
      "6 : 3329.01380836\n",
      "7 : 3364.22500559\n",
      "8 : 3266.16708432\n",
      "9 : 3220.09844226\n",
      "10 : 3263.36108398\n",
      "11 : 3210.88174484\n",
      "12 : 3198.97333064\n",
      "13 : 3199.22419166\n",
      "14 : 3112.79356454\n",
      "15 : 3090.55871914\n",
      "16 : 3062.12539353\n",
      "17 : 3056.5541814\n",
      "18 : 3074.4045549\n",
      "19 : 2995.7324759\n",
      "20 : 2966.40387636\n",
      "21 : 2964.04605217\n",
      "22 : 2916.13944754\n",
      "23 : 2914.08895153\n",
      "24 : 2903.18423858\n",
      "25 : 2909.64219573\n",
      "26 : 2870.92678926\n",
      "27 : 2848.57650209\n",
      "28 : 2832.22020295\n",
      "29 : 2785.78191992\n",
      "30 : 2746.77456287\n",
      "31 : 2737.6700142\n",
      "32 : 2730.8132854\n",
      "33 : 2672.57316946\n",
      "34 : 2684.19814136\n",
      "35 : 2687.88173154\n",
      "36 : 2672.41222466\n",
      "37 : 2686.08716164\n",
      "38 : 2630.49499685\n",
      "39 : 2595.81484022\n",
      "40 : 2567.37241406\n",
      "41 : 2578.9926902\n",
      "42 : 2629.8276593\n",
      "43 : 2513.95858318\n",
      "44 : 2501.51088436\n",
      "45 : 2474.27796892\n",
      "46 : 2464.89356759\n",
      "47 : 2450.13990008\n",
      "48 : 2457.70647508\n",
      "49 : 2445.78847474\n"
     ]
    }
   ],
   "source": [
    "V_temp = V1\n",
    "W_temp = W1\n",
    "loss = loss1\n",
    "ind = nr.choice(50000,50000, replace = False)\n",
    "for j in range(50):\n",
    "    V_temp, W_temp = train(V_temp, W_temp, tr_img, tr_lb, ind, j, j+1, 0.01)\n",
    "    loss_temp = calculate_loss(V_temp, W_temp, tr_img, tr_lb, mean_squared)\n",
    "    print(j, ':', loss_temp)\n",
    "    loss = np.append(loss, [loss_temp])"
   ]
  },
  {
   "cell_type": "code",
   "execution_count": 43,
   "metadata": {
    "collapsed": true
   },
   "outputs": [],
   "source": [
    "V2, W2, loss2 = (V_temp, W_temp, loss)"
   ]
  },
  {
   "cell_type": "code",
   "execution_count": 48,
   "metadata": {
    "collapsed": false
   },
   "outputs": [
    {
     "name": "stdout",
     "output_type": "stream",
     "text": [
      "0 : 2404.68453593\n",
      "1 : 2414.10472024\n",
      "2 : 2395.40974939\n",
      "3 : 2388.63919324\n",
      "4 : 2381.40142433\n",
      "5 : 2361.33871954\n",
      "6 : 2344.60153391\n",
      "7 : 2314.58416826\n",
      "8 : 2307.69837703\n",
      "9 : 2287.17792633\n",
      "10 : 2315.22488132\n",
      "11 : 2283.19774372\n",
      "12 : 2276.61358051\n",
      "13 : 2296.60223352\n",
      "14 : 2243.68188967\n",
      "15 : 2228.16535221\n",
      "16 : 2211.29847239\n",
      "17 : 2240.84071695\n",
      "18 : 2195.9516599\n",
      "19 : 2158.88352495\n",
      "20 : 2182.40723677\n",
      "21 : 2203.87549129\n",
      "22 : 2160.41003934\n",
      "23 : 2141.86605859\n",
      "24 : 2128.29953105\n",
      "25 : 2115.19394689\n",
      "26 : 2099.34571958\n",
      "27 : 2071.27256968\n",
      "28 : 2053.42078225\n",
      "29 : 2097.48912955\n",
      "30 : 2058.00264998\n",
      "31 : 2090.28104336\n",
      "32 : 2020.69997339\n",
      "33 : 2026.06937488\n",
      "34 : 1997.25095899\n",
      "35 : 1998.12162228\n",
      "36 : 2001.55962089\n",
      "37 : 2004.22421538\n",
      "38 : 1996.72308005\n",
      "39 : 1973.16810813\n",
      "40 : 1922.56268248\n",
      "41 : 1947.71804508\n",
      "42 : 1922.12840947\n",
      "43 : 1910.47591072\n",
      "44 : 1914.37749385\n",
      "45 : 1897.908399\n",
      "46 : 1898.1954439\n",
      "47 : 1885.7634308\n",
      "48 : 1865.0280181\n",
      "49 : 1866.76751866\n"
     ]
    }
   ],
   "source": [
    "V_temp = V2\n",
    "W_temp = W2\n",
    "loss = loss2\n",
    "ind = nr.choice(50000,50000, replace = False)\n",
    "for j in range(50):\n",
    "    V_temp, W_temp = train(V_temp, W_temp, tr_img, tr_lb, ind, j, j+1, 0.01* 0.5)\n",
    "    loss_temp = calculate_loss(V_temp, W_temp, tr_img, tr_lb, mean_squared)\n",
    "    print(j, ':', loss_temp)\n",
    "    loss = np.append(loss, [loss_temp])"
   ]
  },
  {
   "cell_type": "code",
   "execution_count": 49,
   "metadata": {
    "collapsed": true
   },
   "outputs": [],
   "source": [
    "V3, W3, loss3 = V_temp, W_temp, loss"
   ]
  },
  {
   "cell_type": "code",
   "execution_count": 63,
   "metadata": {
    "collapsed": false
   },
   "outputs": [
    {
     "name": "stdout",
     "output_type": "stream",
     "text": [
      "0 : 1865.27365071 0.04034\n",
      "1 : 1843.56006603 0.04004\n",
      "2 : 1816.34007496 0.03916\n",
      "3 : 1816.64658353 0.03948\n",
      "4 : 1800.45610563 0.0393\n",
      "5 : 1817.89330066 0.03966\n",
      "6 : 1789.39547419 0.0395\n",
      "7 : 1782.92041035 0.03822\n",
      "8 : 1787.09112761 0.03874\n",
      "9 : 1790.65311702 0.03912\n",
      "10 : 1740.8299757 0.0378\n",
      "11 : 1760.57873694 0.03822\n",
      "12 : 1729.74045768 0.03818\n",
      "13 : 1737.67724543 0.0382\n",
      "14 : 1745.30903002 0.03826\n",
      "15 : 1718.49068021 0.03778\n",
      "16 : 1711.06000332 0.0378\n",
      "17 : 1702.82843488 0.03694\n",
      "18 : 1689.91238345 0.03614\n",
      "19 : 1705.23463846 0.0366\n",
      "20 : 1686.29455482 0.036\n",
      "21 : 1702.21048772 0.03664\n",
      "22 : 1668.15356592 0.03556\n",
      "23 : 1646.85848715 0.0354\n",
      "24 : 1671.92604151 0.03544\n",
      "25 : 1671.77222462 0.03592\n",
      "26 : 1635.68155738 0.03548\n",
      "27 : 1625.46773148 0.03478\n",
      "28 : 1648.25935393 0.035\n",
      "29 : 1620.99953138 0.03452\n",
      "30 : 1617.45774936 0.03466\n",
      "31 : 1629.58265688 0.03468\n",
      "32 : 1622.77337998 0.03468\n",
      "33 : 1590.57466702 0.03408\n",
      "34 : 1576.77201905 0.03368\n",
      "35 : 1581.47831439 0.03402\n",
      "36 : 1564.88633807 0.03306\n",
      "37 : 1565.84968458 0.03332\n",
      "38 : 1564.80057661 0.03294\n",
      "39 : 1549.54198259 0.03318\n",
      "40 : 1536.15404278 0.03282\n",
      "41 : 1549.16618238 0.03304\n",
      "42 : 1523.62823157 0.03266\n",
      "43 : 1522.92577018 0.03232\n",
      "44 : 1494.69904888 0.03226\n",
      "45 : 1509.70215731 0.03252\n",
      "46 : 1488.25882105 0.03216\n",
      "47 : 1509.34113745 0.03232\n",
      "48 : 1542.99792295 0.03272\n",
      "49 : 1548.63953379 0.03314\n"
     ]
    }
   ],
   "source": [
    "V_temp = V3\n",
    "W_temp = W3\n",
    "loss = loss3\n",
    "ind = nr.choice(50000,50000, replace = False)\n",
    "misclass = []\n",
    "for j in range(50):\n",
    "    V_temp, W_temp = train(V_temp, W_temp, tr_img, tr_lb, ind, j, j+1, 0.01* 0.5)\n",
    "    loss_temp = calculate_loss(V_temp, W_temp, tr_img, tr_lb, mean_squared)\n",
    "    mis_temp = misclassification(V_temp, W_temp, tr_img, tr_lb_num)\n",
    "    print(j, ':', loss_temp, mis_temp)\n",
    "    loss = np.append(loss, [loss_temp])\n",
    "    misclass = np.append(misclass, [mis_temp])"
   ]
  },
  {
   "cell_type": "code",
   "execution_count": 64,
   "metadata": {
    "collapsed": false
   },
   "outputs": [],
   "source": [
    "V4, W4, loss4, misclass4 = V_temp, W_temp, loss, misclass"
   ]
  },
  {
   "cell_type": "code",
   "execution_count": 65,
   "metadata": {
    "collapsed": false
   },
   "outputs": [
    {
     "name": "stdout",
     "output_type": "stream",
     "text": [
      "0 : 1477.22684578 0.03158\n",
      "1 : 1454.66709448 0.03116\n",
      "2 : 1451.02337926 0.03118\n",
      "3 : 1451.00399606 0.03076\n",
      "4 : 1440.45450582 0.03088\n",
      "5 : 1435.68963056 0.03084\n",
      "6 : 1440.24534517 0.0307\n",
      "7 : 1436.49018962 0.03048\n",
      "8 : 1421.22736444 0.03032\n",
      "9 : 1430.96078307 0.0308\n",
      "10 : 1417.23381028 0.02946\n",
      "11 : 1409.52268003 0.02984\n",
      "12 : 1437.69329207 0.02996\n",
      "13 : 1415.17779053 0.02976\n",
      "14 : 1393.95140293 0.02938\n",
      "15 : 1378.73705951 0.02914\n",
      "16 : 1395.36520458 0.02976\n",
      "17 : 1376.31973209 0.02836\n",
      "18 : 1371.07703121 0.02884\n",
      "19 : 1369.127901 0.02872\n",
      "20 : 1370.91032191 0.02922\n",
      "21 : 1376.36072916 0.02882\n",
      "22 : 1365.92313465 0.02848\n",
      "23 : 1371.90336452 0.02832\n",
      "24 : 1362.08731051 0.02842\n",
      "25 : 1329.62833917 0.02792\n",
      "26 : 1320.92783885 0.02768\n",
      "27 : 1310.70938353 0.02722\n",
      "28 : 1331.00898196 0.02766\n",
      "29 : 1340.20347457 0.02746\n",
      "30 : 1301.19162495 0.02688\n",
      "31 : 1304.64394016 0.02696\n",
      "32 : 1289.15489999 0.02676\n",
      "33 : 1334.47254894 0.02784\n",
      "34 : 1310.35759923 0.0273\n",
      "35 : 1288.02637252 0.0267\n",
      "36 : 1289.56030362 0.02674\n",
      "37 : 1271.93877213 0.02666\n",
      "38 : 1292.3989346 0.02654\n",
      "39 : 1276.55132808 0.02716\n",
      "40 : 1267.8849312 0.0266\n",
      "41 : 1255.08420598 0.02588\n",
      "42 : 1268.63716497 0.0259\n",
      "43 : 1245.56364996 0.02554\n",
      "44 : 1257.99740573 0.02576\n",
      "45 : 1259.29439589 0.0257\n",
      "46 : 1210.51918299 0.02518\n",
      "47 : 1219.25688662 0.02504\n",
      "48 : 1218.39719211 0.02496\n",
      "49 : 1221.75705038 0.02522\n"
     ]
    }
   ],
   "source": [
    "V_temp = V4\n",
    "W_temp = W4\n",
    "loss = loss4\n",
    "ind = nr.choice(50000,50000, replace = False)\n",
    "misclass = misclass4\n",
    "for j in range(50):\n",
    "    V_temp, W_temp = train(V_temp, W_temp, tr_img, tr_lb, ind, j, j+1, 0.01* 0.5*0.5)\n",
    "    loss_temp = calculate_loss(V_temp, W_temp, tr_img, tr_lb, mean_squared)\n",
    "    mis_temp = misclassification(V_temp, W_temp, tr_img, tr_lb_num)\n",
    "    print(j, ':', loss_temp, mis_temp)\n",
    "    loss = np.append(loss, [loss_temp])\n",
    "    misclass = np.append(misclass, [mis_temp])"
   ]
  },
  {
   "cell_type": "code",
   "execution_count": 66,
   "metadata": {
    "collapsed": true
   },
   "outputs": [],
   "source": [
    "V5, W5, loss5, misclass5 = V_temp, W_temp, loss, misclass"
   ]
  },
  {
   "cell_type": "code",
   "execution_count": 69,
   "metadata": {
    "collapsed": false
   },
   "outputs": [
    {
     "name": "stdout",
     "output_type": "stream",
     "text": [
      "0 : 1243.0284382 0.02576\n",
      "1 : 1203.58381855 0.02518\n",
      "2 : 1215.24498653 0.02486\n",
      "3 : 1205.40067591 0.02484\n",
      "4 : 1183.22876294 0.02444\n",
      "5 : 1176.26337262 0.02452\n",
      "6 : 1197.06687547 0.0245\n",
      "7 : 1195.29209815 0.02476\n",
      "8 : 1187.76525418 0.02492\n",
      "9 : 1172.20755547 0.02458\n",
      "10 : 1172.53979677 0.02462\n",
      "11 : 1155.57179811 0.02412\n",
      "12 : 1170.04381481 0.02372\n",
      "13 : 1161.86660723 0.02394\n",
      "14 : 1158.03869369 0.024\n",
      "15 : 1154.37993893 0.02338\n",
      "16 : 1134.58420251 0.02346\n",
      "17 : 1145.14415663 0.02364\n",
      "18 : 1128.02793427 0.02362\n",
      "19 : 1128.01957347 0.02348\n",
      "20 : 1121.01261717 0.02328\n",
      "21 : 1115.74243688 0.02304\n",
      "22 : 1122.77434552 0.02326\n",
      "23 : 1115.68870863 0.02324\n",
      "24 : 1109.45480949 0.02306\n",
      "25 : 1107.87784734 0.02346\n",
      "26 : 1112.19245051 0.02318\n",
      "27 : 1107.82309779 0.023\n",
      "28 : 1095.66580897 0.0226\n",
      "29 : 1092.69637245 0.02282\n",
      "30 : 1081.06774744 0.02286\n",
      "31 : 1091.68630652 0.02254\n",
      "32 : 1102.08105543 0.02224\n",
      "33 : 1097.55898248 0.02268\n",
      "34 : 1093.59314716 0.02252\n",
      "35 : 1075.9226693 0.02226\n",
      "36 : 1061.85545373 0.02206\n",
      "37 : 1052.58526442 0.02154\n",
      "38 : 1065.84701478 0.02158\n",
      "39 : 1048.47046079 0.02132\n",
      "40 : 1048.41451524 0.021\n",
      "41 : 1053.69822388 0.02104\n",
      "42 : 1045.96527723 0.0213\n",
      "43 : 1032.93342635 0.021\n",
      "44 : 1030.32151758 0.02118\n",
      "45 : 1035.03187377 0.0205\n",
      "46 : 1031.93103362 0.021\n",
      "47 : 1050.25708388 0.02088\n",
      "48 : 1032.86306878 0.02062\n",
      "49 : 1024.37022144 0.02042\n"
     ]
    }
   ],
   "source": [
    "V_temp = V5\n",
    "W_temp = W5\n",
    "loss = loss5\n",
    "ind = nr.choice(50000,50000, replace = False)\n",
    "misclass = misclass5\n",
    "for j in range(50):\n",
    "    V_temp, W_temp = train(V_temp, W_temp, tr_img, tr_lb, ind, j, j+1, 0.01* 0.5*0.5)\n",
    "    loss_temp = calculate_loss(V_temp, W_temp, tr_img, tr_lb, mean_squared)\n",
    "    mis_temp = misclassification(V_temp, W_temp, tr_img, tr_lb_num)\n",
    "    print(j, ':', loss_temp, mis_temp)\n",
    "    loss = np.append(loss, [loss_temp])\n",
    "    misclass = np.append(misclass, [mis_temp])"
   ]
  },
  {
   "cell_type": "code",
   "execution_count": 70,
   "metadata": {
    "collapsed": true
   },
   "outputs": [],
   "source": [
    "V6, W6, loss6, misclass6 = V_temp, W_temp, loss, misclass"
   ]
  },
  {
   "cell_type": "code",
   "execution_count": 73,
   "metadata": {
    "collapsed": false
   },
   "outputs": [
    {
     "data": {
      "text/plain": [
       "0.040300000000000002"
      ]
     },
     "execution_count": 73,
     "metadata": {},
     "output_type": "execute_result"
    }
   ],
   "source": [
    "misclassification(V6, W6, add_bias(vd_img), vd_lb_num)"
   ]
  },
  {
   "cell_type": "code",
   "execution_count": 74,
   "metadata": {
    "collapsed": false
   },
   "outputs": [
    {
     "name": "stdout",
     "output_type": "stream",
     "text": [
      "0 : 998.434868544 0.02026\n",
      "1 : 994.262534929 0.02006\n",
      "2 : 1002.88342086 0.02028\n",
      "3 : 985.433737393 0.02016\n",
      "4 : 981.876944178 0.02028\n",
      "5 : 995.855837003 0.02034\n",
      "6 : 974.542001838 0.01968\n",
      "7 : 987.075411887 0.01996\n",
      "8 : 984.616922567 0.0199\n",
      "9 : 968.352027718 0.02004\n",
      "10 : 963.23529442 0.01978\n",
      "11 : 961.787101963 0.01952\n",
      "12 : 976.467221593 0.0197\n",
      "13 : 953.813932033 0.01984\n",
      "14 : 964.269509145 0.0197\n",
      "15 : 992.95056636 0.01966\n",
      "16 : 962.080268932 0.01906\n",
      "17 : 955.231303195 0.01886\n",
      "18 : 964.713303674 0.0187\n",
      "19 : 938.862395781 0.01864\n",
      "20 : 952.771245927 0.01904\n",
      "21 : 933.686806574 0.01868\n",
      "22 : 935.587335813 0.01894\n",
      "23 : 930.545600756 0.01894\n",
      "24 : 925.794532894 0.01874\n",
      "25 : 922.874716852 0.0188\n",
      "26 : 917.370090158 0.01894\n",
      "27 : 923.845295558 0.01862\n",
      "28 : 910.835211634 0.01852\n",
      "29 : 917.16171097 0.01866\n",
      "30 : 921.057398135 0.01848\n",
      "31 : 915.483573023 0.01854\n",
      "32 : 935.824487634 0.01834\n",
      "33 : 922.451679205 0.01802\n",
      "34 : 903.924515604 0.01806\n",
      "35 : 903.845394504 0.01808\n",
      "36 : 908.537024622 0.01828\n",
      "37 : 905.490493712 0.01772\n",
      "38 : 905.745569486 0.01812\n",
      "39 : 880.536392097 0.0179\n",
      "40 : 888.237058549 0.01766\n",
      "41 : 874.519132535 0.01776\n",
      "42 : 885.85491396 0.01786\n",
      "43 : 880.593342001 0.01776\n",
      "44 : 917.419612595 0.01836\n",
      "45 : 868.806643383 0.0177\n",
      "46 : 871.4521528 0.01768\n",
      "47 : 868.418754606 0.01734\n",
      "48 : 870.808882585 0.01736\n",
      "49 : 881.75310143 0.01768\n"
     ]
    }
   ],
   "source": [
    "V_temp = V6\n",
    "W_temp = W6\n",
    "loss = loss6\n",
    "ind = nr.choice(50000,50000, replace = False)\n",
    "misclass = misclass6\n",
    "for j in range(50):\n",
    "    V_temp, W_temp = train(V_temp, W_temp, tr_img, tr_lb, ind, j, j+1, 0.01* 0.5*0.5)\n",
    "    loss_temp = calculate_loss(V_temp, W_temp, tr_img, tr_lb, mean_squared)\n",
    "    mis_temp = misclassification(V_temp, W_temp, tr_img, tr_lb_num)\n",
    "    print(j, ':', loss_temp, mis_temp)\n",
    "    loss = np.append(loss, [loss_temp])\n",
    "    misclass = np.append(misclass, [mis_temp])"
   ]
  },
  {
   "cell_type": "code",
   "execution_count": 76,
   "metadata": {
    "collapsed": false
   },
   "outputs": [
    {
     "data": {
      "text/plain": [
       "0.039"
      ]
     },
     "execution_count": 76,
     "metadata": {},
     "output_type": "execute_result"
    }
   ],
   "source": [
    "V7, W7, loss7, misclass7 = V_temp, W_temp, loss, misclass\n",
    "misclassification(V_temp, W_temp, add_bias(vd_img), vd_lb_num)"
   ]
  },
  {
   "cell_type": "code",
   "execution_count": 78,
   "metadata": {
    "collapsed": false
   },
   "outputs": [
    {
     "name": "stdout",
     "output_type": "stream",
     "text": [
      "0 : 847.215530716 0.01692\n",
      "1 : 839.146997375 0.0168\n",
      "2 : 846.988258702 0.01682\n",
      "3 : 832.769556529 0.01682\n",
      "4 : 841.992159293 0.01694\n",
      "5 : 839.582969205 0.01684\n",
      "6 : 822.394229446 0.01664\n",
      "7 : 838.234716159 0.0169\n",
      "8 : 836.895659572 0.01678\n",
      "9 : 838.521696632 0.01646\n",
      "10 : 824.860341883 0.01626\n",
      "11 : 816.62941189 0.01622\n",
      "12 : 817.682819339 0.01624\n",
      "13 : 805.832326129 0.01626\n",
      "14 : 817.299092731 0.01636\n",
      "15 : 804.646347213 0.01604\n",
      "16 : 822.843158651 0.0162\n",
      "17 : 811.367043203 0.01578\n",
      "18 : 803.324828736 0.01536\n",
      "19 : 800.483285225 0.01546\n",
      "20 : 794.270384442 0.01556\n",
      "21 : 799.040451902 0.01572\n",
      "22 : 800.934879015 0.01606\n",
      "23 : 797.020291097 0.0157\n",
      "24 : 797.288924395 0.01548\n",
      "25 : 804.166960008 0.01552\n",
      "26 : 801.843551893 0.01572\n",
      "27 : 784.319148149 0.01532\n",
      "28 : 789.558400388 0.01558\n",
      "29 : 783.945380732 0.0157\n",
      "30 : 773.450826019 0.01526\n",
      "31 : 778.106064586 0.0152\n",
      "32 : 778.931520926 0.0155\n",
      "33 : 797.947671444 0.01594\n",
      "34 : 774.685290229 0.01534\n",
      "35 : 773.021199086 0.01546\n",
      "36 : 768.0574536 0.0152\n",
      "37 : 755.045997466 0.01488\n",
      "38 : 756.601147126 0.0151\n",
      "39 : 770.632278722 0.01508\n",
      "40 : 757.558290032 0.01484\n",
      "41 : 749.652282483 0.01494\n",
      "42 : 762.545419507 0.0154\n",
      "43 : 749.165353954 0.01506\n",
      "44 : 740.602634977 0.01466\n",
      "45 : 751.817655228 0.01438\n",
      "46 : 759.334372688 0.01458\n",
      "47 : 730.898439514 0.01448\n",
      "48 : 733.248541153 0.0143\n",
      "49 : 735.891308116 0.01436\n"
     ]
    }
   ],
   "source": [
    "V_temp = V7\n",
    "W_temp = W7\n",
    "loss = loss7\n",
    "ind = nr.choice(50000,50000, replace = False)\n",
    "misclass = misclass7\n",
    "for j in range(50):\n",
    "    V_temp, W_temp = train(V_temp, W_temp, tr_img, tr_lb, ind, j, j+1, 0.01* 0.5*0.5 *0.5)\n",
    "    loss_temp = calculate_loss(V_temp, W_temp, tr_img, tr_lb, mean_squared)\n",
    "    mis_temp = misclassification(V_temp, W_temp, tr_img, tr_lb_num)\n",
    "    print(j, ':', loss_temp, mis_temp)\n",
    "    loss = np.append(loss, [loss_temp])\n",
    "    misclass = np.append(misclass, [mis_temp])"
   ]
  },
  {
   "cell_type": "code",
   "execution_count": 79,
   "metadata": {
    "collapsed": false
   },
   "outputs": [
    {
     "data": {
      "text/plain": [
       "0.036600000000000001"
      ]
     },
     "execution_count": 79,
     "metadata": {},
     "output_type": "execute_result"
    }
   ],
   "source": [
    "V8, W8, loss8, misclass8 = V_temp, W_temp, loss, misclass\n",
    "misclassification(V_temp, W_temp, add_bias(vd_img), vd_lb_num)"
   ]
  },
  {
   "cell_type": "code",
   "execution_count": 80,
   "metadata": {
    "collapsed": false
   },
   "outputs": [
    {
     "name": "stdout",
     "output_type": "stream",
     "text": [
      "0 : 729.631872863 0.01424\n",
      "1 : 719.916506409 0.01418\n",
      "2 : 725.120290997 0.01428\n",
      "3 : 722.291491224 0.01418\n",
      "4 : 722.727115197 0.01414\n",
      "5 : 715.351669317 0.01402\n",
      "6 : 713.990598253 0.01416\n",
      "7 : 715.493517151 0.01418\n",
      "8 : 717.989115607 0.0142\n",
      "9 : 707.718708336 0.01412\n",
      "10 : 714.856515265 0.01422\n",
      "11 : 711.438226028 0.01408\n",
      "12 : 726.29492754 0.01398\n",
      "13 : 700.861442876 0.0137\n",
      "14 : 701.829066375 0.01388\n",
      "15 : 692.996719646 0.01404\n",
      "16 : 688.875128338 0.01386\n",
      "17 : 695.135125089 0.01404\n",
      "18 : 694.408669686 0.01406\n",
      "19 : 686.606665808 0.01396\n",
      "20 : 687.617062474 0.01372\n",
      "21 : 684.320146857 0.01378\n",
      "22 : 694.050170133 0.01374\n",
      "23 : 683.443603855 0.0138\n",
      "24 : 682.152887531 0.01354\n",
      "25 : 695.8247924 0.01346\n",
      "26 : 681.585712384 0.01374\n",
      "27 : 687.237295695 0.01352\n",
      "28 : 676.906751377 0.01354\n",
      "29 : 676.27588549 0.01352\n",
      "30 : 675.782475059 0.01352\n",
      "31 : 666.461211353 0.0134\n",
      "32 : 664.702493221 0.0131\n",
      "33 : 670.79317903 0.0133\n",
      "34 : 656.363575999 0.01314\n",
      "35 : 658.990088196 0.01346\n",
      "36 : 658.190551632 0.01336\n",
      "37 : 650.380531942 0.0133\n",
      "38 : 658.978234981 0.0132\n",
      "39 : 658.938529399 0.01316\n",
      "40 : 665.458108517 0.01314\n",
      "41 : 657.638514039 0.01316\n",
      "42 : 650.891772443 0.01268\n",
      "43 : 642.423285887 0.0124\n",
      "44 : 634.677484216 0.01246\n",
      "45 : 646.565627237 0.01256\n",
      "46 : 642.07309087 0.01236\n",
      "47 : 638.910040687 0.01232\n",
      "48 : 635.140841757 0.01254\n",
      "49 : 629.029863949 0.01244\n"
     ]
    }
   ],
   "source": [
    "V_temp = V8\n",
    "W_temp = W8\n",
    "loss = loss8\n",
    "ind = nr.choice(50000,50000, replace = False)\n",
    "misclass = misclass8\n",
    "for j in range(50):\n",
    "    V_temp, W_temp = train(V_temp, W_temp, tr_img, tr_lb, ind, j, j+1, 0.01* 0.5*0.5 *0.5)\n",
    "    loss_temp = calculate_loss(V_temp, W_temp, tr_img, tr_lb, mean_squared)\n",
    "    mis_temp = misclassification(V_temp, W_temp, tr_img, tr_lb_num)\n",
    "    print(j, ':', loss_temp, mis_temp)\n",
    "    loss = np.append(loss, [loss_temp])\n",
    "    misclass = np.append(misclass, [mis_temp])"
   ]
  },
  {
   "cell_type": "code",
   "execution_count": 81,
   "metadata": {
    "collapsed": false
   },
   "outputs": [
    {
     "data": {
      "text/plain": [
       "0.035700000000000003"
      ]
     },
     "execution_count": 81,
     "metadata": {},
     "output_type": "execute_result"
    }
   ],
   "source": [
    "V9, W9, loss9, misclass9 = V_temp, W_temp, loss, misclass\n",
    "misclassification(V_temp, W_temp, add_bias(vd_img), vd_lb_num)"
   ]
  },
  {
   "cell_type": "code",
   "execution_count": 82,
   "metadata": {
    "collapsed": false
   },
   "outputs": [
    {
     "name": "stdout",
     "output_type": "stream",
     "text": [
      "0 : 624.726967436 0.01238\n",
      "1 : 629.005044544 0.01238\n",
      "2 : 621.892850067 0.01252\n",
      "3 : 630.02009211 0.01262\n",
      "4 : 617.743183879 0.01232\n",
      "5 : 616.05327215 0.01234\n",
      "6 : 622.846626076 0.01252\n",
      "7 : 620.30638301 0.01248\n",
      "8 : 618.109371878 0.01232\n",
      "9 : 637.156903517 0.01278\n",
      "10 : 616.500104895 0.01248\n",
      "11 : 612.56655295 0.01248\n",
      "12 : 609.143875895 0.01212\n",
      "13 : 602.273399415 0.01238\n",
      "14 : 604.608142234 0.01222\n",
      "15 : 611.325902423 0.01216\n",
      "16 : 616.869307553 0.01208\n",
      "17 : 612.667158228 0.01228\n",
      "18 : 600.008407117 0.01194\n",
      "19 : 612.747398252 0.01216\n",
      "20 : 610.053085239 0.01232\n",
      "21 : 605.586891342 0.01206\n",
      "22 : 598.198921246 0.01206\n",
      "23 : 592.931195085 0.01204\n",
      "24 : 590.792489665 0.01192\n",
      "25 : 591.347145886 0.01192\n",
      "26 : 600.220127153 0.0119\n",
      "27 : 584.731333481 0.01166\n",
      "28 : 582.25101036 0.01188\n",
      "29 : 586.782273436 0.01166\n",
      "30 : 589.279258442 0.01162\n",
      "31 : 587.228460735 0.0118\n",
      "32 : 579.143599102 0.01158\n",
      "33 : 584.241134122 0.01178\n",
      "34 : 576.884310138 0.0116\n",
      "35 : 576.783914238 0.01148\n",
      "36 : 575.563799549 0.01138\n",
      "37 : 570.40563597 0.01142\n",
      "38 : 573.179995602 0.01154\n",
      "39 : 577.795215641 0.0117\n",
      "40 : 576.937004652 0.01176\n",
      "41 : 567.794208922 0.01148\n",
      "42 : 564.067636522 0.0114\n",
      "43 : 583.986304793 0.01166\n",
      "44 : 566.1826145 0.01106\n",
      "45 : 559.6918458 0.01102\n",
      "46 : 556.278070713 0.01096\n",
      "47 : 564.567768162 0.01092\n",
      "48 : 552.579729527 0.011\n",
      "49 : 551.297552617 0.01086\n"
     ]
    }
   ],
   "source": [
    "V_temp = V9\n",
    "W_temp = W9\n",
    "loss = loss9\n",
    "ind = nr.choice(50000,50000, replace = False)\n",
    "misclass = misclass9\n",
    "for j in range(50):\n",
    "    V_temp, W_temp = train(V_temp, W_temp, tr_img, tr_lb, ind, j, j+1, 0.01* 0.5*0.5 *0.5)\n",
    "    loss_temp = calculate_loss(V_temp, W_temp, tr_img, tr_lb, mean_squared)\n",
    "    mis_temp = misclassification(V_temp, W_temp, tr_img, tr_lb_num)\n",
    "    print(j, ':', loss_temp, mis_temp)\n",
    "    loss = np.append(loss, [loss_temp])\n",
    "    misclass = np.append(misclass, [mis_temp])"
   ]
  },
  {
   "cell_type": "code",
   "execution_count": 83,
   "metadata": {
    "collapsed": false
   },
   "outputs": [
    {
     "data": {
      "text/plain": [
       "0.036299999999999999"
      ]
     },
     "execution_count": 83,
     "metadata": {},
     "output_type": "execute_result"
    }
   ],
   "source": [
    "V10, W10, loss10, misclass10 = V_temp, W_temp, loss, misclass\n",
    "misclassification(V_temp, W_temp, add_bias(vd_img), vd_lb_num)"
   ]
  },
  {
   "cell_type": "code",
   "execution_count": 84,
   "metadata": {
    "collapsed": true
   },
   "outputs": [],
   "source": [
    "pred_kag = predict(V9, W9, add_bias(ts_img))\n",
    "pred_num = np.argmax(pred_kag,axis=1)"
   ]
  },
  {
   "cell_type": "code",
   "execution_count": 97,
   "metadata": {
    "collapsed": false
   },
   "outputs": [
    {
     "data": {
      "text/plain": [
       "(10000,)"
      ]
     },
     "execution_count": 97,
     "metadata": {},
     "output_type": "execute_result"
    }
   ],
   "source": [
    "pred_num.shape"
   ]
  },
  {
   "cell_type": "code",
   "execution_count": 96,
   "metadata": {
    "collapsed": true
   },
   "outputs": [],
   "source": [
    "pred_txt = np.asarray([[i+1, pred_num[i]] for i in np.arange(10000)])\n",
    "np.savetxt('pred_mean.csv',pred_txt ,fmt = '%1.u' , delimiter = ',', header = 'Id,Category',comments='')"
   ]
  },
  {
   "cell_type": "code",
   "execution_count": null,
   "metadata": {
    "collapsed": true
   },
   "outputs": [],
   "source": []
  }
 ],
 "metadata": {
  "kernelspec": {
   "display_name": "Python 3",
   "language": "python",
   "name": "python3"
  },
  "language_info": {
   "codemirror_mode": {
    "name": "ipython",
    "version": 3
   },
   "file_extension": ".py",
   "mimetype": "text/x-python",
   "name": "python",
   "nbconvert_exporter": "python",
   "pygments_lexer": "ipython3",
   "version": "3.5.1"
  }
 },
 "nbformat": 4,
 "nbformat_minor": 0
}

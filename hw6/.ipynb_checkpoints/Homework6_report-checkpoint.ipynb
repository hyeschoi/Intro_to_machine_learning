{
 "cells": [
  {
   "cell_type": "markdown",
   "metadata": {},
   "source": [
    "# CS189 : Introduction to Machine Learning\n",
    "## Homework 6\n",
    "### SID : 23274190  Name : Hye Soo Choi\n",
    "\n",
    "#### Neural Networks for MNIST Digit Recognition\n",
    "In this homework, we will implement neural networks to classify handwritten digits using raw pixels as features. We will be using the MNIST digits dataset that you used in previous homework assignments. The state-of-the-art error rate on this dataset using deep convolutional neural networks is around 0.5%. For this assignment, we should, with appropriate parameter settings, get approximately or better than 6% error using a neural network with one hidden layer."
   ]
  },
  {
   "cell_type": "code",
   "execution_count": 1,
   "metadata": {
    "collapsed": true
   },
   "outputs": [],
   "source": [
    "import scipy.io as sio\n",
    "import numpy as np\n",
    "import numpy.random as nr\n",
    "from sklearn import preprocessing"
   ]
  },
  {
   "cell_type": "markdown",
   "metadata": {},
   "source": [
    "#### Preprocessing\n",
    "\n",
    "We import the data and transform each label between 0 and 9 to a vector of length $10$ which has single $1$ in the position of true class and $0$ everywhere else. "
   ]
  },
  {
   "cell_type": "code",
   "execution_count": 2,
   "metadata": {
    "collapsed": false
   },
   "outputs": [],
   "source": [
    "train_data = sio.loadmat('./dataset/train.mat')\n",
    "test_data = sio.loadmat('./dataset/test.mat')\n",
    "\n",
    "tr_img_orig = train_data['train_images']\n",
    "tr_lb_num = train_data['train_labels'][:,0]\n",
    "tr_img = np.reshape(tr_img_orig, (784, 60000), order = 'F')\n",
    "\n",
    "ts_img = np.reshape(np.swapaxes(np.transpose(test_data['test_images']),0,1), (784, 10000), order = 'F')\n",
    "\n",
    "\n",
    "temp_lb = np.zeros((len(tr_lb_num),10))\n",
    "\n",
    "for i in np.arange(len(tr_lb_num)):\n",
    "    j = tr_lb_num[i]\n",
    "    temp_lb[i,j] = 1\n",
    "\n",
    "tr_lb = temp_lb"
   ]
  },
  {
   "cell_type": "code",
   "execution_count": 3,
   "metadata": {
    "collapsed": false
   },
   "outputs": [],
   "source": [
    "data =train_data['train_images'][:,:,20000]\n",
    "from PIL import Image\n",
    "from matplotlib import cm\n",
    "data =train_data['train_images'][:,:,20000]\n",
    "im = Image.fromarray(np.uint8(cm.gist_earth(data)*255))\n",
    "im.save('out.png')\n",
    "\n",
    "\n",
    "data =np.swapaxes(np.transpose(test_data['test_images']),0,1)[:,:,5000]\n",
    "im = Image.fromarray(np.uint8(cm.gist_earth(data)*255))\n",
    "im.save('out1.png')"
   ]
  },
  {
   "cell_type": "markdown",
   "metadata": {},
   "source": [
    "Then, we normalize, or standardize, all feature vectors."
   ]
  },
  {
   "cell_type": "code",
   "execution_count": 4,
   "metadata": {
    "collapsed": true
   },
   "outputs": [],
   "source": [
    "all_img = np.append(tr_img, ts_img, axis = 1)\n",
    "all_img = all_img.astype(float) # change data type from int to float, in order to \n",
    "                                # facilitate calculations for standardization\n",
    "all_img = preprocessing.scale(all_img, axis = 1)\n",
    "\n",
    "ts_img = all_img[:, 60000:70000]\n",
    "tr_img = all_img[:, 0:60000]\n",
    "valid_ind = nr.choice(60000, 10000, replace = False)\n",
    "vd_img = tr_img[: , valid_ind]\n",
    "tr_img = tr_img[:, np.setdiff1d(np.arange(60000), valid_ind)]\n",
    "vd_lb = tr_lb[valid_ind, :]\n",
    "tr_lb = tr_lb[np.setdiff1d(np.arange(60000), valid_ind), :]\n",
    "vd_lb_num = tr_lb_num[valid_ind]\n",
    "tr_lb_num = tr_lb_num [np.setdiff1d(np.arange(60000), valid_ind)]"
   ]
  },
  {
   "cell_type": "markdown",
   "metadata": {},
   "source": [
    "#### Neural Network\n",
    "In this assignment, we are asked to implement a neural network with one hidden layer.\n",
    "1.  We will be using a hidden layer of size 200. Let $n_{in} = 784$, the number of features for the digits class. Let $n_{hid} = 200$, the size of the hidden layer. Finally, let $n_{out}$ = 10, the number of classes. Then, we will have $n_{in} + 1$ units in the input layer, $n_{hid} + 1$ units in the hidden layer, and $n_{out}$ units in the output layer. The input and hidden layers have one additional unit which always takes a value of $1$ to represent bias. The output layer size is set to the number of classes. Each label will have to be transformed to a vector of length $10$ which has a single $1$ in the position of the true class and $0$ everywhere else.\n",
    "\n",
    "2. The parameters of this model are the following:\n",
    "-  $V$ , a $n_{hid}$-by-($n_{in} + 1$) matrix where the $(i; j)$-entry represents the weight connecting the $j$-th unit in the input layer to the $i$-th unit in the hidden layer. The $i$-th row of $V$ represents the ensemble of weights feeding into the $i$-th hidden unit. Note: there is an additional row for weights connecting the bias term to each unit in the hidden layer.\n",
    "- $W$, a $n_{out}$-by-($n_{hid} + 1$) matrix where the (i; j)-entry represents the weight connecting the j-th unit in the hidden layer to the i-th unit in the output layer. The i-th row of W represents the ensemble of weights feeding into the $i$-th output unit. Note: again there is an additional row for weights connecting the bias term to each unit in the output layer.\n",
    "\n",
    "#### Initialization of Weights\n",
    "\n",
    "We initialize your weights with random values. This allows us to break\n",
    "symmetry that occurs when all weights are initialized to 0. We initialize by drawing values from a uniform distribution from $[-0.01, 0.01]$ or from a Gaussian distribution with mean 0 and variance $0.01^2$.\n",
    "\n"
   ]
  },
  {
   "cell_type": "code",
   "execution_count": 5,
   "metadata": {
    "collapsed": true
   },
   "outputs": [],
   "source": [
    "nr.seed(0)\n",
    "n_in = 784\n",
    "n_hid = 200\n",
    "n_out = 10\n",
    "epsilon = 0.01\n",
    "V0 = nr.normal(scale = epsilon, size = (n_hid, n_in + 1))\n",
    "W0 = nr.normal(scale = epsilon, size = (n_out, n_hid + 1))"
   ]
  },
  {
   "cell_type": "markdown",
   "metadata": {},
   "source": [
    "#### Adding one additional unit which always takes a value of 1 to represent bias"
   ]
  },
  {
   "cell_type": "code",
   "execution_count": 6,
   "metadata": {
    "collapsed": true
   },
   "outputs": [],
   "source": [
    "def add_bias(mat):\n",
    "    if len(mat.shape) > 1:\n",
    "        ncol = mat.shape[1]\n",
    "        temp = np.array([[1.0 for j in range(ncol)]])\n",
    "        mat = np.append(mat, temp, axis = 0)\n",
    "    else:\n",
    "        mat = np.append(mat, [1.0], axis = 0)\n",
    "    return mat\n",
    "\n",
    "tr_img = add_bias(tr_img) # add one column of 1's to all data\n",
    "ts_img = add_bias(ts_img)\n",
    "vd_img = add_bias(vd_img)"
   ]
  },
  {
   "cell_type": "markdown",
   "metadata": {},
   "source": [
    "#### Two loss functions : Mean-Squared Error and Cross-Entropy Error"
   ]
  },
  {
   "cell_type": "code",
   "execution_count": 7,
   "metadata": {
    "collapsed": true
   },
   "outputs": [],
   "source": [
    "def mean_squared(true, pred):\n",
    "    temp = np.square(true - pred)\n",
    "    err = np.sum(temp)\n",
    "    return err/2\n",
    "\n",
    "def cross_entropy(true, pred):\n",
    "    n,k = true.shape\n",
    "    ind = (true == 1)\n",
    "    temp = np.sum(true[ind] * np.log(pred[ind])) + np.sum((1-true[~ind]) * np.log(1-pred[~ind]))\n",
    "    err = - temp\n",
    "    return err"
   ]
  },
  {
   "cell_type": "markdown",
   "metadata": {},
   "source": [
    "We use tanh activation function for the hidden layer units and the sigmoid function for the output layer units."
   ]
  },
  {
   "cell_type": "code",
   "execution_count": 8,
   "metadata": {
    "collapsed": true
   },
   "outputs": [],
   "source": [
    "   \n",
    "def sigmoid_stb(mat):\n",
    "    # Numerically-stable sigmoid function\n",
    "    \n",
    "    ind = (mat >= 0)\n",
    "    temp = np.zeros(mat.shape)\n",
    "    temp[ind] = 1/(1+np.exp(-mat[ind]))\n",
    "    z =np.exp(mat[~ind])\n",
    "    temp[~ind] = z /(1+z)\n",
    "    \n",
    "    return temp\n",
    "\n",
    "\n",
    "#def sigmoid(mat):\n",
    "#    temp = 1/(1+ np.exp(- mat))\n",
    "#    return temp\n"
   ]
  },
  {
   "cell_type": "markdown",
   "metadata": {},
   "source": [
    "#### Calculating the loss for coefficient matrices W and V \n",
    "\n",
    "Here we implement a fuction that takes in two coefficient matrices W and V, and returns the values of output units when we use two matrices W and V as coefficients of linear combination for the hidden layer units and for the output layer units, respectively, to train neural network."
   ]
  },
  {
   "cell_type": "code",
   "execution_count": 9,
   "metadata": {
    "collapsed": true
   },
   "outputs": [],
   "source": [
    "def predict( V,W, img):\n",
    "    temp = np.dot(V, img)\n",
    "    hidden = np.tanh(temp)\n",
    "    hidden = add_bias(hidden)\n",
    "    temp = np.dot(W, hidden)\n",
    "    return np.transpose(sigmoid_stb(temp))\n",
    "\n",
    "def calculate_loss(V,W, img, true_label, loss_fun):\n",
    "    pred_label = predict(V, W, img)\n",
    "    loss = loss_fun(true_label, pred_label)\n",
    "    return loss\n",
    "\n",
    "def misclassification(V,W,img, true_num):\n",
    "    pred = predict(V,W,img)\n",
    "    pred_num = np.argmax(pred, axis = 1)\n",
    "    return np.sum(pred_num != true_num)/len(true_num)\n",
    "    "
   ]
  },
  {
   "cell_type": "markdown",
   "metadata": {},
   "source": [
    "#### Back propagation in Stochastic Gradient Descent\n",
    "The procedure of matrix $V$ influencing on the final output and thus the total mean squared error can be divided into several steps as follows:\n",
    "$$\n",
    "V \\mapsto A = Vx \\mapsto B = \\tanh(A) \\mapsto C = WB^* \\mapsto D = sigmoid(C) \\mapsto E =\\frac{1}{2}||Y-D||_2^2.\n",
    "$$\n",
    "Therefore, stepwise,\n",
    "\n",
    "\\begin{align*}\n",
    "\\frac{\\partial E}{\\partial D} &= (D - Y),\\\\\n",
    "\\frac{\\partial D}{\\partial C} &= diag(D)(I-diag(D)),\\\\\n",
    "\\frac{\\partial C}{\\partial B} &= W^\\top,\\\\\n",
    "\\frac{\\partial B}{\\partial A} &= I - diag(B^2),\\\\\n",
    "\\frac{\\partial A}{\\partial V_j} &= diag(x_j),\\\\\n",
    "\\frac{\\partial C}{\\partial W_j} &= diag(B^*_j)\\\\\n",
    "\\end{align*}\n",
    "where $x$ is a $(n_{in} + 1)$-dim column vector, $V_j,W_j$ denotes the $j$th column of the matrix $V, W$, respectively, $B^*$ is the matrix that results from adding a row of $1$ to $B$. In case we use cross-entropy instead, \n",
    "$$\n",
    "\\frac{\\partial E}{\\partial D} = Y/D - (1-Y)/(1-D)\n",
    "$$"
   ]
  },
  {
   "cell_type": "code",
   "execution_count": 10,
   "metadata": {
    "collapsed": true
   },
   "outputs": [],
   "source": [
    "def find_gradient(V,W, i, loss_fun_name):\n",
    "    \n",
    "    x = tr_img[:,i:i+1]\n",
    "    y = np.transpose(tr_lb[i:i+1,:])\n",
    "    A = np.dot(V, x)\n",
    "    B = np.tanh(A)\n",
    "    B_bias = add_bias(B)\n",
    "    C = np.dot(W, B_bias)\n",
    "    D = sigmoid_stb(C)\n",
    "\n",
    "    I = np.identity(n_out)\n",
    "    if loss_fun_name == 'mean_squared':\n",
    "        dEdD = - y + D\n",
    "    elif loss_fun_name == 'cross_entropy':\n",
    "        ind = (y == 1)\n",
    "        temp = np.zeros(y.shape)\n",
    "        temp[ind] = - y[ind]/D[ind]\n",
    "        temp[~ind] = (1-y[~ind])/(1-D[~ind])\n",
    "        dEdD = temp\n",
    "        \n",
    "\n",
    "    dDdC = np.multiply(D, 1-D)\n",
    "    dCdB = np.transpose(W[:, :n_hid])\n",
    "    dBdA = 1- np.square(B)\n",
    "    \n",
    "    dEdC = np.multiply(dDdC, dEdD)\n",
    "    dEdB = np.dot(dCdB, dEdC)\n",
    "    dEdA = np.multiply(dBdA, dEdB)\n",
    "    dEdV = np.array([])\n",
    "    dEdW = np.array([])\n",
    " \n",
    "    \n",
    "    dAdV = x[:,0]\n",
    "    dEdV = np.outer(dEdA[:,0], dAdV)\n",
    "\n",
    "    dCdW = B_bias[:,0]\n",
    "    dEdW = np.outer(dEdC[:,0], dCdW)\n",
    "\n",
    "        \n",
    "    return np.concatenate((dEdV.ravel('F'), dEdW.ravel('F')))\n",
    "\n",
    "def column_to_matrix(vec, r, c):\n",
    "    return vec.reshape((r,c), order = 'F')\n",
    "    \n",
    "def matrix_to_column(mat):\n",
    "    return mat.ravel(order = 'F')\n",
    "\n",
    "a = find_gradient(V0, W0, 2, 'mean_squared')\n",
    "b = find_gradient(V0, W0, 2, 'cross_entropy')"
   ]
  },
  {
   "cell_type": "markdown",
   "metadata": {},
   "source": [
    "#### Numerical Gradient Checking"
   ]
  },
  {
   "cell_type": "code",
   "execution_count": 11,
   "metadata": {
    "collapsed": false
   },
   "outputs": [],
   "source": [
    "def numerical_gradient(V, W, i, eps = 1e-8):\n",
    "    grad = np.concatenate((matrix_to_column(V), matrix_to_column(W)))\n",
    "\n",
    "    num_grad = np.zeros(grad.shape)\n",
    "    temp = grad\n",
    "    for j in range(len(grad)):\n",
    "        \n",
    "        temp[j] = grad[j] + eps\n",
    "        V_temp = column_to_matrix(temp[0:n_hid*(n_in + 1)], n_hid, n_in + 1)\n",
    "        W_temp = column_to_matrix(temp[n_hid*(n_in + 1):], n_out, n_hid + 1)\n",
    "        loss1 = calculate_loss(V_temp,W_temp, tr_img[:, i:i+1], tr_lb[i:i+1,:], mean_squared)\n",
    "        \n",
    "\n",
    "        temp[j] = grad[j] - 2 * eps\n",
    "        V_temp = column_to_matrix(temp[0:n_hid*(n_in + 1)], n_hid, n_in + 1)\n",
    "        W_temp = column_to_matrix(temp[n_hid*(n_in + 1):], n_out, n_hid + 1)\n",
    "        loss2 = calculate_loss(V_temp,W_temp, tr_img[:, i:i+1],tr_lb[i:i+1,:], mean_squared)\n",
    "        \n",
    "        num_grad[j] = (loss1-loss2)/(2*eps)\n",
    "        temp = grad\n",
    "        \n",
    "    return num_grad\n",
    "        \n",
    "def norm(l):\n",
    "    return np.sqrt(np.sum(np.square(l)))\n",
    "\n",
    "num_grad = numerical_gradient(V0, W0, 2)\n"
   ]
  },
  {
   "cell_type": "code",
   "execution_count": 12,
   "metadata": {
    "collapsed": false
   },
   "outputs": [
    {
     "data": {
      "text/plain": [
       "1.9019895521456657e-06"
      ]
     },
     "execution_count": 12,
     "metadata": {},
     "output_type": "execute_result"
    }
   ],
   "source": [
    "norm(a-num_grad)/norm(a + num_grad)"
   ]
  },
  {
   "cell_type": "code",
   "execution_count": 13,
   "metadata": {
    "collapsed": false
   },
   "outputs": [
    {
     "data": {
      "text/plain": [
       "1.9302602087102173e-06"
      ]
     },
     "execution_count": 13,
     "metadata": {},
     "output_type": "execute_result"
    }
   ],
   "source": [
    "def numerical_gradient_cross_entropy(V, W, i, eps = 1e-8):\n",
    "    grad = np.concatenate((matrix_to_column(V), matrix_to_column(W)))\n",
    "\n",
    "    num_grad = np.zeros(grad.shape)\n",
    "    temp = grad\n",
    "    for j in range(len(grad)):\n",
    "        \n",
    "        temp[j] = grad[j] + eps\n",
    "        V_temp = column_to_matrix(temp[0:n_hid*(n_in + 1)], n_hid, n_in + 1)\n",
    "        W_temp = column_to_matrix(temp[n_hid*(n_in + 1):], n_out, n_hid + 1)\n",
    "        loss1 = calculate_loss(V_temp,W_temp, tr_img[:, i:i+1], tr_lb[i:i+1,:], cross_entropy)\n",
    "        \n",
    "\n",
    "        temp[j] = grad[j] - 2 * eps\n",
    "        V_temp = column_to_matrix(temp[0:n_hid*(n_in + 1)], n_hid, n_in + 1)\n",
    "        W_temp = column_to_matrix(temp[n_hid*(n_in + 1):], n_out, n_hid + 1)\n",
    "        loss2 = calculate_loss(V_temp,W_temp, tr_img[:, i:i+1],tr_lb[i:i+1,:], cross_entropy)\n",
    "        \n",
    "        num_grad[j] = (loss1-loss2)/(2*eps)\n",
    "        temp = grad\n",
    "        \n",
    "    return num_grad\n",
    "num_grad_cross = numerical_gradient_cross_entropy(V0, W0, 2)\n",
    "norm(b-num_grad_cross)/norm(b+num_grad_cross)"
   ]
  },
  {
   "cell_type": "markdown",
   "metadata": {},
   "source": [
    "This proves that our calculation to find a gradient is pretty accurate.\n",
    "\n",
    "#### Train Neural Network by Stochastic gradient descent using Mean Squared loss / Cross-entropy"
   ]
  },
  {
   "cell_type": "code",
   "execution_count": 14,
   "metadata": {
    "collapsed": true
   },
   "outputs": [],
   "source": [
    "def train(V, W, img, true, index, start, end, step):\n",
    "    n = len(true)\n",
    "    V_temp = V\n",
    "    W_temp = W\n",
    "    \n",
    "    VW_temp = np.concatenate((matrix_to_column(V), matrix_to_column(W)))\n",
    "    \n",
    "    for i in index[start * 1000: end * 1000]:\n",
    "        grad = find_gradient(V_temp, W_temp, i, 'mean_squared')\n",
    "        VW_temp = VW_temp - step * grad\n",
    "        V_temp = column_to_matrix(VW_temp[0:n_hid*(n_in + 1)], n_hid, n_in + 1)\n",
    "        W_temp = column_to_matrix(VW_temp[n_hid*(n_in + 1):], n_out, n_hid + 1)\n",
    "\n",
    "    return (V_temp, W_temp)\n",
    "            \n",
    "def train_cross_entropy(V, W, img, true, index, start, end, step):\n",
    "    n = len(true)\n",
    "\n",
    "    V_temp = V\n",
    "    W_temp = W\n",
    "\n",
    "    \n",
    "    VW_temp = np.concatenate((matrix_to_column(V), matrix_to_column(W)))\n",
    "    \n",
    "    for i in index[start * 1000 : end * 1000]:\n",
    "        grad = find_gradient(V_temp,W_temp, i, 'cross_entropy')\n",
    "        VW_temp = VW_temp - step * grad\n",
    "        V_temp = column_to_matrix(VW_temp[0:n_hid*(n_in + 1)], n_hid, n_in + 1)\n",
    "        W_temp = column_to_matrix(VW_temp[n_hid*(n_in + 1):], n_out, n_hid + 1)\n",
    "\n",
    "    return (V_temp, W_temp)        "
   ]
  },
  {
   "cell_type": "markdown",
   "metadata": {},
   "source": [
    "#### Train with cross entropy\n",
    "\n",
    "- Initial learning rate : 0.01\n",
    "Every two epoch, we update learning rate by a factor of 0.5.\n",
    "- Training time:\n",
    "For each epoch, it took about 10 mins to run stochastic gradient descent. 50 mins in total.\n",
    "- Stopping condition:\n",
    "When classification accuracy on validation data starts to drop, we consider it as a sign of overfitting and stop to train."
   ]
  },
  {
   "cell_type": "code",
   "execution_count": 15,
   "metadata": {
    "collapsed": false
   },
   "outputs": [],
   "source": [
    "V_temp = V0\n",
    "W_temp = W0\n",
    "ind = nr.choice(50000,50000, replace = False)\n",
    "loss = []\n",
    "misclass = []\n",
    "for j in range(50):\n",
    "    V_temp, W_temp = train_cross_entropy(V_temp, W_temp, tr_img, tr_lb, ind, j, j+1, 0.01)\n",
    "    loss_temp = calculate_loss(V_temp, W_temp, tr_img, tr_lb, cross_entropy)\n",
    "    mis_temp = misclassification(V_temp, W_temp, tr_img, tr_lb_num)\n",
    "    loss = np.append(loss, [loss_temp])\n",
    "    misclass= np.append(misclass, [mis_temp])"
   ]
  },
  {
   "cell_type": "code",
   "execution_count": 16,
   "metadata": {
    "collapsed": false
   },
   "outputs": [
    {
     "data": {
      "text/plain": [
       "0.067199999999999996"
      ]
     },
     "execution_count": 16,
     "metadata": {},
     "output_type": "execute_result"
    }
   ],
   "source": [
    "V1, W1, loss1, misclass1 = V_temp, W_temp, loss, misclass\n",
    "misclassification(V1,W1,vd_img,vd_lb_num)"
   ]
  },
  {
   "cell_type": "code",
   "execution_count": 18,
   "metadata": {
    "collapsed": false
   },
   "outputs": [],
   "source": [
    "V_temp = V1\n",
    "W_temp = W1\n",
    "ind = nr.choice(50000,50000, replace = False)\n",
    "loss = loss1\n",
    "misclass = misclass1\n",
    "for j in range(50):\n",
    "    V_temp, W_temp = train_cross_entropy(V_temp, W_temp, tr_img, tr_lb, ind, j, j+1, 0.01)\n",
    "    loss_temp = calculate_loss(V_temp, W_temp, tr_img, tr_lb, cross_entropy)\n",
    "    mis_temp = misclassification(V_temp, W_temp, tr_img, tr_lb_num)\n",
    "    loss = np.append(loss, [loss_temp])\n",
    "    misclass= np.append(misclass, [mis_temp])"
   ]
  },
  {
   "cell_type": "code",
   "execution_count": 20,
   "metadata": {
    "collapsed": false
   },
   "outputs": [
    {
     "data": {
      "text/plain": [
       "0.0516"
      ]
     },
     "execution_count": 20,
     "metadata": {},
     "output_type": "execute_result"
    }
   ],
   "source": [
    "V2, W2, loss2, misclass2 = V_temp, W_temp, loss, misclass\n",
    "misclassification(V2,W2,vd_img,vd_lb_num)"
   ]
  },
  {
   "cell_type": "code",
   "execution_count": 21,
   "metadata": {
    "collapsed": false
   },
   "outputs": [
    {
     "data": {
      "text/plain": [
       "0.043799999999999999"
      ]
     },
     "execution_count": 21,
     "metadata": {},
     "output_type": "execute_result"
    }
   ],
   "source": [
    "V_temp = V2\n",
    "W_temp = W2\n",
    "ind = nr.choice(50000,50000, replace = False)\n",
    "loss = loss2\n",
    "misclass = misclass2\n",
    "for j in range(50):\n",
    "    V_temp, W_temp = train_cross_entropy(V_temp, W_temp, tr_img, tr_lb, ind, j, j+1, 0.01*0.5)\n",
    "    loss_temp = calculate_loss(V_temp, W_temp, tr_img, tr_lb, cross_entropy)\n",
    "    mis_temp = misclassification(V_temp, W_temp, tr_img, tr_lb_num)\n",
    "    loss = np.append(loss, [loss_temp])\n",
    "    misclass= np.append(misclass, [mis_temp])\n",
    "    \n",
    "V3, W3, loss3, misclass3 = V_temp, W_temp, loss, misclass\n",
    "misclassification(V3,W3,vd_img,vd_lb_num)    "
   ]
  },
  {
   "cell_type": "code",
   "execution_count": 22,
   "metadata": {
    "collapsed": false
   },
   "outputs": [
    {
     "data": {
      "text/plain": [
       "0.040300000000000002"
      ]
     },
     "execution_count": 22,
     "metadata": {},
     "output_type": "execute_result"
    }
   ],
   "source": [
    "V_temp = V3\n",
    "W_temp = W3\n",
    "ind = nr.choice(50000,50000, replace = False)\n",
    "loss = loss3\n",
    "misclass = misclass3\n",
    "for j in range(50):\n",
    "    V_temp, W_temp = train_cross_entropy(V_temp, W_temp, tr_img, tr_lb, ind, j, j+1, 0.01*0.5)\n",
    "    loss_temp = calculate_loss(V_temp, W_temp, tr_img, tr_lb, cross_entropy)\n",
    "    mis_temp = misclassification(V_temp, W_temp, tr_img, tr_lb_num)\n",
    "    loss = np.append(loss, [loss_temp])\n",
    "    misclass= np.append(misclass, [mis_temp])\n",
    "    \n",
    "V4, W4, loss4, misclass4 = V_temp, W_temp, loss, misclass\n",
    "misclassification(V4,W4,vd_img,vd_lb_num)    "
   ]
  },
  {
   "cell_type": "code",
   "execution_count": 23,
   "metadata": {
    "collapsed": false
   },
   "outputs": [
    {
     "data": {
      "text/plain": [
       "0.038600000000000002"
      ]
     },
     "execution_count": 23,
     "metadata": {},
     "output_type": "execute_result"
    }
   ],
   "source": [
    "V_temp = V4\n",
    "W_temp = W4\n",
    "ind = nr.choice(50000,50000, replace = False)\n",
    "loss = loss4\n",
    "misclass = misclass4\n",
    "for j in range(50):\n",
    "    V_temp, W_temp = train_cross_entropy(V_temp, W_temp, tr_img, tr_lb, ind, j, j+1, 0.01*0.5*0.5)\n",
    "    loss_temp = calculate_loss(V_temp, W_temp, tr_img, tr_lb, cross_entropy)\n",
    "    mis_temp = misclassification(V_temp, W_temp, tr_img, tr_lb_num)\n",
    "    loss = np.append(loss, [loss_temp])\n",
    "    misclass= np.append(misclass, [mis_temp])\n",
    "    \n",
    "V5, W5, loss5, misclass5 = V_temp, W_temp, loss, misclass\n",
    "misclassification(V5,W5,vd_img,vd_lb_num)    "
   ]
  },
  {
   "cell_type": "code",
   "execution_count": 24,
   "metadata": {
    "collapsed": false
   },
   "outputs": [
    {
     "data": {
      "text/plain": [
       "0.036900000000000002"
      ]
     },
     "execution_count": 24,
     "metadata": {},
     "output_type": "execute_result"
    }
   ],
   "source": [
    "V_temp = V5\n",
    "W_temp = W5\n",
    "ind = nr.choice(50000,50000, replace = False)\n",
    "loss = loss5\n",
    "misclass = misclass5\n",
    "for j in range(50):\n",
    "    V_temp, W_temp = train_cross_entropy(V_temp, W_temp, tr_img, tr_lb, ind, j, j+1, 0.01*0.5*0.5)\n",
    "    loss_temp = calculate_loss(V_temp, W_temp, tr_img, tr_lb, cross_entropy)\n",
    "    mis_temp = misclassification(V_temp, W_temp, tr_img, tr_lb_num)\n",
    "    loss = np.append(loss, [loss_temp])\n",
    "    misclass= np.append(misclass, [mis_temp])\n",
    "    \n",
    "V6, W6, loss6, misclass6 = V_temp, W_temp, loss, misclass\n",
    "misclassification(V6,W6,vd_img,vd_lb_num)   "
   ]
  },
  {
   "cell_type": "code",
   "execution_count": 25,
   "metadata": {
    "collapsed": false
   },
   "outputs": [
    {
     "data": {
      "text/plain": [
       "0.0378"
      ]
     },
     "execution_count": 25,
     "metadata": {},
     "output_type": "execute_result"
    }
   ],
   "source": [
    "V_temp = V6\n",
    "W_temp = W6\n",
    "ind = nr.choice(50000,50000, replace = False)\n",
    "loss = loss6\n",
    "misclass = misclass6\n",
    "for j in range(50):\n",
    "    V_temp, W_temp = train_cross_entropy(V_temp, W_temp, tr_img, tr_lb, ind, j, j+1, 0.01*0.5*0.5*0.5)\n",
    "    loss_temp = calculate_loss(V_temp, W_temp, tr_img, tr_lb, cross_entropy)\n",
    "    mis_temp = misclassification(V_temp, W_temp, tr_img, tr_lb_num)\n",
    "    loss = np.append(loss, [loss_temp])\n",
    "    misclass= np.append(misclass, [mis_temp])\n",
    "    \n",
    "V7, W7, loss7, misclass7 = V_temp, W_temp, loss, misclass\n",
    "misclassification(V7,W7,vd_img,vd_lb_num)   "
   ]
  },
  {
   "cell_type": "code",
   "execution_count": 26,
   "metadata": {
    "collapsed": false
   },
   "outputs": [
    {
     "data": {
      "text/plain": [
       "0.037699999999999997"
      ]
     },
     "execution_count": 26,
     "metadata": {},
     "output_type": "execute_result"
    }
   ],
   "source": [
    "V_temp = V7\n",
    "W_temp = W7\n",
    "ind = nr.choice(50000,50000, replace = False)\n",
    "loss = loss7\n",
    "misclass = misclass7\n",
    "for j in range(50):\n",
    "    V_temp, W_temp = train_cross_entropy(V_temp, W_temp, tr_img, tr_lb, ind, j, j+1, 0.01*0.5*0.5*0.5)\n",
    "    loss_temp = calculate_loss(V_temp, W_temp, tr_img, tr_lb, cross_entropy)\n",
    "    mis_temp = misclassification(V_temp, W_temp, tr_img, tr_lb_num)\n",
    "    loss = np.append(loss, [loss_temp])\n",
    "    misclass= np.append(misclass, [mis_temp])\n",
    "    \n",
    "V8, W8, loss8, misclass8 = V_temp, W_temp, loss, misclass\n",
    "misclassification(V8,W8,vd_img,vd_lb_num)  "
   ]
  },
  {
   "cell_type": "markdown",
   "metadata": {},
   "source": [
    "#### Train with Mean-Squared Error\n",
    "\n",
    "\n",
    "- Initial learning rate : 0.01\n",
    "Every two or three epoch, we update learning rate by a factor of 0.5.\n",
    "- Training time:\n",
    "For each epoch, it took less than 10 mins to run stochastic gradient descent. 60mins in total.\n",
    "- Stopping condition:\n",
    "When classification accuracy on validation data starts to drop, we consider it as a sign of overfitting and stop to train."
   ]
  },
  {
   "cell_type": "code",
   "execution_count": 27,
   "metadata": {
    "collapsed": false
   },
   "outputs": [
    {
     "data": {
      "text/plain": [
       "0.089999999999999997"
      ]
     },
     "execution_count": 27,
     "metadata": {},
     "output_type": "execute_result"
    }
   ],
   "source": [
    "_V_temp = V0\n",
    "_W_temp = W0\n",
    "_loss = []\n",
    "ind = nr.choice(50000,50000, replace = False)\n",
    "_misclass = []\n",
    "for j in range(50):\n",
    "    _V_temp, _W_temp = train(_V_temp, _W_temp, tr_img, tr_lb, ind, j, j+1, 0.01)\n",
    "    loss_temp = calculate_loss(_V_temp, _W_temp, tr_img, tr_lb, mean_squared)\n",
    "    mis_temp = misclassification(_V_temp, _W_temp, tr_img, tr_lb_num)\n",
    "    _loss = np.append(_loss, [loss_temp])\n",
    "    _misclass = np.append(_misclass, [mis_temp])\n",
    "    \n",
    "_V1, _W1, _loss1, _misclass1 = _V_temp, _W_temp, _loss, _misclass\n",
    "misclassification(_V1,_W1,vd_img,vd_lb_num)      \n",
    "    "
   ]
  },
  {
   "cell_type": "code",
   "execution_count": 28,
   "metadata": {
    "collapsed": false
   },
   "outputs": [
    {
     "data": {
      "text/plain": [
       "0.089999999999999997"
      ]
     },
     "execution_count": 28,
     "metadata": {},
     "output_type": "execute_result"
    }
   ],
   "source": [
    "_V_temp = _V1\n",
    "_W_temp = _W1\n",
    "_loss = _loss1\n",
    "ind = nr.choice(50000,50000, replace = False)\n",
    "_misclass = _misclass1\n",
    "for j in range(50):\n",
    "    _V_temp, _W_temp = train(_V_temp, _W_temp, tr_img, tr_lb, ind, j, j+1, 0.01)\n",
    "    loss_temp = calculate_loss(_V_temp, _W_temp, tr_img, tr_lb, mean_squared)\n",
    "    mis_temp = misclassification(_V_temp, _W_temp, tr_img, tr_lb_num)\n",
    "    _loss = np.append(_loss, [loss_temp])\n",
    "    _misclass = np.append(_misclass, [mis_temp])\n",
    "    \n",
    "_V2, _W2, _loss2, _misclass2 = _V_temp, _W_temp, _loss, _misclass\n",
    "misclassification(_V1,_W1,vd_img,vd_lb_num)  "
   ]
  },
  {
   "cell_type": "code",
   "execution_count": 29,
   "metadata": {
    "collapsed": false
   },
   "outputs": [
    {
     "data": {
      "text/plain": [
       "0.060600000000000001"
      ]
     },
     "execution_count": 29,
     "metadata": {},
     "output_type": "execute_result"
    }
   ],
   "source": [
    "_V_temp = _V2\n",
    "_W_temp = _W2\n",
    "_loss = _loss2\n",
    "ind = nr.choice(50000,50000, replace = False)\n",
    "_misclass = _misclass2\n",
    "for j in range(50):\n",
    "    _V_temp, _W_temp = train(_V_temp, _W_temp, tr_img, tr_lb, ind, j, j+1, 0.01*0.5)\n",
    "    loss_temp = calculate_loss(_V_temp, _W_temp, tr_img, tr_lb, mean_squared)\n",
    "    mis_temp = misclassification(_V_temp, _W_temp, tr_img, tr_lb_num)\n",
    "    _loss = np.append(_loss, [loss_temp])\n",
    "    _misclass = np.append(_misclass, [mis_temp])\n",
    "    \n",
    "_V3, _W3, _loss3, _misclass3 = _V_temp, _W_temp, _loss, _misclass\n",
    "misclassification(_V3,_W3,vd_img,vd_lb_num) "
   ]
  },
  {
   "cell_type": "code",
   "execution_count": 30,
   "metadata": {
    "collapsed": false
   },
   "outputs": [
    {
     "data": {
      "text/plain": [
       "0.057299999999999997"
      ]
     },
     "execution_count": 30,
     "metadata": {},
     "output_type": "execute_result"
    }
   ],
   "source": [
    "_V_temp = _V3\n",
    "_W_temp = _W3\n",
    "_loss = _loss3\n",
    "ind = nr.choice(50000,50000, replace = False)\n",
    "_misclass = _misclass3\n",
    "for j in range(50):\n",
    "    _V_temp, _W_temp = train(_V_temp, _W_temp, tr_img, tr_lb, ind, j, j+1, 0.01*0.5)\n",
    "    loss_temp = calculate_loss(_V_temp, _W_temp, tr_img, tr_lb, mean_squared)\n",
    "    mis_temp = misclassification(_V_temp, _W_temp, tr_img, tr_lb_num)\n",
    "    _loss = np.append(_loss, [loss_temp])\n",
    "    _misclass = np.append(_misclass, [mis_temp])\n",
    "    \n",
    "_V4, _W4, _loss4, _misclass4 = _V_temp, _W_temp, _loss, _misclass\n",
    "misclassification(_V4,_W4,vd_img,vd_lb_num) "
   ]
  },
  {
   "cell_type": "code",
   "execution_count": 31,
   "metadata": {
    "collapsed": false
   },
   "outputs": [
    {
     "data": {
      "text/plain": [
       "0.054800000000000001"
      ]
     },
     "execution_count": 31,
     "metadata": {},
     "output_type": "execute_result"
    }
   ],
   "source": [
    "_V_temp = _V4\n",
    "_W_temp = _W4\n",
    "_loss = _loss4\n",
    "ind = nr.choice(50000,50000, replace = False)\n",
    "_misclass = _misclass4\n",
    "for j in range(50):\n",
    "    _V_temp, _W_temp = train(_V_temp, _W_temp, tr_img, tr_lb, ind, j, j+1, 0.01*0.5)\n",
    "    loss_temp = calculate_loss(_V_temp, _W_temp, tr_img, tr_lb, mean_squared)\n",
    "    mis_temp = misclassification(_V_temp, _W_temp, tr_img, tr_lb_num)\n",
    "    _loss = np.append(_loss, [loss_temp])\n",
    "    _misclass = np.append(_misclass, [mis_temp])\n",
    "    \n",
    "_V5, _W5, _loss5, _misclass5 = _V_temp, _W_temp, _loss, _misclass\n",
    "misclassification(_V5,_W5,vd_img,vd_lb_num) "
   ]
  },
  {
   "cell_type": "code",
   "execution_count": 32,
   "metadata": {
    "collapsed": false
   },
   "outputs": [
    {
     "data": {
      "text/plain": [
       "0.051799999999999999"
      ]
     },
     "execution_count": 32,
     "metadata": {},
     "output_type": "execute_result"
    }
   ],
   "source": [
    "_V_temp = _V5\n",
    "_W_temp = _W5\n",
    "_loss = _loss5\n",
    "ind = nr.choice(50000,50000, replace = False)\n",
    "_misclass = _misclass5\n",
    "for j in range(50):\n",
    "    _V_temp, _W_temp = train(_V_temp, _W_temp, tr_img, tr_lb, ind, j, j+1, 0.01*0.5*0.5)\n",
    "    loss_temp = calculate_loss(_V_temp, _W_temp, tr_img, tr_lb, mean_squared)\n",
    "    mis_temp = misclassification(_V_temp, _W_temp, tr_img, tr_lb_num)\n",
    "    _loss = np.append(_loss, [loss_temp])\n",
    "    _misclass = np.append(_misclass, [mis_temp])\n",
    "    \n",
    "_V6, _W6, _loss6, _misclass6 = _V_temp, _W_temp, _loss, _misclass\n",
    "misclassification(_V6,_W6,vd_img,vd_lb_num) "
   ]
  },
  {
   "cell_type": "code",
   "execution_count": 33,
   "metadata": {
    "collapsed": false
   },
   "outputs": [
    {
     "data": {
      "text/plain": [
       "0.050000000000000003"
      ]
     },
     "execution_count": 33,
     "metadata": {},
     "output_type": "execute_result"
    }
   ],
   "source": [
    "_V_temp = _V6\n",
    "_W_temp = _W6\n",
    "_loss = _loss6\n",
    "ind = nr.choice(50000,50000, replace = False)\n",
    "_misclass = _misclass6\n",
    "for j in range(50):\n",
    "    _V_temp, _W_temp = train(_V_temp, _W_temp, tr_img, tr_lb, ind, j, j+1, 0.01*0.5*0.5)\n",
    "    loss_temp = calculate_loss(_V_temp, _W_temp, tr_img, tr_lb, mean_squared)\n",
    "    mis_temp = misclassification(_V_temp, _W_temp, tr_img, tr_lb_num)\n",
    "    _loss = np.append(_loss, [loss_temp])\n",
    "    _misclass = np.append(_misclass, [mis_temp])\n",
    "    \n",
    "_V7, _W7, _loss7, _misclass7 = _V_temp, _W_temp, _loss, _misclass\n",
    "misclassification(_V7,_W7,vd_img,vd_lb_num) "
   ]
  },
  {
   "cell_type": "code",
   "execution_count": 34,
   "metadata": {
    "collapsed": false
   },
   "outputs": [
    {
     "data": {
      "text/plain": [
       "0.049200000000000001"
      ]
     },
     "execution_count": 34,
     "metadata": {},
     "output_type": "execute_result"
    }
   ],
   "source": [
    "_V_temp = _V7\n",
    "_W_temp = _W7\n",
    "_loss = _loss7\n",
    "ind = nr.choice(50000,50000, replace = False)\n",
    "_misclass = _misclass7\n",
    "for j in range(50):\n",
    "    _V_temp, _W_temp = train(_V_temp, _W_temp, tr_img, tr_lb, ind, j, j+1, 0.01*0.5*0.5)\n",
    "    loss_temp = calculate_loss(_V_temp, _W_temp, tr_img, tr_lb, mean_squared)\n",
    "    mis_temp = misclassification(_V_temp, _W_temp, tr_img, tr_lb_num)\n",
    "    _loss = np.append(_loss, [loss_temp])\n",
    "    _misclass = np.append(_misclass, [mis_temp])\n",
    "    \n",
    "_V8, _W8, _loss8, _misclass8 = _V_temp, _W_temp, _loss, _misclass\n",
    "misclassification(_V8,_W8,vd_img,vd_lb_num) "
   ]
  },
  {
   "cell_type": "code",
   "execution_count": 35,
   "metadata": {
    "collapsed": false
   },
   "outputs": [
    {
     "data": {
      "text/plain": [
       "0.047600000000000003"
      ]
     },
     "execution_count": 35,
     "metadata": {},
     "output_type": "execute_result"
    }
   ],
   "source": [
    "_V_temp = _V8\n",
    "_W_temp = _W8\n",
    "_loss = _loss8\n",
    "ind = nr.choice(50000,50000, replace = False)\n",
    "_misclass = _misclass8\n",
    "for j in range(50):\n",
    "    _V_temp, _W_temp = train(_V_temp, _W_temp, tr_img, tr_lb, ind, j, j+1, 0.01*0.5*0.5)\n",
    "    loss_temp = calculate_loss(_V_temp, _W_temp, tr_img, tr_lb, mean_squared)\n",
    "    mis_temp = misclassification(_V_temp, _W_temp, tr_img, tr_lb_num)\n",
    "    _loss = np.append(_loss, [loss_temp])\n",
    "    _misclass = np.append(_misclass, [mis_temp])\n",
    "    \n",
    "_V9, _W9, _loss9, _misclass9 = _V_temp, _W_temp, _loss, _misclass\n",
    "misclassification(_V9,_W9,vd_img,vd_lb_num) "
   ]
  },
  {
   "cell_type": "code",
   "execution_count": 36,
   "metadata": {
    "collapsed": false
   },
   "outputs": [
    {
     "data": {
      "text/plain": [
       "0.047600000000000003"
      ]
     },
     "execution_count": 36,
     "metadata": {},
     "output_type": "execute_result"
    }
   ],
   "source": [
    "_V_temp = _V9\n",
    "_W_temp = _W9\n",
    "_loss = _loss9\n",
    "ind = nr.choice(50000,50000, replace = False)\n",
    "_misclass = _misclass9\n",
    "for j in range(50):\n",
    "    _V_temp, _W_temp = train(_V_temp, _W_temp, tr_img, tr_lb, ind, j, j+1, 0.01*0.5*0.5*0.5)\n",
    "    loss_temp = calculate_loss(_V_temp, _W_temp, tr_img, tr_lb, mean_squared)\n",
    "    mis_temp = misclassification(_V_temp, _W_temp, tr_img, tr_lb_num)\n",
    "    _loss = np.append(_loss, [loss_temp])\n",
    "    _misclass = np.append(_misclass, [mis_temp])\n",
    "    \n",
    "_V10, _W10, _loss10, _misclass10 = _V_temp, _W_temp, _loss, _misclass\n",
    "misclassification(_V10,_W10,vd_img,vd_lb_num)"
   ]
  },
  {
   "cell_type": "code",
   "execution_count": 37,
   "metadata": {
    "collapsed": false
   },
   "outputs": [
    {
     "data": {
      "text/plain": [
       "0.0458"
      ]
     },
     "execution_count": 37,
     "metadata": {},
     "output_type": "execute_result"
    }
   ],
   "source": [
    "_V_temp = _V10\n",
    "_W_temp = _W10\n",
    "_loss = _loss10\n",
    "ind = nr.choice(50000,50000, replace = False)\n",
    "_misclass = _misclass10\n",
    "for j in range(50):\n",
    "    _V_temp, _W_temp = train(_V_temp, _W_temp, tr_img, tr_lb, ind, j, j+1, 0.01*0.5*0.5*0.5)\n",
    "    loss_temp = calculate_loss(_V_temp, _W_temp, tr_img, tr_lb, mean_squared)\n",
    "    mis_temp = misclassification(_V_temp, _W_temp, tr_img, tr_lb_num)\n",
    "    _loss = np.append(_loss, [loss_temp])\n",
    "    _misclass = np.append(_misclass, [mis_temp])\n",
    "    \n",
    "_V11, _W11, _loss11, _misclass11 = _V_temp, _W_temp, _loss, _misclass\n",
    "misclassification(_V11,_W11,vd_img,vd_lb_num)"
   ]
  },
  {
   "cell_type": "markdown",
   "metadata": {},
   "source": [
    "#### Kaggle\n",
    "\n",
    "- Cross_entropy: 0.96860\n",
    "- Mean_squared: 0.96200\n",
    "\n",
    "The classification accuracy on test data were very similar in cross entropy and mean squared loss, and the cross entropy gained slightly higher accuracy rate on test data. Considering the number of epoch by which we trained data, cross entropy seems more time-efficient."
   ]
  },
  {
   "cell_type": "code",
   "execution_count": 38,
   "metadata": {
    "collapsed": true
   },
   "outputs": [],
   "source": [
    "pred_cross = predict(V7, W7, ts_img)\n",
    "pred_num_cross = np.argmax(pred_cross,axis=1)\n",
    "pred_cross_txt = np.asarray([[i+1, pred_num_cross[i]] for i in np.arange(10000)])\n",
    "np.savetxt('pred_cross.csv',pred_cross_txt,fmt = '%1.u' , delimiter = ',', header = 'Id,Category',comments='')"
   ]
  },
  {
   "cell_type": "code",
   "execution_count": 39,
   "metadata": {
    "collapsed": true
   },
   "outputs": [],
   "source": [
    "pred_mean = predict(_V10, _W10, ts_img)\n",
    "pred_num_mean = np.argmax(pred_mean,axis=1)\n",
    "pred_mean_txt = np.asarray([[i+1, pred_num_mean[i]] for i in np.arange(10000)])\n",
    "np.savetxt('pred_mean.csv',pred_mean_txt,fmt = '%1.u' , delimiter = ',', header = 'Id,Category',comments='')"
   ]
  },
  {
   "cell_type": "markdown",
   "metadata": {},
   "source": [
    "#### Graph"
   ]
  },
  {
   "cell_type": "markdown",
   "metadata": {},
   "source": [
    "Plots of total training error and classification accuracy on training set vs iteration. We compute the error or accuracy every 1000 iterations."
   ]
  },
  {
   "cell_type": "code",
   "execution_count": 40,
   "metadata": {
    "collapsed": true
   },
   "outputs": [],
   "source": [
    "import matplotlib\n",
    "import matplotlib.pyplot as plt\n",
    "%matplotlib inline  "
   ]
  },
  {
   "cell_type": "code",
   "execution_count": 41,
   "metadata": {
    "collapsed": false
   },
   "outputs": [
    {
     "data": {
      "image/png": "[encoded data removed]",
      "text/plain": [
       "<matplotlib.figure.Figure at 0x10ff4ac50>"
      ]
     },
     "metadata": {},
     "output_type": "display_data"
    }
   ],
   "source": [
    "plt.plot(loss7)\n",
    "plt.ylabel('total training error')\n",
    "plt.title('cross entropy')\n",
    "plt.show()"
   ]
  },
  {
   "cell_type": "code",
   "execution_count": 42,
   "metadata": {
    "collapsed": false
   },
   "outputs": [
    {
     "data": {
      "image/png": "[encoded data removed]",
      "text/plain": [
       "<matplotlib.figure.Figure at 0x110b78cc0>"
      ]
     },
     "metadata": {},
     "output_type": "display_data"
    }
   ],
   "source": [
    "plt.plot(_loss10)\n",
    "plt.ylabel('total training error')\n",
    "plt.title('mean squared')\n",
    "plt.show()"
   ]
  },
  {
   "cell_type": "code",
   "execution_count": 43,
   "metadata": {
    "collapsed": false
   },
   "outputs": [
    {
     "data": {
      "image/png": "[encoded data removed]",
      "text/plain": [
       "<matplotlib.figure.Figure at 0x110bb0e10>"
      ]
     },
     "metadata": {},
     "output_type": "display_data"
    }
   ],
   "source": [
    "plt.plot(misclass7)\n",
    "plt.ylabel('misclassification rate')\n",
    "plt.title('cross entropy')\n",
    "plt.show()"
   ]
  },
  {
   "cell_type": "code",
   "execution_count": 44,
   "metadata": {
    "collapsed": false
   },
   "outputs": [
    {
     "data": {
      "image/png": "[encoded data removed]",
      "text/plain": [
       "<matplotlib.figure.Figure at 0x110c7c9e8>"
      ]
     },
     "metadata": {},
     "output_type": "display_data"
    }
   ],
   "source": [
    "plt.plot(_misclass10)\n",
    "plt.ylabel('misclassification rate')\n",
    "plt.title('mean squared')\n",
    "plt.show()"
   ]
  }
 ],
 "metadata": {
  "kernelspec": {
   "display_name": "Python 3",
   "language": "python",
   "name": "python3"
  },
  "language_info": {
   "codemirror_mode": {
    "name": "ipython",
    "version": 3
   },
   "file_extension": ".py",
   "mimetype": "text/x-python",
   "name": "python",
   "nbconvert_exporter": "python",
   "pygments_lexer": "ipython3",
   "version": "3.5.1"
  }
 },
 "nbformat": 4,
 "nbformat_minor": 0
}
